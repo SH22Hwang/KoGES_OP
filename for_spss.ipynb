{
 "cells": [
  {
   "cell_type": "markdown",
   "source": [
    "# for_spss\n",
    "작성자: 황승현\n",
    "- 목적\n",
    "    - preprocessing.ipynb + merge_how_left.ipynb 를 합치기\n",
    "    - 식영과 논문 작성을 위한 데이터 정리\n",
    "    - spss...?\n",
    "- 해야하는 것\n",
    "    - 여성만 + 유전체 데이터 붙이기\n",
    "    - 결측값 제거\n",
    "    - 표준화 등 하지 않기 (원본 수치 유지)"
   ],
   "metadata": {
    "collapsed": false
   }
  },
  {
   "cell_type": "code",
   "execution_count": 1,
   "metadata": {
    "collapsed": true,
    "ExecuteTime": {
     "start_time": "2023-08-24T18:00:46.778938Z",
     "end_time": "2023-08-24T18:00:48.524468Z"
    }
   },
   "outputs": [],
   "source": [
    "# 라이브러리 불러오기\n",
    "import numpy as np\n",
    "import pandas as pd"
   ]
  },
  {
   "cell_type": "code",
   "execution_count": 2,
   "outputs": [
    {
     "name": "stderr",
     "output_type": "stream",
     "text": [
      "C:\\Users\\sh22h\\AppData\\Local\\Temp\\ipykernel_27628\\2482683002.py:2: DtypeWarning: Columns (7,9,156,299) have mixed types. Specify dtype option on import or set low_memory=False.\n",
      "  dataset = pd.read_csv(\"dataset/Dataset_OP_230614_raw.csv\", index_col=0, na_values=[77777, 99999, '#NULL!', ' '])\n"
     ]
    },
    {
     "data": {
      "text/plain": "               AS1_SEX  AS1_AGE  AS1_FAMNUM  AS1_HAND  AS1_SEAS  AS1_MARRYA   \nDIST_ID                                                                       \nNIH2307795046        1       53         4.0       1.0       3.0         2.0  \\\nNIH2307713334        2       44         2.0       1.0       2.0         2.0   \nNIH2307455306        2       43         6.0       1.0       2.0         2.0   \nNIH2307778268        1       61         4.0       1.0       4.0         2.0   \nNIH2307137554        2       64         4.0       1.0       1.0         2.0   \n\n              AS1_MARRYAETC  AS1_RELIG AS1_RELIGETC  AS1_RELIGPRT  ...   \nDIST_ID                                                            ...   \nNIH2307795046           NaN        3.0          NaN           1.0  ...  \\\nNIH2307713334           NaN        4.0          NaN           NaN  ...   \nNIH2307455306           NaN        3.0          NaN           1.0  ...   \nNIH2307778268           NaN        3.0          NaN           1.0  ...   \nNIH2307137554           NaN        3.0          NaN           1.0  ...   \n\n               AS1_INSM.1  AS1_SLPHRD.1  AS1_SLPAMSF.1  AS1_ICOFF_1   \nDIST_ID                                                               \nNIH2307795046         1.0           1.0            2.0            2  \\\nNIH2307713334         1.0           1.0            2.0            3   \nNIH2307455306         1.0           1.0            1.0            1   \nNIH2307778268         1.0           1.0            2.0            2   \nNIH2307137554         1.0           1.0            2.0            4   \n\n               AS1_ICOFF_2  AS1_W098.1  AS1_MNSAG.2  AS1_BRSTF  AS1_BRSTC   \nDIST_ID                                                                     \nNIH2307795046            2    0.225000          NaN        NaN        NaN  \\\nNIH2307713334            2    0.578571         13.0        NaN        NaN   \nNIH2307455306            1    0.000000         20.0        2.0        3.0   \nNIH2307778268            2    0.225000          NaN        NaN        NaN   \nNIH2307137554            2    0.000000         17.0        2.0        2.0   \n\n                 AS1_EGFR  \nDIST_ID                    \nNIH2307795046   81.027088  \nNIH2307713334  223.651123  \nNIH2307455306  225.227717  \nNIH2307778268  134.847877  \nNIH2307137554  194.337250  \n\n[5 rows x 838 columns]",
      "text/html": "<div>\n<style scoped>\n    .dataframe tbody tr th:only-of-type {\n        vertical-align: middle;\n    }\n\n    .dataframe tbody tr th {\n        vertical-align: top;\n    }\n\n    .dataframe thead th {\n        text-align: right;\n    }\n</style>\n<table border=\"1\" class=\"dataframe\">\n  <thead>\n    <tr style=\"text-align: right;\">\n      <th></th>\n      <th>AS1_SEX</th>\n      <th>AS1_AGE</th>\n      <th>AS1_FAMNUM</th>\n      <th>AS1_HAND</th>\n      <th>AS1_SEAS</th>\n      <th>AS1_MARRYA</th>\n      <th>AS1_MARRYAETC</th>\n      <th>AS1_RELIG</th>\n      <th>AS1_RELIGETC</th>\n      <th>AS1_RELIGPRT</th>\n      <th>...</th>\n      <th>AS1_INSM.1</th>\n      <th>AS1_SLPHRD.1</th>\n      <th>AS1_SLPAMSF.1</th>\n      <th>AS1_ICOFF_1</th>\n      <th>AS1_ICOFF_2</th>\n      <th>AS1_W098.1</th>\n      <th>AS1_MNSAG.2</th>\n      <th>AS1_BRSTF</th>\n      <th>AS1_BRSTC</th>\n      <th>AS1_EGFR</th>\n    </tr>\n    <tr>\n      <th>DIST_ID</th>\n      <th></th>\n      <th></th>\n      <th></th>\n      <th></th>\n      <th></th>\n      <th></th>\n      <th></th>\n      <th></th>\n      <th></th>\n      <th></th>\n      <th></th>\n      <th></th>\n      <th></th>\n      <th></th>\n      <th></th>\n      <th></th>\n      <th></th>\n      <th></th>\n      <th></th>\n      <th></th>\n      <th></th>\n    </tr>\n  </thead>\n  <tbody>\n    <tr>\n      <th>NIH2307795046</th>\n      <td>1</td>\n      <td>53</td>\n      <td>4.0</td>\n      <td>1.0</td>\n      <td>3.0</td>\n      <td>2.0</td>\n      <td>NaN</td>\n      <td>3.0</td>\n      <td>NaN</td>\n      <td>1.0</td>\n      <td>...</td>\n      <td>1.0</td>\n      <td>1.0</td>\n      <td>2.0</td>\n      <td>2</td>\n      <td>2</td>\n      <td>0.225000</td>\n      <td>NaN</td>\n      <td>NaN</td>\n      <td>NaN</td>\n      <td>81.027088</td>\n    </tr>\n    <tr>\n      <th>NIH2307713334</th>\n      <td>2</td>\n      <td>44</td>\n      <td>2.0</td>\n      <td>1.0</td>\n      <td>2.0</td>\n      <td>2.0</td>\n      <td>NaN</td>\n      <td>4.0</td>\n      <td>NaN</td>\n      <td>NaN</td>\n      <td>...</td>\n      <td>1.0</td>\n      <td>1.0</td>\n      <td>2.0</td>\n      <td>3</td>\n      <td>2</td>\n      <td>0.578571</td>\n      <td>13.0</td>\n      <td>NaN</td>\n      <td>NaN</td>\n      <td>223.651123</td>\n    </tr>\n    <tr>\n      <th>NIH2307455306</th>\n      <td>2</td>\n      <td>43</td>\n      <td>6.0</td>\n      <td>1.0</td>\n      <td>2.0</td>\n      <td>2.0</td>\n      <td>NaN</td>\n      <td>3.0</td>\n      <td>NaN</td>\n      <td>1.0</td>\n      <td>...</td>\n      <td>1.0</td>\n      <td>1.0</td>\n      <td>1.0</td>\n      <td>1</td>\n      <td>1</td>\n      <td>0.000000</td>\n      <td>20.0</td>\n      <td>2.0</td>\n      <td>3.0</td>\n      <td>225.227717</td>\n    </tr>\n    <tr>\n      <th>NIH2307778268</th>\n      <td>1</td>\n      <td>61</td>\n      <td>4.0</td>\n      <td>1.0</td>\n      <td>4.0</td>\n      <td>2.0</td>\n      <td>NaN</td>\n      <td>3.0</td>\n      <td>NaN</td>\n      <td>1.0</td>\n      <td>...</td>\n      <td>1.0</td>\n      <td>1.0</td>\n      <td>2.0</td>\n      <td>2</td>\n      <td>2</td>\n      <td>0.225000</td>\n      <td>NaN</td>\n      <td>NaN</td>\n      <td>NaN</td>\n      <td>134.847877</td>\n    </tr>\n    <tr>\n      <th>NIH2307137554</th>\n      <td>2</td>\n      <td>64</td>\n      <td>4.0</td>\n      <td>1.0</td>\n      <td>1.0</td>\n      <td>2.0</td>\n      <td>NaN</td>\n      <td>3.0</td>\n      <td>NaN</td>\n      <td>1.0</td>\n      <td>...</td>\n      <td>1.0</td>\n      <td>1.0</td>\n      <td>2.0</td>\n      <td>4</td>\n      <td>2</td>\n      <td>0.000000</td>\n      <td>17.0</td>\n      <td>2.0</td>\n      <td>2.0</td>\n      <td>194.337250</td>\n    </tr>\n  </tbody>\n</table>\n<p>5 rows × 838 columns</p>\n</div>"
     },
     "execution_count": 2,
     "metadata": {},
     "output_type": "execute_result"
    }
   ],
   "source": [
    "# 데이터셋 불러오기\n",
    "dataset = pd.read_csv(\"dataset/Dataset_OP_230614_raw.csv\", index_col=0, na_values=[77777, 99999, '#NULL!', ' '])\n",
    "dataset.head()"
   ],
   "metadata": {
    "collapsed": false,
    "ExecuteTime": {
     "start_time": "2023-08-24T18:00:48.525468Z",
     "end_time": "2023-08-24T18:00:49.588619Z"
    }
   }
  },
  {
   "cell_type": "code",
   "execution_count": 3,
   "outputs": [
    {
     "data": {
      "text/plain": "     binary          cath0        cath1            cnt dependent\n0   AS1_SEX       AS1_EDUA   AS1_INCOME        AS1_AGE    AS1_DT\n1    AS1_HT      AS1_DRINK   AS1_PHYSTB     AS1_TOTALC    AS1_MT\n2    AS1_DM     AS1_SMOKEA   AS1_PHYSIT     AS1_PMAG_C       NaN\n3    AS1_AL  AS1_FMOSREL_N  AS1_PHYACTL      AS1_MNSAG       NaN\n4    AS1_MI  AS1_FMOSREL_O  AS1_PHYACTM    AS1_CHILD_P       NaN\n..      ...            ...          ...            ...       ...\n70      NaN            NaN          NaN   AS1_BPSIT1RS       NaN\n71      NaN            NaN          NaN  AS1_BPSIT1SYS       NaN\n72      NaN            NaN          NaN   AS1_BPSIT1LD       NaN\n73      NaN            NaN          NaN   AS1_BPSIT1RD       NaN\n74      NaN            NaN          NaN  AS1_BPSIT1DIA       NaN\n\n[75 rows x 5 columns]",
      "text/html": "<div>\n<style scoped>\n    .dataframe tbody tr th:only-of-type {\n        vertical-align: middle;\n    }\n\n    .dataframe tbody tr th {\n        vertical-align: top;\n    }\n\n    .dataframe thead th {\n        text-align: right;\n    }\n</style>\n<table border=\"1\" class=\"dataframe\">\n  <thead>\n    <tr style=\"text-align: right;\">\n      <th></th>\n      <th>binary</th>\n      <th>cath0</th>\n      <th>cath1</th>\n      <th>cnt</th>\n      <th>dependent</th>\n    </tr>\n  </thead>\n  <tbody>\n    <tr>\n      <th>0</th>\n      <td>AS1_SEX</td>\n      <td>AS1_EDUA</td>\n      <td>AS1_INCOME</td>\n      <td>AS1_AGE</td>\n      <td>AS1_DT</td>\n    </tr>\n    <tr>\n      <th>1</th>\n      <td>AS1_HT</td>\n      <td>AS1_DRINK</td>\n      <td>AS1_PHYSTB</td>\n      <td>AS1_TOTALC</td>\n      <td>AS1_MT</td>\n    </tr>\n    <tr>\n      <th>2</th>\n      <td>AS1_DM</td>\n      <td>AS1_SMOKEA</td>\n      <td>AS1_PHYSIT</td>\n      <td>AS1_PMAG_C</td>\n      <td>NaN</td>\n    </tr>\n    <tr>\n      <th>3</th>\n      <td>AS1_AL</td>\n      <td>AS1_FMOSREL_N</td>\n      <td>AS1_PHYACTL</td>\n      <td>AS1_MNSAG</td>\n      <td>NaN</td>\n    </tr>\n    <tr>\n      <th>4</th>\n      <td>AS1_MI</td>\n      <td>AS1_FMOSREL_O</td>\n      <td>AS1_PHYACTM</td>\n      <td>AS1_CHILD_P</td>\n      <td>NaN</td>\n    </tr>\n    <tr>\n      <th>...</th>\n      <td>...</td>\n      <td>...</td>\n      <td>...</td>\n      <td>...</td>\n      <td>...</td>\n    </tr>\n    <tr>\n      <th>70</th>\n      <td>NaN</td>\n      <td>NaN</td>\n      <td>NaN</td>\n      <td>AS1_BPSIT1RS</td>\n      <td>NaN</td>\n    </tr>\n    <tr>\n      <th>71</th>\n      <td>NaN</td>\n      <td>NaN</td>\n      <td>NaN</td>\n      <td>AS1_BPSIT1SYS</td>\n      <td>NaN</td>\n    </tr>\n    <tr>\n      <th>72</th>\n      <td>NaN</td>\n      <td>NaN</td>\n      <td>NaN</td>\n      <td>AS1_BPSIT1LD</td>\n      <td>NaN</td>\n    </tr>\n    <tr>\n      <th>73</th>\n      <td>NaN</td>\n      <td>NaN</td>\n      <td>NaN</td>\n      <td>AS1_BPSIT1RD</td>\n      <td>NaN</td>\n    </tr>\n    <tr>\n      <th>74</th>\n      <td>NaN</td>\n      <td>NaN</td>\n      <td>NaN</td>\n      <td>AS1_BPSIT1DIA</td>\n      <td>NaN</td>\n    </tr>\n  </tbody>\n</table>\n<p>75 rows × 5 columns</p>\n</div>"
     },
     "execution_count": 3,
     "metadata": {},
     "output_type": "execute_result"
    }
   ],
   "source": [
    "# 특성별로 분류\n",
    "var_to_use = pd.read_csv(\"dataset/var_to_use_2023-06-13T1650I.csv\")\n",
    "var_to_use"
   ],
   "metadata": {
    "collapsed": false,
    "ExecuteTime": {
     "start_time": "2023-08-24T18:00:49.589622Z",
     "end_time": "2023-08-24T18:00:49.662133Z"
    }
   }
  },
  {
   "cell_type": "code",
   "execution_count": 4,
   "outputs": [],
   "source": [
    "# 유전체 SNP 매칭\n",
    "gen_dict = {3335: \"SNP_A-2181021\",\n",
    "            214246: \"SNP_A-1809518\",\n",
    "            262783: \"SNP_A-2130710\",\n",
    "            35799: \"SNP_A-2263153\",\n",
    "            154529: \"SNP_A-2310995\",\n",
    "            118171: \"SNP_A-1922415\",\n",
    "            182907: \"SNP_A-2266073\",\n",
    "            122732: \"SNP_A-1984271\",\n",
    "            283204: \"SNP_A-2218697\",\n",
    "            217552: \"SNP_A-1850320\",\n",
    "            335062: \"SNP_A-4262878\",\n",
    "            335032: \"SNP_A-4299800\",\n",
    "            335031: \"SNP_A-2242511\"\n",
    "            }"
   ],
   "metadata": {
    "collapsed": false,
    "ExecuteTime": {
     "start_time": "2023-08-24T18:00:49.603623Z",
     "end_time": "2023-08-24T18:00:49.697132Z"
    }
   }
  },
  {
   "cell_type": "code",
   "execution_count": 4,
   "outputs": [],
   "source": [],
   "metadata": {
    "collapsed": false,
    "ExecuteTime": {
     "start_time": "2023-08-24T18:00:49.621133Z",
     "end_time": "2023-08-24T18:00:49.715645Z"
    }
   }
  },
  {
   "cell_type": "markdown",
   "source": [
    "## 데이터 가공\n",
    "\n",
    "1. 남성 제거 (헉!)\n",
    "    - 폐경 전 / 후 여성\n",
    "    - 폐경 여부(AS1_PMYN_C) 알 수 없으면 DROP\n",
    "2. 종속변수(골밀도 수치) 결측값 DROP\n",
    "    - 골다공증 여부 (0 / 1)\n",
    "3. 기존 데이터로 새로운 데이터 만들기\n",
    "    - 질환유무, 종양 유무\n",
    "    - 약물력\n",
    "    - 가족력\n",
    "    - 여성력\n",
    "4. 타입별 분리"
   ],
   "metadata": {
    "collapsed": false
   }
  },
  {
   "cell_type": "markdown",
   "source": [
    "### 남성 제거, 종속변수 설정"
   ],
   "metadata": {
    "collapsed": false
   }
  },
  {
   "cell_type": "code",
   "execution_count": 5,
   "outputs": [
    {
     "name": "stdout",
     "output_type": "stream",
     "text": [
      "<class 'pandas.core.frame.DataFrame'>\n",
      "Index: 4652 entries, NIH2307713334 to NIH2307534318\n",
      "Columns: 839 entries, AS1_SEX to OP\n",
      "dtypes: float64(795), int32(1), int64(38), object(5)\n",
      "memory usage: 29.8+ MB\n"
     ]
    }
   ],
   "source": [
    "# 남성(1) drop, 여성(2)만 가져옴\n",
    "dataset = dataset[dataset['AS1_SEX'] == 2]\n",
    "\n",
    "# 폐경여부 결측이면 drop\n",
    "dataset.dropna(subset=['AS1_PMYN_C'], inplace=True)\n",
    "\n",
    "# 종속변수의 결측값 둘 중 하나라도 있으면 drop\n",
    "dataset.dropna(subset=['AS1_DT', 'AS1_MT'], how=\"any\", inplace=True)\n",
    "\n",
    "# # 종속변수의 결측값 둘 다 있으면 drop\n",
    "# dataset.dropna(subset=['AS1_DT', 'AS1_MT'], how=\"all\", inplace=True)\n",
    "\n",
    "# 새로운 종속변수 만들기 OP: 골다공증 여부\n",
    "dataset['OP'] = np.where((dataset['AS1_DT'] <= -2.5) | (dataset['AS1_MT'] <= -2.5), 1, 0)\n",
    "\n",
    "\n",
    "dataset.info()"
   ],
   "metadata": {
    "collapsed": false,
    "ExecuteTime": {
     "start_time": "2023-08-24T18:00:49.637134Z",
     "end_time": "2023-08-24T18:00:49.858742Z"
    }
   }
  },
  {
   "cell_type": "markdown",
   "source": [
    "### 기존 데이터로 새로운 데이터 만들기"
   ],
   "metadata": {
    "collapsed": false
   }
  },
  {
   "cell_type": "code",
   "execution_count": 6,
   "outputs": [],
   "source": [
    "# 질환유무 가공\n",
    "disease_list = np.array(['HT', 'DM', 'AL', 'MI', 'TH', # 질환 목록\n",
    "                         'CH', 'CD', 'LP', 'AS', 'CL',\n",
    "                         'KD', 'CV', 'GT' ]) # UL, PV, HN, TOTCA1 제외\n",
    "\n",
    "dataset['AS1_ARRM'] = np.where((dataset['AS1_JOAR'] == 2) |\n",
    "                               (dataset['AS1_JORM'] == 2) |\n",
    "                               (dataset['AS1_TRTAR'] == 2),\n",
    "                               1, 0) # 관절혐은 조건 3가지 만족하면 1 아니면 0\n",
    "\n",
    "for x in disease_list:\n",
    "    dataset['AS1_'+x] = np.where((dataset['AS1_PD'+x] == 2) |\n",
    "                                 (dataset['AS1_TRT'+x] == 2),\n",
    "                                 1, 0) # 질환여부 정의. AS1_PDㅇㅇ 또는 AS1_TRTㅇㅇ 이 2이면 1 아니면 0"
   ],
   "metadata": {
    "collapsed": false,
    "ExecuteTime": {
     "start_time": "2023-08-24T18:00:49.701137Z",
     "end_time": "2023-08-24T18:00:49.859739Z"
    }
   }
  },
  {
   "cell_type": "code",
   "execution_count": 7,
   "outputs": [],
   "source": [
    "# 약물력 가공\n",
    "drug_list = np.array(['ST', 'CP', 'INS', 'HT', 'AR',\n",
    "                      'TH', 'FH', 'OS', 'STK', 'AS',\n",
    "                      'LP', 'SP', 'SL'])  # UL, DM, CP, HP 제외 SP, SL 추가\n",
    "for x in drug_list:\n",
    "    dataset['AS1_DR'+x] = np.where((dataset['AS1_DRUG'+x] == 2)\n",
    "                                   | (dataset['AS1_DRUG'+x+'CU'] == 2),\n",
    "                                   1, 0)\n"
   ],
   "metadata": {
    "collapsed": false,
    "ExecuteTime": {
     "start_time": "2023-08-24T18:00:49.716646Z",
     "end_time": "2023-08-24T18:00:49.860742Z"
    }
   }
  },
  {
   "cell_type": "code",
   "execution_count": 8,
   "outputs": [
    {
     "data": {
      "text/plain": "               AS1_SEX  AS1_AGE  AS1_FAMNUM  AS1_HAND  AS1_SEAS  AS1_MARRYA   \nDIST_ID                                                                       \nNIH2307713334        2       44         2.0       1.0       2.0         2.0  \\\nNIH2307455306        2       43         6.0       1.0       2.0         2.0   \nNIH2307137554        2       64         4.0       1.0       1.0         2.0   \nNIH2307649667        2       65         2.0       1.0       3.0         2.0   \nNIH2307899915        2       57         6.0       1.0       3.0         2.0   \n\n              AS1_MARRYAETC  AS1_RELIG AS1_RELIGETC  AS1_RELIGPRT  ...   \nDIST_ID                                                            ...   \nNIH2307713334           NaN        4.0          NaN           NaN  ...  \\\nNIH2307455306           NaN        3.0          NaN           1.0  ...   \nNIH2307137554           NaN        3.0          NaN           1.0  ...   \nNIH2307649667           NaN        2.0          NaN           2.0  ...   \nNIH2307899915           NaN        3.0          NaN           2.0  ...   \n\n               AS1_DROS  AS1_DRSTK  AS1_DRAS  AS1_DRLP  AS1_DRSP  AS1_DRSL   \nDIST_ID                                                                      \nNIH2307713334         0          0         0         0         0         0  \\\nNIH2307455306         0          0         0         0         0         0   \nNIH2307137554         0          0         0         0         0         0   \nNIH2307649667         0          0         0         0         0         0   \nNIH2307899915         0          0         0         0         0         0   \n\n               AS1_FMOSREL_N  AS1_FMOSREL_P  AS1_FMOSREL_S  AS1_FMOSREL_O  \nDIST_ID                                                                    \nNIH2307713334              0              0              0              0  \nNIH2307455306              0              0              0              0  \nNIH2307137554              0              0              0              0  \nNIH2307649667              0              0              0              0  \nNIH2307899915              0              1              0              0  \n\n[5 rows x 867 columns]",
      "text/html": "<div>\n<style scoped>\n    .dataframe tbody tr th:only-of-type {\n        vertical-align: middle;\n    }\n\n    .dataframe tbody tr th {\n        vertical-align: top;\n    }\n\n    .dataframe thead th {\n        text-align: right;\n    }\n</style>\n<table border=\"1\" class=\"dataframe\">\n  <thead>\n    <tr style=\"text-align: right;\">\n      <th></th>\n      <th>AS1_SEX</th>\n      <th>AS1_AGE</th>\n      <th>AS1_FAMNUM</th>\n      <th>AS1_HAND</th>\n      <th>AS1_SEAS</th>\n      <th>AS1_MARRYA</th>\n      <th>AS1_MARRYAETC</th>\n      <th>AS1_RELIG</th>\n      <th>AS1_RELIGETC</th>\n      <th>AS1_RELIGPRT</th>\n      <th>...</th>\n      <th>AS1_DROS</th>\n      <th>AS1_DRSTK</th>\n      <th>AS1_DRAS</th>\n      <th>AS1_DRLP</th>\n      <th>AS1_DRSP</th>\n      <th>AS1_DRSL</th>\n      <th>AS1_FMOSREL_N</th>\n      <th>AS1_FMOSREL_P</th>\n      <th>AS1_FMOSREL_S</th>\n      <th>AS1_FMOSREL_O</th>\n    </tr>\n    <tr>\n      <th>DIST_ID</th>\n      <th></th>\n      <th></th>\n      <th></th>\n      <th></th>\n      <th></th>\n      <th></th>\n      <th></th>\n      <th></th>\n      <th></th>\n      <th></th>\n      <th></th>\n      <th></th>\n      <th></th>\n      <th></th>\n      <th></th>\n      <th></th>\n      <th></th>\n      <th></th>\n      <th></th>\n      <th></th>\n      <th></th>\n    </tr>\n  </thead>\n  <tbody>\n    <tr>\n      <th>NIH2307713334</th>\n      <td>2</td>\n      <td>44</td>\n      <td>2.0</td>\n      <td>1.0</td>\n      <td>2.0</td>\n      <td>2.0</td>\n      <td>NaN</td>\n      <td>4.0</td>\n      <td>NaN</td>\n      <td>NaN</td>\n      <td>...</td>\n      <td>0</td>\n      <td>0</td>\n      <td>0</td>\n      <td>0</td>\n      <td>0</td>\n      <td>0</td>\n      <td>0</td>\n      <td>0</td>\n      <td>0</td>\n      <td>0</td>\n    </tr>\n    <tr>\n      <th>NIH2307455306</th>\n      <td>2</td>\n      <td>43</td>\n      <td>6.0</td>\n      <td>1.0</td>\n      <td>2.0</td>\n      <td>2.0</td>\n      <td>NaN</td>\n      <td>3.0</td>\n      <td>NaN</td>\n      <td>1.0</td>\n      <td>...</td>\n      <td>0</td>\n      <td>0</td>\n      <td>0</td>\n      <td>0</td>\n      <td>0</td>\n      <td>0</td>\n      <td>0</td>\n      <td>0</td>\n      <td>0</td>\n      <td>0</td>\n    </tr>\n    <tr>\n      <th>NIH2307137554</th>\n      <td>2</td>\n      <td>64</td>\n      <td>4.0</td>\n      <td>1.0</td>\n      <td>1.0</td>\n      <td>2.0</td>\n      <td>NaN</td>\n      <td>3.0</td>\n      <td>NaN</td>\n      <td>1.0</td>\n      <td>...</td>\n      <td>0</td>\n      <td>0</td>\n      <td>0</td>\n      <td>0</td>\n      <td>0</td>\n      <td>0</td>\n      <td>0</td>\n      <td>0</td>\n      <td>0</td>\n      <td>0</td>\n    </tr>\n    <tr>\n      <th>NIH2307649667</th>\n      <td>2</td>\n      <td>65</td>\n      <td>2.0</td>\n      <td>1.0</td>\n      <td>3.0</td>\n      <td>2.0</td>\n      <td>NaN</td>\n      <td>2.0</td>\n      <td>NaN</td>\n      <td>2.0</td>\n      <td>...</td>\n      <td>0</td>\n      <td>0</td>\n      <td>0</td>\n      <td>0</td>\n      <td>0</td>\n      <td>0</td>\n      <td>0</td>\n      <td>0</td>\n      <td>0</td>\n      <td>0</td>\n    </tr>\n    <tr>\n      <th>NIH2307899915</th>\n      <td>2</td>\n      <td>57</td>\n      <td>6.0</td>\n      <td>1.0</td>\n      <td>3.0</td>\n      <td>2.0</td>\n      <td>NaN</td>\n      <td>3.0</td>\n      <td>NaN</td>\n      <td>2.0</td>\n      <td>...</td>\n      <td>0</td>\n      <td>0</td>\n      <td>0</td>\n      <td>0</td>\n      <td>0</td>\n      <td>0</td>\n      <td>0</td>\n      <td>1</td>\n      <td>0</td>\n      <td>0</td>\n    </tr>\n  </tbody>\n</table>\n<p>5 rows × 867 columns</p>\n</div>"
     },
     "execution_count": 8,
     "metadata": {},
     "output_type": "execute_result"
    }
   ],
   "source": [
    "# 와 ChatGPT가 아니었다면 np.all과 np.any를 몰랐을거야!\n",
    "# 가족력 가공\n",
    "# N: 가족력 없음, P: parent 부모, S: sibling 형제자매, O: other 기타\n",
    "# N: REL1A~4A까지 99999\n",
    "# P: REL1A~4A중 1, 2 있을 때\n",
    "# S: REL1A~4A중 3 있을 때\n",
    "# O: REL1A~4A중 4 있을 때\n",
    "\n",
    "# disease_dict = {\n",
    "#     'HT': 4, 'DM': 4, 'CVA': 3, 'HE': 2, 'OS': 2,\n",
    "#     'CVB': 2, 'CD': 2, 'PV': 2, 'LP': 2, 'GT': 2,'CH': 1\n",
    "# }\n",
    "\n",
    "# OS만 쓰기 때문에 반복문 안 돌리고 하나만 있으면 될 듯\n",
    "disease_dict = { 'OS': 2 }\n",
    "\n",
    "for disease, num_family in disease_dict.items():\n",
    "    dataset[f'AS1_FM{disease}REL_N'] = np.all(dataset[[f'AS1_FM{disease}REL{i}A' for i in range(1, num_family+1)]] == 99999, axis=1).astype(int)\n",
    "    dataset[f'AS1_FM{disease}REL_P'] = np.any(dataset[[f'AS1_FM{disease}REL{i}A' for i in range(1, num_family+1)]] <= 2, axis=1).astype(int)\n",
    "    dataset[f'AS1_FM{disease}REL_S'] = np.any(dataset[[f'AS1_FM{disease}REL{i}A' for i in range(1, num_family+1)]] == 3, axis=1).astype(int)\n",
    "    dataset[f'AS1_FM{disease}REL_O'] = np.any(dataset[[f'AS1_FM{disease}REL{i}A' for i in range(1, num_family+1)]] == 4, axis=1).astype(int)\n",
    "\n",
    "dataset.head()"
   ],
   "metadata": {
    "collapsed": false,
    "ExecuteTime": {
     "start_time": "2023-08-24T18:00:49.733645Z",
     "end_time": "2023-08-24T18:00:49.900744Z"
    }
   }
  },
  {
   "cell_type": "code",
   "execution_count": 9,
   "outputs": [
    {
     "data": {
      "text/plain": "               AS1_FMOSREL_N  AS1_FMOSREL_P  AS1_FMOSREL_S  AS1_FMOSREL_O\nDIST_ID                                                                  \nNIH2307713334              0              0              0              0\nNIH2307455306              0              0              0              0\nNIH2307137554              0              0              0              0\nNIH2307649667              0              0              0              0\nNIH2307899915              0              1              0              0\n...                      ...            ...            ...            ...\nNIH2307591031              0              0              0              0\nNIH2307808901              0              0              0              0\nNIH2307930134              0              0              0              0\nNIH2307023172              0              0              0              0\nNIH2307534318              0              0              0              0\n\n[4652 rows x 4 columns]",
      "text/html": "<div>\n<style scoped>\n    .dataframe tbody tr th:only-of-type {\n        vertical-align: middle;\n    }\n\n    .dataframe tbody tr th {\n        vertical-align: top;\n    }\n\n    .dataframe thead th {\n        text-align: right;\n    }\n</style>\n<table border=\"1\" class=\"dataframe\">\n  <thead>\n    <tr style=\"text-align: right;\">\n      <th></th>\n      <th>AS1_FMOSREL_N</th>\n      <th>AS1_FMOSREL_P</th>\n      <th>AS1_FMOSREL_S</th>\n      <th>AS1_FMOSREL_O</th>\n    </tr>\n    <tr>\n      <th>DIST_ID</th>\n      <th></th>\n      <th></th>\n      <th></th>\n      <th></th>\n    </tr>\n  </thead>\n  <tbody>\n    <tr>\n      <th>NIH2307713334</th>\n      <td>0</td>\n      <td>0</td>\n      <td>0</td>\n      <td>0</td>\n    </tr>\n    <tr>\n      <th>NIH2307455306</th>\n      <td>0</td>\n      <td>0</td>\n      <td>0</td>\n      <td>0</td>\n    </tr>\n    <tr>\n      <th>NIH2307137554</th>\n      <td>0</td>\n      <td>0</td>\n      <td>0</td>\n      <td>0</td>\n    </tr>\n    <tr>\n      <th>NIH2307649667</th>\n      <td>0</td>\n      <td>0</td>\n      <td>0</td>\n      <td>0</td>\n    </tr>\n    <tr>\n      <th>NIH2307899915</th>\n      <td>0</td>\n      <td>1</td>\n      <td>0</td>\n      <td>0</td>\n    </tr>\n    <tr>\n      <th>...</th>\n      <td>...</td>\n      <td>...</td>\n      <td>...</td>\n      <td>...</td>\n    </tr>\n    <tr>\n      <th>NIH2307591031</th>\n      <td>0</td>\n      <td>0</td>\n      <td>0</td>\n      <td>0</td>\n    </tr>\n    <tr>\n      <th>NIH2307808901</th>\n      <td>0</td>\n      <td>0</td>\n      <td>0</td>\n      <td>0</td>\n    </tr>\n    <tr>\n      <th>NIH2307930134</th>\n      <td>0</td>\n      <td>0</td>\n      <td>0</td>\n      <td>0</td>\n    </tr>\n    <tr>\n      <th>NIH2307023172</th>\n      <td>0</td>\n      <td>0</td>\n      <td>0</td>\n      <td>0</td>\n    </tr>\n    <tr>\n      <th>NIH2307534318</th>\n      <td>0</td>\n      <td>0</td>\n      <td>0</td>\n      <td>0</td>\n    </tr>\n  </tbody>\n</table>\n<p>4652 rows × 4 columns</p>\n</div>"
     },
     "execution_count": 9,
     "metadata": {},
     "output_type": "execute_result"
    }
   ],
   "source": [
    "dataset[[f'AS1_FM{disease}REL_{family}' for disease in disease_dict.keys() for family in ['N', 'P', 'S', 'O']]]"
   ],
   "metadata": {
    "collapsed": false,
    "ExecuteTime": {
     "start_time": "2023-08-24T18:00:49.763645Z",
     "end_time": "2023-08-24T18:00:49.900744Z"
    }
   }
  },
  {
   "cell_type": "code",
   "execution_count": 10,
   "outputs": [],
   "source": [
    "# 여성 관련 약물력\n",
    "\n",
    "for x in ['CP', 'FH']:\n",
    "    dataset['AS1_DR'+x] = np.where((dataset['AS1_DRUG'+x] == 2) | (dataset['AS1_DRUG'+x+'CU'] == 2), 1, 0)"
   ],
   "metadata": {
    "collapsed": false,
    "ExecuteTime": {
     "start_time": "2023-08-24T18:00:49.777645Z",
     "end_time": "2023-08-24T18:00:49.901747Z"
    }
   }
  },
  {
   "cell_type": "code",
   "execution_count": 11,
   "outputs": [],
   "source": [
    "# 앉은 자세 혈압\n",
    "\n",
    "dataset['AS1_BPSIT1SYS'] = np.where(dataset['AS1_BPSIT1LS'] > dataset['AS1_BPSIT1RS'], dataset['AS1_BPSIT1LS'], dataset['AS1_BPSIT1RS'])\n",
    "dataset['AS1_BPSIT1DIA'] = np.where(dataset['AS1_BPSIT1LD'] > dataset['AS1_BPSIT1RD'], dataset['AS1_BPSIT1LD'], dataset['AS1_BPSIT1RD'])"
   ],
   "metadata": {
    "collapsed": false,
    "ExecuteTime": {
     "start_time": "2023-08-24T18:00:49.794645Z",
     "end_time": "2023-08-24T18:00:49.901747Z"
    }
   }
  },
  {
   "cell_type": "markdown",
   "source": [
    "### 타입 별 분류"
   ],
   "metadata": {
    "collapsed": false
   }
  },
  {
   "cell_type": "code",
   "execution_count": 12,
   "outputs": [
    {
     "data": {
      "text/plain": "dependent      AS1_DT  AS1_MT\nDIST_ID                      \nNIH2307713334    -0.4     0.4\nNIH2307455306     0.0    -1.0\nNIH2307137554    -1.8    -1.9\nNIH2307649667    -2.0    -1.7\nNIH2307899915     0.1    -0.1",
      "text/html": "<div>\n<style scoped>\n    .dataframe tbody tr th:only-of-type {\n        vertical-align: middle;\n    }\n\n    .dataframe tbody tr th {\n        vertical-align: top;\n    }\n\n    .dataframe thead th {\n        text-align: right;\n    }\n</style>\n<table border=\"1\" class=\"dataframe\">\n  <thead>\n    <tr style=\"text-align: right;\">\n      <th>dependent</th>\n      <th>AS1_DT</th>\n      <th>AS1_MT</th>\n    </tr>\n    <tr>\n      <th>DIST_ID</th>\n      <th></th>\n      <th></th>\n    </tr>\n  </thead>\n  <tbody>\n    <tr>\n      <th>NIH2307713334</th>\n      <td>-0.4</td>\n      <td>0.4</td>\n    </tr>\n    <tr>\n      <th>NIH2307455306</th>\n      <td>0.0</td>\n      <td>-1.0</td>\n    </tr>\n    <tr>\n      <th>NIH2307137554</th>\n      <td>-1.8</td>\n      <td>-1.9</td>\n    </tr>\n    <tr>\n      <th>NIH2307649667</th>\n      <td>-2.0</td>\n      <td>-1.7</td>\n    </tr>\n    <tr>\n      <th>NIH2307899915</th>\n      <td>0.1</td>\n      <td>-0.1</td>\n    </tr>\n  </tbody>\n</table>\n</div>"
     },
     "execution_count": 12,
     "metadata": {},
     "output_type": "execute_result"
    }
   ],
   "source": [
    "# var_to_use의 각 열 가져옴\n",
    "\n",
    "raw_binary = dataset.reindex(columns=(var_to_use['binary'].dropna()))\n",
    "raw_cath0 = dataset.reindex(columns=(var_to_use['cath0'].dropna()))\n",
    "raw_cath1 = dataset.reindex(columns=(var_to_use['cath1'].dropna()))\n",
    "raw_cnt = dataset.reindex(columns=(var_to_use['cnt'].dropna()))\n",
    "raw_label = dataset.reindex(columns=(var_to_use['dependent'].dropna()))\n",
    "\n",
    "raw_label.head()"
   ],
   "metadata": {
    "collapsed": false,
    "ExecuteTime": {
     "start_time": "2023-08-24T18:00:49.812650Z",
     "end_time": "2023-08-24T18:00:49.901747Z"
    }
   }
  },
  {
   "cell_type": "code",
   "execution_count": 13,
   "outputs": [
    {
     "name": "stdout",
     "output_type": "stream",
     "text": [
      "binary\n",
      "AS1_SEX         0\n",
      "AS1_HT          0\n",
      "AS1_DM          0\n",
      "AS1_AL          0\n",
      "AS1_MI          0\n",
      "AS1_TH          0\n",
      "AS1_CH          0\n",
      "AS1_CD          0\n",
      "AS1_LP          0\n",
      "AS1_AS          0\n",
      "AS1_CL          0\n",
      "AS1_KD          0\n",
      "AS1_CV          0\n",
      "AS1_GT          0\n",
      "AS1_ARRM        0\n",
      "AS1_DRST        0\n",
      "AS1_DRCP        0\n",
      "AS1_DRINS       0\n",
      "AS1_DRHT        0\n",
      "AS1_DRAR        0\n",
      "AS1_DRTH        0\n",
      "AS1_DRFH        0\n",
      "AS1_DROS        0\n",
      "AS1_DRSTK       0\n",
      "AS1_DRAS        0\n",
      "AS1_DRLP        0\n",
      "AS1_DRSP        0\n",
      "AS1_DRSL        0\n",
      "AS1_PMYN_C      0\n",
      "AS1_PREG       36\n",
      "AS1_HYST      179\n",
      "AS1_OBGYOP    386\n",
      "AS1_BRCA      230\n",
      "AS1_BRSTF     615\n",
      "AS1_INSM       32\n",
      "AS1_SLPHRD     43\n",
      "dtype: int64\n",
      "cath0\n",
      "AS1_EDUA           32\n",
      "AS1_DRINK          25\n",
      "AS1_SMOKEA         65\n",
      "AS1_FMOSREL_N       0\n",
      "AS1_FMOSREL_O       0\n",
      "AS1_FMOSREL_P       0\n",
      "AS1_FMOSREL_S       0\n",
      "AS1_HYSTOVARYW    498\n",
      "AS1_OVARYW        510\n",
      "dtype: int64\n",
      "cath1\n",
      "AS1_INCOME     90\n",
      "AS1_PHYSTB     49\n",
      "AS1_PHYSIT     51\n",
      "AS1_PHYACTL    55\n",
      "AS1_PHYACTM    97\n",
      "AS1_PHYACTH    76\n",
      "AS1_ICOFF_1     0\n",
      "dtype: int64\n",
      "cnt\n",
      "AS1_AGE             0\n",
      "AS1_TOTALC          0\n",
      "AS1_PMAG_C       2045\n",
      "AS1_MNSAG          41\n",
      "AS1_CHILD_P        65\n",
      "                 ... \n",
      "AS1_BPSIT1RS        6\n",
      "AS1_BPSIT1SYS       6\n",
      "AS1_BPSIT1LD        4\n",
      "AS1_BPSIT1RD        6\n",
      "AS1_BPSIT1DIA       6\n",
      "Length: 75, dtype: int64\n",
      "dependent\n",
      "AS1_DT    0\n",
      "AS1_MT    0\n",
      "dtype: int64\n"
     ]
    }
   ],
   "source": [
    "print(raw_binary.isnull().sum())\n",
    "print(raw_cath0.isnull().sum())\n",
    "print(raw_cath1.isnull().sum())\n",
    "print(raw_cnt.isnull().sum())\n",
    "print(raw_label.isnull().sum())"
   ],
   "metadata": {
    "collapsed": false,
    "ExecuteTime": {
     "start_time": "2023-08-24T18:00:49.825741Z",
     "end_time": "2023-08-24T18:00:49.901747Z"
    }
   }
  },
  {
   "cell_type": "code",
   "execution_count": 14,
   "outputs": [
    {
     "data": {
      "text/plain": "binary  AS1_SEX  AS1_HT  AS1_DM  AS1_AL  AS1_MI  AS1_TH  AS1_CH  AS1_CD   \n0             2       0       0       0       0       0       0       0  \\\n\nbinary  AS1_LP  AS1_AS  ...  AS1_DRSP  AS1_DRSL  AS1_PMYN_C  AS1_PREG   \n0            0       0  ...         0         0         2.0       2.0  \\\n\nbinary  AS1_HYST  AS1_OBGYOP  AS1_BRCA  AS1_BRSTF  AS1_INSM  AS1_SLPHRD  \n0            1.0         1.0       1.0        2.0       1.0         1.0  \n\n[1 rows x 36 columns]",
      "text/html": "<div>\n<style scoped>\n    .dataframe tbody tr th:only-of-type {\n        vertical-align: middle;\n    }\n\n    .dataframe tbody tr th {\n        vertical-align: top;\n    }\n\n    .dataframe thead th {\n        text-align: right;\n    }\n</style>\n<table border=\"1\" class=\"dataframe\">\n  <thead>\n    <tr style=\"text-align: right;\">\n      <th>binary</th>\n      <th>AS1_SEX</th>\n      <th>AS1_HT</th>\n      <th>AS1_DM</th>\n      <th>AS1_AL</th>\n      <th>AS1_MI</th>\n      <th>AS1_TH</th>\n      <th>AS1_CH</th>\n      <th>AS1_CD</th>\n      <th>AS1_LP</th>\n      <th>AS1_AS</th>\n      <th>...</th>\n      <th>AS1_DRSP</th>\n      <th>AS1_DRSL</th>\n      <th>AS1_PMYN_C</th>\n      <th>AS1_PREG</th>\n      <th>AS1_HYST</th>\n      <th>AS1_OBGYOP</th>\n      <th>AS1_BRCA</th>\n      <th>AS1_BRSTF</th>\n      <th>AS1_INSM</th>\n      <th>AS1_SLPHRD</th>\n    </tr>\n  </thead>\n  <tbody>\n    <tr>\n      <th>0</th>\n      <td>2</td>\n      <td>0</td>\n      <td>0</td>\n      <td>0</td>\n      <td>0</td>\n      <td>0</td>\n      <td>0</td>\n      <td>0</td>\n      <td>0</td>\n      <td>0</td>\n      <td>...</td>\n      <td>0</td>\n      <td>0</td>\n      <td>2.0</td>\n      <td>2.0</td>\n      <td>1.0</td>\n      <td>1.0</td>\n      <td>1.0</td>\n      <td>2.0</td>\n      <td>1.0</td>\n      <td>1.0</td>\n    </tr>\n  </tbody>\n</table>\n<p>1 rows × 36 columns</p>\n</div>"
     },
     "execution_count": 14,
     "metadata": {},
     "output_type": "execute_result"
    }
   ],
   "source": [
    "raw_binary.mode()"
   ],
   "metadata": {
    "collapsed": false,
    "ExecuteTime": {
     "start_time": "2023-08-24T18:00:49.839741Z",
     "end_time": "2023-08-24T18:00:49.994176Z"
    }
   }
  },
  {
   "cell_type": "code",
   "execution_count": 15,
   "outputs": [],
   "source": [
    "# 원 데이터의 결측값 모두 0으로 대치\n",
    "binary = raw_binary.fillna(raw_binary.mode().iloc[0]) # 결측값 xmode().iloc[0]\n",
    "cath0 = raw_cath0.fillna(raw_cath0.mode().iloc[0])\n",
    "cath1 = raw_cath1.fillna(raw_cath1.mode().iloc[0])\n",
    "cnt = raw_cnt.fillna(raw_cnt.mean())\n",
    "label = raw_label"
   ],
   "metadata": {
    "collapsed": false,
    "ExecuteTime": {
     "start_time": "2023-08-24T18:00:49.870740Z",
     "end_time": "2023-08-24T18:00:50.103694Z"
    }
   }
  },
  {
   "cell_type": "code",
   "execution_count": 16,
   "outputs": [
    {
     "name": "stdout",
     "output_type": "stream",
     "text": [
      "binary\n",
      "AS1_SEX       0\n",
      "AS1_HT        0\n",
      "AS1_DM        0\n",
      "AS1_AL        0\n",
      "AS1_MI        0\n",
      "AS1_TH        0\n",
      "AS1_CH        0\n",
      "AS1_CD        0\n",
      "AS1_LP        0\n",
      "AS1_AS        0\n",
      "AS1_CL        0\n",
      "AS1_KD        0\n",
      "AS1_CV        0\n",
      "AS1_GT        0\n",
      "AS1_ARRM      0\n",
      "AS1_DRST      0\n",
      "AS1_DRCP      0\n",
      "AS1_DRINS     0\n",
      "AS1_DRHT      0\n",
      "AS1_DRAR      0\n",
      "AS1_DRTH      0\n",
      "AS1_DRFH      0\n",
      "AS1_DROS      0\n",
      "AS1_DRSTK     0\n",
      "AS1_DRAS      0\n",
      "AS1_DRLP      0\n",
      "AS1_DRSP      0\n",
      "AS1_DRSL      0\n",
      "AS1_PMYN_C    0\n",
      "AS1_PREG      0\n",
      "AS1_HYST      0\n",
      "AS1_OBGYOP    0\n",
      "AS1_BRCA      0\n",
      "AS1_BRSTF     0\n",
      "AS1_INSM      0\n",
      "AS1_SLPHRD    0\n",
      "dtype: int64\n",
      "cath0\n",
      "AS1_EDUA          0\n",
      "AS1_DRINK         0\n",
      "AS1_SMOKEA        0\n",
      "AS1_FMOSREL_N     0\n",
      "AS1_FMOSREL_O     0\n",
      "AS1_FMOSREL_P     0\n",
      "AS1_FMOSREL_S     0\n",
      "AS1_HYSTOVARYW    0\n",
      "AS1_OVARYW        0\n",
      "dtype: int64\n",
      "cath1\n",
      "AS1_INCOME     0\n",
      "AS1_PHYSTB     0\n",
      "AS1_PHYSIT     0\n",
      "AS1_PHYACTL    0\n",
      "AS1_PHYACTM    0\n",
      "AS1_PHYACTH    0\n",
      "AS1_ICOFF_1    0\n",
      "dtype: int64\n",
      "cnt\n",
      "AS1_AGE          0\n",
      "AS1_TOTALC       0\n",
      "AS1_PMAG_C       0\n",
      "AS1_MNSAG        0\n",
      "AS1_CHILD_P      0\n",
      "                ..\n",
      "AS1_BPSIT1RS     0\n",
      "AS1_BPSIT1SYS    0\n",
      "AS1_BPSIT1LD     0\n",
      "AS1_BPSIT1RD     0\n",
      "AS1_BPSIT1DIA    0\n",
      "Length: 75, dtype: int64\n",
      "dependent\n",
      "AS1_DT    0\n",
      "AS1_MT    0\n",
      "dtype: int64\n"
     ]
    }
   ],
   "source": [
    "print(binary.isnull().sum())\n",
    "print(cath0.isnull().sum())\n",
    "print(cath1.isnull().sum())\n",
    "print(cnt.isnull().sum())\n",
    "print(label.isnull().sum())"
   ],
   "metadata": {
    "collapsed": false,
    "ExecuteTime": {
     "start_time": "2023-08-24T18:00:49.934176Z",
     "end_time": "2023-08-24T18:00:50.119203Z"
    }
   }
  },
  {
   "cell_type": "markdown",
   "source": [
    "## 데이터셋에 유전체 붙이기"
   ],
   "metadata": {
    "collapsed": false
   }
  },
  {
   "cell_type": "code",
   "execution_count": 17,
   "outputs": [
    {
     "data": {
      "text/plain": "              SNP_A-2181021 SNP_A-1809518 SNP_A-2130710 SNP_A-2263153   \nNIH2307537078           C C           G A           G G           A A  \\\nNIH2307151907           A A           G A           G T           A A   \nNIH2307876488           C C           G G           T T           A A   \nNIH2307009808           C C           G A           G T           A A   \nNIH2307798369           C C           A A           T T           A A   \n\n              SNP_A-2310995 SNP_A-1922415 SNP_A-2266073 SNP_A-1984271   \nNIH2307537078           C C           T T           G G           C C  \\\nNIH2307151907           T C           T T           G G           G G   \nNIH2307876488           C C           T T           G G           C C   \nNIH2307009808           C C           T T           G G           G C   \nNIH2307798369           C C           T T           G G           G C   \n\n              SNP_A-2218697 SNP_A-1850320 SNP_A-4262878 SNP_A-4299800   \nNIH2307537078           A A           A G           T G           G G  \\\nNIH2307151907           A A           G G           T G           G G   \nNIH2307876488           G A           G G           T G           G G   \nNIH2307009808           A A           G G           T G           G G   \nNIH2307798369           G A           G G           G G           G G   \n\n              SNP_A-2242511  \nNIH2307537078           A A  \nNIH2307151907           A A  \nNIH2307876488           A A  \nNIH2307009808           A A  \nNIH2307798369           A A  ",
      "text/html": "<div>\n<style scoped>\n    .dataframe tbody tr th:only-of-type {\n        vertical-align: middle;\n    }\n\n    .dataframe tbody tr th {\n        vertical-align: top;\n    }\n\n    .dataframe thead th {\n        text-align: right;\n    }\n</style>\n<table border=\"1\" class=\"dataframe\">\n  <thead>\n    <tr style=\"text-align: right;\">\n      <th></th>\n      <th>SNP_A-2181021</th>\n      <th>SNP_A-1809518</th>\n      <th>SNP_A-2130710</th>\n      <th>SNP_A-2263153</th>\n      <th>SNP_A-2310995</th>\n      <th>SNP_A-1922415</th>\n      <th>SNP_A-2266073</th>\n      <th>SNP_A-1984271</th>\n      <th>SNP_A-2218697</th>\n      <th>SNP_A-1850320</th>\n      <th>SNP_A-4262878</th>\n      <th>SNP_A-4299800</th>\n      <th>SNP_A-2242511</th>\n    </tr>\n  </thead>\n  <tbody>\n    <tr>\n      <th>NIH2307537078</th>\n      <td>C C</td>\n      <td>G A</td>\n      <td>G G</td>\n      <td>A A</td>\n      <td>C C</td>\n      <td>T T</td>\n      <td>G G</td>\n      <td>C C</td>\n      <td>A A</td>\n      <td>A G</td>\n      <td>T G</td>\n      <td>G G</td>\n      <td>A A</td>\n    </tr>\n    <tr>\n      <th>NIH2307151907</th>\n      <td>A A</td>\n      <td>G A</td>\n      <td>G T</td>\n      <td>A A</td>\n      <td>T C</td>\n      <td>T T</td>\n      <td>G G</td>\n      <td>G G</td>\n      <td>A A</td>\n      <td>G G</td>\n      <td>T G</td>\n      <td>G G</td>\n      <td>A A</td>\n    </tr>\n    <tr>\n      <th>NIH2307876488</th>\n      <td>C C</td>\n      <td>G G</td>\n      <td>T T</td>\n      <td>A A</td>\n      <td>C C</td>\n      <td>T T</td>\n      <td>G G</td>\n      <td>C C</td>\n      <td>G A</td>\n      <td>G G</td>\n      <td>T G</td>\n      <td>G G</td>\n      <td>A A</td>\n    </tr>\n    <tr>\n      <th>NIH2307009808</th>\n      <td>C C</td>\n      <td>G A</td>\n      <td>G T</td>\n      <td>A A</td>\n      <td>C C</td>\n      <td>T T</td>\n      <td>G G</td>\n      <td>G C</td>\n      <td>A A</td>\n      <td>G G</td>\n      <td>T G</td>\n      <td>G G</td>\n      <td>A A</td>\n    </tr>\n    <tr>\n      <th>NIH2307798369</th>\n      <td>C C</td>\n      <td>A A</td>\n      <td>T T</td>\n      <td>A A</td>\n      <td>C C</td>\n      <td>T T</td>\n      <td>G G</td>\n      <td>G C</td>\n      <td>G A</td>\n      <td>G G</td>\n      <td>G G</td>\n      <td>G G</td>\n      <td>A A</td>\n    </tr>\n  </tbody>\n</table>\n</div>"
     },
     "execution_count": 17,
     "metadata": {},
     "output_type": "execute_result"
    }
   ],
   "source": [
    "# 유전체 데이터프레임 만들기\n",
    "df_all_gen = pd.DataFrame()\n",
    "\n",
    "for v in gen_dict.values():\n",
    "    temp = pd.read_csv(f\"./dataset/genome/result_{v}.csv\", index_col=1, low_memory=False).dropna()\n",
    "    temp.rename(columns={\"SNP\": v}, inplace=True)\n",
    "    df_all_gen = pd.concat([df_all_gen, temp[v]], axis=1)\n",
    "\n",
    "df_all_gen.head()"
   ],
   "metadata": {
    "collapsed": false,
    "ExecuteTime": {
     "start_time": "2023-08-24T18:00:49.967179Z",
     "end_time": "2023-08-24T18:00:50.945399Z"
    }
   }
  },
  {
   "cell_type": "code",
   "execution_count": 18,
   "outputs": [
    {
     "name": "stdout",
     "output_type": "stream",
     "text": [
      "<class 'pandas.core.frame.DataFrame'>\n",
      "Index: 5217 entries, NIH2307713334 to NIH2307027315\n",
      "Columns: 140 entries, AS1_SEX to SNP_A-2242511\n",
      "dtypes: float64(127), object(13)\n",
      "memory usage: 5.6+ MB\n"
     ]
    }
   ],
   "source": [
    "diet_and_gen = pd.concat([binary, cath0, cath1, cnt, df_all_gen], axis=1)\n",
    "diet_and_gen.info()"
   ],
   "metadata": {
    "collapsed": false,
    "ExecuteTime": {
     "start_time": "2023-08-24T18:00:50.946399Z",
     "end_time": "2023-08-24T18:00:51.020911Z"
    }
   }
  },
  {
   "cell_type": "code",
   "execution_count": 19,
   "outputs": [
    {
     "name": "stdout",
     "output_type": "stream",
     "text": [
      "<class 'pandas.core.frame.DataFrame'>\n",
      "Index: 4093 entries, NIH2307713334 to NIH2307534318\n",
      "Columns: 140 entries, AS1_SEX to SNP_A-2242511\n",
      "dtypes: float64(127), object(13)\n",
      "memory usage: 4.4+ MB\n"
     ]
    }
   ],
   "source": [
    "diet_and_gen.dropna().info()\n",
    "# diet_and_gen.dropna(subset=['AS1_PMYN_C'],).info()"
   ],
   "metadata": {
    "collapsed": false,
    "ExecuteTime": {
     "start_time": "2023-08-24T18:00:50.977399Z",
     "end_time": "2023-08-24T18:00:51.051950Z"
    }
   }
  },
  {
   "cell_type": "code",
   "execution_count": 23,
   "outputs": [],
   "source": [
    "diet_and_gen.dropna(inplace=True)"
   ],
   "metadata": {
    "collapsed": false,
    "ExecuteTime": {
     "start_time": "2023-08-24T18:09:59.996021Z",
     "end_time": "2023-08-24T18:10:00.008021Z"
    }
   }
  },
  {
   "cell_type": "markdown",
   "source": [
    "## 폐경여부로 분리"
   ],
   "metadata": {
    "collapsed": false
   }
  },
  {
   "cell_type": "code",
   "execution_count": 24,
   "outputs": [
    {
     "name": "stdout",
     "output_type": "stream",
     "text": [
      "폐경 전 여성의 골다공증:\n",
      " OP\n",
      "0    1651\n",
      "1      67\n",
      "Name: count, dtype: int64\n",
      "\n",
      "폐경 후 여성의 골다공증:\n",
      " OP\n",
      "0    2109\n",
      "1     825\n",
      "Name: count, dtype: int64\n"
     ]
    }
   ],
   "source": [
    "meno1 = dataset['AS1_PMYN_C'] == 1\n",
    "meno2 = dataset['AS1_PMYN_C'] == 2\n",
    "\n",
    "X_premeno_woman = diet_and_gen.loc[meno1]\n",
    "X_postmeno_woman = diet_and_gen.loc[meno2]\n",
    "y_premeno_woman = dataset['OP'].loc[meno1]\n",
    "y_postmeno_woman = dataset['OP'].loc[meno2]\n",
    "print(f\"폐경 전 여성의 골다공증:\\n {y_premeno_woman.value_counts()}\"\n",
    "      f\"\\n\\n폐경 후 여성의 골다공증:\\n {y_postmeno_woman.value_counts()}\")"
   ],
   "metadata": {
    "collapsed": false,
    "ExecuteTime": {
     "start_time": "2023-08-24T18:10:02.201424Z",
     "end_time": "2023-08-24T18:10:02.250435Z"
    }
   }
  },
  {
   "cell_type": "code",
   "execution_count": 26,
   "outputs": [],
   "source": [
    "X_premeno_woman.to_csv('./dataset/scaled/X_premeno_2023824T1810I.csv')\n",
    "X_postmeno_woman.to_csv('./dataset/scaled/X_postmeno_20230824T1810I.csv')\n",
    "y_premeno_woman.to_csv('./dataset/scaled/y_premeno_20230824T1810I.csv')\n",
    "y_postmeno_woman.to_csv('./dataset/scaled/y_postmeno_20230824T1810I.csv')"
   ],
   "metadata": {
    "collapsed": false,
    "ExecuteTime": {
     "start_time": "2023-08-24T18:10:25.526367Z",
     "end_time": "2023-08-24T18:10:25.807622Z"
    }
   }
  },
  {
   "cell_type": "code",
   "execution_count": 27,
   "outputs": [
    {
     "name": "stdout",
     "output_type": "stream",
     "text": [
      "<class 'pandas.core.frame.DataFrame'>\n",
      "Index: 4093 entries, NIH2307713334 to NIH2307534318\n",
      "Columns: 140 entries, AS1_SEX to SNP_A-2242511\n",
      "dtypes: float64(127), object(13)\n",
      "memory usage: 4.4+ MB\n"
     ]
    }
   ],
   "source": [
    "X = diet_and_gen[diet_and_gen['AS1_PMYN_C'] != 0]\n",
    "X.info()"
   ],
   "metadata": {
    "collapsed": false,
    "ExecuteTime": {
     "start_time": "2023-08-24T18:10:27.041232Z",
     "end_time": "2023-08-24T18:10:27.067231Z"
    }
   }
  },
  {
   "cell_type": "code",
   "execution_count": 28,
   "outputs": [],
   "source": [
    "X.to_csv('./dataset/정규화안했음_20230824T1810I.csv')"
   ],
   "metadata": {
    "collapsed": false,
    "ExecuteTime": {
     "start_time": "2023-08-24T18:10:31.463340Z",
     "end_time": "2023-08-24T18:10:31.719660Z"
    }
   }
  },
  {
   "cell_type": "code",
   "execution_count": 117,
   "outputs": [],
   "source": [],
   "metadata": {
    "collapsed": false,
    "ExecuteTime": {
     "start_time": "2023-08-24T16:13:58.157044Z",
     "end_time": "2023-08-24T16:13:58.217534Z"
    }
   }
  }
 ],
 "metadata": {
  "kernelspec": {
   "display_name": "Python 3",
   "language": "python",
   "name": "python3"
  },
  "language_info": {
   "codemirror_mode": {
    "name": "ipython",
    "version": 2
   },
   "file_extension": ".py",
   "mimetype": "text/x-python",
   "name": "python",
   "nbconvert_exporter": "python",
   "pygments_lexer": "ipython2",
   "version": "2.7.6"
  }
 },
 "nbformat": 4,
 "nbformat_minor": 0
}
