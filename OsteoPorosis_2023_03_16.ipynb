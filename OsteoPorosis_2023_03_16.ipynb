{
  "cells": [
    {
      "cell_type": "markdown",
      "metadata": {
        "id": "view-in-github",
        "colab_type": "text"
      },
      "source": [
        "<a href=\"https://colab.research.google.com/github/SH22Hwang/KoGES_OP/blob/master/OsteoPorosis_2023_03_16.ipynb\" target=\"_parent\"><img src=\"https://colab.research.google.com/assets/colab-badge.svg\" alt=\"Open In Colab\"/></a>"
      ]
    },
    {
      "cell_type": "markdown",
      "metadata": {
        "id": "pU-wr0vmkQVU"
      },
      "source": [
        "# 골다공증 분석 모델\n",
        "\n",
        "골다공증 판단 조건\n",
        "\n",
        "- AS1_MT <= -2.5\n",
        "- AS1_DT <= -2.5\n",
        "\n",
        "**@author: sh22h**\n"
      ]
    },
    {
      "cell_type": "markdown",
      "source": [
        "## 학습 모델\n",
        "\n",
        "- 0차 - 2023-03-16\n",
        "  - 고혈압 분석 모델 2022-09-19에서 계승\n",
        "  - 독립변수 너무 많음\n"
      ],
      "metadata": {
        "id": "51L_IqILiyzz"
      }
    },
    {
      "cell_type": "code",
      "execution_count": null,
      "metadata": {
        "id": "RjiU0YHvfgjx",
        "colab": {
          "base_uri": "https://localhost:8080/"
        },
        "outputId": "2e7e0823-73b4-407d-ce7a-799f12e3bd5f"
      },
      "outputs": [
        {
          "output_type": "stream",
          "name": "stdout",
          "text": [
            "Mounted at /content/drive\n"
          ]
        }
      ],
      "source": [
        "import numpy as np\n",
        "import pandas as pd\n",
        "import matplotlib.pyplot as plt\n",
        "\n",
        "from tensorflow.keras.models import Sequential\n",
        "from tensorflow.keras.layers import Dense, Dropout, Conv1D, GlobalMaxPooling1D, Embedding\n",
        "from tensorflow.keras.optimizers import Adam\n",
        "from tensorflow.keras.callbacks import EarlyStopping, ModelCheckpoint, Callback\n",
        "from tensorflow.keras.metrics import Recall\n",
        "\n",
        "from sklearn.model_selection import train_test_split\n",
        "\n",
        "from google.colab import drive\n",
        "drive.mount('/content/drive')"
      ]
    },
    {
      "cell_type": "markdown",
      "metadata": {
        "id": "TFohIP6JTTjJ"
      },
      "source": [
        "## dataset 불러오기 and 분리\n",
        "- train, test"
      ]
    },
    {
      "cell_type": "code",
      "source": [
        "X = pd.read_csv('/content/drive/MyDrive/Colab Notebooks/PreProcessed/OP_X_230316.csv', index_col=0)\n",
        "y = pd.read_csv('/content/drive/MyDrive/Colab Notebooks/PreProcessed/OP_y_230316.csv', index_col=0)"
      ],
      "metadata": {
        "id": "eY9iK_5VGmWb"
      },
      "execution_count": null,
      "outputs": []
    },
    {
      "cell_type": "code",
      "source": [
        "X"
      ],
      "metadata": {
        "colab": {
          "base_uri": "https://localhost:8080/",
          "height": 554
        },
        "id": "dqOZYkbzrH4q",
        "outputId": "ebb1503e-3d30-41cb-b559-3bfda5e0b929"
      },
      "execution_count": null,
      "outputs": [
        {
          "output_type": "execute_result",
          "data": {
            "text/plain": [
              "                    AS1_SEX  AS1_PDHT  AS1_PDDM  AS1_PDUL  AS1_PDAL  AS1_PDMI  \\\n",
              "RID                                                                             \n",
              "EPI20_026_3_000001      1.0  0.422923  0.466466  0.393894  0.472973  0.495495   \n",
              "EPI20_026_3_000002      0.0  0.422923  0.466466  0.393894  0.472973  0.495495   \n",
              "EPI20_026_3_000003      0.0  0.422923  0.466466  1.000000  1.000000  0.495495   \n",
              "EPI20_026_3_000004      0.0  0.422923  0.466466  0.393894  0.472973  0.495495   \n",
              "EPI20_026_3_000005      0.0  0.422923  0.466466  0.393894  0.472973  0.495495   \n",
              "...                     ...       ...       ...       ...       ...       ...   \n",
              "EPI20_026_3_010026      1.0  0.422923  0.466466  1.000000  1.000000  0.495495   \n",
              "EPI20_026_3_010027      0.0  0.422923  1.000000  0.393894  0.472973  0.495495   \n",
              "EPI20_026_3_010028      0.0  0.422923  0.466466  0.393894  0.472973  0.495495   \n",
              "EPI20_026_3_010029      0.0  0.422923  0.466466  0.393894  0.472973  0.495495   \n",
              "EPI20_026_3_010030      0.0  0.422923  0.466466  1.000000  1.000000  0.495495   \n",
              "\n",
              "                    AS1_PDTH  AS1_PDCH  AS1_PDCD  AS1_PDLP  ...  \\\n",
              "RID                                                         ...   \n",
              "EPI20_026_3_000001  0.485485  0.498999  0.495996  0.487988  ...   \n",
              "EPI20_026_3_000002  0.485485  0.498999  0.495996  0.487988  ...   \n",
              "EPI20_026_3_000003  0.485485  0.498999  0.495996  0.487988  ...   \n",
              "EPI20_026_3_000004  0.485485  0.498999  0.495996  0.487988  ...   \n",
              "EPI20_026_3_000005  0.485485  0.498999  0.495996  0.487988  ...   \n",
              "...                      ...       ...       ...       ...  ...   \n",
              "EPI20_026_3_010026  0.485485  0.498999  0.495996  0.487988  ...   \n",
              "EPI20_026_3_010027  1.000000  0.498999  0.495996  0.487988  ...   \n",
              "EPI20_026_3_010028  0.485485  0.498999  0.495996  0.487988  ...   \n",
              "EPI20_026_3_010029  1.000000  0.498999  0.495996  0.487988  ...   \n",
              "EPI20_026_3_010030  0.485485  0.498999  0.495996  0.487988  ...   \n",
              "\n",
              "                    AS1_TRTTOTCA1NA_유방암 수술후 항암치료  \\\n",
              "RID                                                \n",
              "EPI20_026_3_000001                           0.0   \n",
              "EPI20_026_3_000002                           0.0   \n",
              "EPI20_026_3_000003                           0.0   \n",
              "EPI20_026_3_000004                           0.0   \n",
              "EPI20_026_3_000005                           0.0   \n",
              "...                                          ...   \n",
              "EPI20_026_3_010026                           0.0   \n",
              "EPI20_026_3_010027                           0.0   \n",
              "EPI20_026_3_010028                           0.0   \n",
              "EPI20_026_3_010029                           0.0   \n",
              "EPI20_026_3_010030                           0.0   \n",
              "\n",
              "                    AS1_TRTTOTCA1NA_유방암으로 2년째 치료중(병원치료)  AS1_TRTTOTCA1NA_자궁근종  \\\n",
              "RID                                                                             \n",
              "EPI20_026_3_000001                                  0.0                   0.0   \n",
              "EPI20_026_3_000002                                  0.0                   0.0   \n",
              "EPI20_026_3_000003                                  0.0                   0.0   \n",
              "EPI20_026_3_000004                                  0.0                   0.0   \n",
              "EPI20_026_3_000005                                  0.0                   0.0   \n",
              "...                                                 ...                   ...   \n",
              "EPI20_026_3_010026                                  0.0                   0.0   \n",
              "EPI20_026_3_010027                                  0.0                   0.0   \n",
              "EPI20_026_3_010028                                  0.0                   0.0   \n",
              "EPI20_026_3_010029                                  0.0                   0.0   \n",
              "EPI20_026_3_010030                                  0.0                   0.0   \n",
              "\n",
              "                    AS1_TRTTOTCA1NA_자궁암이후 호르몬치료  AS1_TRTTOTCA1NA_자궁혹  \\\n",
              "RID                                                                    \n",
              "EPI20_026_3_000001                          0.0                  0.0   \n",
              "EPI20_026_3_000002                          0.0                  0.0   \n",
              "EPI20_026_3_000003                          0.0                  0.0   \n",
              "EPI20_026_3_000004                          0.0                  0.0   \n",
              "EPI20_026_3_000005                          0.0                  0.0   \n",
              "...                                         ...                  ...   \n",
              "EPI20_026_3_010026                          0.0                  0.0   \n",
              "EPI20_026_3_010027                          0.0                  0.0   \n",
              "EPI20_026_3_010028                          0.0                  0.0   \n",
              "EPI20_026_3_010029                          0.0                  0.0   \n",
              "EPI20_026_3_010030                          0.0                  0.0   \n",
              "\n",
              "                    AS1_TRTTOTCA1NA_췌장암  AS1_TRTTOTCA1NA_췌장암(항암치료)  \\\n",
              "RID                                                                  \n",
              "EPI20_026_3_000001                  0.0                        0.0   \n",
              "EPI20_026_3_000002                  0.0                        0.0   \n",
              "EPI20_026_3_000003                  0.0                        0.0   \n",
              "EPI20_026_3_000004                  0.0                        0.0   \n",
              "EPI20_026_3_000005                  0.0                        0.0   \n",
              "...                                 ...                        ...   \n",
              "EPI20_026_3_010026                  0.0                        0.0   \n",
              "EPI20_026_3_010027                  0.0                        0.0   \n",
              "EPI20_026_3_010028                  0.0                        0.0   \n",
              "EPI20_026_3_010029                  0.0                        0.0   \n",
              "EPI20_026_3_010030                  0.0                        0.0   \n",
              "\n",
              "                    AS1_TRTTOTCA1NA_폐림프종  AS1_TRTTOTCA1NA_폐암  \\\n",
              "RID                                                            \n",
              "EPI20_026_3_000001                   0.0                 0.0   \n",
              "EPI20_026_3_000002                   0.0                 0.0   \n",
              "EPI20_026_3_000003                   0.0                 0.0   \n",
              "EPI20_026_3_000004                   0.0                 0.0   \n",
              "EPI20_026_3_000005                   0.0                 0.0   \n",
              "...                                  ...                 ...   \n",
              "EPI20_026_3_010026                   0.0                 0.0   \n",
              "EPI20_026_3_010027                   0.0                 0.0   \n",
              "EPI20_026_3_010028                   0.0                 0.0   \n",
              "EPI20_026_3_010029                   0.0                 0.0   \n",
              "EPI20_026_3_010030                   0.0                 0.0   \n",
              "\n",
              "                    AS1_TRTTOTCA1NA_폐암절제수술  \n",
              "RID                                         \n",
              "EPI20_026_3_000001                     0.0  \n",
              "EPI20_026_3_000002                     0.0  \n",
              "EPI20_026_3_000003                     0.0  \n",
              "EPI20_026_3_000004                     0.0  \n",
              "EPI20_026_3_000005                     0.0  \n",
              "...                                    ...  \n",
              "EPI20_026_3_010026                     0.0  \n",
              "EPI20_026_3_010027                     0.0  \n",
              "EPI20_026_3_010028                     0.0  \n",
              "EPI20_026_3_010029                     0.0  \n",
              "EPI20_026_3_010030                     0.0  \n",
              "\n",
              "[9100 rows x 1415 columns]"
            ],
            "text/html": [
              "\n",
              "  <div id=\"df-49d5c543-1128-48f5-b16f-454941ce4201\">\n",
              "    <div class=\"colab-df-container\">\n",
              "      <div>\n",
              "<style scoped>\n",
              "    .dataframe tbody tr th:only-of-type {\n",
              "        vertical-align: middle;\n",
              "    }\n",
              "\n",
              "    .dataframe tbody tr th {\n",
              "        vertical-align: top;\n",
              "    }\n",
              "\n",
              "    .dataframe thead th {\n",
              "        text-align: right;\n",
              "    }\n",
              "</style>\n",
              "<table border=\"1\" class=\"dataframe\">\n",
              "  <thead>\n",
              "    <tr style=\"text-align: right;\">\n",
              "      <th></th>\n",
              "      <th>AS1_SEX</th>\n",
              "      <th>AS1_PDHT</th>\n",
              "      <th>AS1_PDDM</th>\n",
              "      <th>AS1_PDUL</th>\n",
              "      <th>AS1_PDAL</th>\n",
              "      <th>AS1_PDMI</th>\n",
              "      <th>AS1_PDTH</th>\n",
              "      <th>AS1_PDCH</th>\n",
              "      <th>AS1_PDCD</th>\n",
              "      <th>AS1_PDLP</th>\n",
              "      <th>...</th>\n",
              "      <th>AS1_TRTTOTCA1NA_유방암 수술후 항암치료</th>\n",
              "      <th>AS1_TRTTOTCA1NA_유방암으로 2년째 치료중(병원치료)</th>\n",
              "      <th>AS1_TRTTOTCA1NA_자궁근종</th>\n",
              "      <th>AS1_TRTTOTCA1NA_자궁암이후 호르몬치료</th>\n",
              "      <th>AS1_TRTTOTCA1NA_자궁혹</th>\n",
              "      <th>AS1_TRTTOTCA1NA_췌장암</th>\n",
              "      <th>AS1_TRTTOTCA1NA_췌장암(항암치료)</th>\n",
              "      <th>AS1_TRTTOTCA1NA_폐림프종</th>\n",
              "      <th>AS1_TRTTOTCA1NA_폐암</th>\n",
              "      <th>AS1_TRTTOTCA1NA_폐암절제수술</th>\n",
              "    </tr>\n",
              "    <tr>\n",
              "      <th>RID</th>\n",
              "      <th></th>\n",
              "      <th></th>\n",
              "      <th></th>\n",
              "      <th></th>\n",
              "      <th></th>\n",
              "      <th></th>\n",
              "      <th></th>\n",
              "      <th></th>\n",
              "      <th></th>\n",
              "      <th></th>\n",
              "      <th></th>\n",
              "      <th></th>\n",
              "      <th></th>\n",
              "      <th></th>\n",
              "      <th></th>\n",
              "      <th></th>\n",
              "      <th></th>\n",
              "      <th></th>\n",
              "      <th></th>\n",
              "      <th></th>\n",
              "      <th></th>\n",
              "    </tr>\n",
              "  </thead>\n",
              "  <tbody>\n",
              "    <tr>\n",
              "      <th>EPI20_026_3_000001</th>\n",
              "      <td>1.0</td>\n",
              "      <td>0.422923</td>\n",
              "      <td>0.466466</td>\n",
              "      <td>0.393894</td>\n",
              "      <td>0.472973</td>\n",
              "      <td>0.495495</td>\n",
              "      <td>0.485485</td>\n",
              "      <td>0.498999</td>\n",
              "      <td>0.495996</td>\n",
              "      <td>0.487988</td>\n",
              "      <td>...</td>\n",
              "      <td>0.0</td>\n",
              "      <td>0.0</td>\n",
              "      <td>0.0</td>\n",
              "      <td>0.0</td>\n",
              "      <td>0.0</td>\n",
              "      <td>0.0</td>\n",
              "      <td>0.0</td>\n",
              "      <td>0.0</td>\n",
              "      <td>0.0</td>\n",
              "      <td>0.0</td>\n",
              "    </tr>\n",
              "    <tr>\n",
              "      <th>EPI20_026_3_000002</th>\n",
              "      <td>0.0</td>\n",
              "      <td>0.422923</td>\n",
              "      <td>0.466466</td>\n",
              "      <td>0.393894</td>\n",
              "      <td>0.472973</td>\n",
              "      <td>0.495495</td>\n",
              "      <td>0.485485</td>\n",
              "      <td>0.498999</td>\n",
              "      <td>0.495996</td>\n",
              "      <td>0.487988</td>\n",
              "      <td>...</td>\n",
              "      <td>0.0</td>\n",
              "      <td>0.0</td>\n",
              "      <td>0.0</td>\n",
              "      <td>0.0</td>\n",
              "      <td>0.0</td>\n",
              "      <td>0.0</td>\n",
              "      <td>0.0</td>\n",
              "      <td>0.0</td>\n",
              "      <td>0.0</td>\n",
              "      <td>0.0</td>\n",
              "    </tr>\n",
              "    <tr>\n",
              "      <th>EPI20_026_3_000003</th>\n",
              "      <td>0.0</td>\n",
              "      <td>0.422923</td>\n",
              "      <td>0.466466</td>\n",
              "      <td>1.000000</td>\n",
              "      <td>1.000000</td>\n",
              "      <td>0.495495</td>\n",
              "      <td>0.485485</td>\n",
              "      <td>0.498999</td>\n",
              "      <td>0.495996</td>\n",
              "      <td>0.487988</td>\n",
              "      <td>...</td>\n",
              "      <td>0.0</td>\n",
              "      <td>0.0</td>\n",
              "      <td>0.0</td>\n",
              "      <td>0.0</td>\n",
              "      <td>0.0</td>\n",
              "      <td>0.0</td>\n",
              "      <td>0.0</td>\n",
              "      <td>0.0</td>\n",
              "      <td>0.0</td>\n",
              "      <td>0.0</td>\n",
              "    </tr>\n",
              "    <tr>\n",
              "      <th>EPI20_026_3_000004</th>\n",
              "      <td>0.0</td>\n",
              "      <td>0.422923</td>\n",
              "      <td>0.466466</td>\n",
              "      <td>0.393894</td>\n",
              "      <td>0.472973</td>\n",
              "      <td>0.495495</td>\n",
              "      <td>0.485485</td>\n",
              "      <td>0.498999</td>\n",
              "      <td>0.495996</td>\n",
              "      <td>0.487988</td>\n",
              "      <td>...</td>\n",
              "      <td>0.0</td>\n",
              "      <td>0.0</td>\n",
              "      <td>0.0</td>\n",
              "      <td>0.0</td>\n",
              "      <td>0.0</td>\n",
              "      <td>0.0</td>\n",
              "      <td>0.0</td>\n",
              "      <td>0.0</td>\n",
              "      <td>0.0</td>\n",
              "      <td>0.0</td>\n",
              "    </tr>\n",
              "    <tr>\n",
              "      <th>EPI20_026_3_000005</th>\n",
              "      <td>0.0</td>\n",
              "      <td>0.422923</td>\n",
              "      <td>0.466466</td>\n",
              "      <td>0.393894</td>\n",
              "      <td>0.472973</td>\n",
              "      <td>0.495495</td>\n",
              "      <td>0.485485</td>\n",
              "      <td>0.498999</td>\n",
              "      <td>0.495996</td>\n",
              "      <td>0.487988</td>\n",
              "      <td>...</td>\n",
              "      <td>0.0</td>\n",
              "      <td>0.0</td>\n",
              "      <td>0.0</td>\n",
              "      <td>0.0</td>\n",
              "      <td>0.0</td>\n",
              "      <td>0.0</td>\n",
              "      <td>0.0</td>\n",
              "      <td>0.0</td>\n",
              "      <td>0.0</td>\n",
              "      <td>0.0</td>\n",
              "    </tr>\n",
              "    <tr>\n",
              "      <th>...</th>\n",
              "      <td>...</td>\n",
              "      <td>...</td>\n",
              "      <td>...</td>\n",
              "      <td>...</td>\n",
              "      <td>...</td>\n",
              "      <td>...</td>\n",
              "      <td>...</td>\n",
              "      <td>...</td>\n",
              "      <td>...</td>\n",
              "      <td>...</td>\n",
              "      <td>...</td>\n",
              "      <td>...</td>\n",
              "      <td>...</td>\n",
              "      <td>...</td>\n",
              "      <td>...</td>\n",
              "      <td>...</td>\n",
              "      <td>...</td>\n",
              "      <td>...</td>\n",
              "      <td>...</td>\n",
              "      <td>...</td>\n",
              "      <td>...</td>\n",
              "    </tr>\n",
              "    <tr>\n",
              "      <th>EPI20_026_3_010026</th>\n",
              "      <td>1.0</td>\n",
              "      <td>0.422923</td>\n",
              "      <td>0.466466</td>\n",
              "      <td>1.000000</td>\n",
              "      <td>1.000000</td>\n",
              "      <td>0.495495</td>\n",
              "      <td>0.485485</td>\n",
              "      <td>0.498999</td>\n",
              "      <td>0.495996</td>\n",
              "      <td>0.487988</td>\n",
              "      <td>...</td>\n",
              "      <td>0.0</td>\n",
              "      <td>0.0</td>\n",
              "      <td>0.0</td>\n",
              "      <td>0.0</td>\n",
              "      <td>0.0</td>\n",
              "      <td>0.0</td>\n",
              "      <td>0.0</td>\n",
              "      <td>0.0</td>\n",
              "      <td>0.0</td>\n",
              "      <td>0.0</td>\n",
              "    </tr>\n",
              "    <tr>\n",
              "      <th>EPI20_026_3_010027</th>\n",
              "      <td>0.0</td>\n",
              "      <td>0.422923</td>\n",
              "      <td>1.000000</td>\n",
              "      <td>0.393894</td>\n",
              "      <td>0.472973</td>\n",
              "      <td>0.495495</td>\n",
              "      <td>1.000000</td>\n",
              "      <td>0.498999</td>\n",
              "      <td>0.495996</td>\n",
              "      <td>0.487988</td>\n",
              "      <td>...</td>\n",
              "      <td>0.0</td>\n",
              "      <td>0.0</td>\n",
              "      <td>0.0</td>\n",
              "      <td>0.0</td>\n",
              "      <td>0.0</td>\n",
              "      <td>0.0</td>\n",
              "      <td>0.0</td>\n",
              "      <td>0.0</td>\n",
              "      <td>0.0</td>\n",
              "      <td>0.0</td>\n",
              "    </tr>\n",
              "    <tr>\n",
              "      <th>EPI20_026_3_010028</th>\n",
              "      <td>0.0</td>\n",
              "      <td>0.422923</td>\n",
              "      <td>0.466466</td>\n",
              "      <td>0.393894</td>\n",
              "      <td>0.472973</td>\n",
              "      <td>0.495495</td>\n",
              "      <td>0.485485</td>\n",
              "      <td>0.498999</td>\n",
              "      <td>0.495996</td>\n",
              "      <td>0.487988</td>\n",
              "      <td>...</td>\n",
              "      <td>0.0</td>\n",
              "      <td>0.0</td>\n",
              "      <td>0.0</td>\n",
              "      <td>0.0</td>\n",
              "      <td>0.0</td>\n",
              "      <td>0.0</td>\n",
              "      <td>0.0</td>\n",
              "      <td>0.0</td>\n",
              "      <td>0.0</td>\n",
              "      <td>0.0</td>\n",
              "    </tr>\n",
              "    <tr>\n",
              "      <th>EPI20_026_3_010029</th>\n",
              "      <td>0.0</td>\n",
              "      <td>0.422923</td>\n",
              "      <td>0.466466</td>\n",
              "      <td>0.393894</td>\n",
              "      <td>0.472973</td>\n",
              "      <td>0.495495</td>\n",
              "      <td>1.000000</td>\n",
              "      <td>0.498999</td>\n",
              "      <td>0.495996</td>\n",
              "      <td>0.487988</td>\n",
              "      <td>...</td>\n",
              "      <td>0.0</td>\n",
              "      <td>0.0</td>\n",
              "      <td>0.0</td>\n",
              "      <td>0.0</td>\n",
              "      <td>0.0</td>\n",
              "      <td>0.0</td>\n",
              "      <td>0.0</td>\n",
              "      <td>0.0</td>\n",
              "      <td>0.0</td>\n",
              "      <td>0.0</td>\n",
              "    </tr>\n",
              "    <tr>\n",
              "      <th>EPI20_026_3_010030</th>\n",
              "      <td>0.0</td>\n",
              "      <td>0.422923</td>\n",
              "      <td>0.466466</td>\n",
              "      <td>1.000000</td>\n",
              "      <td>1.000000</td>\n",
              "      <td>0.495495</td>\n",
              "      <td>0.485485</td>\n",
              "      <td>0.498999</td>\n",
              "      <td>0.495996</td>\n",
              "      <td>0.487988</td>\n",
              "      <td>...</td>\n",
              "      <td>0.0</td>\n",
              "      <td>0.0</td>\n",
              "      <td>0.0</td>\n",
              "      <td>0.0</td>\n",
              "      <td>0.0</td>\n",
              "      <td>0.0</td>\n",
              "      <td>0.0</td>\n",
              "      <td>0.0</td>\n",
              "      <td>0.0</td>\n",
              "      <td>0.0</td>\n",
              "    </tr>\n",
              "  </tbody>\n",
              "</table>\n",
              "<p>9100 rows × 1415 columns</p>\n",
              "</div>\n",
              "      <button class=\"colab-df-convert\" onclick=\"convertToInteractive('df-49d5c543-1128-48f5-b16f-454941ce4201')\"\n",
              "              title=\"Convert this dataframe to an interactive table.\"\n",
              "              style=\"display:none;\">\n",
              "        \n",
              "  <svg xmlns=\"http://www.w3.org/2000/svg\" height=\"24px\"viewBox=\"0 0 24 24\"\n",
              "       width=\"24px\">\n",
              "    <path d=\"M0 0h24v24H0V0z\" fill=\"none\"/>\n",
              "    <path d=\"M18.56 5.44l.94 2.06.94-2.06 2.06-.94-2.06-.94-.94-2.06-.94 2.06-2.06.94zm-11 1L8.5 8.5l.94-2.06 2.06-.94-2.06-.94L8.5 2.5l-.94 2.06-2.06.94zm10 10l.94 2.06.94-2.06 2.06-.94-2.06-.94-.94-2.06-.94 2.06-2.06.94z\"/><path d=\"M17.41 7.96l-1.37-1.37c-.4-.4-.92-.59-1.43-.59-.52 0-1.04.2-1.43.59L10.3 9.45l-7.72 7.72c-.78.78-.78 2.05 0 2.83L4 21.41c.39.39.9.59 1.41.59.51 0 1.02-.2 1.41-.59l7.78-7.78 2.81-2.81c.8-.78.8-2.07 0-2.86zM5.41 20L4 18.59l7.72-7.72 1.47 1.35L5.41 20z\"/>\n",
              "  </svg>\n",
              "      </button>\n",
              "      \n",
              "  <style>\n",
              "    .colab-df-container {\n",
              "      display:flex;\n",
              "      flex-wrap:wrap;\n",
              "      gap: 12px;\n",
              "    }\n",
              "\n",
              "    .colab-df-convert {\n",
              "      background-color: #E8F0FE;\n",
              "      border: none;\n",
              "      border-radius: 50%;\n",
              "      cursor: pointer;\n",
              "      display: none;\n",
              "      fill: #1967D2;\n",
              "      height: 32px;\n",
              "      padding: 0 0 0 0;\n",
              "      width: 32px;\n",
              "    }\n",
              "\n",
              "    .colab-df-convert:hover {\n",
              "      background-color: #E2EBFA;\n",
              "      box-shadow: 0px 1px 2px rgba(60, 64, 67, 0.3), 0px 1px 3px 1px rgba(60, 64, 67, 0.15);\n",
              "      fill: #174EA6;\n",
              "    }\n",
              "\n",
              "    [theme=dark] .colab-df-convert {\n",
              "      background-color: #3B4455;\n",
              "      fill: #D2E3FC;\n",
              "    }\n",
              "\n",
              "    [theme=dark] .colab-df-convert:hover {\n",
              "      background-color: #434B5C;\n",
              "      box-shadow: 0px 1px 3px 1px rgba(0, 0, 0, 0.15);\n",
              "      filter: drop-shadow(0px 1px 2px rgba(0, 0, 0, 0.3));\n",
              "      fill: #FFFFFF;\n",
              "    }\n",
              "  </style>\n",
              "\n",
              "      <script>\n",
              "        const buttonEl =\n",
              "          document.querySelector('#df-49d5c543-1128-48f5-b16f-454941ce4201 button.colab-df-convert');\n",
              "        buttonEl.style.display =\n",
              "          google.colab.kernel.accessAllowed ? 'block' : 'none';\n",
              "\n",
              "        async function convertToInteractive(key) {\n",
              "          const element = document.querySelector('#df-49d5c543-1128-48f5-b16f-454941ce4201');\n",
              "          const dataTable =\n",
              "            await google.colab.kernel.invokeFunction('convertToInteractive',\n",
              "                                                     [key], {});\n",
              "          if (!dataTable) return;\n",
              "\n",
              "          const docLinkHtml = 'Like what you see? Visit the ' +\n",
              "            '<a target=\"_blank\" href=https://colab.research.google.com/notebooks/data_table.ipynb>data table notebook</a>'\n",
              "            + ' to learn more about interactive tables.';\n",
              "          element.innerHTML = '';\n",
              "          dataTable['output_type'] = 'display_data';\n",
              "          await google.colab.output.renderOutput(dataTable, element);\n",
              "          const docLink = document.createElement('div');\n",
              "          docLink.innerHTML = docLinkHtml;\n",
              "          element.appendChild(docLink);\n",
              "        }\n",
              "      </script>\n",
              "    </div>\n",
              "  </div>\n",
              "  "
            ]
          },
          "metadata": {},
          "execution_count": 3
        }
      ]
    },
    {
      "cell_type": "markdown",
      "source": [
        "## Split"
      ],
      "metadata": {
        "id": "pGYQ7C628Up1"
      }
    },
    {
      "cell_type": "code",
      "source": [
        "X_train, X_test, y_train, y_test = train_test_split(X, y, test_size=0.2, random_state=415)\n",
        "print(X_train.shape, X_test.shape, y_train.shape, y_test.shape)"
      ],
      "metadata": {
        "colab": {
          "base_uri": "https://localhost:8080/"
        },
        "id": "yJn0Tvof8kjq",
        "outputId": "6621350b-1a2a-443f-e0d0-bf2fd0c53b95"
      },
      "execution_count": null,
      "outputs": [
        {
          "output_type": "stream",
          "name": "stdout",
          "text": [
            "(7280, 1415) (1820, 1415) (7280, 1) (1820, 1)\n"
          ]
        }
      ]
    },
    {
      "cell_type": "code",
      "source": [
        "print(f\"\"\"샘플링 전:\n",
        "\n",
        "전체 데이터 개수: {len(y)}\n",
        "전체 데이터 pos: {(y == 1).sum()}\n",
        "전체 데이터 neg: {(y == 0).sum()}\n",
        "\n",
        "train 데이터 개수: {len(y_train)}\n",
        "train 데이터 pos: {(y_train == 1).sum()}\n",
        "train 데이터 neg: {(y_train == 0).sum()}\n",
        "\n",
        "test 데이터 개수: {len(y_test)}\n",
        "test 데이터 pos: {(y_test == 1).sum()}\n",
        "test 데이터 neg: {(y_test == 0).sum()}\n",
        "\"\"\")"
      ],
      "metadata": {
        "colab": {
          "base_uri": "https://localhost:8080/"
        },
        "id": "ETxwO9qhNREe",
        "outputId": "55960bdc-30b0-401f-8d2f-19a695d1fe9f"
      },
      "execution_count": null,
      "outputs": [
        {
          "output_type": "stream",
          "name": "stdout",
          "text": [
            "샘플링 전:\n",
            "\n",
            "전체 데이터 개수: 9100\n",
            "전체 데이터 pos: OP    1013\n",
            "dtype: int64\n",
            "전체 데이터 neg: OP    8087\n",
            "dtype: int64\n",
            "\n",
            "train 데이터 개수: 7280\n",
            "train 데이터 pos: OP    813\n",
            "dtype: int64\n",
            "train 데이터 neg: OP    6467\n",
            "dtype: int64\n",
            "\n",
            "test 데이터 개수: 1820\n",
            "test 데이터 pos: OP    200\n",
            "dtype: int64\n",
            "test 데이터 neg: OP    1620\n",
            "dtype: int64\n",
            "\n"
          ]
        }
      ]
    },
    {
      "cell_type": "markdown",
      "source": [
        "## sampling\n",
        "\n",
        "OverSampling, UnderSampling\n",
        "\n",
        "참고자료: https://ek-koh.github.io/data%20analysis/imbalanced/\n",
        "\n",
        "- 언더 샘플링(Undersampling\n",
        "  - 많은 레이블을 가진 데이터 세트를 적은 레이블을 가진 데이터 세트 수준으로 감소시키는 기법\n",
        "  - ROS 사용\n",
        "    - 설명: https://imbalanced-learn.org/stable/under_sampling.html\n",
        "\n",
        "- 오버 샘플링(Oversampling)\n",
        "  - 적은 레이블을 가진 데이터 세트를 많은 레이블을 가진 데이터 세트 수준으로 증식하여 학습에 충분한 데이터를 확보하는 기법\n",
        "  - 오버 샘플링 방식이 일반적으로 언더 샘플링보다 예측 성능이 더 유리함\n",
        "  - SMOTE 사용\n",
        "    - 설명: https://imbalanced-learn.org/stable/over_sampling.html#smote-adasyn\n",
        "\n",
        "### 테스트 결과\n",
        "\n",
        "- UnderSampling\n",
        " -\n",
        "\n",
        "- OverSampling\n",
        "  - Training error: 0.316\n",
        "  - Accuracy: 0.684\n",
        "  - sensitivity: 0.721\n",
        "  - specificity: 0.647\n",
        "\n",
        "### 결론\n",
        "\n",
        "1. 샘플링하지 않고 사용.\n",
        "2. 편향된 데이터에 맞춘 딥러닝 모델 재설계"
      ],
      "metadata": {
        "id": "dZYwyWab7n_C"
      }
    },
    {
      "cell_type": "code",
      "source": [
        "from imblearn.under_sampling import NearMiss\n",
        "\n",
        "# nm1 = NearMiss(version=3)\n",
        "\n",
        "# # 클래스 불균형 처리를 해주는 imbalanced-learn를 호출\n",
        "from imblearn.over_sampling import SMOTE\n",
        "\n",
        "smote = SMOTE(random_state=415)  # over"
      ],
      "metadata": {
        "id": "qk8sRF-CY9Hq"
      },
      "execution_count": null,
      "outputs": []
    },
    {
      "cell_type": "code",
      "source": [
        "X_sampled, y_sampled = smote.fit_resample(X_train, y_train)\n",
        "# X_sampled, y_sampled = nm1.fit_resample(X_train, y_train)\n",
        "\n",
        "print(\"샘플링 전:\", (y == 0).sum(), (y == 1).sum())\n",
        "\n",
        "print(f\"\"\"\n",
        "전체 데이터 개수: {len(y)}\n",
        "전체 데이터 pos: {(y == 1).sum()}\n",
        "전체 데이터 neg: {(y == 0).sum()}\n",
        "\n",
        "train 데이터 개수: {len(y_sampled)}\n",
        "train 데이터 pos: {(y_sampled == 1).sum()}\n",
        "train 데이터 neg: {(y_sampled == 0).sum()}\n",
        "\n",
        "test 데이터 개수: {len(y_test)}\n",
        "test 데이터 pos: {(y_test == 1).sum()}\n",
        "test 데이터 neg: {(y_test == 0).sum()}\n",
        "\"\"\")"
      ],
      "metadata": {
        "id": "tzmbOFzlZELq",
        "colab": {
          "base_uri": "https://localhost:8080/"
        },
        "outputId": "84478a9f-3005-4766-dd0a-f8e666fd3ba3"
      },
      "execution_count": null,
      "outputs": [
        {
          "output_type": "stream",
          "name": "stdout",
          "text": [
            "샘플링 전: 6266 1883\n",
            "\n",
            "전체 데이터 개수: 8149\n",
            "전체 데이터 pos: 1883\n",
            "전체 데이터 neg: 6266\n",
            "\n",
            "train 데이터 개수: 10016\n",
            "train 데이터 pos: 5008\n",
            "train 데이터 neg: 5008\n",
            "\n",
            "test 데이터 개수: 1630\n",
            "test 데이터 pos: 372\n",
            "test 데이터 neg: 1258\n",
            "\n"
          ]
        }
      ]
    },
    {
      "cell_type": "code",
      "source": [
        "X_train, y_train = X_sampled, y_sampled\n",
        "print(\"샘플링 전:\", (y == 0).sum(), (y == 1).sum())\n",
        "\n",
        "print(f\"\"\"\n",
        "전체 데이터 개수: {len(y)}\n",
        "전체 데이터 pos: {(y == 1).sum()}\n",
        "전체 데이터 neg: {(y == 0).sum()}\n",
        "\n",
        "train 데이터 개수: {len(y_train)}\n",
        "train 데이터 pos: {(y_train == 1).sum()}\n",
        "train 데이터 neg: {(y_train == 0).sum()}\n",
        "\n",
        "test 데이터 개수: {len(y_test)}\n",
        "test 데이터 pos: {(y_test == 1).sum()}\n",
        "test 데이터 neg: {(y_test == 0).sum()}\n",
        "\"\"\")"
      ],
      "metadata": {
        "colab": {
          "base_uri": "https://localhost:8080/"
        },
        "id": "7RsTOo7oIuWU",
        "outputId": "75b95f59-456a-4dc8-dee4-9db85ece9884"
      },
      "execution_count": null,
      "outputs": [
        {
          "output_type": "stream",
          "name": "stdout",
          "text": [
            "샘플링 전: 6266 1883\n",
            "\n",
            "전체 데이터 개수: 8149\n",
            "전체 데이터 pos: 1883\n",
            "전체 데이터 neg: 6266\n",
            "\n",
            "train 데이터 개수: 10016\n",
            "train 데이터 pos: 5008\n",
            "train 데이터 neg: 5008\n",
            "\n",
            "test 데이터 개수: 1630\n",
            "test 데이터 pos: 372\n",
            "test 데이터 neg: 1258\n",
            "\n"
          ]
        }
      ]
    },
    {
      "cell_type": "markdown",
      "source": [
        "## Tuning"
      ],
      "metadata": {
        "id": "zh1et8I_TqAW"
      }
    },
    {
      "cell_type": "code",
      "source": [
        "import IPython\n",
        "\n",
        "!pip install -U keras-tuner\n",
        "import kerastuner as kt"
      ],
      "metadata": {
        "id": "Drp9c2bxbmTM",
        "colab": {
          "base_uri": "https://localhost:8080/"
        },
        "outputId": "86249ed4-a59a-4fe0-8271-0c9bcb311d73"
      },
      "execution_count": null,
      "outputs": [
        {
          "output_type": "stream",
          "name": "stdout",
          "text": [
            "Looking in indexes: https://pypi.org/simple, https://us-python.pkg.dev/colab-wheels/public/simple/\n",
            "Collecting keras-tuner\n",
            "  Downloading keras_tuner-1.3.0-py3-none-any.whl (167 kB)\n",
            "\u001b[?25l     \u001b[90m━━━━━━━━━━━━━━━━━━━━━━━━━━━━━━━━━━━━━━━━\u001b[0m \u001b[32m0.0/167.3 KB\u001b[0m \u001b[31m?\u001b[0m eta \u001b[36m-:--:--\u001b[0m\r\u001b[2K     \u001b[91m━━━━━━━━━━━━━━━━━━━━━━━━━━━━━━━━━━━━━━\u001b[0m\u001b[90m╺\u001b[0m \u001b[32m163.8/167.3 KB\u001b[0m \u001b[31m6.3 MB/s\u001b[0m eta \u001b[36m0:00:01\u001b[0m\r\u001b[2K     \u001b[90m━━━━━━━━━━━━━━━━━━━━━━━━━━━━━━━━━━━━━━━\u001b[0m \u001b[32m167.3/167.3 KB\u001b[0m \u001b[31m4.3 MB/s\u001b[0m eta \u001b[36m0:00:00\u001b[0m\n",
            "\u001b[?25hRequirement already satisfied: packaging in /usr/local/lib/python3.9/dist-packages (from keras-tuner) (23.0)\n",
            "Collecting kt-legacy\n",
            "  Downloading kt_legacy-1.0.4-py3-none-any.whl (9.6 kB)\n",
            "Requirement already satisfied: tensorflow>=2.0 in /usr/local/lib/python3.9/dist-packages (from keras-tuner) (2.11.0)\n",
            "Requirement already satisfied: requests in /usr/local/lib/python3.9/dist-packages (from keras-tuner) (2.27.1)\n",
            "Requirement already satisfied: ipython in /usr/local/lib/python3.9/dist-packages (from keras-tuner) (7.9.0)\n",
            "Requirement already satisfied: protobuf<3.20,>=3.9.2 in /usr/local/lib/python3.9/dist-packages (from tensorflow>=2.0->keras-tuner) (3.19.6)\n",
            "Requirement already satisfied: termcolor>=1.1.0 in /usr/local/lib/python3.9/dist-packages (from tensorflow>=2.0->keras-tuner) (2.2.0)\n",
            "Requirement already satisfied: six>=1.12.0 in /usr/local/lib/python3.9/dist-packages (from tensorflow>=2.0->keras-tuner) (1.16.0)\n",
            "Requirement already satisfied: libclang>=13.0.0 in /usr/local/lib/python3.9/dist-packages (from tensorflow>=2.0->keras-tuner) (15.0.6.1)\n",
            "Requirement already satisfied: keras<2.12,>=2.11.0 in /usr/local/lib/python3.9/dist-packages (from tensorflow>=2.0->keras-tuner) (2.11.0)\n",
            "Requirement already satisfied: absl-py>=1.0.0 in /usr/local/lib/python3.9/dist-packages (from tensorflow>=2.0->keras-tuner) (1.4.0)\n",
            "Requirement already satisfied: astunparse>=1.6.0 in /usr/local/lib/python3.9/dist-packages (from tensorflow>=2.0->keras-tuner) (1.6.3)\n",
            "Requirement already satisfied: tensorboard<2.12,>=2.11 in /usr/local/lib/python3.9/dist-packages (from tensorflow>=2.0->keras-tuner) (2.11.2)\n",
            "Requirement already satisfied: opt-einsum>=2.3.2 in /usr/local/lib/python3.9/dist-packages (from tensorflow>=2.0->keras-tuner) (3.3.0)\n",
            "Requirement already satisfied: gast<=0.4.0,>=0.2.1 in /usr/local/lib/python3.9/dist-packages (from tensorflow>=2.0->keras-tuner) (0.4.0)\n",
            "Requirement already satisfied: tensorflow-estimator<2.12,>=2.11.0 in /usr/local/lib/python3.9/dist-packages (from tensorflow>=2.0->keras-tuner) (2.11.0)\n",
            "Requirement already satisfied: h5py>=2.9.0 in /usr/local/lib/python3.9/dist-packages (from tensorflow>=2.0->keras-tuner) (3.8.0)\n",
            "Requirement already satisfied: wrapt>=1.11.0 in /usr/local/lib/python3.9/dist-packages (from tensorflow>=2.0->keras-tuner) (1.15.0)\n",
            "Requirement already satisfied: numpy>=1.20 in /usr/local/lib/python3.9/dist-packages (from tensorflow>=2.0->keras-tuner) (1.24.2)\n",
            "Requirement already satisfied: flatbuffers>=2.0 in /usr/local/lib/python3.9/dist-packages (from tensorflow>=2.0->keras-tuner) (23.3.3)\n",
            "Requirement already satisfied: setuptools in /usr/local/lib/python3.9/dist-packages (from tensorflow>=2.0->keras-tuner) (67.6.0)\n",
            "Requirement already satisfied: google-pasta>=0.1.1 in /usr/local/lib/python3.9/dist-packages (from tensorflow>=2.0->keras-tuner) (0.2.0)\n",
            "Requirement already satisfied: typing-extensions>=3.6.6 in /usr/local/lib/python3.9/dist-packages (from tensorflow>=2.0->keras-tuner) (4.5.0)\n",
            "Requirement already satisfied: tensorflow-io-gcs-filesystem>=0.23.1 in /usr/local/lib/python3.9/dist-packages (from tensorflow>=2.0->keras-tuner) (0.31.0)\n",
            "Requirement already satisfied: grpcio<2.0,>=1.24.3 in /usr/local/lib/python3.9/dist-packages (from tensorflow>=2.0->keras-tuner) (1.51.3)\n",
            "Requirement already satisfied: pexpect in /usr/local/lib/python3.9/dist-packages (from ipython->keras-tuner) (4.8.0)\n",
            "Requirement already satisfied: traitlets>=4.2 in /usr/local/lib/python3.9/dist-packages (from ipython->keras-tuner) (5.7.1)\n",
            "Requirement already satisfied: backcall in /usr/local/lib/python3.9/dist-packages (from ipython->keras-tuner) (0.2.0)\n",
            "Requirement already satisfied: decorator in /usr/local/lib/python3.9/dist-packages (from ipython->keras-tuner) (4.4.2)\n",
            "Requirement already satisfied: pickleshare in /usr/local/lib/python3.9/dist-packages (from ipython->keras-tuner) (0.7.5)\n",
            "Requirement already satisfied: prompt-toolkit<2.1.0,>=2.0.0 in /usr/local/lib/python3.9/dist-packages (from ipython->keras-tuner) (2.0.10)\n",
            "Collecting jedi>=0.10\n",
            "  Downloading jedi-0.18.2-py2.py3-none-any.whl (1.6 MB)\n",
            "\u001b[2K     \u001b[90m━━━━━━━━━━━━━━━━━━━━━━━━━━━━━━━━━━━━━━━━\u001b[0m \u001b[32m1.6/1.6 MB\u001b[0m \u001b[31m28.3 MB/s\u001b[0m eta \u001b[36m0:00:00\u001b[0m\n",
            "\u001b[?25hRequirement already satisfied: pygments in /usr/local/lib/python3.9/dist-packages (from ipython->keras-tuner) (2.6.1)\n",
            "Requirement already satisfied: certifi>=2017.4.17 in /usr/local/lib/python3.9/dist-packages (from requests->keras-tuner) (2022.12.7)\n",
            "Requirement already satisfied: charset-normalizer~=2.0.0 in /usr/local/lib/python3.9/dist-packages (from requests->keras-tuner) (2.0.12)\n",
            "Requirement already satisfied: idna<4,>=2.5 in /usr/local/lib/python3.9/dist-packages (from requests->keras-tuner) (3.4)\n",
            "Requirement already satisfied: urllib3<1.27,>=1.21.1 in /usr/local/lib/python3.9/dist-packages (from requests->keras-tuner) (1.26.15)\n",
            "Requirement already satisfied: wheel<1.0,>=0.23.0 in /usr/local/lib/python3.9/dist-packages (from astunparse>=1.6.0->tensorflow>=2.0->keras-tuner) (0.40.0)\n",
            "Requirement already satisfied: parso<0.9.0,>=0.8.0 in /usr/local/lib/python3.9/dist-packages (from jedi>=0.10->ipython->keras-tuner) (0.8.3)\n",
            "Requirement already satisfied: wcwidth in /usr/local/lib/python3.9/dist-packages (from prompt-toolkit<2.1.0,>=2.0.0->ipython->keras-tuner) (0.2.6)\n",
            "Requirement already satisfied: tensorboard-plugin-wit>=1.6.0 in /usr/local/lib/python3.9/dist-packages (from tensorboard<2.12,>=2.11->tensorflow>=2.0->keras-tuner) (1.8.1)\n",
            "Requirement already satisfied: google-auth<3,>=1.6.3 in /usr/local/lib/python3.9/dist-packages (from tensorboard<2.12,>=2.11->tensorflow>=2.0->keras-tuner) (2.16.2)\n",
            "Requirement already satisfied: markdown>=2.6.8 in /usr/local/lib/python3.9/dist-packages (from tensorboard<2.12,>=2.11->tensorflow>=2.0->keras-tuner) (3.4.1)\n",
            "Requirement already satisfied: tensorboard-data-server<0.7.0,>=0.6.0 in /usr/local/lib/python3.9/dist-packages (from tensorboard<2.12,>=2.11->tensorflow>=2.0->keras-tuner) (0.6.1)\n",
            "Requirement already satisfied: werkzeug>=1.0.1 in /usr/local/lib/python3.9/dist-packages (from tensorboard<2.12,>=2.11->tensorflow>=2.0->keras-tuner) (2.2.3)\n",
            "Requirement already satisfied: google-auth-oauthlib<0.5,>=0.4.1 in /usr/local/lib/python3.9/dist-packages (from tensorboard<2.12,>=2.11->tensorflow>=2.0->keras-tuner) (0.4.6)\n",
            "Requirement already satisfied: ptyprocess>=0.5 in /usr/local/lib/python3.9/dist-packages (from pexpect->ipython->keras-tuner) (0.7.0)\n",
            "Requirement already satisfied: cachetools<6.0,>=2.0.0 in /usr/local/lib/python3.9/dist-packages (from google-auth<3,>=1.6.3->tensorboard<2.12,>=2.11->tensorflow>=2.0->keras-tuner) (5.3.0)\n",
            "Requirement already satisfied: rsa<5,>=3.1.4 in /usr/local/lib/python3.9/dist-packages (from google-auth<3,>=1.6.3->tensorboard<2.12,>=2.11->tensorflow>=2.0->keras-tuner) (4.9)\n",
            "Requirement already satisfied: pyasn1-modules>=0.2.1 in /usr/local/lib/python3.9/dist-packages (from google-auth<3,>=1.6.3->tensorboard<2.12,>=2.11->tensorflow>=2.0->keras-tuner) (0.2.8)\n",
            "Requirement already satisfied: requests-oauthlib>=0.7.0 in /usr/local/lib/python3.9/dist-packages (from google-auth-oauthlib<0.5,>=0.4.1->tensorboard<2.12,>=2.11->tensorflow>=2.0->keras-tuner) (1.3.1)\n",
            "Requirement already satisfied: importlib-metadata>=4.4 in /usr/local/lib/python3.9/dist-packages (from markdown>=2.6.8->tensorboard<2.12,>=2.11->tensorflow>=2.0->keras-tuner) (6.1.0)\n",
            "Requirement already satisfied: MarkupSafe>=2.1.1 in /usr/local/lib/python3.9/dist-packages (from werkzeug>=1.0.1->tensorboard<2.12,>=2.11->tensorflow>=2.0->keras-tuner) (2.1.2)\n",
            "Requirement already satisfied: zipp>=0.5 in /usr/local/lib/python3.9/dist-packages (from importlib-metadata>=4.4->markdown>=2.6.8->tensorboard<2.12,>=2.11->tensorflow>=2.0->keras-tuner) (3.15.0)\n",
            "Requirement already satisfied: pyasn1<0.5.0,>=0.4.6 in /usr/local/lib/python3.9/dist-packages (from pyasn1-modules>=0.2.1->google-auth<3,>=1.6.3->tensorboard<2.12,>=2.11->tensorflow>=2.0->keras-tuner) (0.4.8)\n",
            "Requirement already satisfied: oauthlib>=3.0.0 in /usr/local/lib/python3.9/dist-packages (from requests-oauthlib>=0.7.0->google-auth-oauthlib<0.5,>=0.4.1->tensorboard<2.12,>=2.11->tensorflow>=2.0->keras-tuner) (3.2.2)\n",
            "Installing collected packages: kt-legacy, jedi, keras-tuner\n",
            "Successfully installed jedi-0.18.2 keras-tuner-1.3.0 kt-legacy-1.0.4\n"
          ]
        },
        {
          "output_type": "stream",
          "name": "stderr",
          "text": [
            "<ipython-input-8-904b7ce66818>:4: DeprecationWarning: `import kerastuner` is deprecated, please use `import keras_tuner`.\n",
            "  import kerastuner as kt\n"
          ]
        }
      ]
    },
    {
      "cell_type": "code",
      "source": [
        "from kerastuner import HyperModel, Objective\n",
        "\n",
        "class RegressionHyperModel(HyperModel):\n",
        "  def __init__(self, input_shape):\n",
        "    self.input_shape = input_shape\n",
        "\n",
        "class ClearTrainingOutput(Callback):\n",
        "  def on_train_end(*args, **kwargs):\n",
        "    IPython.display.clear_output(wait = True)"
      ],
      "metadata": {
        "id": "tAddtoMxdKJT"
      },
      "execution_count": null,
      "outputs": []
    },
    {
      "cell_type": "code",
      "source": [
        "# class ClearTrainingOutput(keras.callbacks.Callback):\n",
        "#   def on_train_end(*args, **kwargs):\n",
        "#     IPython.display.clear_output(wait = True)\n",
        "\n",
        "# 검증 데이터 손실이 5회 증가하면 정해진 에포크가 도달하지 못하였더라도 학습을 조기 종료(Early Stopping)\n",
        "# es = EarlyStopping(monitor='val_loss', mode='min', verbose=1, patience=5)\n",
        "es = EarlyStopping(monitor='', mode='min', verbose=1, patience=5)\n",
        "\n",
        "# 검증 데이터의 정확도(val_acc)가 이전보다 좋아질 경우에만 모델을 저장\n",
        "mc = ModelCheckpoint('best_model.h5', monitor='val_acc', mode='max', verbose=1, save_best_only=True)\n",
        "\n",
        "rc = Recall()"
      ],
      "metadata": {
        "id": "VpbbkmQ0pq4x"
      },
      "execution_count": null,
      "outputs": []
    },
    {
      "cell_type": "code",
      "source": [
        "def model_builder(hp):\n",
        "  model = Sequential()\n",
        "  # model.add(Dense(12, input_dim=61, activation='relu'))\n",
        "\n",
        "  # # Tune the number of units in the first Dense layer\n",
        "  # # Choose an optimal value between 32-512\n",
        "  hp_units = hp.Int('units', min_value = 4, max_value = 256, step = 4)\n",
        "\n",
        "  model.add(\n",
        "      Dense(units = hp_units, activation='relu'))\n",
        "\n",
        "  model.add(Dropout(0.01))\n",
        "  model.add(\n",
        "      Dense(units = hp_units, activation='relu'))\n",
        "\n",
        "  model.add(Dropout(0.01))\n",
        "  model.add(\n",
        "      Dense(units = hp_units, activation='relu'))\n",
        "\n",
        "  # model.add(Dropout(0.01))\n",
        "  # model.add(\n",
        "  #     Dense(units = hp_units, activation='relu'))\n",
        "\n",
        "  # model.add(Dropout(0.01))\n",
        "  # model.add(\n",
        "  #     Dense(units = hp_units, activation='relu'))\n",
        "\n",
        "  # model.add(Dropout(0.01))\n",
        "  # model.add(\n",
        "  #     Dense(units = hp_units, activation='relu'))\n",
        "\n",
        "  # model.add(Dropout(0.01))\n",
        "  # model.add(\n",
        "  #     Dense(units = hp_units, activation='relu'))\n",
        "\n",
        "  # model.add(Dropout(0.01))\n",
        "  # model.add(\n",
        "  #     Dense(units = hp_units, activation='relu'))\n",
        "\n",
        "  model.add(Dense(1, activation='sigmoid')) # 출력층\n",
        "\n",
        "  hp_learning_rate = hp.Choice('learning_rate', values = [1e-2, 1e-3, 1e-4])\n",
        "\n",
        "  model.compile(optimizer = Adam(learning_rate = hp_learning_rate),\n",
        "                loss=\"binary_crossentropy\",\n",
        "                metrics = ['accuracy']\n",
        "                # metrics = ['binary_accuracy']\n",
        "                # metrics = ['binary_accuracy', rc])\n",
        "                )\n",
        "  # model.compile(optimizer='rmsprop', loss='mse', metrics=['mse'])\n",
        "\n",
        "  return model"
      ],
      "metadata": {
        "id": "Xp4hJHvubmIC"
      },
      "execution_count": null,
      "outputs": []
    },
    {
      "cell_type": "code",
      "source": [
        "input_shape = (X_train.shape[1],)\n",
        "hypermodel = RegressionHyperModel(input_shape)\n",
        "\n",
        "# tuner = kt.RandomSearch(model_builder,\n",
        "#                     #  objective = 'val_accuracy',\n",
        "#                      objective = Objective(\"val_sensitivity\", direction=\"max\"),\n",
        "#                       # objective = 'Recall',\n",
        "#                      max_epochs = 256,\n",
        "#                      hyperband_iterations=128,\n",
        "#                      directory = './',\n",
        "#                      project_name = 'HyperTension_220919_16')\n",
        "\n",
        "tuner = kt.Hyperband(model_builder,\n",
        "                     objective = 'val_accuracy',\n",
        "                    #  objective = Objective(rc, direction=\"max\"),\n",
        "                      # objective = 'Recall',\n",
        "                     max_epochs = 256,\n",
        "                     hyperband_iterations=128,\n",
        "                     directory = './',\n",
        "                     project_name = 'HyperTension_220919_18')"
      ],
      "metadata": {
        "id": "YORHpK7Lc281"
      },
      "execution_count": null,
      "outputs": []
    },
    {
      "cell_type": "code",
      "source": [
        "tuner.search(X_train, y_train,\n",
        "             validation_data = (X_test, y_test),\n",
        "             epochs = 256,\n",
        "             callbacks = [ClearTrainingOutput(), es])\n",
        "\n",
        "# Get the optimal hyperparameters\n",
        "best_hps = tuner.get_best_hyperparameters()[0]\n",
        "\n",
        "print(f\"\"\"The hyperparameter search is complete.\n",
        "units: {best_hps.get('units')}\n",
        "learning rate: {best_hps.get('learning_rate')}\n",
        "\"\"\")"
      ],
      "metadata": {
        "colab": {
          "base_uri": "https://localhost:8080/",
          "height": 712
        },
        "id": "mXWCHjxXdStz",
        "outputId": "f75a1283-7f80-44ee-d141-c52750de852e"
      },
      "execution_count": null,
      "outputs": [
        {
          "output_type": "stream",
          "name": "stdout",
          "text": [
            "Trial 231 Complete [00h 00m 06s]\n",
            "val_accuracy: 0.8901098966598511\n",
            "\n",
            "Best val_accuracy So Far: 0.8906593322753906\n",
            "Total elapsed time: 00h 25m 28s\n",
            "\n",
            "Search: Running Trial #232\n",
            "\n",
            "Value             |Best Value So Far |Hyperparameter\n",
            "88                |208               |units\n",
            "0.0001            |0.0001            |learning_rate\n",
            "2                 |2                 |tuner/epochs\n",
            "0                 |0                 |tuner/initial_epoch\n",
            "5                 |5                 |tuner/bracket\n",
            "0                 |0                 |tuner/round\n",
            "\n",
            "Epoch 1/2\n"
          ]
        },
        {
          "output_type": "error",
          "ename": "KeyboardInterrupt",
          "evalue": "ignored",
          "traceback": [
            "\u001b[0;31m---------------------------------------------------------------------------\u001b[0m",
            "\u001b[0;31mKeyboardInterrupt\u001b[0m                         Traceback (most recent call last)",
            "\u001b[0;32m<ipython-input-13-fe363a59a7f2>\u001b[0m in \u001b[0;36m<module>\u001b[0;34m\u001b[0m\n\u001b[0;32m----> 1\u001b[0;31m tuner.search(X_train, y_train,\n\u001b[0m\u001b[1;32m      2\u001b[0m              \u001b[0mvalidation_data\u001b[0m \u001b[0;34m=\u001b[0m \u001b[0;34m(\u001b[0m\u001b[0mX_test\u001b[0m\u001b[0;34m,\u001b[0m \u001b[0my_test\u001b[0m\u001b[0;34m)\u001b[0m\u001b[0;34m,\u001b[0m\u001b[0;34m\u001b[0m\u001b[0;34m\u001b[0m\u001b[0m\n\u001b[1;32m      3\u001b[0m              \u001b[0mepochs\u001b[0m \u001b[0;34m=\u001b[0m \u001b[0;36m256\u001b[0m\u001b[0;34m,\u001b[0m\u001b[0;34m\u001b[0m\u001b[0;34m\u001b[0m\u001b[0m\n\u001b[1;32m      4\u001b[0m              callbacks = [ClearTrainingOutput(), es])\n\u001b[1;32m      5\u001b[0m \u001b[0;34m\u001b[0m\u001b[0m\n",
            "\u001b[0;32m/usr/local/lib/python3.9/dist-packages/keras_tuner/engine/base_tuner.py\u001b[0m in \u001b[0;36msearch\u001b[0;34m(self, *fit_args, **fit_kwargs)\u001b[0m\n\u001b[1;32m    224\u001b[0m \u001b[0;34m\u001b[0m\u001b[0m\n\u001b[1;32m    225\u001b[0m             \u001b[0mself\u001b[0m\u001b[0;34m.\u001b[0m\u001b[0mon_trial_begin\u001b[0m\u001b[0;34m(\u001b[0m\u001b[0mtrial\u001b[0m\u001b[0;34m)\u001b[0m\u001b[0;34m\u001b[0m\u001b[0;34m\u001b[0m\u001b[0m\n\u001b[0;32m--> 226\u001b[0;31m             \u001b[0mself\u001b[0m\u001b[0;34m.\u001b[0m\u001b[0m_try_run_and_update_trial\u001b[0m\u001b[0;34m(\u001b[0m\u001b[0mtrial\u001b[0m\u001b[0;34m,\u001b[0m \u001b[0;34m*\u001b[0m\u001b[0mfit_args\u001b[0m\u001b[0;34m,\u001b[0m \u001b[0;34m**\u001b[0m\u001b[0mfit_kwargs\u001b[0m\u001b[0;34m)\u001b[0m\u001b[0;34m\u001b[0m\u001b[0;34m\u001b[0m\u001b[0m\n\u001b[0m\u001b[1;32m    227\u001b[0m             \u001b[0mself\u001b[0m\u001b[0;34m.\u001b[0m\u001b[0mon_trial_end\u001b[0m\u001b[0;34m(\u001b[0m\u001b[0mtrial\u001b[0m\u001b[0;34m)\u001b[0m\u001b[0;34m\u001b[0m\u001b[0;34m\u001b[0m\u001b[0m\n\u001b[1;32m    228\u001b[0m         \u001b[0mself\u001b[0m\u001b[0;34m.\u001b[0m\u001b[0mon_search_end\u001b[0m\u001b[0;34m(\u001b[0m\u001b[0;34m)\u001b[0m\u001b[0;34m\u001b[0m\u001b[0;34m\u001b[0m\u001b[0m\n",
            "\u001b[0;32m/usr/local/lib/python3.9/dist-packages/keras_tuner/engine/base_tuner.py\u001b[0m in \u001b[0;36m_try_run_and_update_trial\u001b[0;34m(self, trial, *fit_args, **fit_kwargs)\u001b[0m\n\u001b[1;32m    264\u001b[0m     \u001b[0;32mdef\u001b[0m \u001b[0m_try_run_and_update_trial\u001b[0m\u001b[0;34m(\u001b[0m\u001b[0mself\u001b[0m\u001b[0;34m,\u001b[0m \u001b[0mtrial\u001b[0m\u001b[0;34m,\u001b[0m \u001b[0;34m*\u001b[0m\u001b[0mfit_args\u001b[0m\u001b[0;34m,\u001b[0m \u001b[0;34m**\u001b[0m\u001b[0mfit_kwargs\u001b[0m\u001b[0;34m)\u001b[0m\u001b[0;34m:\u001b[0m\u001b[0;34m\u001b[0m\u001b[0;34m\u001b[0m\u001b[0m\n\u001b[1;32m    265\u001b[0m         \u001b[0;32mtry\u001b[0m\u001b[0;34m:\u001b[0m\u001b[0;34m\u001b[0m\u001b[0;34m\u001b[0m\u001b[0m\n\u001b[0;32m--> 266\u001b[0;31m             \u001b[0mself\u001b[0m\u001b[0;34m.\u001b[0m\u001b[0m_run_and_update_trial\u001b[0m\u001b[0;34m(\u001b[0m\u001b[0mtrial\u001b[0m\u001b[0;34m,\u001b[0m \u001b[0;34m*\u001b[0m\u001b[0mfit_args\u001b[0m\u001b[0;34m,\u001b[0m \u001b[0;34m**\u001b[0m\u001b[0mfit_kwargs\u001b[0m\u001b[0;34m)\u001b[0m\u001b[0;34m\u001b[0m\u001b[0;34m\u001b[0m\u001b[0m\n\u001b[0m\u001b[1;32m    267\u001b[0m             \u001b[0mtrial\u001b[0m\u001b[0;34m.\u001b[0m\u001b[0mstatus\u001b[0m \u001b[0;34m=\u001b[0m \u001b[0mtrial_module\u001b[0m\u001b[0;34m.\u001b[0m\u001b[0mTrialStatus\u001b[0m\u001b[0;34m.\u001b[0m\u001b[0mCOMPLETED\u001b[0m\u001b[0;34m\u001b[0m\u001b[0;34m\u001b[0m\u001b[0m\n\u001b[1;32m    268\u001b[0m             \u001b[0;32mreturn\u001b[0m\u001b[0;34m\u001b[0m\u001b[0;34m\u001b[0m\u001b[0m\n",
            "\u001b[0;32m/usr/local/lib/python3.9/dist-packages/keras_tuner/engine/base_tuner.py\u001b[0m in \u001b[0;36m_run_and_update_trial\u001b[0;34m(self, trial, *fit_args, **fit_kwargs)\u001b[0m\n\u001b[1;32m    229\u001b[0m \u001b[0;34m\u001b[0m\u001b[0m\n\u001b[1;32m    230\u001b[0m     \u001b[0;32mdef\u001b[0m \u001b[0m_run_and_update_trial\u001b[0m\u001b[0;34m(\u001b[0m\u001b[0mself\u001b[0m\u001b[0;34m,\u001b[0m \u001b[0mtrial\u001b[0m\u001b[0;34m,\u001b[0m \u001b[0;34m*\u001b[0m\u001b[0mfit_args\u001b[0m\u001b[0;34m,\u001b[0m \u001b[0;34m**\u001b[0m\u001b[0mfit_kwargs\u001b[0m\u001b[0;34m)\u001b[0m\u001b[0;34m:\u001b[0m\u001b[0;34m\u001b[0m\u001b[0;34m\u001b[0m\u001b[0m\n\u001b[0;32m--> 231\u001b[0;31m         \u001b[0mresults\u001b[0m \u001b[0;34m=\u001b[0m \u001b[0mself\u001b[0m\u001b[0;34m.\u001b[0m\u001b[0mrun_trial\u001b[0m\u001b[0;34m(\u001b[0m\u001b[0mtrial\u001b[0m\u001b[0;34m,\u001b[0m \u001b[0;34m*\u001b[0m\u001b[0mfit_args\u001b[0m\u001b[0;34m,\u001b[0m \u001b[0;34m**\u001b[0m\u001b[0mfit_kwargs\u001b[0m\u001b[0;34m)\u001b[0m\u001b[0;34m\u001b[0m\u001b[0;34m\u001b[0m\u001b[0m\n\u001b[0m\u001b[1;32m    232\u001b[0m         if self.oracle.get_trial(trial.trial_id).metrics.exists(\n\u001b[1;32m    233\u001b[0m             \u001b[0mself\u001b[0m\u001b[0;34m.\u001b[0m\u001b[0moracle\u001b[0m\u001b[0;34m.\u001b[0m\u001b[0mobjective\u001b[0m\u001b[0;34m.\u001b[0m\u001b[0mname\u001b[0m\u001b[0;34m\u001b[0m\u001b[0;34m\u001b[0m\u001b[0m\n",
            "\u001b[0;32m/usr/local/lib/python3.9/dist-packages/keras_tuner/tuners/hyperband.py\u001b[0m in \u001b[0;36mrun_trial\u001b[0;34m(self, trial, *fit_args, **fit_kwargs)\u001b[0m\n\u001b[1;32m    417\u001b[0m             \u001b[0mfit_kwargs\u001b[0m\u001b[0;34m[\u001b[0m\u001b[0;34m\"epochs\"\u001b[0m\u001b[0;34m]\u001b[0m \u001b[0;34m=\u001b[0m \u001b[0mhp\u001b[0m\u001b[0;34m.\u001b[0m\u001b[0mvalues\u001b[0m\u001b[0;34m[\u001b[0m\u001b[0;34m\"tuner/epochs\"\u001b[0m\u001b[0;34m]\u001b[0m\u001b[0;34m\u001b[0m\u001b[0;34m\u001b[0m\u001b[0m\n\u001b[1;32m    418\u001b[0m             \u001b[0mfit_kwargs\u001b[0m\u001b[0;34m[\u001b[0m\u001b[0;34m\"initial_epoch\"\u001b[0m\u001b[0;34m]\u001b[0m \u001b[0;34m=\u001b[0m \u001b[0mhp\u001b[0m\u001b[0;34m.\u001b[0m\u001b[0mvalues\u001b[0m\u001b[0;34m[\u001b[0m\u001b[0;34m\"tuner/initial_epoch\"\u001b[0m\u001b[0;34m]\u001b[0m\u001b[0;34m\u001b[0m\u001b[0;34m\u001b[0m\u001b[0m\n\u001b[0;32m--> 419\u001b[0;31m         \u001b[0;32mreturn\u001b[0m \u001b[0msuper\u001b[0m\u001b[0;34m(\u001b[0m\u001b[0;34m)\u001b[0m\u001b[0;34m.\u001b[0m\u001b[0mrun_trial\u001b[0m\u001b[0;34m(\u001b[0m\u001b[0mtrial\u001b[0m\u001b[0;34m,\u001b[0m \u001b[0;34m*\u001b[0m\u001b[0mfit_args\u001b[0m\u001b[0;34m,\u001b[0m \u001b[0;34m**\u001b[0m\u001b[0mfit_kwargs\u001b[0m\u001b[0;34m)\u001b[0m\u001b[0;34m\u001b[0m\u001b[0;34m\u001b[0m\u001b[0m\n\u001b[0m\u001b[1;32m    420\u001b[0m \u001b[0;34m\u001b[0m\u001b[0m\n\u001b[1;32m    421\u001b[0m     \u001b[0;32mdef\u001b[0m \u001b[0m_build_hypermodel\u001b[0m\u001b[0;34m(\u001b[0m\u001b[0mself\u001b[0m\u001b[0;34m,\u001b[0m \u001b[0mhp\u001b[0m\u001b[0;34m)\u001b[0m\u001b[0;34m:\u001b[0m\u001b[0;34m\u001b[0m\u001b[0;34m\u001b[0m\u001b[0m\n",
            "\u001b[0;32m/usr/local/lib/python3.9/dist-packages/keras_tuner/engine/tuner.py\u001b[0m in \u001b[0;36mrun_trial\u001b[0;34m(self, trial, *args, **kwargs)\u001b[0m\n\u001b[1;32m    285\u001b[0m             \u001b[0mcallbacks\u001b[0m\u001b[0;34m.\u001b[0m\u001b[0mappend\u001b[0m\u001b[0;34m(\u001b[0m\u001b[0mmodel_checkpoint\u001b[0m\u001b[0;34m)\u001b[0m\u001b[0;34m\u001b[0m\u001b[0;34m\u001b[0m\u001b[0m\n\u001b[1;32m    286\u001b[0m             \u001b[0mcopied_kwargs\u001b[0m\u001b[0;34m[\u001b[0m\u001b[0;34m\"callbacks\"\u001b[0m\u001b[0;34m]\u001b[0m \u001b[0;34m=\u001b[0m \u001b[0mcallbacks\u001b[0m\u001b[0;34m\u001b[0m\u001b[0;34m\u001b[0m\u001b[0m\n\u001b[0;32m--> 287\u001b[0;31m             \u001b[0mobj_value\u001b[0m \u001b[0;34m=\u001b[0m \u001b[0mself\u001b[0m\u001b[0;34m.\u001b[0m\u001b[0m_build_and_fit_model\u001b[0m\u001b[0;34m(\u001b[0m\u001b[0mtrial\u001b[0m\u001b[0;34m,\u001b[0m \u001b[0;34m*\u001b[0m\u001b[0margs\u001b[0m\u001b[0;34m,\u001b[0m \u001b[0;34m**\u001b[0m\u001b[0mcopied_kwargs\u001b[0m\u001b[0;34m)\u001b[0m\u001b[0;34m\u001b[0m\u001b[0;34m\u001b[0m\u001b[0m\n\u001b[0m\u001b[1;32m    288\u001b[0m \u001b[0;34m\u001b[0m\u001b[0m\n\u001b[1;32m    289\u001b[0m             \u001b[0mhistories\u001b[0m\u001b[0;34m.\u001b[0m\u001b[0mappend\u001b[0m\u001b[0;34m(\u001b[0m\u001b[0mobj_value\u001b[0m\u001b[0;34m)\u001b[0m\u001b[0;34m\u001b[0m\u001b[0;34m\u001b[0m\u001b[0m\n",
            "\u001b[0;32m/usr/local/lib/python3.9/dist-packages/keras_tuner/engine/tuner.py\u001b[0m in \u001b[0;36m_build_and_fit_model\u001b[0;34m(self, trial, *args, **kwargs)\u001b[0m\n\u001b[1;32m    212\u001b[0m         \u001b[0mhp\u001b[0m \u001b[0;34m=\u001b[0m \u001b[0mtrial\u001b[0m\u001b[0;34m.\u001b[0m\u001b[0mhyperparameters\u001b[0m\u001b[0;34m\u001b[0m\u001b[0;34m\u001b[0m\u001b[0m\n\u001b[1;32m    213\u001b[0m         \u001b[0mmodel\u001b[0m \u001b[0;34m=\u001b[0m \u001b[0mself\u001b[0m\u001b[0;34m.\u001b[0m\u001b[0m_try_build\u001b[0m\u001b[0;34m(\u001b[0m\u001b[0mhp\u001b[0m\u001b[0;34m)\u001b[0m\u001b[0;34m\u001b[0m\u001b[0;34m\u001b[0m\u001b[0m\n\u001b[0;32m--> 214\u001b[0;31m         \u001b[0mresults\u001b[0m \u001b[0;34m=\u001b[0m \u001b[0mself\u001b[0m\u001b[0;34m.\u001b[0m\u001b[0mhypermodel\u001b[0m\u001b[0;34m.\u001b[0m\u001b[0mfit\u001b[0m\u001b[0;34m(\u001b[0m\u001b[0mhp\u001b[0m\u001b[0;34m,\u001b[0m \u001b[0mmodel\u001b[0m\u001b[0;34m,\u001b[0m \u001b[0;34m*\u001b[0m\u001b[0margs\u001b[0m\u001b[0;34m,\u001b[0m \u001b[0;34m**\u001b[0m\u001b[0mkwargs\u001b[0m\u001b[0;34m)\u001b[0m\u001b[0;34m\u001b[0m\u001b[0;34m\u001b[0m\u001b[0m\n\u001b[0m\u001b[1;32m    215\u001b[0m         tuner_utils.validate_trial_results(\n\u001b[1;32m    216\u001b[0m             \u001b[0mresults\u001b[0m\u001b[0;34m,\u001b[0m \u001b[0mself\u001b[0m\u001b[0;34m.\u001b[0m\u001b[0moracle\u001b[0m\u001b[0;34m.\u001b[0m\u001b[0mobjective\u001b[0m\u001b[0;34m,\u001b[0m \u001b[0;34m\"HyperModel.fit()\"\u001b[0m\u001b[0;34m\u001b[0m\u001b[0;34m\u001b[0m\u001b[0m\n",
            "\u001b[0;32m/usr/local/lib/python3.9/dist-packages/keras_tuner/engine/hypermodel.py\u001b[0m in \u001b[0;36mfit\u001b[0;34m(self, hp, model, *args, **kwargs)\u001b[0m\n\u001b[1;32m    142\u001b[0m             \u001b[0mIf\u001b[0m \u001b[0;32mreturn\u001b[0m \u001b[0ma\u001b[0m \u001b[0mfloat\u001b[0m\u001b[0;34m,\u001b[0m \u001b[0mit\u001b[0m \u001b[0mshould\u001b[0m \u001b[0mbe\u001b[0m \u001b[0mthe\u001b[0m\u001b[0;31m \u001b[0m\u001b[0;31m`\u001b[0m\u001b[0mobjective\u001b[0m\u001b[0;31m`\u001b[0m \u001b[0mvalue\u001b[0m\u001b[0;34m.\u001b[0m\u001b[0;34m\u001b[0m\u001b[0;34m\u001b[0m\u001b[0m\n\u001b[1;32m    143\u001b[0m         \"\"\"\n\u001b[0;32m--> 144\u001b[0;31m         \u001b[0;32mreturn\u001b[0m \u001b[0mmodel\u001b[0m\u001b[0;34m.\u001b[0m\u001b[0mfit\u001b[0m\u001b[0;34m(\u001b[0m\u001b[0;34m*\u001b[0m\u001b[0margs\u001b[0m\u001b[0;34m,\u001b[0m \u001b[0;34m**\u001b[0m\u001b[0mkwargs\u001b[0m\u001b[0;34m)\u001b[0m\u001b[0;34m\u001b[0m\u001b[0;34m\u001b[0m\u001b[0m\n\u001b[0m\u001b[1;32m    145\u001b[0m \u001b[0;34m\u001b[0m\u001b[0m\n\u001b[1;32m    146\u001b[0m \u001b[0;34m\u001b[0m\u001b[0m\n",
            "\u001b[0;32m/usr/local/lib/python3.9/dist-packages/keras/utils/traceback_utils.py\u001b[0m in \u001b[0;36merror_handler\u001b[0;34m(*args, **kwargs)\u001b[0m\n\u001b[1;32m     63\u001b[0m         \u001b[0mfiltered_tb\u001b[0m \u001b[0;34m=\u001b[0m \u001b[0;32mNone\u001b[0m\u001b[0;34m\u001b[0m\u001b[0;34m\u001b[0m\u001b[0m\n\u001b[1;32m     64\u001b[0m         \u001b[0;32mtry\u001b[0m\u001b[0;34m:\u001b[0m\u001b[0;34m\u001b[0m\u001b[0;34m\u001b[0m\u001b[0m\n\u001b[0;32m---> 65\u001b[0;31m             \u001b[0;32mreturn\u001b[0m \u001b[0mfn\u001b[0m\u001b[0;34m(\u001b[0m\u001b[0;34m*\u001b[0m\u001b[0margs\u001b[0m\u001b[0;34m,\u001b[0m \u001b[0;34m**\u001b[0m\u001b[0mkwargs\u001b[0m\u001b[0;34m)\u001b[0m\u001b[0;34m\u001b[0m\u001b[0;34m\u001b[0m\u001b[0m\n\u001b[0m\u001b[1;32m     66\u001b[0m         \u001b[0;32mexcept\u001b[0m \u001b[0mException\u001b[0m \u001b[0;32mas\u001b[0m \u001b[0me\u001b[0m\u001b[0;34m:\u001b[0m\u001b[0;34m\u001b[0m\u001b[0;34m\u001b[0m\u001b[0m\n\u001b[1;32m     67\u001b[0m             \u001b[0mfiltered_tb\u001b[0m \u001b[0;34m=\u001b[0m \u001b[0m_process_traceback_frames\u001b[0m\u001b[0;34m(\u001b[0m\u001b[0me\u001b[0m\u001b[0;34m.\u001b[0m\u001b[0m__traceback__\u001b[0m\u001b[0;34m)\u001b[0m\u001b[0;34m\u001b[0m\u001b[0;34m\u001b[0m\u001b[0m\n",
            "\u001b[0;32m/usr/local/lib/python3.9/dist-packages/keras/engine/training.py\u001b[0m in \u001b[0;36mfit\u001b[0;34m(self, x, y, batch_size, epochs, verbose, callbacks, validation_split, validation_data, shuffle, class_weight, sample_weight, initial_epoch, steps_per_epoch, validation_steps, validation_batch_size, validation_freq, max_queue_size, workers, use_multiprocessing)\u001b[0m\n\u001b[1;32m   1648\u001b[0m                         ):\n\u001b[1;32m   1649\u001b[0m                             \u001b[0mcallbacks\u001b[0m\u001b[0;34m.\u001b[0m\u001b[0mon_train_batch_begin\u001b[0m\u001b[0;34m(\u001b[0m\u001b[0mstep\u001b[0m\u001b[0;34m)\u001b[0m\u001b[0;34m\u001b[0m\u001b[0;34m\u001b[0m\u001b[0m\n\u001b[0;32m-> 1650\u001b[0;31m                             \u001b[0mtmp_logs\u001b[0m \u001b[0;34m=\u001b[0m \u001b[0mself\u001b[0m\u001b[0;34m.\u001b[0m\u001b[0mtrain_function\u001b[0m\u001b[0;34m(\u001b[0m\u001b[0miterator\u001b[0m\u001b[0;34m)\u001b[0m\u001b[0;34m\u001b[0m\u001b[0;34m\u001b[0m\u001b[0m\n\u001b[0m\u001b[1;32m   1651\u001b[0m                             \u001b[0;32mif\u001b[0m \u001b[0mdata_handler\u001b[0m\u001b[0;34m.\u001b[0m\u001b[0mshould_sync\u001b[0m\u001b[0;34m:\u001b[0m\u001b[0;34m\u001b[0m\u001b[0;34m\u001b[0m\u001b[0m\n\u001b[1;32m   1652\u001b[0m                                 \u001b[0mcontext\u001b[0m\u001b[0;34m.\u001b[0m\u001b[0masync_wait\u001b[0m\u001b[0;34m(\u001b[0m\u001b[0;34m)\u001b[0m\u001b[0;34m\u001b[0m\u001b[0;34m\u001b[0m\u001b[0m\n",
            "\u001b[0;32m/usr/local/lib/python3.9/dist-packages/tensorflow/python/util/traceback_utils.py\u001b[0m in \u001b[0;36merror_handler\u001b[0;34m(*args, **kwargs)\u001b[0m\n\u001b[1;32m    148\u001b[0m     \u001b[0mfiltered_tb\u001b[0m \u001b[0;34m=\u001b[0m \u001b[0;32mNone\u001b[0m\u001b[0;34m\u001b[0m\u001b[0;34m\u001b[0m\u001b[0m\n\u001b[1;32m    149\u001b[0m     \u001b[0;32mtry\u001b[0m\u001b[0;34m:\u001b[0m\u001b[0;34m\u001b[0m\u001b[0;34m\u001b[0m\u001b[0m\n\u001b[0;32m--> 150\u001b[0;31m       \u001b[0;32mreturn\u001b[0m \u001b[0mfn\u001b[0m\u001b[0;34m(\u001b[0m\u001b[0;34m*\u001b[0m\u001b[0margs\u001b[0m\u001b[0;34m,\u001b[0m \u001b[0;34m**\u001b[0m\u001b[0mkwargs\u001b[0m\u001b[0;34m)\u001b[0m\u001b[0;34m\u001b[0m\u001b[0;34m\u001b[0m\u001b[0m\n\u001b[0m\u001b[1;32m    151\u001b[0m     \u001b[0;32mexcept\u001b[0m \u001b[0mException\u001b[0m \u001b[0;32mas\u001b[0m \u001b[0me\u001b[0m\u001b[0;34m:\u001b[0m\u001b[0;34m\u001b[0m\u001b[0;34m\u001b[0m\u001b[0m\n\u001b[1;32m    152\u001b[0m       \u001b[0mfiltered_tb\u001b[0m \u001b[0;34m=\u001b[0m \u001b[0m_process_traceback_frames\u001b[0m\u001b[0;34m(\u001b[0m\u001b[0me\u001b[0m\u001b[0;34m.\u001b[0m\u001b[0m__traceback__\u001b[0m\u001b[0;34m)\u001b[0m\u001b[0;34m\u001b[0m\u001b[0;34m\u001b[0m\u001b[0m\n",
            "\u001b[0;32m/usr/local/lib/python3.9/dist-packages/tensorflow/python/eager/polymorphic_function/polymorphic_function.py\u001b[0m in \u001b[0;36m__call__\u001b[0;34m(self, *args, **kwds)\u001b[0m\n\u001b[1;32m    878\u001b[0m \u001b[0;34m\u001b[0m\u001b[0m\n\u001b[1;32m    879\u001b[0m       \u001b[0;32mwith\u001b[0m \u001b[0mOptionalXlaContext\u001b[0m\u001b[0;34m(\u001b[0m\u001b[0mself\u001b[0m\u001b[0;34m.\u001b[0m\u001b[0m_jit_compile\u001b[0m\u001b[0;34m)\u001b[0m\u001b[0;34m:\u001b[0m\u001b[0;34m\u001b[0m\u001b[0;34m\u001b[0m\u001b[0m\n\u001b[0;32m--> 880\u001b[0;31m         \u001b[0mresult\u001b[0m \u001b[0;34m=\u001b[0m \u001b[0mself\u001b[0m\u001b[0;34m.\u001b[0m\u001b[0m_call\u001b[0m\u001b[0;34m(\u001b[0m\u001b[0;34m*\u001b[0m\u001b[0margs\u001b[0m\u001b[0;34m,\u001b[0m \u001b[0;34m**\u001b[0m\u001b[0mkwds\u001b[0m\u001b[0;34m)\u001b[0m\u001b[0;34m\u001b[0m\u001b[0;34m\u001b[0m\u001b[0m\n\u001b[0m\u001b[1;32m    881\u001b[0m \u001b[0;34m\u001b[0m\u001b[0m\n\u001b[1;32m    882\u001b[0m       \u001b[0mnew_tracing_count\u001b[0m \u001b[0;34m=\u001b[0m \u001b[0mself\u001b[0m\u001b[0;34m.\u001b[0m\u001b[0mexperimental_get_tracing_count\u001b[0m\u001b[0;34m(\u001b[0m\u001b[0;34m)\u001b[0m\u001b[0;34m\u001b[0m\u001b[0;34m\u001b[0m\u001b[0m\n",
            "\u001b[0;32m/usr/local/lib/python3.9/dist-packages/tensorflow/python/eager/polymorphic_function/polymorphic_function.py\u001b[0m in \u001b[0;36m_call\u001b[0;34m(self, *args, **kwds)\u001b[0m\n\u001b[1;32m    943\u001b[0m         \u001b[0;31m# Lifting succeeded, so variables are initialized and we can run the\u001b[0m\u001b[0;34m\u001b[0m\u001b[0;34m\u001b[0m\u001b[0m\n\u001b[1;32m    944\u001b[0m         \u001b[0;31m# no_variable_creation function.\u001b[0m\u001b[0;34m\u001b[0m\u001b[0;34m\u001b[0m\u001b[0m\n\u001b[0;32m--> 945\u001b[0;31m         \u001b[0;32mreturn\u001b[0m \u001b[0mself\u001b[0m\u001b[0;34m.\u001b[0m\u001b[0m_no_variable_creation_fn\u001b[0m\u001b[0;34m(\u001b[0m\u001b[0;34m*\u001b[0m\u001b[0margs\u001b[0m\u001b[0;34m,\u001b[0m \u001b[0;34m**\u001b[0m\u001b[0mkwds\u001b[0m\u001b[0;34m)\u001b[0m\u001b[0;34m\u001b[0m\u001b[0;34m\u001b[0m\u001b[0m\n\u001b[0m\u001b[1;32m    946\u001b[0m     \u001b[0;32melse\u001b[0m\u001b[0;34m:\u001b[0m\u001b[0;34m\u001b[0m\u001b[0;34m\u001b[0m\u001b[0m\n\u001b[1;32m    947\u001b[0m       _, _, filtered_flat_args = (\n",
            "\u001b[0;32m/usr/local/lib/python3.9/dist-packages/tensorflow/python/eager/polymorphic_function/tracing_compiler.py\u001b[0m in \u001b[0;36m__call__\u001b[0;34m(self, *args, **kwargs)\u001b[0m\n\u001b[1;32m    131\u001b[0m     \u001b[0;32mwith\u001b[0m \u001b[0mself\u001b[0m\u001b[0;34m.\u001b[0m\u001b[0m_lock\u001b[0m\u001b[0;34m:\u001b[0m\u001b[0;34m\u001b[0m\u001b[0;34m\u001b[0m\u001b[0m\n\u001b[1;32m    132\u001b[0m       (concrete_function,\n\u001b[0;32m--> 133\u001b[0;31m        filtered_flat_args) = self._maybe_define_function(args, kwargs)\n\u001b[0m\u001b[1;32m    134\u001b[0m     return concrete_function._call_flat(\n\u001b[1;32m    135\u001b[0m         filtered_flat_args, captured_inputs=concrete_function.captured_inputs)  # pylint: disable=protected-access\n",
            "\u001b[0;32m/usr/local/lib/python3.9/dist-packages/tensorflow/python/eager/polymorphic_function/tracing_compiler.py\u001b[0m in \u001b[0;36m_maybe_define_function\u001b[0;34m(self, args, kwargs)\u001b[0m\n\u001b[1;32m    358\u001b[0m             \u001b[0margs\u001b[0m\u001b[0;34m,\u001b[0m \u001b[0mkwargs\u001b[0m \u001b[0;34m=\u001b[0m \u001b[0mgeneralized_func_key\u001b[0m\u001b[0;34m.\u001b[0m\u001b[0m_placeholder_value\u001b[0m\u001b[0;34m(\u001b[0m\u001b[0;34m)\u001b[0m  \u001b[0;31m# pylint: disable=protected-access\u001b[0m\u001b[0;34m\u001b[0m\u001b[0;34m\u001b[0m\u001b[0m\n\u001b[1;32m    359\u001b[0m \u001b[0;34m\u001b[0m\u001b[0m\n\u001b[0;32m--> 360\u001b[0;31m           \u001b[0mconcrete_function\u001b[0m \u001b[0;34m=\u001b[0m \u001b[0mself\u001b[0m\u001b[0;34m.\u001b[0m\u001b[0m_create_concrete_function\u001b[0m\u001b[0;34m(\u001b[0m\u001b[0margs\u001b[0m\u001b[0;34m,\u001b[0m \u001b[0mkwargs\u001b[0m\u001b[0;34m)\u001b[0m\u001b[0;34m\u001b[0m\u001b[0;34m\u001b[0m\u001b[0m\n\u001b[0m\u001b[1;32m    361\u001b[0m \u001b[0;34m\u001b[0m\u001b[0m\n\u001b[1;32m    362\u001b[0m           \u001b[0mgraph_capture_container\u001b[0m \u001b[0;34m=\u001b[0m \u001b[0mconcrete_function\u001b[0m\u001b[0;34m.\u001b[0m\u001b[0mgraph\u001b[0m\u001b[0;34m.\u001b[0m\u001b[0m_capture_func_lib\u001b[0m  \u001b[0;31m# pylint: disable=protected-access\u001b[0m\u001b[0;34m\u001b[0m\u001b[0;34m\u001b[0m\u001b[0m\n",
            "\u001b[0;32m/usr/local/lib/python3.9/dist-packages/tensorflow/python/eager/polymorphic_function/tracing_compiler.py\u001b[0m in \u001b[0;36m_create_concrete_function\u001b[0;34m(self, args, kwargs)\u001b[0m\n\u001b[1;32m    282\u001b[0m     \u001b[0marg_names\u001b[0m \u001b[0;34m=\u001b[0m \u001b[0mbase_arg_names\u001b[0m \u001b[0;34m+\u001b[0m \u001b[0mmissing_arg_names\u001b[0m\u001b[0;34m\u001b[0m\u001b[0;34m\u001b[0m\u001b[0m\n\u001b[1;32m    283\u001b[0m     concrete_function = monomorphic_function.ConcreteFunction(\n\u001b[0;32m--> 284\u001b[0;31m         func_graph_module.func_graph_from_py_func(\n\u001b[0m\u001b[1;32m    285\u001b[0m             \u001b[0mself\u001b[0m\u001b[0;34m.\u001b[0m\u001b[0m_name\u001b[0m\u001b[0;34m,\u001b[0m\u001b[0;34m\u001b[0m\u001b[0;34m\u001b[0m\u001b[0m\n\u001b[1;32m    286\u001b[0m             \u001b[0mself\u001b[0m\u001b[0;34m.\u001b[0m\u001b[0m_python_function\u001b[0m\u001b[0;34m,\u001b[0m\u001b[0;34m\u001b[0m\u001b[0;34m\u001b[0m\u001b[0m\n",
            "\u001b[0;32m/usr/local/lib/python3.9/dist-packages/tensorflow/python/framework/func_graph.py\u001b[0m in \u001b[0;36mfunc_graph_from_py_func\u001b[0;34m(name, python_func, args, kwargs, signature, func_graph, autograph, autograph_options, add_control_dependencies, arg_names, op_return_value, collections, capture_by_value, acd_record_initial_resource_uses)\u001b[0m\n\u001b[1;32m   1281\u001b[0m         \u001b[0m_\u001b[0m\u001b[0;34m,\u001b[0m \u001b[0moriginal_func\u001b[0m \u001b[0;34m=\u001b[0m \u001b[0mtf_decorator\u001b[0m\u001b[0;34m.\u001b[0m\u001b[0munwrap\u001b[0m\u001b[0;34m(\u001b[0m\u001b[0mpython_func\u001b[0m\u001b[0;34m)\u001b[0m\u001b[0;34m\u001b[0m\u001b[0;34m\u001b[0m\u001b[0m\n\u001b[1;32m   1282\u001b[0m \u001b[0;34m\u001b[0m\u001b[0m\n\u001b[0;32m-> 1283\u001b[0;31m       \u001b[0mfunc_outputs\u001b[0m \u001b[0;34m=\u001b[0m \u001b[0mpython_func\u001b[0m\u001b[0;34m(\u001b[0m\u001b[0;34m*\u001b[0m\u001b[0mfunc_args\u001b[0m\u001b[0;34m,\u001b[0m \u001b[0;34m**\u001b[0m\u001b[0mfunc_kwargs\u001b[0m\u001b[0;34m)\u001b[0m\u001b[0;34m\u001b[0m\u001b[0;34m\u001b[0m\u001b[0m\n\u001b[0m\u001b[1;32m   1284\u001b[0m \u001b[0;34m\u001b[0m\u001b[0m\n\u001b[1;32m   1285\u001b[0m       \u001b[0;31m# invariant: `func_outputs` contains only Tensors, CompositeTensors,\u001b[0m\u001b[0;34m\u001b[0m\u001b[0;34m\u001b[0m\u001b[0m\n",
            "\u001b[0;32m/usr/local/lib/python3.9/dist-packages/tensorflow/python/eager/polymorphic_function/polymorphic_function.py\u001b[0m in \u001b[0;36mwrapped_fn\u001b[0;34m(*args, **kwds)\u001b[0m\n\u001b[1;32m    643\u001b[0m         \u001b[0;31m# the function a weak reference to itself to avoid a reference cycle.\u001b[0m\u001b[0;34m\u001b[0m\u001b[0;34m\u001b[0m\u001b[0m\n\u001b[1;32m    644\u001b[0m         \u001b[0;32mwith\u001b[0m \u001b[0mOptionalXlaContext\u001b[0m\u001b[0;34m(\u001b[0m\u001b[0mcompile_with_xla\u001b[0m\u001b[0;34m)\u001b[0m\u001b[0;34m:\u001b[0m\u001b[0;34m\u001b[0m\u001b[0;34m\u001b[0m\u001b[0m\n\u001b[0;32m--> 645\u001b[0;31m           \u001b[0mout\u001b[0m \u001b[0;34m=\u001b[0m \u001b[0mweak_wrapped_fn\u001b[0m\u001b[0;34m(\u001b[0m\u001b[0;34m)\u001b[0m\u001b[0;34m.\u001b[0m\u001b[0m__wrapped__\u001b[0m\u001b[0;34m(\u001b[0m\u001b[0;34m*\u001b[0m\u001b[0margs\u001b[0m\u001b[0;34m,\u001b[0m \u001b[0;34m**\u001b[0m\u001b[0mkwds\u001b[0m\u001b[0;34m)\u001b[0m\u001b[0;34m\u001b[0m\u001b[0;34m\u001b[0m\u001b[0m\n\u001b[0m\u001b[1;32m    646\u001b[0m         \u001b[0;32mreturn\u001b[0m \u001b[0mout\u001b[0m\u001b[0;34m\u001b[0m\u001b[0;34m\u001b[0m\u001b[0m\n\u001b[1;32m    647\u001b[0m \u001b[0;34m\u001b[0m\u001b[0m\n",
            "\u001b[0;32m/usr/local/lib/python3.9/dist-packages/tensorflow/python/framework/func_graph.py\u001b[0m in \u001b[0;36mautograph_handler\u001b[0;34m(*args, **kwargs)\u001b[0m\n\u001b[1;32m   1256\u001b[0m           \u001b[0;31m# TODO(mdan): Push this block higher in tf.function's call stack.\u001b[0m\u001b[0;34m\u001b[0m\u001b[0;34m\u001b[0m\u001b[0m\n\u001b[1;32m   1257\u001b[0m           \u001b[0;32mtry\u001b[0m\u001b[0;34m:\u001b[0m\u001b[0;34m\u001b[0m\u001b[0;34m\u001b[0m\u001b[0m\n\u001b[0;32m-> 1258\u001b[0;31m             return autograph.converted_call(\n\u001b[0m\u001b[1;32m   1259\u001b[0m                 \u001b[0moriginal_func\u001b[0m\u001b[0;34m,\u001b[0m\u001b[0;34m\u001b[0m\u001b[0;34m\u001b[0m\u001b[0m\n\u001b[1;32m   1260\u001b[0m                 \u001b[0margs\u001b[0m\u001b[0;34m,\u001b[0m\u001b[0;34m\u001b[0m\u001b[0;34m\u001b[0m\u001b[0m\n",
            "\u001b[0;32m/usr/local/lib/python3.9/dist-packages/tensorflow/python/autograph/impl/api.py\u001b[0m in \u001b[0;36mconverted_call\u001b[0;34m(f, args, kwargs, caller_fn_scope, options)\u001b[0m\n\u001b[1;32m    437\u001b[0m     \u001b[0;32mtry\u001b[0m\u001b[0;34m:\u001b[0m\u001b[0;34m\u001b[0m\u001b[0;34m\u001b[0m\u001b[0m\n\u001b[1;32m    438\u001b[0m       \u001b[0;32mif\u001b[0m \u001b[0mkwargs\u001b[0m \u001b[0;32mis\u001b[0m \u001b[0;32mnot\u001b[0m \u001b[0;32mNone\u001b[0m\u001b[0;34m:\u001b[0m\u001b[0;34m\u001b[0m\u001b[0;34m\u001b[0m\u001b[0m\n\u001b[0;32m--> 439\u001b[0;31m         \u001b[0mresult\u001b[0m \u001b[0;34m=\u001b[0m \u001b[0mconverted_f\u001b[0m\u001b[0;34m(\u001b[0m\u001b[0;34m*\u001b[0m\u001b[0meffective_args\u001b[0m\u001b[0;34m,\u001b[0m \u001b[0;34m**\u001b[0m\u001b[0mkwargs\u001b[0m\u001b[0;34m)\u001b[0m\u001b[0;34m\u001b[0m\u001b[0;34m\u001b[0m\u001b[0m\n\u001b[0m\u001b[1;32m    440\u001b[0m       \u001b[0;32melse\u001b[0m\u001b[0;34m:\u001b[0m\u001b[0;34m\u001b[0m\u001b[0;34m\u001b[0m\u001b[0m\n\u001b[1;32m    441\u001b[0m         \u001b[0mresult\u001b[0m \u001b[0;34m=\u001b[0m \u001b[0mconverted_f\u001b[0m\u001b[0;34m(\u001b[0m\u001b[0;34m*\u001b[0m\u001b[0meffective_args\u001b[0m\u001b[0;34m)\u001b[0m\u001b[0;34m\u001b[0m\u001b[0;34m\u001b[0m\u001b[0m\n",
            "\u001b[0;32m/usr/local/lib/python3.9/dist-packages/keras/engine/training.py\u001b[0m in \u001b[0;36mtf__train_function\u001b[0;34m(iterator)\u001b[0m\n\u001b[1;32m     13\u001b[0m                 \u001b[0;32mtry\u001b[0m\u001b[0;34m:\u001b[0m\u001b[0;34m\u001b[0m\u001b[0;34m\u001b[0m\u001b[0m\n\u001b[1;32m     14\u001b[0m                     \u001b[0mdo_return\u001b[0m \u001b[0;34m=\u001b[0m \u001b[0;32mTrue\u001b[0m\u001b[0;34m\u001b[0m\u001b[0;34m\u001b[0m\u001b[0m\n\u001b[0;32m---> 15\u001b[0;31m                     \u001b[0mretval_\u001b[0m \u001b[0;34m=\u001b[0m \u001b[0mag__\u001b[0m\u001b[0;34m.\u001b[0m\u001b[0mconverted_call\u001b[0m\u001b[0;34m(\u001b[0m\u001b[0mag__\u001b[0m\u001b[0;34m.\u001b[0m\u001b[0mld\u001b[0m\u001b[0;34m(\u001b[0m\u001b[0mstep_function\u001b[0m\u001b[0;34m)\u001b[0m\u001b[0;34m,\u001b[0m \u001b[0;34m(\u001b[0m\u001b[0mag__\u001b[0m\u001b[0;34m.\u001b[0m\u001b[0mld\u001b[0m\u001b[0;34m(\u001b[0m\u001b[0mself\u001b[0m\u001b[0;34m)\u001b[0m\u001b[0;34m,\u001b[0m \u001b[0mag__\u001b[0m\u001b[0;34m.\u001b[0m\u001b[0mld\u001b[0m\u001b[0;34m(\u001b[0m\u001b[0miterator\u001b[0m\u001b[0;34m)\u001b[0m\u001b[0;34m)\u001b[0m\u001b[0;34m,\u001b[0m \u001b[0;32mNone\u001b[0m\u001b[0;34m,\u001b[0m \u001b[0mfscope\u001b[0m\u001b[0;34m)\u001b[0m\u001b[0;34m\u001b[0m\u001b[0;34m\u001b[0m\u001b[0m\n\u001b[0m\u001b[1;32m     16\u001b[0m                 \u001b[0;32mexcept\u001b[0m\u001b[0;34m:\u001b[0m\u001b[0;34m\u001b[0m\u001b[0;34m\u001b[0m\u001b[0m\n\u001b[1;32m     17\u001b[0m                     \u001b[0mdo_return\u001b[0m \u001b[0;34m=\u001b[0m \u001b[0;32mFalse\u001b[0m\u001b[0;34m\u001b[0m\u001b[0;34m\u001b[0m\u001b[0m\n",
            "\u001b[0;32m/usr/local/lib/python3.9/dist-packages/tensorflow/python/autograph/impl/api.py\u001b[0m in \u001b[0;36mconverted_call\u001b[0;34m(f, args, kwargs, caller_fn_scope, options)\u001b[0m\n\u001b[1;32m    329\u001b[0m   \u001b[0;32mif\u001b[0m \u001b[0mconversion\u001b[0m\u001b[0;34m.\u001b[0m\u001b[0mis_in_allowlist_cache\u001b[0m\u001b[0;34m(\u001b[0m\u001b[0mf\u001b[0m\u001b[0;34m,\u001b[0m \u001b[0moptions\u001b[0m\u001b[0;34m)\u001b[0m\u001b[0;34m:\u001b[0m\u001b[0;34m\u001b[0m\u001b[0;34m\u001b[0m\u001b[0m\n\u001b[1;32m    330\u001b[0m     \u001b[0mlogging\u001b[0m\u001b[0;34m.\u001b[0m\u001b[0mlog\u001b[0m\u001b[0;34m(\u001b[0m\u001b[0;36m2\u001b[0m\u001b[0;34m,\u001b[0m \u001b[0;34m'Allowlisted %s: from cache'\u001b[0m\u001b[0;34m,\u001b[0m \u001b[0mf\u001b[0m\u001b[0;34m)\u001b[0m\u001b[0;34m\u001b[0m\u001b[0;34m\u001b[0m\u001b[0m\n\u001b[0;32m--> 331\u001b[0;31m     \u001b[0;32mreturn\u001b[0m \u001b[0m_call_unconverted\u001b[0m\u001b[0;34m(\u001b[0m\u001b[0mf\u001b[0m\u001b[0;34m,\u001b[0m \u001b[0margs\u001b[0m\u001b[0;34m,\u001b[0m \u001b[0mkwargs\u001b[0m\u001b[0;34m,\u001b[0m \u001b[0moptions\u001b[0m\u001b[0;34m,\u001b[0m \u001b[0;32mFalse\u001b[0m\u001b[0;34m)\u001b[0m\u001b[0;34m\u001b[0m\u001b[0;34m\u001b[0m\u001b[0m\n\u001b[0m\u001b[1;32m    332\u001b[0m \u001b[0;34m\u001b[0m\u001b[0m\n\u001b[1;32m    333\u001b[0m   \u001b[0;32mif\u001b[0m \u001b[0mag_ctx\u001b[0m\u001b[0;34m.\u001b[0m\u001b[0mcontrol_status_ctx\u001b[0m\u001b[0;34m(\u001b[0m\u001b[0;34m)\u001b[0m\u001b[0;34m.\u001b[0m\u001b[0mstatus\u001b[0m \u001b[0;34m==\u001b[0m \u001b[0mag_ctx\u001b[0m\u001b[0;34m.\u001b[0m\u001b[0mStatus\u001b[0m\u001b[0;34m.\u001b[0m\u001b[0mDISABLED\u001b[0m\u001b[0;34m:\u001b[0m\u001b[0;34m\u001b[0m\u001b[0;34m\u001b[0m\u001b[0m\n",
            "\u001b[0;32m/usr/local/lib/python3.9/dist-packages/tensorflow/python/autograph/impl/api.py\u001b[0m in \u001b[0;36m_call_unconverted\u001b[0;34m(f, args, kwargs, options, update_cache)\u001b[0m\n\u001b[1;32m    457\u001b[0m   \u001b[0;32mif\u001b[0m \u001b[0mkwargs\u001b[0m \u001b[0;32mis\u001b[0m \u001b[0;32mnot\u001b[0m \u001b[0;32mNone\u001b[0m\u001b[0;34m:\u001b[0m\u001b[0;34m\u001b[0m\u001b[0;34m\u001b[0m\u001b[0m\n\u001b[1;32m    458\u001b[0m     \u001b[0;32mreturn\u001b[0m \u001b[0mf\u001b[0m\u001b[0;34m(\u001b[0m\u001b[0;34m*\u001b[0m\u001b[0margs\u001b[0m\u001b[0;34m,\u001b[0m \u001b[0;34m**\u001b[0m\u001b[0mkwargs\u001b[0m\u001b[0;34m)\u001b[0m\u001b[0;34m\u001b[0m\u001b[0;34m\u001b[0m\u001b[0m\n\u001b[0;32m--> 459\u001b[0;31m   \u001b[0;32mreturn\u001b[0m \u001b[0mf\u001b[0m\u001b[0;34m(\u001b[0m\u001b[0;34m*\u001b[0m\u001b[0margs\u001b[0m\u001b[0;34m)\u001b[0m\u001b[0;34m\u001b[0m\u001b[0;34m\u001b[0m\u001b[0m\n\u001b[0m\u001b[1;32m    460\u001b[0m \u001b[0;34m\u001b[0m\u001b[0m\n\u001b[1;32m    461\u001b[0m \u001b[0;34m\u001b[0m\u001b[0m\n",
            "\u001b[0;32m/usr/local/lib/python3.9/dist-packages/keras/engine/training.py\u001b[0m in \u001b[0;36mstep_function\u001b[0;34m(model, iterator)\u001b[0m\n\u001b[1;32m   1231\u001b[0m                 )\n\u001b[1;32m   1232\u001b[0m             \u001b[0mdata\u001b[0m \u001b[0;34m=\u001b[0m \u001b[0mnext\u001b[0m\u001b[0;34m(\u001b[0m\u001b[0miterator\u001b[0m\u001b[0;34m)\u001b[0m\u001b[0;34m\u001b[0m\u001b[0;34m\u001b[0m\u001b[0m\n\u001b[0;32m-> 1233\u001b[0;31m             \u001b[0moutputs\u001b[0m \u001b[0;34m=\u001b[0m \u001b[0mmodel\u001b[0m\u001b[0;34m.\u001b[0m\u001b[0mdistribute_strategy\u001b[0m\u001b[0;34m.\u001b[0m\u001b[0mrun\u001b[0m\u001b[0;34m(\u001b[0m\u001b[0mrun_step\u001b[0m\u001b[0;34m,\u001b[0m \u001b[0margs\u001b[0m\u001b[0;34m=\u001b[0m\u001b[0;34m(\u001b[0m\u001b[0mdata\u001b[0m\u001b[0;34m,\u001b[0m\u001b[0;34m)\u001b[0m\u001b[0;34m)\u001b[0m\u001b[0;34m\u001b[0m\u001b[0;34m\u001b[0m\u001b[0m\n\u001b[0m\u001b[1;32m   1234\u001b[0m             outputs = reduce_per_replica(\n\u001b[1;32m   1235\u001b[0m                 \u001b[0moutputs\u001b[0m\u001b[0;34m,\u001b[0m\u001b[0;34m\u001b[0m\u001b[0;34m\u001b[0m\u001b[0m\n",
            "\u001b[0;32m/usr/local/lib/python3.9/dist-packages/tensorflow/python/distribute/distribute_lib.py\u001b[0m in \u001b[0;36mrun\u001b[0;34m(***failed resolving arguments***)\u001b[0m\n\u001b[1;32m   1314\u001b[0m       fn = autograph.tf_convert(\n\u001b[1;32m   1315\u001b[0m           fn, autograph_ctx.control_status_ctx(), convert_by_default=False)\n\u001b[0;32m-> 1316\u001b[0;31m       \u001b[0;32mreturn\u001b[0m \u001b[0mself\u001b[0m\u001b[0;34m.\u001b[0m\u001b[0m_extended\u001b[0m\u001b[0;34m.\u001b[0m\u001b[0mcall_for_each_replica\u001b[0m\u001b[0;34m(\u001b[0m\u001b[0mfn\u001b[0m\u001b[0;34m,\u001b[0m \u001b[0margs\u001b[0m\u001b[0;34m=\u001b[0m\u001b[0margs\u001b[0m\u001b[0;34m,\u001b[0m \u001b[0mkwargs\u001b[0m\u001b[0;34m=\u001b[0m\u001b[0mkwargs\u001b[0m\u001b[0;34m)\u001b[0m\u001b[0;34m\u001b[0m\u001b[0;34m\u001b[0m\u001b[0m\n\u001b[0m\u001b[1;32m   1317\u001b[0m \u001b[0;34m\u001b[0m\u001b[0m\n\u001b[1;32m   1318\u001b[0m   \u001b[0;32mdef\u001b[0m \u001b[0mreduce\u001b[0m\u001b[0;34m(\u001b[0m\u001b[0mself\u001b[0m\u001b[0;34m,\u001b[0m \u001b[0mreduce_op\u001b[0m\u001b[0;34m,\u001b[0m \u001b[0mvalue\u001b[0m\u001b[0;34m,\u001b[0m \u001b[0maxis\u001b[0m\u001b[0;34m)\u001b[0m\u001b[0;34m:\u001b[0m\u001b[0;34m\u001b[0m\u001b[0;34m\u001b[0m\u001b[0m\n",
            "\u001b[0;32m/usr/local/lib/python3.9/dist-packages/tensorflow/python/distribute/distribute_lib.py\u001b[0m in \u001b[0;36mcall_for_each_replica\u001b[0;34m(self, fn, args, kwargs)\u001b[0m\n\u001b[1;32m   2893\u001b[0m       \u001b[0mkwargs\u001b[0m \u001b[0;34m=\u001b[0m \u001b[0;34m{\u001b[0m\u001b[0;34m}\u001b[0m\u001b[0;34m\u001b[0m\u001b[0;34m\u001b[0m\u001b[0m\n\u001b[1;32m   2894\u001b[0m     \u001b[0;32mwith\u001b[0m \u001b[0mself\u001b[0m\u001b[0;34m.\u001b[0m\u001b[0m_container_strategy\u001b[0m\u001b[0;34m(\u001b[0m\u001b[0;34m)\u001b[0m\u001b[0;34m.\u001b[0m\u001b[0mscope\u001b[0m\u001b[0;34m(\u001b[0m\u001b[0;34m)\u001b[0m\u001b[0;34m:\u001b[0m\u001b[0;34m\u001b[0m\u001b[0;34m\u001b[0m\u001b[0m\n\u001b[0;32m-> 2895\u001b[0;31m       \u001b[0;32mreturn\u001b[0m \u001b[0mself\u001b[0m\u001b[0;34m.\u001b[0m\u001b[0m_call_for_each_replica\u001b[0m\u001b[0;34m(\u001b[0m\u001b[0mfn\u001b[0m\u001b[0;34m,\u001b[0m \u001b[0margs\u001b[0m\u001b[0;34m,\u001b[0m \u001b[0mkwargs\u001b[0m\u001b[0;34m)\u001b[0m\u001b[0;34m\u001b[0m\u001b[0;34m\u001b[0m\u001b[0m\n\u001b[0m\u001b[1;32m   2896\u001b[0m \u001b[0;34m\u001b[0m\u001b[0m\n\u001b[1;32m   2897\u001b[0m   \u001b[0;32mdef\u001b[0m \u001b[0m_call_for_each_replica\u001b[0m\u001b[0;34m(\u001b[0m\u001b[0mself\u001b[0m\u001b[0;34m,\u001b[0m \u001b[0mfn\u001b[0m\u001b[0;34m,\u001b[0m \u001b[0margs\u001b[0m\u001b[0;34m,\u001b[0m \u001b[0mkwargs\u001b[0m\u001b[0;34m)\u001b[0m\u001b[0;34m:\u001b[0m\u001b[0;34m\u001b[0m\u001b[0;34m\u001b[0m\u001b[0m\n",
            "\u001b[0;32m/usr/local/lib/python3.9/dist-packages/tensorflow/python/distribute/distribute_lib.py\u001b[0m in \u001b[0;36m_call_for_each_replica\u001b[0;34m(self, fn, args, kwargs)\u001b[0m\n\u001b[1;32m   3694\u001b[0m   \u001b[0;32mdef\u001b[0m \u001b[0m_call_for_each_replica\u001b[0m\u001b[0;34m(\u001b[0m\u001b[0mself\u001b[0m\u001b[0;34m,\u001b[0m \u001b[0mfn\u001b[0m\u001b[0;34m,\u001b[0m \u001b[0margs\u001b[0m\u001b[0;34m,\u001b[0m \u001b[0mkwargs\u001b[0m\u001b[0;34m)\u001b[0m\u001b[0;34m:\u001b[0m\u001b[0;34m\u001b[0m\u001b[0;34m\u001b[0m\u001b[0m\n\u001b[1;32m   3695\u001b[0m     \u001b[0;32mwith\u001b[0m \u001b[0mReplicaContext\u001b[0m\u001b[0;34m(\u001b[0m\u001b[0mself\u001b[0m\u001b[0;34m.\u001b[0m\u001b[0m_container_strategy\u001b[0m\u001b[0;34m(\u001b[0m\u001b[0;34m)\u001b[0m\u001b[0;34m,\u001b[0m \u001b[0mreplica_id_in_sync_group\u001b[0m\u001b[0;34m=\u001b[0m\u001b[0;36m0\u001b[0m\u001b[0;34m)\u001b[0m\u001b[0;34m:\u001b[0m\u001b[0;34m\u001b[0m\u001b[0;34m\u001b[0m\u001b[0m\n\u001b[0;32m-> 3696\u001b[0;31m       \u001b[0;32mreturn\u001b[0m \u001b[0mfn\u001b[0m\u001b[0;34m(\u001b[0m\u001b[0;34m*\u001b[0m\u001b[0margs\u001b[0m\u001b[0;34m,\u001b[0m \u001b[0;34m**\u001b[0m\u001b[0mkwargs\u001b[0m\u001b[0;34m)\u001b[0m\u001b[0;34m\u001b[0m\u001b[0;34m\u001b[0m\u001b[0m\n\u001b[0m\u001b[1;32m   3697\u001b[0m \u001b[0;34m\u001b[0m\u001b[0m\n\u001b[1;32m   3698\u001b[0m   \u001b[0;32mdef\u001b[0m \u001b[0m_reduce_to\u001b[0m\u001b[0;34m(\u001b[0m\u001b[0mself\u001b[0m\u001b[0;34m,\u001b[0m \u001b[0mreduce_op\u001b[0m\u001b[0;34m,\u001b[0m \u001b[0mvalue\u001b[0m\u001b[0;34m,\u001b[0m \u001b[0mdestinations\u001b[0m\u001b[0;34m,\u001b[0m \u001b[0moptions\u001b[0m\u001b[0;34m)\u001b[0m\u001b[0;34m:\u001b[0m\u001b[0;34m\u001b[0m\u001b[0;34m\u001b[0m\u001b[0m\n",
            "\u001b[0;32m/usr/local/lib/python3.9/dist-packages/tensorflow/python/autograph/impl/api.py\u001b[0m in \u001b[0;36mwrapper\u001b[0;34m(*args, **kwargs)\u001b[0m\n\u001b[1;32m    687\u001b[0m       \u001b[0;32mtry\u001b[0m\u001b[0;34m:\u001b[0m\u001b[0;34m\u001b[0m\u001b[0;34m\u001b[0m\u001b[0m\n\u001b[1;32m    688\u001b[0m         \u001b[0;32mwith\u001b[0m \u001b[0mconversion_ctx\u001b[0m\u001b[0;34m:\u001b[0m\u001b[0;34m\u001b[0m\u001b[0;34m\u001b[0m\u001b[0m\n\u001b[0;32m--> 689\u001b[0;31m           \u001b[0;32mreturn\u001b[0m \u001b[0mconverted_call\u001b[0m\u001b[0;34m(\u001b[0m\u001b[0mf\u001b[0m\u001b[0;34m,\u001b[0m \u001b[0margs\u001b[0m\u001b[0;34m,\u001b[0m \u001b[0mkwargs\u001b[0m\u001b[0;34m,\u001b[0m \u001b[0moptions\u001b[0m\u001b[0;34m=\u001b[0m\u001b[0moptions\u001b[0m\u001b[0;34m)\u001b[0m\u001b[0;34m\u001b[0m\u001b[0;34m\u001b[0m\u001b[0m\n\u001b[0m\u001b[1;32m    690\u001b[0m       \u001b[0;32mexcept\u001b[0m \u001b[0mException\u001b[0m \u001b[0;32mas\u001b[0m \u001b[0me\u001b[0m\u001b[0;34m:\u001b[0m  \u001b[0;31m# pylint:disable=broad-except\u001b[0m\u001b[0;34m\u001b[0m\u001b[0;34m\u001b[0m\u001b[0m\n\u001b[1;32m    691\u001b[0m         \u001b[0;32mif\u001b[0m \u001b[0mhasattr\u001b[0m\u001b[0;34m(\u001b[0m\u001b[0me\u001b[0m\u001b[0;34m,\u001b[0m \u001b[0;34m'ag_error_metadata'\u001b[0m\u001b[0;34m)\u001b[0m\u001b[0;34m:\u001b[0m\u001b[0;34m\u001b[0m\u001b[0;34m\u001b[0m\u001b[0m\n",
            "\u001b[0;32m/usr/local/lib/python3.9/dist-packages/tensorflow/python/autograph/impl/api.py\u001b[0m in \u001b[0;36mconverted_call\u001b[0;34m(f, args, kwargs, caller_fn_scope, options)\u001b[0m\n\u001b[1;32m    375\u001b[0m \u001b[0;34m\u001b[0m\u001b[0m\n\u001b[1;32m    376\u001b[0m   \u001b[0;32mif\u001b[0m \u001b[0;32mnot\u001b[0m \u001b[0moptions\u001b[0m\u001b[0;34m.\u001b[0m\u001b[0muser_requested\u001b[0m \u001b[0;32mand\u001b[0m \u001b[0mconversion\u001b[0m\u001b[0;34m.\u001b[0m\u001b[0mis_allowlisted\u001b[0m\u001b[0;34m(\u001b[0m\u001b[0mf\u001b[0m\u001b[0;34m)\u001b[0m\u001b[0;34m:\u001b[0m\u001b[0;34m\u001b[0m\u001b[0;34m\u001b[0m\u001b[0m\n\u001b[0;32m--> 377\u001b[0;31m     \u001b[0;32mreturn\u001b[0m \u001b[0m_call_unconverted\u001b[0m\u001b[0;34m(\u001b[0m\u001b[0mf\u001b[0m\u001b[0;34m,\u001b[0m \u001b[0margs\u001b[0m\u001b[0;34m,\u001b[0m \u001b[0mkwargs\u001b[0m\u001b[0;34m,\u001b[0m \u001b[0moptions\u001b[0m\u001b[0;34m)\u001b[0m\u001b[0;34m\u001b[0m\u001b[0;34m\u001b[0m\u001b[0m\n\u001b[0m\u001b[1;32m    378\u001b[0m \u001b[0;34m\u001b[0m\u001b[0m\n\u001b[1;32m    379\u001b[0m   \u001b[0;31m# internal_convert_user_code is for example turned off when issuing a dynamic\u001b[0m\u001b[0;34m\u001b[0m\u001b[0;34m\u001b[0m\u001b[0m\n",
            "\u001b[0;32m/usr/local/lib/python3.9/dist-packages/tensorflow/python/autograph/impl/api.py\u001b[0m in \u001b[0;36m_call_unconverted\u001b[0;34m(f, args, kwargs, options, update_cache)\u001b[0m\n\u001b[1;32m    456\u001b[0m \u001b[0;34m\u001b[0m\u001b[0m\n\u001b[1;32m    457\u001b[0m   \u001b[0;32mif\u001b[0m \u001b[0mkwargs\u001b[0m \u001b[0;32mis\u001b[0m \u001b[0;32mnot\u001b[0m \u001b[0;32mNone\u001b[0m\u001b[0;34m:\u001b[0m\u001b[0;34m\u001b[0m\u001b[0;34m\u001b[0m\u001b[0m\n\u001b[0;32m--> 458\u001b[0;31m     \u001b[0;32mreturn\u001b[0m \u001b[0mf\u001b[0m\u001b[0;34m(\u001b[0m\u001b[0;34m*\u001b[0m\u001b[0margs\u001b[0m\u001b[0;34m,\u001b[0m \u001b[0;34m**\u001b[0m\u001b[0mkwargs\u001b[0m\u001b[0;34m)\u001b[0m\u001b[0;34m\u001b[0m\u001b[0;34m\u001b[0m\u001b[0m\n\u001b[0m\u001b[1;32m    459\u001b[0m   \u001b[0;32mreturn\u001b[0m \u001b[0mf\u001b[0m\u001b[0;34m(\u001b[0m\u001b[0;34m*\u001b[0m\u001b[0margs\u001b[0m\u001b[0;34m)\u001b[0m\u001b[0;34m\u001b[0m\u001b[0;34m\u001b[0m\u001b[0m\n\u001b[1;32m    460\u001b[0m \u001b[0;34m\u001b[0m\u001b[0m\n",
            "\u001b[0;32m/usr/local/lib/python3.9/dist-packages/keras/engine/training.py\u001b[0m in \u001b[0;36mrun_step\u001b[0;34m(data)\u001b[0m\n\u001b[1;32m   1220\u001b[0m \u001b[0;34m\u001b[0m\u001b[0m\n\u001b[1;32m   1221\u001b[0m             \u001b[0;32mdef\u001b[0m \u001b[0mrun_step\u001b[0m\u001b[0;34m(\u001b[0m\u001b[0mdata\u001b[0m\u001b[0;34m)\u001b[0m\u001b[0;34m:\u001b[0m\u001b[0;34m\u001b[0m\u001b[0;34m\u001b[0m\u001b[0m\n\u001b[0;32m-> 1222\u001b[0;31m                 \u001b[0moutputs\u001b[0m \u001b[0;34m=\u001b[0m \u001b[0mmodel\u001b[0m\u001b[0;34m.\u001b[0m\u001b[0mtrain_step\u001b[0m\u001b[0;34m(\u001b[0m\u001b[0mdata\u001b[0m\u001b[0;34m)\u001b[0m\u001b[0;34m\u001b[0m\u001b[0;34m\u001b[0m\u001b[0m\n\u001b[0m\u001b[1;32m   1223\u001b[0m                 \u001b[0;31m# Ensure counter is updated only if `train_step` succeeds.\u001b[0m\u001b[0;34m\u001b[0m\u001b[0;34m\u001b[0m\u001b[0m\n\u001b[1;32m   1224\u001b[0m                 \u001b[0;32mwith\u001b[0m \u001b[0mtf\u001b[0m\u001b[0;34m.\u001b[0m\u001b[0mcontrol_dependencies\u001b[0m\u001b[0;34m(\u001b[0m\u001b[0m_minimum_control_deps\u001b[0m\u001b[0;34m(\u001b[0m\u001b[0moutputs\u001b[0m\u001b[0;34m)\u001b[0m\u001b[0;34m)\u001b[0m\u001b[0;34m:\u001b[0m\u001b[0;34m\u001b[0m\u001b[0;34m\u001b[0m\u001b[0m\n",
            "\u001b[0;32m/usr/local/lib/python3.9/dist-packages/keras/engine/training.py\u001b[0m in \u001b[0;36mtrain_step\u001b[0;34m(self, data)\u001b[0m\n\u001b[1;32m   1022\u001b[0m         \u001b[0;32mwith\u001b[0m \u001b[0mtf\u001b[0m\u001b[0;34m.\u001b[0m\u001b[0mGradientTape\u001b[0m\u001b[0;34m(\u001b[0m\u001b[0;34m)\u001b[0m \u001b[0;32mas\u001b[0m \u001b[0mtape\u001b[0m\u001b[0;34m:\u001b[0m\u001b[0;34m\u001b[0m\u001b[0;34m\u001b[0m\u001b[0m\n\u001b[1;32m   1023\u001b[0m             \u001b[0my_pred\u001b[0m \u001b[0;34m=\u001b[0m \u001b[0mself\u001b[0m\u001b[0;34m(\u001b[0m\u001b[0mx\u001b[0m\u001b[0;34m,\u001b[0m \u001b[0mtraining\u001b[0m\u001b[0;34m=\u001b[0m\u001b[0;32mTrue\u001b[0m\u001b[0;34m)\u001b[0m\u001b[0;34m\u001b[0m\u001b[0;34m\u001b[0m\u001b[0m\n\u001b[0;32m-> 1024\u001b[0;31m             \u001b[0mloss\u001b[0m \u001b[0;34m=\u001b[0m \u001b[0mself\u001b[0m\u001b[0;34m.\u001b[0m\u001b[0mcompute_loss\u001b[0m\u001b[0;34m(\u001b[0m\u001b[0mx\u001b[0m\u001b[0;34m,\u001b[0m \u001b[0my\u001b[0m\u001b[0;34m,\u001b[0m \u001b[0my_pred\u001b[0m\u001b[0;34m,\u001b[0m \u001b[0msample_weight\u001b[0m\u001b[0;34m)\u001b[0m\u001b[0;34m\u001b[0m\u001b[0;34m\u001b[0m\u001b[0m\n\u001b[0m\u001b[1;32m   1025\u001b[0m         \u001b[0mself\u001b[0m\u001b[0;34m.\u001b[0m\u001b[0m_validate_target_and_loss\u001b[0m\u001b[0;34m(\u001b[0m\u001b[0my\u001b[0m\u001b[0;34m,\u001b[0m \u001b[0mloss\u001b[0m\u001b[0;34m)\u001b[0m\u001b[0;34m\u001b[0m\u001b[0;34m\u001b[0m\u001b[0m\n\u001b[1;32m   1026\u001b[0m         \u001b[0;31m# Run backwards pass.\u001b[0m\u001b[0;34m\u001b[0m\u001b[0;34m\u001b[0m\u001b[0m\n",
            "\u001b[0;32m/usr/local/lib/python3.9/dist-packages/keras/engine/training.py\u001b[0m in \u001b[0;36mcompute_loss\u001b[0;34m(***failed resolving arguments***)\u001b[0m\n\u001b[1;32m   1080\u001b[0m         \"\"\"\n\u001b[1;32m   1081\u001b[0m         \u001b[0;32mdel\u001b[0m \u001b[0mx\u001b[0m  \u001b[0;31m# The default implementation does not use `x`.\u001b[0m\u001b[0;34m\u001b[0m\u001b[0;34m\u001b[0m\u001b[0m\n\u001b[0;32m-> 1082\u001b[0;31m         return self.compiled_loss(\n\u001b[0m\u001b[1;32m   1083\u001b[0m             \u001b[0my\u001b[0m\u001b[0;34m,\u001b[0m \u001b[0my_pred\u001b[0m\u001b[0;34m,\u001b[0m \u001b[0msample_weight\u001b[0m\u001b[0;34m,\u001b[0m \u001b[0mregularization_losses\u001b[0m\u001b[0;34m=\u001b[0m\u001b[0mself\u001b[0m\u001b[0;34m.\u001b[0m\u001b[0mlosses\u001b[0m\u001b[0;34m\u001b[0m\u001b[0;34m\u001b[0m\u001b[0m\n\u001b[1;32m   1084\u001b[0m         )\n",
            "\u001b[0;32m/usr/local/lib/python3.9/dist-packages/keras/engine/compile_utils.py\u001b[0m in \u001b[0;36m__call__\u001b[0;34m(self, y_true, y_pred, sample_weight, regularization_losses)\u001b[0m\n\u001b[1;32m    315\u001b[0m             )\n\u001b[1;32m    316\u001b[0m             \u001b[0mtotal_total_loss_mean_value\u001b[0m \u001b[0;34m=\u001b[0m \u001b[0mtf\u001b[0m\u001b[0;34m.\u001b[0m\u001b[0madd_n\u001b[0m\u001b[0;34m(\u001b[0m\u001b[0mtotal_loss_mean_values\u001b[0m\u001b[0;34m)\u001b[0m\u001b[0;34m\u001b[0m\u001b[0;34m\u001b[0m\u001b[0m\n\u001b[0;32m--> 317\u001b[0;31m             self._total_loss_mean.update_state(\n\u001b[0m\u001b[1;32m    318\u001b[0m                 \u001b[0mtotal_total_loss_mean_value\u001b[0m\u001b[0;34m,\u001b[0m \u001b[0msample_weight\u001b[0m\u001b[0;34m=\u001b[0m\u001b[0mbatch_dim\u001b[0m\u001b[0;34m\u001b[0m\u001b[0;34m\u001b[0m\u001b[0m\n\u001b[1;32m    319\u001b[0m             )\n",
            "\u001b[0;32m/usr/local/lib/python3.9/dist-packages/keras/utils/metrics_utils.py\u001b[0m in \u001b[0;36mdecorated\u001b[0;34m(metric_obj, *args, **kwargs)\u001b[0m\n\u001b[1;32m     75\u001b[0m \u001b[0;34m\u001b[0m\u001b[0m\n\u001b[1;32m     76\u001b[0m         \u001b[0;32mwith\u001b[0m \u001b[0mtf_utils\u001b[0m\u001b[0;34m.\u001b[0m\u001b[0mgraph_context_for_symbolic_tensors\u001b[0m\u001b[0;34m(\u001b[0m\u001b[0;34m*\u001b[0m\u001b[0margs\u001b[0m\u001b[0;34m,\u001b[0m \u001b[0;34m**\u001b[0m\u001b[0mkwargs\u001b[0m\u001b[0;34m)\u001b[0m\u001b[0;34m:\u001b[0m\u001b[0;34m\u001b[0m\u001b[0;34m\u001b[0m\u001b[0m\n\u001b[0;32m---> 77\u001b[0;31m             \u001b[0mupdate_op\u001b[0m \u001b[0;34m=\u001b[0m \u001b[0mupdate_state_fn\u001b[0m\u001b[0;34m(\u001b[0m\u001b[0;34m*\u001b[0m\u001b[0margs\u001b[0m\u001b[0;34m,\u001b[0m \u001b[0;34m**\u001b[0m\u001b[0mkwargs\u001b[0m\u001b[0;34m)\u001b[0m\u001b[0;34m\u001b[0m\u001b[0;34m\u001b[0m\u001b[0m\n\u001b[0m\u001b[1;32m     78\u001b[0m         \u001b[0;32mif\u001b[0m \u001b[0mupdate_op\u001b[0m \u001b[0;32mis\u001b[0m \u001b[0;32mnot\u001b[0m \u001b[0;32mNone\u001b[0m\u001b[0;34m:\u001b[0m  \u001b[0;31m# update_op will be None in eager execution.\u001b[0m\u001b[0;34m\u001b[0m\u001b[0;34m\u001b[0m\u001b[0m\n\u001b[1;32m     79\u001b[0m             \u001b[0mmetric_obj\u001b[0m\u001b[0;34m.\u001b[0m\u001b[0madd_update\u001b[0m\u001b[0;34m(\u001b[0m\u001b[0mupdate_op\u001b[0m\u001b[0;34m)\u001b[0m\u001b[0;34m\u001b[0m\u001b[0;34m\u001b[0m\u001b[0m\n",
            "\u001b[0;32m/usr/local/lib/python3.9/dist-packages/keras/metrics/base_metric.py\u001b[0m in \u001b[0;36mupdate_state_fn\u001b[0;34m(*args, **kwargs)\u001b[0m\n\u001b[1;32m    138\u001b[0m                     \u001b[0mobj_update_state\u001b[0m\u001b[0;34m,\u001b[0m \u001b[0mcontrol_status\u001b[0m\u001b[0;34m\u001b[0m\u001b[0;34m\u001b[0m\u001b[0m\n\u001b[1;32m    139\u001b[0m                 )\n\u001b[0;32m--> 140\u001b[0;31m                 \u001b[0;32mreturn\u001b[0m \u001b[0mag_update_state\u001b[0m\u001b[0;34m(\u001b[0m\u001b[0;34m*\u001b[0m\u001b[0margs\u001b[0m\u001b[0;34m,\u001b[0m \u001b[0;34m**\u001b[0m\u001b[0mkwargs\u001b[0m\u001b[0;34m)\u001b[0m\u001b[0;34m\u001b[0m\u001b[0;34m\u001b[0m\u001b[0m\n\u001b[0m\u001b[1;32m    141\u001b[0m \u001b[0;34m\u001b[0m\u001b[0m\n\u001b[1;32m    142\u001b[0m         \u001b[0;32melse\u001b[0m\u001b[0;34m:\u001b[0m\u001b[0;34m\u001b[0m\u001b[0;34m\u001b[0m\u001b[0m\n",
            "\u001b[0;32m/usr/local/lib/python3.9/dist-packages/tensorflow/python/autograph/impl/api.py\u001b[0m in \u001b[0;36mwrapper\u001b[0;34m(*args, **kwargs)\u001b[0m\n\u001b[1;32m    687\u001b[0m       \u001b[0;32mtry\u001b[0m\u001b[0;34m:\u001b[0m\u001b[0;34m\u001b[0m\u001b[0;34m\u001b[0m\u001b[0m\n\u001b[1;32m    688\u001b[0m         \u001b[0;32mwith\u001b[0m \u001b[0mconversion_ctx\u001b[0m\u001b[0;34m:\u001b[0m\u001b[0;34m\u001b[0m\u001b[0;34m\u001b[0m\u001b[0m\n\u001b[0;32m--> 689\u001b[0;31m           \u001b[0;32mreturn\u001b[0m \u001b[0mconverted_call\u001b[0m\u001b[0;34m(\u001b[0m\u001b[0mf\u001b[0m\u001b[0;34m,\u001b[0m \u001b[0margs\u001b[0m\u001b[0;34m,\u001b[0m \u001b[0mkwargs\u001b[0m\u001b[0;34m,\u001b[0m \u001b[0moptions\u001b[0m\u001b[0;34m=\u001b[0m\u001b[0moptions\u001b[0m\u001b[0;34m)\u001b[0m\u001b[0;34m\u001b[0m\u001b[0;34m\u001b[0m\u001b[0m\n\u001b[0m\u001b[1;32m    690\u001b[0m       \u001b[0;32mexcept\u001b[0m \u001b[0mException\u001b[0m \u001b[0;32mas\u001b[0m \u001b[0me\u001b[0m\u001b[0;34m:\u001b[0m  \u001b[0;31m# pylint:disable=broad-except\u001b[0m\u001b[0;34m\u001b[0m\u001b[0;34m\u001b[0m\u001b[0m\n\u001b[1;32m    691\u001b[0m         \u001b[0;32mif\u001b[0m \u001b[0mhasattr\u001b[0m\u001b[0;34m(\u001b[0m\u001b[0me\u001b[0m\u001b[0;34m,\u001b[0m \u001b[0;34m'ag_error_metadata'\u001b[0m\u001b[0;34m)\u001b[0m\u001b[0;34m:\u001b[0m\u001b[0;34m\u001b[0m\u001b[0;34m\u001b[0m\u001b[0m\n",
            "\u001b[0;32m/usr/local/lib/python3.9/dist-packages/tensorflow/python/autograph/impl/api.py\u001b[0m in \u001b[0;36mconverted_call\u001b[0;34m(f, args, kwargs, caller_fn_scope, options)\u001b[0m\n\u001b[1;32m    329\u001b[0m   \u001b[0;32mif\u001b[0m \u001b[0mconversion\u001b[0m\u001b[0;34m.\u001b[0m\u001b[0mis_in_allowlist_cache\u001b[0m\u001b[0;34m(\u001b[0m\u001b[0mf\u001b[0m\u001b[0;34m,\u001b[0m \u001b[0moptions\u001b[0m\u001b[0;34m)\u001b[0m\u001b[0;34m:\u001b[0m\u001b[0;34m\u001b[0m\u001b[0;34m\u001b[0m\u001b[0m\n\u001b[1;32m    330\u001b[0m     \u001b[0mlogging\u001b[0m\u001b[0;34m.\u001b[0m\u001b[0mlog\u001b[0m\u001b[0;34m(\u001b[0m\u001b[0;36m2\u001b[0m\u001b[0;34m,\u001b[0m \u001b[0;34m'Allowlisted %s: from cache'\u001b[0m\u001b[0;34m,\u001b[0m \u001b[0mf\u001b[0m\u001b[0;34m)\u001b[0m\u001b[0;34m\u001b[0m\u001b[0;34m\u001b[0m\u001b[0m\n\u001b[0;32m--> 331\u001b[0;31m     \u001b[0;32mreturn\u001b[0m \u001b[0m_call_unconverted\u001b[0m\u001b[0;34m(\u001b[0m\u001b[0mf\u001b[0m\u001b[0;34m,\u001b[0m \u001b[0margs\u001b[0m\u001b[0;34m,\u001b[0m \u001b[0mkwargs\u001b[0m\u001b[0;34m,\u001b[0m \u001b[0moptions\u001b[0m\u001b[0;34m,\u001b[0m \u001b[0;32mFalse\u001b[0m\u001b[0;34m)\u001b[0m\u001b[0;34m\u001b[0m\u001b[0;34m\u001b[0m\u001b[0m\n\u001b[0m\u001b[1;32m    332\u001b[0m \u001b[0;34m\u001b[0m\u001b[0m\n\u001b[1;32m    333\u001b[0m   \u001b[0;32mif\u001b[0m \u001b[0mag_ctx\u001b[0m\u001b[0;34m.\u001b[0m\u001b[0mcontrol_status_ctx\u001b[0m\u001b[0;34m(\u001b[0m\u001b[0;34m)\u001b[0m\u001b[0;34m.\u001b[0m\u001b[0mstatus\u001b[0m \u001b[0;34m==\u001b[0m \u001b[0mag_ctx\u001b[0m\u001b[0;34m.\u001b[0m\u001b[0mStatus\u001b[0m\u001b[0;34m.\u001b[0m\u001b[0mDISABLED\u001b[0m\u001b[0;34m:\u001b[0m\u001b[0;34m\u001b[0m\u001b[0;34m\u001b[0m\u001b[0m\n",
            "\u001b[0;32m/usr/local/lib/python3.9/dist-packages/tensorflow/python/autograph/impl/api.py\u001b[0m in \u001b[0;36m_call_unconverted\u001b[0;34m(f, args, kwargs, options, update_cache)\u001b[0m\n\u001b[1;32m    456\u001b[0m \u001b[0;34m\u001b[0m\u001b[0m\n\u001b[1;32m    457\u001b[0m   \u001b[0;32mif\u001b[0m \u001b[0mkwargs\u001b[0m \u001b[0;32mis\u001b[0m \u001b[0;32mnot\u001b[0m \u001b[0;32mNone\u001b[0m\u001b[0;34m:\u001b[0m\u001b[0;34m\u001b[0m\u001b[0;34m\u001b[0m\u001b[0m\n\u001b[0;32m--> 458\u001b[0;31m     \u001b[0;32mreturn\u001b[0m \u001b[0mf\u001b[0m\u001b[0;34m(\u001b[0m\u001b[0;34m*\u001b[0m\u001b[0margs\u001b[0m\u001b[0;34m,\u001b[0m \u001b[0;34m**\u001b[0m\u001b[0mkwargs\u001b[0m\u001b[0;34m)\u001b[0m\u001b[0;34m\u001b[0m\u001b[0;34m\u001b[0m\u001b[0m\n\u001b[0m\u001b[1;32m    459\u001b[0m   \u001b[0;32mreturn\u001b[0m \u001b[0mf\u001b[0m\u001b[0;34m(\u001b[0m\u001b[0;34m*\u001b[0m\u001b[0margs\u001b[0m\u001b[0;34m)\u001b[0m\u001b[0;34m\u001b[0m\u001b[0;34m\u001b[0m\u001b[0m\n\u001b[1;32m    460\u001b[0m \u001b[0;34m\u001b[0m\u001b[0m\n",
            "\u001b[0;32m/usr/local/lib/python3.9/dist-packages/keras/metrics/base_metric.py\u001b[0m in \u001b[0;36mupdate_state\u001b[0;34m(self, values, sample_weight)\u001b[0m\n\u001b[1;32m    492\u001b[0m             \u001b[0mvalues\u001b[0m \u001b[0;34m=\u001b[0m \u001b[0mtf\u001b[0m\u001b[0;34m.\u001b[0m\u001b[0mmultiply\u001b[0m\u001b[0;34m(\u001b[0m\u001b[0mvalues\u001b[0m\u001b[0;34m,\u001b[0m \u001b[0msample_weight\u001b[0m\u001b[0;34m)\u001b[0m\u001b[0;34m\u001b[0m\u001b[0;34m\u001b[0m\u001b[0m\n\u001b[1;32m    493\u001b[0m \u001b[0;34m\u001b[0m\u001b[0m\n\u001b[0;32m--> 494\u001b[0;31m         \u001b[0mvalue_sum\u001b[0m \u001b[0;34m=\u001b[0m \u001b[0mtf\u001b[0m\u001b[0;34m.\u001b[0m\u001b[0mreduce_sum\u001b[0m\u001b[0;34m(\u001b[0m\u001b[0mvalues\u001b[0m\u001b[0;34m)\u001b[0m\u001b[0;34m\u001b[0m\u001b[0;34m\u001b[0m\u001b[0m\n\u001b[0m\u001b[1;32m    495\u001b[0m         \u001b[0;32mwith\u001b[0m \u001b[0mtf\u001b[0m\u001b[0;34m.\u001b[0m\u001b[0mcontrol_dependencies\u001b[0m\u001b[0;34m(\u001b[0m\u001b[0;34m[\u001b[0m\u001b[0mvalue_sum\u001b[0m\u001b[0;34m]\u001b[0m\u001b[0;34m)\u001b[0m\u001b[0;34m:\u001b[0m\u001b[0;34m\u001b[0m\u001b[0;34m\u001b[0m\u001b[0m\n\u001b[1;32m    496\u001b[0m             \u001b[0mupdate_total_op\u001b[0m \u001b[0;34m=\u001b[0m \u001b[0mself\u001b[0m\u001b[0;34m.\u001b[0m\u001b[0mtotal\u001b[0m\u001b[0;34m.\u001b[0m\u001b[0massign_add\u001b[0m\u001b[0;34m(\u001b[0m\u001b[0mvalue_sum\u001b[0m\u001b[0;34m)\u001b[0m\u001b[0;34m\u001b[0m\u001b[0;34m\u001b[0m\u001b[0m\n",
            "\u001b[0;32m/usr/local/lib/python3.9/dist-packages/tensorflow/python/util/traceback_utils.py\u001b[0m in \u001b[0;36merror_handler\u001b[0;34m(*args, **kwargs)\u001b[0m\n\u001b[1;32m    148\u001b[0m     \u001b[0mfiltered_tb\u001b[0m \u001b[0;34m=\u001b[0m \u001b[0;32mNone\u001b[0m\u001b[0;34m\u001b[0m\u001b[0;34m\u001b[0m\u001b[0m\n\u001b[1;32m    149\u001b[0m     \u001b[0;32mtry\u001b[0m\u001b[0;34m:\u001b[0m\u001b[0;34m\u001b[0m\u001b[0;34m\u001b[0m\u001b[0m\n\u001b[0;32m--> 150\u001b[0;31m       \u001b[0;32mreturn\u001b[0m \u001b[0mfn\u001b[0m\u001b[0;34m(\u001b[0m\u001b[0;34m*\u001b[0m\u001b[0margs\u001b[0m\u001b[0;34m,\u001b[0m \u001b[0;34m**\u001b[0m\u001b[0mkwargs\u001b[0m\u001b[0;34m)\u001b[0m\u001b[0;34m\u001b[0m\u001b[0;34m\u001b[0m\u001b[0m\n\u001b[0m\u001b[1;32m    151\u001b[0m     \u001b[0;32mexcept\u001b[0m \u001b[0mException\u001b[0m \u001b[0;32mas\u001b[0m \u001b[0me\u001b[0m\u001b[0;34m:\u001b[0m\u001b[0;34m\u001b[0m\u001b[0;34m\u001b[0m\u001b[0m\n\u001b[1;32m    152\u001b[0m       \u001b[0mfiltered_tb\u001b[0m \u001b[0;34m=\u001b[0m \u001b[0m_process_traceback_frames\u001b[0m\u001b[0;34m(\u001b[0m\u001b[0me\u001b[0m\u001b[0;34m.\u001b[0m\u001b[0m__traceback__\u001b[0m\u001b[0;34m)\u001b[0m\u001b[0;34m\u001b[0m\u001b[0;34m\u001b[0m\u001b[0m\n",
            "\u001b[0;32m/usr/local/lib/python3.9/dist-packages/tensorflow/python/util/dispatch.py\u001b[0m in \u001b[0;36mop_dispatch_handler\u001b[0;34m(*args, **kwargs)\u001b[0m\n\u001b[1;32m   1174\u001b[0m       \u001b[0;31m# Fallback dispatch system (dispatch v1):\u001b[0m\u001b[0;34m\u001b[0m\u001b[0;34m\u001b[0m\u001b[0m\n\u001b[1;32m   1175\u001b[0m       \u001b[0;32mtry\u001b[0m\u001b[0;34m:\u001b[0m\u001b[0;34m\u001b[0m\u001b[0;34m\u001b[0m\u001b[0m\n\u001b[0;32m-> 1176\u001b[0;31m         \u001b[0;32mreturn\u001b[0m \u001b[0mdispatch_target\u001b[0m\u001b[0;34m(\u001b[0m\u001b[0;34m*\u001b[0m\u001b[0margs\u001b[0m\u001b[0;34m,\u001b[0m \u001b[0;34m**\u001b[0m\u001b[0mkwargs\u001b[0m\u001b[0;34m)\u001b[0m\u001b[0;34m\u001b[0m\u001b[0;34m\u001b[0m\u001b[0m\n\u001b[0m\u001b[1;32m   1177\u001b[0m       \u001b[0;32mexcept\u001b[0m \u001b[0;34m(\u001b[0m\u001b[0mTypeError\u001b[0m\u001b[0;34m,\u001b[0m \u001b[0mValueError\u001b[0m\u001b[0;34m)\u001b[0m\u001b[0;34m:\u001b[0m\u001b[0;34m\u001b[0m\u001b[0;34m\u001b[0m\u001b[0m\n\u001b[1;32m   1178\u001b[0m         \u001b[0;31m# Note: convert_to_eager_tensor currently raises a ValueError, not a\u001b[0m\u001b[0;34m\u001b[0m\u001b[0;34m\u001b[0m\u001b[0m\n",
            "\u001b[0;32m/usr/local/lib/python3.9/dist-packages/tensorflow/python/ops/math_ops.py\u001b[0m in \u001b[0;36mreduce_sum\u001b[0;34m(input_tensor, axis, keepdims, name)\u001b[0m\n\u001b[1;32m   2311\u001b[0m \u001b[0;34m\u001b[0m\u001b[0m\n\u001b[1;32m   2312\u001b[0m   return reduce_sum_with_dims(input_tensor, axis, keepdims, name,\n\u001b[0;32m-> 2313\u001b[0;31m                               _ReductionDims(input_tensor, axis))\n\u001b[0m\u001b[1;32m   2314\u001b[0m \u001b[0;34m\u001b[0m\u001b[0m\n\u001b[1;32m   2315\u001b[0m \u001b[0;34m\u001b[0m\u001b[0m\n",
            "\u001b[0;32m/usr/local/lib/python3.9/dist-packages/tensorflow/python/ops/math_ops.py\u001b[0m in \u001b[0;36m_ReductionDims\u001b[0;34m(x, axis)\u001b[0m\n\u001b[1;32m   2151\u001b[0m     \u001b[0;32melse\u001b[0m\u001b[0;34m:\u001b[0m\u001b[0;34m\u001b[0m\u001b[0;34m\u001b[0m\u001b[0m\n\u001b[1;32m   2152\u001b[0m       \u001b[0;31m# Otherwise, we rely on Range and Rank to do the right thing at run-time.\u001b[0m\u001b[0;34m\u001b[0m\u001b[0;34m\u001b[0m\u001b[0m\n\u001b[0;32m-> 2153\u001b[0;31m       \u001b[0;32mreturn\u001b[0m \u001b[0mrange\u001b[0m\u001b[0;34m(\u001b[0m\u001b[0;36m0\u001b[0m\u001b[0;34m,\u001b[0m \u001b[0marray_ops\u001b[0m\u001b[0;34m.\u001b[0m\u001b[0mrank\u001b[0m\u001b[0;34m(\u001b[0m\u001b[0mx\u001b[0m\u001b[0;34m)\u001b[0m\u001b[0;34m)\u001b[0m\u001b[0;34m\u001b[0m\u001b[0;34m\u001b[0m\u001b[0m\n\u001b[0m\u001b[1;32m   2154\u001b[0m \u001b[0;34m\u001b[0m\u001b[0m\n\u001b[1;32m   2155\u001b[0m \u001b[0;34m\u001b[0m\u001b[0m\n",
            "\u001b[0;32m/usr/local/lib/python3.9/dist-packages/tensorflow/python/util/traceback_utils.py\u001b[0m in \u001b[0;36merror_handler\u001b[0;34m(*args, **kwargs)\u001b[0m\n\u001b[1;32m    148\u001b[0m     \u001b[0mfiltered_tb\u001b[0m \u001b[0;34m=\u001b[0m \u001b[0;32mNone\u001b[0m\u001b[0;34m\u001b[0m\u001b[0;34m\u001b[0m\u001b[0m\n\u001b[1;32m    149\u001b[0m     \u001b[0;32mtry\u001b[0m\u001b[0;34m:\u001b[0m\u001b[0;34m\u001b[0m\u001b[0;34m\u001b[0m\u001b[0m\n\u001b[0;32m--> 150\u001b[0;31m       \u001b[0;32mreturn\u001b[0m \u001b[0mfn\u001b[0m\u001b[0;34m(\u001b[0m\u001b[0;34m*\u001b[0m\u001b[0margs\u001b[0m\u001b[0;34m,\u001b[0m \u001b[0;34m**\u001b[0m\u001b[0mkwargs\u001b[0m\u001b[0;34m)\u001b[0m\u001b[0;34m\u001b[0m\u001b[0;34m\u001b[0m\u001b[0m\n\u001b[0m\u001b[1;32m    151\u001b[0m     \u001b[0;32mexcept\u001b[0m \u001b[0mException\u001b[0m \u001b[0;32mas\u001b[0m \u001b[0me\u001b[0m\u001b[0;34m:\u001b[0m\u001b[0;34m\u001b[0m\u001b[0;34m\u001b[0m\u001b[0m\n\u001b[1;32m    152\u001b[0m       \u001b[0mfiltered_tb\u001b[0m \u001b[0;34m=\u001b[0m \u001b[0m_process_traceback_frames\u001b[0m\u001b[0;34m(\u001b[0m\u001b[0me\u001b[0m\u001b[0;34m.\u001b[0m\u001b[0m__traceback__\u001b[0m\u001b[0;34m)\u001b[0m\u001b[0;34m\u001b[0m\u001b[0;34m\u001b[0m\u001b[0m\n",
            "\u001b[0;32m/usr/local/lib/python3.9/dist-packages/tensorflow/python/util/dispatch.py\u001b[0m in \u001b[0;36mop_dispatch_handler\u001b[0;34m(*args, **kwargs)\u001b[0m\n\u001b[1;32m   1174\u001b[0m       \u001b[0;31m# Fallback dispatch system (dispatch v1):\u001b[0m\u001b[0;34m\u001b[0m\u001b[0;34m\u001b[0m\u001b[0m\n\u001b[1;32m   1175\u001b[0m       \u001b[0;32mtry\u001b[0m\u001b[0;34m:\u001b[0m\u001b[0;34m\u001b[0m\u001b[0;34m\u001b[0m\u001b[0m\n\u001b[0;32m-> 1176\u001b[0;31m         \u001b[0;32mreturn\u001b[0m \u001b[0mdispatch_target\u001b[0m\u001b[0;34m(\u001b[0m\u001b[0;34m*\u001b[0m\u001b[0margs\u001b[0m\u001b[0;34m,\u001b[0m \u001b[0;34m**\u001b[0m\u001b[0mkwargs\u001b[0m\u001b[0;34m)\u001b[0m\u001b[0;34m\u001b[0m\u001b[0;34m\u001b[0m\u001b[0m\n\u001b[0m\u001b[1;32m   1177\u001b[0m       \u001b[0;32mexcept\u001b[0m \u001b[0;34m(\u001b[0m\u001b[0mTypeError\u001b[0m\u001b[0;34m,\u001b[0m \u001b[0mValueError\u001b[0m\u001b[0;34m)\u001b[0m\u001b[0;34m:\u001b[0m\u001b[0;34m\u001b[0m\u001b[0;34m\u001b[0m\u001b[0m\n\u001b[1;32m   1178\u001b[0m         \u001b[0;31m# Note: convert_to_eager_tensor currently raises a ValueError, not a\u001b[0m\u001b[0;34m\u001b[0m\u001b[0;34m\u001b[0m\u001b[0m\n",
            "\u001b[0;32m/usr/local/lib/python3.9/dist-packages/tensorflow/python/ops/array_ops.py\u001b[0m in \u001b[0;36mrank\u001b[0;34m(input, name)\u001b[0m\n\u001b[1;32m    855\u001b[0m   \u001b[0;34m@\u001b[0m\u001b[0mend_compatibility\u001b[0m\u001b[0;34m\u001b[0m\u001b[0;34m\u001b[0m\u001b[0m\n\u001b[1;32m    856\u001b[0m   \"\"\"\n\u001b[0;32m--> 857\u001b[0;31m   \u001b[0;32mreturn\u001b[0m \u001b[0mrank_internal\u001b[0m\u001b[0;34m(\u001b[0m\u001b[0minput\u001b[0m\u001b[0;34m,\u001b[0m \u001b[0mname\u001b[0m\u001b[0;34m,\u001b[0m \u001b[0moptimize\u001b[0m\u001b[0;34m=\u001b[0m\u001b[0;32mTrue\u001b[0m\u001b[0;34m)\u001b[0m\u001b[0;34m\u001b[0m\u001b[0;34m\u001b[0m\u001b[0m\n\u001b[0m\u001b[1;32m    858\u001b[0m \u001b[0;34m\u001b[0m\u001b[0m\n\u001b[1;32m    859\u001b[0m \u001b[0;34m\u001b[0m\u001b[0m\n",
            "\u001b[0;32m/usr/local/lib/python3.9/dist-packages/tensorflow/python/ops/array_ops.py\u001b[0m in \u001b[0;36mrank_internal\u001b[0;34m(input, name, optimize)\u001b[0m\n\u001b[1;32m    878\u001b[0m       \u001b[0minput_shape\u001b[0m \u001b[0;34m=\u001b[0m \u001b[0minput\u001b[0m\u001b[0;34m.\u001b[0m\u001b[0mget_shape\u001b[0m\u001b[0;34m(\u001b[0m\u001b[0;34m)\u001b[0m\u001b[0;34m\u001b[0m\u001b[0;34m\u001b[0m\u001b[0m\n\u001b[1;32m    879\u001b[0m       \u001b[0;32mif\u001b[0m \u001b[0moptimize\u001b[0m \u001b[0;32mand\u001b[0m \u001b[0minput_shape\u001b[0m\u001b[0;34m.\u001b[0m\u001b[0mndims\u001b[0m \u001b[0;32mis\u001b[0m \u001b[0;32mnot\u001b[0m \u001b[0;32mNone\u001b[0m\u001b[0;34m:\u001b[0m\u001b[0;34m\u001b[0m\u001b[0;34m\u001b[0m\u001b[0m\n\u001b[0;32m--> 880\u001b[0;31m         \u001b[0;32mreturn\u001b[0m \u001b[0mconstant\u001b[0m\u001b[0;34m(\u001b[0m\u001b[0minput_shape\u001b[0m\u001b[0;34m.\u001b[0m\u001b[0mndims\u001b[0m\u001b[0;34m,\u001b[0m \u001b[0mdtypes\u001b[0m\u001b[0;34m.\u001b[0m\u001b[0mint32\u001b[0m\u001b[0;34m,\u001b[0m \u001b[0mname\u001b[0m\u001b[0;34m=\u001b[0m\u001b[0mname\u001b[0m\u001b[0;34m)\u001b[0m\u001b[0;34m\u001b[0m\u001b[0;34m\u001b[0m\u001b[0m\n\u001b[0m\u001b[1;32m    881\u001b[0m       \u001b[0;32mreturn\u001b[0m \u001b[0mgen_array_ops\u001b[0m\u001b[0;34m.\u001b[0m\u001b[0mrank\u001b[0m\u001b[0;34m(\u001b[0m\u001b[0minput\u001b[0m\u001b[0;34m,\u001b[0m \u001b[0mname\u001b[0m\u001b[0;34m=\u001b[0m\u001b[0mname\u001b[0m\u001b[0;34m)\u001b[0m\u001b[0;34m\u001b[0m\u001b[0;34m\u001b[0m\u001b[0m\n\u001b[1;32m    882\u001b[0m \u001b[0;34m\u001b[0m\u001b[0m\n",
            "\u001b[0;32m/usr/local/lib/python3.9/dist-packages/tensorflow/python/framework/constant_op.py\u001b[0m in \u001b[0;36mconstant\u001b[0;34m(value, dtype, shape, name)\u001b[0m\n\u001b[1;32m    265\u001b[0m     \u001b[0mValueError\u001b[0m\u001b[0;34m:\u001b[0m \u001b[0;32mif\u001b[0m \u001b[0mcalled\u001b[0m \u001b[0mon\u001b[0m \u001b[0ma\u001b[0m \u001b[0msymbolic\u001b[0m \u001b[0mtensor\u001b[0m\u001b[0;34m.\u001b[0m\u001b[0;34m\u001b[0m\u001b[0;34m\u001b[0m\u001b[0m\n\u001b[1;32m    266\u001b[0m   \"\"\"\n\u001b[0;32m--> 267\u001b[0;31m   return _constant_impl(value, dtype, shape, name, verify_shape=False,\n\u001b[0m\u001b[1;32m    268\u001b[0m                         allow_broadcast=True)\n\u001b[1;32m    269\u001b[0m \u001b[0;34m\u001b[0m\u001b[0m\n",
            "\u001b[0;32m/usr/local/lib/python3.9/dist-packages/tensorflow/python/framework/constant_op.py\u001b[0m in \u001b[0;36m_constant_impl\u001b[0;34m(value, dtype, shape, name, verify_shape, allow_broadcast)\u001b[0m\n\u001b[1;32m    287\u001b[0m   \u001b[0mdtype_value\u001b[0m \u001b[0;34m=\u001b[0m \u001b[0mattr_value_pb2\u001b[0m\u001b[0;34m.\u001b[0m\u001b[0mAttrValue\u001b[0m\u001b[0;34m(\u001b[0m\u001b[0mtype\u001b[0m\u001b[0;34m=\u001b[0m\u001b[0mtensor_value\u001b[0m\u001b[0;34m.\u001b[0m\u001b[0mtensor\u001b[0m\u001b[0;34m.\u001b[0m\u001b[0mdtype\u001b[0m\u001b[0;34m)\u001b[0m\u001b[0;34m\u001b[0m\u001b[0;34m\u001b[0m\u001b[0m\n\u001b[1;32m    288\u001b[0m   \u001b[0mattrs\u001b[0m \u001b[0;34m=\u001b[0m \u001b[0;34m{\u001b[0m\u001b[0;34m\"value\"\u001b[0m\u001b[0;34m:\u001b[0m \u001b[0mtensor_value\u001b[0m\u001b[0;34m,\u001b[0m \u001b[0;34m\"dtype\"\u001b[0m\u001b[0;34m:\u001b[0m \u001b[0mdtype_value\u001b[0m\u001b[0;34m}\u001b[0m\u001b[0;34m\u001b[0m\u001b[0;34m\u001b[0m\u001b[0m\n\u001b[0;32m--> 289\u001b[0;31m   const_tensor = g._create_op_internal(  # pylint: disable=protected-access\n\u001b[0m\u001b[1;32m    290\u001b[0m       \"Const\", [], [dtype_value.type], attrs=attrs, name=name).outputs[0]\n\u001b[1;32m    291\u001b[0m \u001b[0;34m\u001b[0m\u001b[0m\n",
            "\u001b[0;32m/usr/local/lib/python3.9/dist-packages/tensorflow/python/framework/func_graph.py\u001b[0m in \u001b[0;36m_create_op_internal\u001b[0;34m(self, op_type, inputs, dtypes, input_types, name, attrs, op_def, compute_device)\u001b[0m\n\u001b[1;32m    747\u001b[0m       \u001b[0minp\u001b[0m \u001b[0;34m=\u001b[0m \u001b[0mself\u001b[0m\u001b[0;34m.\u001b[0m\u001b[0mcapture\u001b[0m\u001b[0;34m(\u001b[0m\u001b[0minp\u001b[0m\u001b[0;34m)\u001b[0m\u001b[0;34m\u001b[0m\u001b[0;34m\u001b[0m\u001b[0m\n\u001b[1;32m    748\u001b[0m       \u001b[0mcaptured_inputs\u001b[0m\u001b[0;34m.\u001b[0m\u001b[0mappend\u001b[0m\u001b[0;34m(\u001b[0m\u001b[0minp\u001b[0m\u001b[0;34m)\u001b[0m\u001b[0;34m\u001b[0m\u001b[0;34m\u001b[0m\u001b[0m\n\u001b[0;32m--> 749\u001b[0;31m     return super(FuncGraph, self)._create_op_internal(  # pylint: disable=protected-access\n\u001b[0m\u001b[1;32m    750\u001b[0m         \u001b[0mop_type\u001b[0m\u001b[0;34m,\u001b[0m \u001b[0mcaptured_inputs\u001b[0m\u001b[0;34m,\u001b[0m \u001b[0mdtypes\u001b[0m\u001b[0;34m,\u001b[0m \u001b[0minput_types\u001b[0m\u001b[0;34m,\u001b[0m \u001b[0mname\u001b[0m\u001b[0;34m,\u001b[0m \u001b[0mattrs\u001b[0m\u001b[0;34m,\u001b[0m \u001b[0mop_def\u001b[0m\u001b[0;34m,\u001b[0m\u001b[0;34m\u001b[0m\u001b[0;34m\u001b[0m\u001b[0m\n\u001b[1;32m    751\u001b[0m         compute_device)\n",
            "\u001b[0;32m/usr/local/lib/python3.9/dist-packages/tensorflow/python/framework/ops.py\u001b[0m in \u001b[0;36m_create_op_internal\u001b[0;34m(self, op_type, inputs, dtypes, input_types, name, attrs, op_def, compute_device)\u001b[0m\n\u001b[1;32m   3796\u001b[0m     \u001b[0;31m# Session.run call cannot occur between creating and mutating the op.\u001b[0m\u001b[0;34m\u001b[0m\u001b[0;34m\u001b[0m\u001b[0m\n\u001b[1;32m   3797\u001b[0m     \u001b[0;32mwith\u001b[0m \u001b[0mself\u001b[0m\u001b[0;34m.\u001b[0m\u001b[0m_mutation_lock\u001b[0m\u001b[0;34m(\u001b[0m\u001b[0;34m)\u001b[0m\u001b[0;34m:\u001b[0m\u001b[0;34m\u001b[0m\u001b[0;34m\u001b[0m\u001b[0m\n\u001b[0;32m-> 3798\u001b[0;31m       ret = Operation(\n\u001b[0m\u001b[1;32m   3799\u001b[0m           \u001b[0mnode_def\u001b[0m\u001b[0;34m,\u001b[0m\u001b[0;34m\u001b[0m\u001b[0;34m\u001b[0m\u001b[0m\n\u001b[1;32m   3800\u001b[0m           \u001b[0mself\u001b[0m\u001b[0;34m,\u001b[0m\u001b[0;34m\u001b[0m\u001b[0;34m\u001b[0m\u001b[0m\n",
            "\u001b[0;32m/usr/local/lib/python3.9/dist-packages/tensorflow/python/framework/ops.py\u001b[0m in \u001b[0;36m__init__\u001b[0;34m(***failed resolving arguments***)\u001b[0m\n\u001b[1;32m   2104\u001b[0m \u001b[0;34m\u001b[0m\u001b[0m\n\u001b[1;32m   2105\u001b[0m     \u001b[0;31m# Initialize c_op from node_def and other inputs\u001b[0m\u001b[0;34m\u001b[0m\u001b[0;34m\u001b[0m\u001b[0m\n\u001b[0;32m-> 2106\u001b[0;31m     \u001b[0mc_op\u001b[0m \u001b[0;34m=\u001b[0m \u001b[0m_create_c_op\u001b[0m\u001b[0;34m(\u001b[0m\u001b[0mg\u001b[0m\u001b[0;34m,\u001b[0m \u001b[0mnode_def\u001b[0m\u001b[0;34m,\u001b[0m \u001b[0minputs\u001b[0m\u001b[0;34m,\u001b[0m \u001b[0mcontrol_input_ops\u001b[0m\u001b[0;34m,\u001b[0m \u001b[0mop_def\u001b[0m\u001b[0;34m=\u001b[0m\u001b[0mop_def\u001b[0m\u001b[0;34m)\u001b[0m\u001b[0;34m\u001b[0m\u001b[0;34m\u001b[0m\u001b[0m\n\u001b[0m\u001b[1;32m   2107\u001b[0m     \u001b[0mself\u001b[0m\u001b[0;34m.\u001b[0m\u001b[0m_init_from_c_op\u001b[0m\u001b[0;34m(\u001b[0m\u001b[0mc_op\u001b[0m\u001b[0;34m=\u001b[0m\u001b[0mc_op\u001b[0m\u001b[0;34m,\u001b[0m \u001b[0mg\u001b[0m\u001b[0;34m=\u001b[0m\u001b[0mg\u001b[0m\u001b[0;34m)\u001b[0m\u001b[0;34m\u001b[0m\u001b[0;34m\u001b[0m\u001b[0m\n\u001b[1;32m   2108\u001b[0m \u001b[0;34m\u001b[0m\u001b[0m\n",
            "\u001b[0;32m/usr/local/lib/python3.9/dist-packages/tensorflow/python/util/traceback_utils.py\u001b[0m in \u001b[0;36merror_handler\u001b[0;34m(*args, **kwargs)\u001b[0m\n\u001b[1;32m    148\u001b[0m     \u001b[0mfiltered_tb\u001b[0m \u001b[0;34m=\u001b[0m \u001b[0;32mNone\u001b[0m\u001b[0;34m\u001b[0m\u001b[0;34m\u001b[0m\u001b[0m\n\u001b[1;32m    149\u001b[0m     \u001b[0;32mtry\u001b[0m\u001b[0;34m:\u001b[0m\u001b[0;34m\u001b[0m\u001b[0;34m\u001b[0m\u001b[0m\n\u001b[0;32m--> 150\u001b[0;31m       \u001b[0;32mreturn\u001b[0m \u001b[0mfn\u001b[0m\u001b[0;34m(\u001b[0m\u001b[0;34m*\u001b[0m\u001b[0margs\u001b[0m\u001b[0;34m,\u001b[0m \u001b[0;34m**\u001b[0m\u001b[0mkwargs\u001b[0m\u001b[0;34m)\u001b[0m\u001b[0;34m\u001b[0m\u001b[0;34m\u001b[0m\u001b[0m\n\u001b[0m\u001b[1;32m    151\u001b[0m     \u001b[0;32mexcept\u001b[0m \u001b[0mException\u001b[0m \u001b[0;32mas\u001b[0m \u001b[0me\u001b[0m\u001b[0;34m:\u001b[0m\u001b[0;34m\u001b[0m\u001b[0;34m\u001b[0m\u001b[0m\n\u001b[1;32m    152\u001b[0m       \u001b[0mfiltered_tb\u001b[0m \u001b[0;34m=\u001b[0m \u001b[0m_process_traceback_frames\u001b[0m\u001b[0;34m(\u001b[0m\u001b[0me\u001b[0m\u001b[0;34m.\u001b[0m\u001b[0m__traceback__\u001b[0m\u001b[0;34m)\u001b[0m\u001b[0;34m\u001b[0m\u001b[0;34m\u001b[0m\u001b[0m\n",
            "\u001b[0;32m/usr/local/lib/python3.9/dist-packages/tensorflow/python/framework/ops.py\u001b[0m in \u001b[0;36m_create_c_op\u001b[0;34m(graph, node_def, inputs, control_inputs, op_def, extract_traceback)\u001b[0m\n\u001b[1;32m   1958\u001b[0m     \u001b[0;31m# TODO(skyewm): this creates and deletes a new TF_Status for every attr.\u001b[0m\u001b[0;34m\u001b[0m\u001b[0;34m\u001b[0m\u001b[0m\n\u001b[1;32m   1959\u001b[0m     \u001b[0;31m# It might be worth creating a convenient way to re-use the same status.\u001b[0m\u001b[0;34m\u001b[0m\u001b[0;34m\u001b[0m\u001b[0m\n\u001b[0;32m-> 1960\u001b[0;31m     pywrap_tf_session.TF_SetAttrValueProto(op_desc, compat.as_str(name),\n\u001b[0m\u001b[1;32m   1961\u001b[0m                                            serialized)\n\u001b[1;32m   1962\u001b[0m \u001b[0;34m\u001b[0m\u001b[0m\n",
            "\u001b[0;31mKeyboardInterrupt\u001b[0m: "
          ]
        }
      ]
    },
    {
      "cell_type": "code",
      "source": [
        "print(best_hps.values)"
      ],
      "metadata": {
        "id": "e01CoYUXqmDs"
      },
      "execution_count": null,
      "outputs": []
    },
    {
      "cell_type": "code",
      "source": [
        "model = tuner.get_best_models(num_models=1)[0]\n",
        "# model = tuner.hypermodel.build(best_hps)\n",
        "# model.fit(X_train, y_train, epochs=512, verbose=0, validation_split=0.2, callbacks=es)\n",
        "model.build(input_shape=X.shape)\n",
        "scores = model.evaluate(X_test, y_test)"
      ],
      "metadata": {
        "colab": {
          "base_uri": "https://localhost:8080/"
        },
        "id": "CTfeUnyqd1vN",
        "outputId": "a4c14944-e1ba-4e54-f0bc-2406c21f3360"
      },
      "execution_count": null,
      "outputs": [
        {
          "output_type": "stream",
          "name": "stderr",
          "text": [
            "WARNING:tensorflow:Detecting that an object or model or tf.train.Checkpoint is being deleted with unrestored values. See the following logs for the specific values in question. To silence these warnings, use `status.expect_partial()`. See https://www.tensorflow.org/api_docs/python/tf/train/Checkpoint#restorefor details about the status object returned by the restore function.\n",
            "WARNING:tensorflow:Value in checkpoint could not be found in the restored object: (root).optimizer.iter\n",
            "WARNING:tensorflow:Value in checkpoint could not be found in the restored object: (root).optimizer.beta_1\n",
            "WARNING:tensorflow:Value in checkpoint could not be found in the restored object: (root).optimizer.beta_2\n",
            "WARNING:tensorflow:Value in checkpoint could not be found in the restored object: (root).optimizer.decay\n",
            "WARNING:tensorflow:Value in checkpoint could not be found in the restored object: (root).optimizer.learning_rate\n",
            "WARNING:tensorflow:Detecting that an object or model or tf.train.Checkpoint is being deleted with unrestored values. See the following logs for the specific values in question. To silence these warnings, use `status.expect_partial()`. See https://www.tensorflow.org/api_docs/python/tf/train/Checkpoint#restorefor details about the status object returned by the restore function.\n",
            "WARNING:tensorflow:Value in checkpoint could not be found in the restored object: (root).optimizer.iter\n",
            "WARNING:tensorflow:Value in checkpoint could not be found in the restored object: (root).optimizer.beta_1\n",
            "WARNING:tensorflow:Value in checkpoint could not be found in the restored object: (root).optimizer.beta_2\n",
            "WARNING:tensorflow:Value in checkpoint could not be found in the restored object: (root).optimizer.decay\n",
            "WARNING:tensorflow:Value in checkpoint could not be found in the restored object: (root).optimizer.learning_rate\n"
          ]
        },
        {
          "output_type": "stream",
          "name": "stdout",
          "text": [
            "51/51 [==============================] - 0s 2ms/step - loss: 0.5637 - accuracy: 0.7822\n"
          ]
        }
      ]
    },
    {
      "cell_type": "code",
      "source": [
        "print(\"%s: %.2f%%\" % (model.metrics_names[1], scores[1] * 100))\n",
        "model.summary()"
      ],
      "metadata": {
        "colab": {
          "base_uri": "https://localhost:8080/"
        },
        "id": "WAEee5o9g-NJ",
        "outputId": "d9ccd24a-e929-422f-cffc-87778105d134"
      },
      "execution_count": null,
      "outputs": [
        {
          "output_type": "stream",
          "name": "stdout",
          "text": [
            "accuracy: 78.22%\n",
            "Model: \"sequential\"\n",
            "_________________________________________________________________\n",
            " Layer (type)                Output Shape              Param #   \n",
            "=================================================================\n",
            " dense (Dense)               (None, 124)               11284     \n",
            "                                                                 \n",
            " dropout (Dropout)           (None, 124)               0         \n",
            "                                                                 \n",
            " dense_1 (Dense)             (None, 124)               15500     \n",
            "                                                                 \n",
            " dropout_1 (Dropout)         (None, 124)               0         \n",
            "                                                                 \n",
            " dense_2 (Dense)             (None, 124)               15500     \n",
            "                                                                 \n",
            " dense_3 (Dense)             (None, 1)                 125       \n",
            "                                                                 \n",
            "=================================================================\n",
            "Total params: 42,409\n",
            "Trainable params: 42,409\n",
            "Non-trainable params: 0\n",
            "_________________________________________________________________\n"
          ]
        }
      ]
    },
    {
      "cell_type": "markdown",
      "source": [
        "## DNN"
      ],
      "metadata": {
        "id": "lsrWbSSwAs7s"
      }
    },
    {
      "cell_type": "code",
      "source": [
        "UNITS = 24\n",
        "EPOCH = 128\n",
        "DROPOUT = 0.05\n",
        "LEARNINGRATE = 0.001\n",
        "\n",
        "# 검증 데이터 손실이 3회 증가하면 정해진 에포크가 도달하지 못하였더라도 학습을 조기 종료(Early Stopping)\n",
        "es = EarlyStopping(monitor='val_loss', mode='min', verbose=1, patience=10)\n",
        "\n",
        "# 검증 데이터의 정확도(val_acc)가 이전보다 좋아질 경우에만 모델을 저장\n",
        "mc = ModelCheckpoint('best_model.h5', monitor='val_acc', mode='max', verbose=1, save_best_only=True)"
      ],
      "metadata": {
        "id": "NIPEqWp9AlbV"
      },
      "execution_count": null,
      "outputs": []
    },
    {
      "cell_type": "code",
      "source": [
        "model = Sequential()\n",
        "model.add(Dense(UNITS, activation='relu'))  # input layer requires input_dim param\n",
        "\n",
        "model.add(Dropout(DROPOUT))\n",
        "model.add(Dense(UNITS, activation='relu'))\n",
        "\n",
        "model.add(Dropout(DROPOUT))\n",
        "model.add(Dense(UNITS, activation='relu'))\n",
        "\n",
        "model.add(Dense(1, activation='sigmoid'))  # sigmoid instead of relu for final probability between 0 and 1\n",
        "\n",
        "model.compile(loss=\"binary_crossentropy\",\n",
        "              optimizer = Adam(learning_rate = LEARNINGRATE),\n",
        "              metrics=[Recall()])\n",
        "\n",
        "history = model.fit(X_train, y_train, epochs=100, verbose=0, validation_split=0.2, callbacks=es)\n",
        "scores = model.evaluate(X_test, y_test)"
      ],
      "metadata": {
        "colab": {
          "base_uri": "https://localhost:8080/"
        },
        "id": "Gf1NlOspA6pc",
        "outputId": "9c05fd89-c661-48a4-9434-2ce52edccfd3"
      },
      "execution_count": null,
      "outputs": [
        {
          "output_type": "stream",
          "name": "stdout",
          "text": [
            "Epoch 15: early stopping\n",
            "51/51 [==============================] - 0s 2ms/step - loss: 0.5664 - recall_3: 0.5161\n"
          ]
        }
      ]
    },
    {
      "cell_type": "markdown",
      "source": [
        "## 민감도 특이도\n",
        "\n",
        "2022-09-06 추가"
      ],
      "metadata": {
        "id": "fS5P_rvf4_Ng"
      }
    },
    {
      "cell_type": "code",
      "source": [
        "from sklearn.metrics import confusion_matrix, f1_score"
      ],
      "metadata": {
        "id": "EoEaSDIz5Hu2"
      },
      "execution_count": null,
      "outputs": []
    },
    {
      "cell_type": "code",
      "source": [
        "y_pred_r = model.predict(X_test)\n",
        "y_pred_r = np.reshape(y_pred_r, len(y_pred_r))\n",
        "y_pred = np.where(y_pred_r <= 0.5, 0, 1)\n",
        "(y_pred == 1).sum()"
      ],
      "metadata": {
        "colab": {
          "base_uri": "https://localhost:8080/"
        },
        "id": "GM9Ea5Ro9trX",
        "outputId": "9af15cb1-9a9d-40be-ed9e-3177b6cfde00"
      },
      "execution_count": null,
      "outputs": [
        {
          "output_type": "execute_result",
          "data": {
            "text/plain": [
              "473"
            ]
          },
          "metadata": {},
          "execution_count": 261
        }
      ]
    },
    {
      "cell_type": "code",
      "source": [
        "cm = confusion_matrix(y_test, y_pred)\n",
        "scores = {'tn': cm[0, 0], 'fp': cm[0, 1], 'fn': cm[1, 0], 'tp': cm[1, 1]}\n",
        "# scores['tn'] -= 50\n",
        "# scores['fp'] += 50\n",
        "print(scores)\n",
        "# print((scores['tp'] + scores['tn']) / (scores['tn'] + scores['fp'] + scores['fn'] + scores['tp']))"
      ],
      "metadata": {
        "colab": {
          "base_uri": "https://localhost:8080/"
        },
        "id": "Z59fuOX4ABi4",
        "outputId": "43d373da-93b8-45bc-95e7-ee9c066ffe0e"
      },
      "execution_count": null,
      "outputs": [
        {
          "output_type": "stream",
          "name": "stdout",
          "text": [
            "{'tn': 977, 'fp': 281, 'fn': 180, 'tp': 192}\n"
          ]
        }
      ]
    },
    {
      "cell_type": "code",
      "source": [
        "print(\"Training error:\", ((scores['fp'] + scores['fn']) / (scores['tn'] + scores['fp'] + scores['fn'] + scores['tp']) * 100).round(3),\n",
        "      \"\\nAccuracy:\", ((scores['tp'] + scores['tn']) / (scores['tn'] + scores['fp'] + scores['fn'] + scores['tp']) * 100).round(3),)\n",
        "print('sensitivity:', (scores['tp'] / (scores['tp'] + scores['fn'])).round(3), # recall\n",
        "      '\\nspecificity:', (scores['tn'] / (scores['fp'] + scores['tn'])).round(3))\n",
        "print(\"f1:\", f1_score(y_test, y_pred).round(3))"
      ],
      "metadata": {
        "colab": {
          "base_uri": "https://localhost:8080/"
        },
        "id": "Ac_ojfkubsjr",
        "outputId": "e14babbc-278e-4c52-8524-cb962a80afa9"
      },
      "execution_count": null,
      "outputs": [
        {
          "output_type": "stream",
          "name": "stdout",
          "text": [
            "Training error: 28.282 \n",
            "Accuracy: 71.718\n",
            "sensitivity: 0.516 \n",
            "specificity: 0.777\n",
            "f1: 0.454\n"
          ]
        }
      ]
    },
    {
      "cell_type": "markdown",
      "source": [
        "## feature importance"
      ],
      "metadata": {
        "id": "l5ROLO33InsE"
      }
    },
    {
      "cell_type": "markdown",
      "source": [
        "## feature importance\n"
      ],
      "metadata": {
        "id": "BD6P5jpnqncy"
      }
    },
    {
      "cell_type": "code",
      "source": [
        "from sklearn.tree import DecisionTreeClassifier"
      ],
      "metadata": {
        "id": "1MDPITxeqvi3"
      },
      "execution_count": null,
      "outputs": []
    },
    {
      "cell_type": "code",
      "source": [
        "tree_model = DecisionTreeClassifier(max_depth=10)\n",
        "tree_model.fit(X_train, y_train)"
      ],
      "metadata": {
        "id": "toz37AI3raiF",
        "colab": {
          "base_uri": "https://localhost:8080/"
        },
        "outputId": "ab716419-7e3b-4b24-b7b6-1060c41273a3"
      },
      "execution_count": null,
      "outputs": [
        {
          "output_type": "execute_result",
          "data": {
            "text/plain": [
              "DecisionTreeClassifier(max_depth=10)"
            ]
          },
          "metadata": {},
          "execution_count": 121
        }
      ]
    },
    {
      "cell_type": "code",
      "source": [
        "y_pred_r = tree_model.predict(X_test)\n",
        "y_pred_r = np.reshape(y_pred_r, len(y_pred_r))\n",
        "y_pred = np.where((y_pred_r < 0.5), 0, 1)\n",
        "(y_pred == 1).sum()"
      ],
      "metadata": {
        "colab": {
          "base_uri": "https://localhost:8080/"
        },
        "id": "4e5_EdBjSyBA",
        "outputId": "26da22a9-bb15-4480-f7cc-d7ca70ccd10a"
      },
      "execution_count": null,
      "outputs": [
        {
          "output_type": "execute_result",
          "data": {
            "text/plain": [
              "472"
            ]
          },
          "metadata": {},
          "execution_count": 122
        }
      ]
    },
    {
      "cell_type": "code",
      "source": [
        "cm = confusion_matrix(y_test, y_pred)\n",
        "scores = {'tn': cm[0, 0], 'fp': cm[0, 1], 'fn': cm[1, 0], 'tp': cm[1, 1]}\n",
        "print(scores)\n",
        "print(\"Training error:\", ((scores['fp'] + scores['fn']) / (scores['tn'] + scores['fp'] + scores['fn'] + scores['tp'])*100).round(3),\n",
        "      \"\\nACC:\",((scores['tp'] + scores['tn']) / (scores['tn'] + scores['fp'] + scores['fn'] + scores['tp'])*100).round(3) )\n",
        "print('sensitivity:', (scores['tp'] / (scores['tp'] + scores['fn'])).round(3), # recall\n",
        "      '\\nspecificity:', (scores['tn'] / (scores['fp'] + scores['tn'])).round(3))\n",
        "print(\"f1:\", f1_score(y_test, y_pred).round(3))"
      ],
      "metadata": {
        "colab": {
          "base_uri": "https://localhost:8080/"
        },
        "id": "GuWwlpLw2BsF",
        "outputId": "edd06ce9-bdd0-40e9-afbc-efe254b62b5c"
      },
      "execution_count": null,
      "outputs": [
        {
          "output_type": "stream",
          "name": "stdout",
          "text": [
            "{'tn': 954, 'fp': 304, 'fn': 204, 'tp': 168}\n",
            "Training error: 31.166 \n",
            "ACC: 68.834\n",
            "sensitivity: 0.452 \n",
            "specificity: 0.758\n",
            "f1: 0.398\n"
          ]
        }
      ]
    },
    {
      "cell_type": "code",
      "source": [
        "fig, ax = plt.subplots(figsize=(16, 16))\n",
        "# tree_importances = pd.Series(tree_model.feature_importances_, index=X.columns).sort_values()\n",
        "tree_importances = pd.Series(tree_model.feature_importances_, index=X.columns).sort_values()\n",
        "tree_importances.plot(kind=\"barh\",\n",
        "                      title=\"Variable Importance\",\n",
        "                      ylabel=\"Variable importance\" ,ax=ax)\n",
        "# ax.set_title(\"HyperTension feature importance with all variable\")\n",
        "# ax.set_ylabel(\"feature importance\")"
      ],
      "metadata": {
        "id": "C8FlIsofra26",
        "colab": {
          "base_uri": "https://localhost:8080/",
          "height": 954
        },
        "outputId": "4d1959c6-f193-4f32-eed1-2f8fcbc17375"
      },
      "execution_count": null,
      "outputs": [
        {
          "output_type": "execute_result",
          "data": {
            "text/plain": [
              "<matplotlib.axes._subplots.AxesSubplot at 0x7ff56db98c10>"
            ]
          },
          "metadata": {},
          "execution_count": 124
        },
        {
          "output_type": "display_data",
          "data": {
            "text/plain": [
              "<Figure size 1152x1152 with 1 Axes>"
            ],
            "image/png": "[encoded data removed]"
          },
          "metadata": {
            "needs_background": "light"
          }
        }
      ]
    },
    {
      "cell_type": "code",
      "source": [
        "import xgboost as xgb\n",
        "from xgboost import plot_importance\n",
        "import matplotlib.pyplot as plt\n",
        "%matplotlib inline"
      ],
      "metadata": {
        "id": "lV1T19yl_TWM"
      },
      "execution_count": null,
      "outputs": []
    },
    {
      "cell_type": "code",
      "source": [
        "dtrain = xgb.DMatrix(data=X_train, label=y_train)\n",
        "dtest = xgb.DMatrix(data=X_test, label=y_test)"
      ],
      "metadata": {
        "id": "usrlkdTklYFM"
      },
      "execution_count": null,
      "outputs": []
    },
    {
      "cell_type": "code",
      "source": [
        "# Define hyperparameters\n",
        "params_xgb = {\"max_depth\": 5,\n",
        "              \"eta\": 0.1,\n",
        "              'objective': 'binary:logistic',\n",
        "              'eval_metric':'logloss',\n",
        "              'early_stopping': 32\n",
        "              }\n",
        "\n",
        "num_round = 400"
      ],
      "metadata": {
        "id": "8E6Gnzpglhm8"
      },
      "execution_count": null,
      "outputs": []
    },
    {
      "cell_type": "code",
      "source": [
        "wlist = [(dtrain, 'train'), (dtest, 'eval')]\n",
        "\n",
        "xgb_model = xgb.train(params=params_xgb, dtrain=dtrain, num_boost_round=num_round, evals=wlist)"
      ],
      "metadata": {
        "colab": {
          "base_uri": "https://localhost:8080/"
        },
        "id": "L7TfRafxlit_",
        "outputId": "55d0942a-086b-45a5-c6a9-6f2760c6a4cf"
      },
      "execution_count": null,
      "outputs": [
        {
          "output_type": "stream",
          "name": "stdout",
          "text": [
            "[0]\ttrain-logloss:0.655797\teval-logloss:0.657993\n",
            "[1]\ttrain-logloss:0.625202\teval-logloss:0.629215\n",
            "[2]\ttrain-logloss:0.599602\teval-logloss:0.60556\n",
            "[3]\ttrain-logloss:0.577548\teval-logloss:0.5858\n",
            "[4]\ttrain-logloss:0.558783\teval-logloss:0.569326\n",
            "[5]\ttrain-logloss:0.54279\teval-logloss:0.555244\n",
            "[6]\ttrain-logloss:0.528989\teval-logloss:0.543092\n",
            "[7]\ttrain-logloss:0.517137\teval-logloss:0.533108\n",
            "[8]\ttrain-logloss:0.50627\teval-logloss:0.525245\n",
            "[9]\ttrain-logloss:0.49717\teval-logloss:0.51813\n",
            "[10]\ttrain-logloss:0.488698\teval-logloss:0.511816\n",
            "[11]\ttrain-logloss:0.481177\teval-logloss:0.506475\n",
            "[12]\ttrain-logloss:0.474533\teval-logloss:0.502486\n",
            "[13]\ttrain-logloss:0.468363\teval-logloss:0.498906\n",
            "[14]\ttrain-logloss:0.463131\teval-logloss:0.495114\n",
            "[15]\ttrain-logloss:0.457597\teval-logloss:0.491801\n",
            "[16]\ttrain-logloss:0.452784\teval-logloss:0.489489\n",
            "[17]\ttrain-logloss:0.448929\teval-logloss:0.487052\n",
            "[18]\ttrain-logloss:0.444884\teval-logloss:0.485466\n",
            "[19]\ttrain-logloss:0.441575\teval-logloss:0.484147\n",
            "[20]\ttrain-logloss:0.438202\teval-logloss:0.484051\n",
            "[21]\ttrain-logloss:0.434633\teval-logloss:0.48316\n",
            "[22]\ttrain-logloss:0.431132\teval-logloss:0.483368\n",
            "[23]\ttrain-logloss:0.428392\teval-logloss:0.482703\n",
            "[24]\ttrain-logloss:0.425022\teval-logloss:0.482204\n",
            "[25]\ttrain-logloss:0.421751\teval-logloss:0.482413\n",
            "[26]\ttrain-logloss:0.419073\teval-logloss:0.481844\n",
            "[27]\ttrain-logloss:0.416329\teval-logloss:0.481642\n",
            "[28]\ttrain-logloss:0.413724\teval-logloss:0.48101\n",
            "[29]\ttrain-logloss:0.411087\teval-logloss:0.480635\n",
            "[30]\ttrain-logloss:0.408772\teval-logloss:0.480127\n",
            "[31]\ttrain-logloss:0.405938\teval-logloss:0.480561\n",
            "[32]\ttrain-logloss:0.4038\teval-logloss:0.480648\n",
            "[33]\ttrain-logloss:0.401094\teval-logloss:0.48087\n",
            "[34]\ttrain-logloss:0.398456\teval-logloss:0.481242\n",
            "[35]\ttrain-logloss:0.396152\teval-logloss:0.481025\n",
            "[36]\ttrain-logloss:0.393981\teval-logloss:0.48142\n",
            "[37]\ttrain-logloss:0.392343\teval-logloss:0.48185\n",
            "[38]\ttrain-logloss:0.389469\teval-logloss:0.481964\n",
            "[39]\ttrain-logloss:0.38738\teval-logloss:0.48206\n",
            "[40]\ttrain-logloss:0.385789\teval-logloss:0.481823\n",
            "[41]\ttrain-logloss:0.38364\teval-logloss:0.482576\n",
            "[42]\ttrain-logloss:0.38213\teval-logloss:0.482886\n",
            "[43]\ttrain-logloss:0.380469\teval-logloss:0.48312\n",
            "[44]\ttrain-logloss:0.379411\teval-logloss:0.483303\n",
            "[45]\ttrain-logloss:0.377427\teval-logloss:0.483396\n",
            "[46]\ttrain-logloss:0.375775\teval-logloss:0.483326\n",
            "[47]\ttrain-logloss:0.373464\teval-logloss:0.483527\n",
            "[48]\ttrain-logloss:0.371359\teval-logloss:0.483825\n",
            "[49]\ttrain-logloss:0.369461\teval-logloss:0.4842\n",
            "[50]\ttrain-logloss:0.368843\teval-logloss:0.484633\n",
            "[51]\ttrain-logloss:0.366696\teval-logloss:0.484969\n",
            "[52]\ttrain-logloss:0.365242\teval-logloss:0.485061\n",
            "[53]\ttrain-logloss:0.362913\teval-logloss:0.485365\n",
            "[54]\ttrain-logloss:0.361935\teval-logloss:0.485563\n",
            "[55]\ttrain-logloss:0.360719\teval-logloss:0.485716\n",
            "[56]\ttrain-logloss:0.359911\teval-logloss:0.485834\n",
            "[57]\ttrain-logloss:0.357424\teval-logloss:0.485396\n",
            "[58]\ttrain-logloss:0.355114\teval-logloss:0.485622\n",
            "[59]\ttrain-logloss:0.354061\teval-logloss:0.485828\n",
            "[60]\ttrain-logloss:0.353083\teval-logloss:0.486233\n",
            "[61]\ttrain-logloss:0.352143\teval-logloss:0.486054\n",
            "[62]\ttrain-logloss:0.35108\teval-logloss:0.486224\n",
            "[63]\ttrain-logloss:0.349473\teval-logloss:0.487131\n",
            "[64]\ttrain-logloss:0.348657\teval-logloss:0.487323\n",
            "[65]\ttrain-logloss:0.346764\teval-logloss:0.48719\n",
            "[66]\ttrain-logloss:0.346115\teval-logloss:0.487344\n",
            "[67]\ttrain-logloss:0.343983\teval-logloss:0.487552\n",
            "[68]\ttrain-logloss:0.341664\teval-logloss:0.487143\n",
            "[69]\ttrain-logloss:0.339993\teval-logloss:0.48735\n",
            "[70]\ttrain-logloss:0.33797\teval-logloss:0.487584\n",
            "[71]\ttrain-logloss:0.337369\teval-logloss:0.487477\n",
            "[72]\ttrain-logloss:0.336371\teval-logloss:0.488003\n",
            "[73]\ttrain-logloss:0.335273\teval-logloss:0.488406\n",
            "[74]\ttrain-logloss:0.33389\teval-logloss:0.489008\n",
            "[75]\ttrain-logloss:0.332861\teval-logloss:0.489431\n",
            "[76]\ttrain-logloss:0.331171\teval-logloss:0.489915\n",
            "[77]\ttrain-logloss:0.329332\teval-logloss:0.490016\n",
            "[78]\ttrain-logloss:0.328329\teval-logloss:0.490513\n",
            "[79]\ttrain-logloss:0.326754\teval-logloss:0.490545\n",
            "[80]\ttrain-logloss:0.325189\teval-logloss:0.490757\n",
            "[81]\ttrain-logloss:0.324461\teval-logloss:0.490778\n",
            "[82]\ttrain-logloss:0.323258\teval-logloss:0.491177\n",
            "[83]\ttrain-logloss:0.322719\teval-logloss:0.491646\n",
            "[84]\ttrain-logloss:0.322136\teval-logloss:0.491764\n",
            "[85]\ttrain-logloss:0.321612\teval-logloss:0.491961\n",
            "[86]\ttrain-logloss:0.321016\teval-logloss:0.492295\n",
            "[87]\ttrain-logloss:0.319521\teval-logloss:0.492363\n",
            "[88]\ttrain-logloss:0.317719\teval-logloss:0.491776\n",
            "[89]\ttrain-logloss:0.315929\teval-logloss:0.491795\n",
            "[90]\ttrain-logloss:0.31477\teval-logloss:0.492043\n",
            "[91]\ttrain-logloss:0.313926\teval-logloss:0.492329\n",
            "[92]\ttrain-logloss:0.313079\teval-logloss:0.492772\n",
            "[93]\ttrain-logloss:0.311638\teval-logloss:0.492952\n",
            "[94]\ttrain-logloss:0.310419\teval-logloss:0.492981\n",
            "[95]\ttrain-logloss:0.309862\teval-logloss:0.492926\n",
            "[96]\ttrain-logloss:0.30923\teval-logloss:0.492882\n",
            "[97]\ttrain-logloss:0.307751\teval-logloss:0.493132\n",
            "[98]\ttrain-logloss:0.306041\teval-logloss:0.493554\n",
            "[99]\ttrain-logloss:0.304918\teval-logloss:0.493506\n",
            "[100]\ttrain-logloss:0.304188\teval-logloss:0.493786\n",
            "[101]\ttrain-logloss:0.302634\teval-logloss:0.494087\n",
            "[102]\ttrain-logloss:0.301282\teval-logloss:0.494048\n",
            "[103]\ttrain-logloss:0.29951\teval-logloss:0.494382\n",
            "[104]\ttrain-logloss:0.298474\teval-logloss:0.49459\n",
            "[105]\ttrain-logloss:0.297095\teval-logloss:0.494706\n",
            "[106]\ttrain-logloss:0.295458\teval-logloss:0.494471\n",
            "[107]\ttrain-logloss:0.295146\teval-logloss:0.494529\n",
            "[108]\ttrain-logloss:0.293977\teval-logloss:0.494458\n",
            "[109]\ttrain-logloss:0.292343\teval-logloss:0.495262\n",
            "[110]\ttrain-logloss:0.290724\teval-logloss:0.495715\n",
            "[111]\ttrain-logloss:0.290246\teval-logloss:0.495667\n",
            "[112]\ttrain-logloss:0.289484\teval-logloss:0.496091\n",
            "[113]\ttrain-logloss:0.288444\teval-logloss:0.496388\n",
            "[114]\ttrain-logloss:0.287457\teval-logloss:0.496427\n",
            "[115]\ttrain-logloss:0.287161\teval-logloss:0.496682\n",
            "[116]\ttrain-logloss:0.286942\teval-logloss:0.496903\n",
            "[117]\ttrain-logloss:0.286608\teval-logloss:0.496665\n",
            "[118]\ttrain-logloss:0.286253\teval-logloss:0.496948\n",
            "[119]\ttrain-logloss:0.285721\teval-logloss:0.497245\n",
            "[120]\ttrain-logloss:0.285266\teval-logloss:0.497108\n",
            "[121]\ttrain-logloss:0.284544\teval-logloss:0.496989\n",
            "[122]\ttrain-logloss:0.283352\teval-logloss:0.497355\n",
            "[123]\ttrain-logloss:0.282326\teval-logloss:0.497657\n",
            "[124]\ttrain-logloss:0.280755\teval-logloss:0.497828\n",
            "[125]\ttrain-logloss:0.279888\teval-logloss:0.497817\n",
            "[126]\ttrain-logloss:0.278615\teval-logloss:0.49837\n",
            "[127]\ttrain-logloss:0.277325\teval-logloss:0.49816\n",
            "[128]\ttrain-logloss:0.275665\teval-logloss:0.497872\n",
            "[129]\ttrain-logloss:0.273975\teval-logloss:0.498169\n",
            "[130]\ttrain-logloss:0.273428\teval-logloss:0.498268\n",
            "[131]\ttrain-logloss:0.272788\teval-logloss:0.498383\n",
            "[132]\ttrain-logloss:0.27176\teval-logloss:0.49864\n",
            "[133]\ttrain-logloss:0.271519\teval-logloss:0.498922\n",
            "[134]\ttrain-logloss:0.270722\teval-logloss:0.499128\n",
            "[135]\ttrain-logloss:0.269458\teval-logloss:0.499673\n",
            "[136]\ttrain-logloss:0.268413\teval-logloss:0.500232\n",
            "[137]\ttrain-logloss:0.267793\teval-logloss:0.50055\n",
            "[138]\ttrain-logloss:0.266415\teval-logloss:0.50013\n",
            "[139]\ttrain-logloss:0.26533\teval-logloss:0.500572\n",
            "[140]\ttrain-logloss:0.265121\teval-logloss:0.500819\n",
            "[141]\ttrain-logloss:0.263605\teval-logloss:0.500706\n",
            "[142]\ttrain-logloss:0.262584\teval-logloss:0.50025\n",
            "[143]\ttrain-logloss:0.26128\teval-logloss:0.50031\n",
            "[144]\ttrain-logloss:0.260532\teval-logloss:0.500697\n",
            "[145]\ttrain-logloss:0.2598\teval-logloss:0.50063\n",
            "[146]\ttrain-logloss:0.259132\teval-logloss:0.501054\n",
            "[147]\ttrain-logloss:0.258268\teval-logloss:0.501806\n",
            "[148]\ttrain-logloss:0.257256\teval-logloss:0.502432\n",
            "[149]\ttrain-logloss:0.256413\teval-logloss:0.502832\n",
            "[150]\ttrain-logloss:0.256131\teval-logloss:0.502738\n",
            "[151]\ttrain-logloss:0.255391\teval-logloss:0.502712\n",
            "[152]\ttrain-logloss:0.254107\teval-logloss:0.503082\n",
            "[153]\ttrain-logloss:0.253633\teval-logloss:0.503303\n",
            "[154]\ttrain-logloss:0.253222\teval-logloss:0.503393\n",
            "[155]\ttrain-logloss:0.252947\teval-logloss:0.503661\n",
            "[156]\ttrain-logloss:0.251942\teval-logloss:0.503669\n",
            "[157]\ttrain-logloss:0.251097\teval-logloss:0.504207\n",
            "[158]\ttrain-logloss:0.250593\teval-logloss:0.504508\n",
            "[159]\ttrain-logloss:0.249798\teval-logloss:0.504954\n",
            "[160]\ttrain-logloss:0.248913\teval-logloss:0.505237\n",
            "[161]\ttrain-logloss:0.247708\teval-logloss:0.505196\n",
            "[162]\ttrain-logloss:0.246768\teval-logloss:0.505298\n",
            "[163]\ttrain-logloss:0.245977\teval-logloss:0.505659\n",
            "[164]\ttrain-logloss:0.245028\teval-logloss:0.505619\n",
            "[165]\ttrain-logloss:0.2443\teval-logloss:0.505622\n",
            "[166]\ttrain-logloss:0.24383\teval-logloss:0.505263\n",
            "[167]\ttrain-logloss:0.24352\teval-logloss:0.505351\n",
            "[168]\ttrain-logloss:0.242359\teval-logloss:0.505786\n",
            "[169]\ttrain-logloss:0.242011\teval-logloss:0.505993\n",
            "[170]\ttrain-logloss:0.241121\teval-logloss:0.506434\n",
            "[171]\ttrain-logloss:0.240613\teval-logloss:0.506709\n",
            "[172]\ttrain-logloss:0.239806\teval-logloss:0.507022\n",
            "[173]\ttrain-logloss:0.23909\teval-logloss:0.507127\n",
            "[174]\ttrain-logloss:0.238435\teval-logloss:0.507459\n",
            "[175]\ttrain-logloss:0.237649\teval-logloss:0.507488\n",
            "[176]\ttrain-logloss:0.236692\teval-logloss:0.507977\n",
            "[177]\ttrain-logloss:0.235294\teval-logloss:0.508482\n",
            "[178]\ttrain-logloss:0.23474\teval-logloss:0.508584\n",
            "[179]\ttrain-logloss:0.233598\teval-logloss:0.509061\n",
            "[180]\ttrain-logloss:0.232737\teval-logloss:0.509033\n",
            "[181]\ttrain-logloss:0.231648\teval-logloss:0.509018\n",
            "[182]\ttrain-logloss:0.230965\teval-logloss:0.509208\n",
            "[183]\ttrain-logloss:0.229941\teval-logloss:0.509304\n",
            "[184]\ttrain-logloss:0.229172\teval-logloss:0.509258\n",
            "[185]\ttrain-logloss:0.228158\teval-logloss:0.509309\n",
            "[186]\ttrain-logloss:0.227504\teval-logloss:0.509632\n",
            "[187]\ttrain-logloss:0.226461\teval-logloss:0.509671\n",
            "[188]\ttrain-logloss:0.225721\teval-logloss:0.509644\n",
            "[189]\ttrain-logloss:0.225348\teval-logloss:0.509591\n",
            "[190]\ttrain-logloss:0.224496\teval-logloss:0.509531\n",
            "[191]\ttrain-logloss:0.224145\teval-logloss:0.509447\n",
            "[192]\ttrain-logloss:0.223858\teval-logloss:0.509339\n",
            "[193]\ttrain-logloss:0.223487\teval-logloss:0.509517\n",
            "[194]\ttrain-logloss:0.222644\teval-logloss:0.509979\n",
            "[195]\ttrain-logloss:0.221905\teval-logloss:0.510084\n",
            "[196]\ttrain-logloss:0.221675\teval-logloss:0.510435\n",
            "[197]\ttrain-logloss:0.221347\teval-logloss:0.510404\n",
            "[198]\ttrain-logloss:0.220124\teval-logloss:0.510583\n",
            "[199]\ttrain-logloss:0.219352\teval-logloss:0.511081\n",
            "[200]\ttrain-logloss:0.219105\teval-logloss:0.511108\n",
            "[201]\ttrain-logloss:0.218203\teval-logloss:0.511324\n",
            "[202]\ttrain-logloss:0.217546\teval-logloss:0.511757\n",
            "[203]\ttrain-logloss:0.217246\teval-logloss:0.511737\n",
            "[204]\ttrain-logloss:0.21581\teval-logloss:0.51212\n",
            "[205]\ttrain-logloss:0.215214\teval-logloss:0.512303\n",
            "[206]\ttrain-logloss:0.215025\teval-logloss:0.512656\n",
            "[207]\ttrain-logloss:0.214065\teval-logloss:0.51273\n",
            "[208]\ttrain-logloss:0.213227\teval-logloss:0.512534\n",
            "[209]\ttrain-logloss:0.212722\teval-logloss:0.513005\n",
            "[210]\ttrain-logloss:0.212243\teval-logloss:0.513309\n",
            "[211]\ttrain-logloss:0.211704\teval-logloss:0.513383\n",
            "[212]\ttrain-logloss:0.211263\teval-logloss:0.51348\n",
            "[213]\ttrain-logloss:0.210719\teval-logloss:0.513506\n",
            "[214]\ttrain-logloss:0.20983\teval-logloss:0.513703\n",
            "[215]\ttrain-logloss:0.20899\teval-logloss:0.51413\n",
            "[216]\ttrain-logloss:0.207868\teval-logloss:0.513913\n",
            "[217]\ttrain-logloss:0.206854\teval-logloss:0.514308\n",
            "[218]\ttrain-logloss:0.206466\teval-logloss:0.514466\n",
            "[219]\ttrain-logloss:0.205591\teval-logloss:0.514696\n",
            "[220]\ttrain-logloss:0.205061\teval-logloss:0.514443\n",
            "[221]\ttrain-logloss:0.203787\teval-logloss:0.514115\n",
            "[222]\ttrain-logloss:0.203193\teval-logloss:0.514212\n",
            "[223]\ttrain-logloss:0.202817\teval-logloss:0.51423\n",
            "[224]\ttrain-logloss:0.202554\teval-logloss:0.514212\n",
            "[225]\ttrain-logloss:0.201485\teval-logloss:0.514575\n",
            "[226]\ttrain-logloss:0.200076\teval-logloss:0.514748\n",
            "[227]\ttrain-logloss:0.199827\teval-logloss:0.514971\n",
            "[228]\ttrain-logloss:0.198859\teval-logloss:0.515139\n",
            "[229]\ttrain-logloss:0.198256\teval-logloss:0.515314\n",
            "[230]\ttrain-logloss:0.198096\teval-logloss:0.515259\n",
            "[231]\ttrain-logloss:0.197936\teval-logloss:0.51523\n",
            "[232]\ttrain-logloss:0.197554\teval-logloss:0.51581\n",
            "[233]\ttrain-logloss:0.197043\teval-logloss:0.51637\n",
            "[234]\ttrain-logloss:0.196578\teval-logloss:0.516722\n",
            "[235]\ttrain-logloss:0.19635\teval-logloss:0.516929\n",
            "[236]\ttrain-logloss:0.196032\teval-logloss:0.517305\n",
            "[237]\ttrain-logloss:0.195803\teval-logloss:0.517437\n",
            "[238]\ttrain-logloss:0.195028\teval-logloss:0.517441\n",
            "[239]\ttrain-logloss:0.194861\teval-logloss:0.517747\n",
            "[240]\ttrain-logloss:0.194609\teval-logloss:0.517389\n",
            "[241]\ttrain-logloss:0.193862\teval-logloss:0.517723\n",
            "[242]\ttrain-logloss:0.193192\teval-logloss:0.518012\n",
            "[243]\ttrain-logloss:0.19209\teval-logloss:0.518543\n",
            "[244]\ttrain-logloss:0.191727\teval-logloss:0.518638\n",
            "[245]\ttrain-logloss:0.191113\teval-logloss:0.519053\n",
            "[246]\ttrain-logloss:0.190636\teval-logloss:0.519258\n",
            "[247]\ttrain-logloss:0.190208\teval-logloss:0.519513\n",
            "[248]\ttrain-logloss:0.189913\teval-logloss:0.519654\n",
            "[249]\ttrain-logloss:0.189521\teval-logloss:0.519592\n",
            "[250]\ttrain-logloss:0.188932\teval-logloss:0.519748\n",
            "[251]\ttrain-logloss:0.188392\teval-logloss:0.52012\n",
            "[252]\ttrain-logloss:0.187819\teval-logloss:0.520394\n",
            "[253]\ttrain-logloss:0.187529\teval-logloss:0.520512\n",
            "[254]\ttrain-logloss:0.187237\teval-logloss:0.520278\n",
            "[255]\ttrain-logloss:0.186222\teval-logloss:0.5207\n",
            "[256]\ttrain-logloss:0.185273\teval-logloss:0.521311\n",
            "[257]\ttrain-logloss:0.184144\teval-logloss:0.522252\n",
            "[258]\ttrain-logloss:0.183755\teval-logloss:0.522113\n",
            "[259]\ttrain-logloss:0.182723\teval-logloss:0.522261\n",
            "[260]\ttrain-logloss:0.182189\teval-logloss:0.522455\n",
            "[261]\ttrain-logloss:0.181266\teval-logloss:0.522687\n",
            "[262]\ttrain-logloss:0.18095\teval-logloss:0.522917\n",
            "[263]\ttrain-logloss:0.180487\teval-logloss:0.522971\n",
            "[264]\ttrain-logloss:0.179593\teval-logloss:0.523166\n",
            "[265]\ttrain-logloss:0.179007\teval-logloss:0.523417\n",
            "[266]\ttrain-logloss:0.17839\teval-logloss:0.524094\n",
            "[267]\ttrain-logloss:0.17785\teval-logloss:0.52429\n",
            "[268]\ttrain-logloss:0.177094\teval-logloss:0.524809\n",
            "[269]\ttrain-logloss:0.176978\teval-logloss:0.525091\n",
            "[270]\ttrain-logloss:0.176287\teval-logloss:0.525336\n",
            "[271]\ttrain-logloss:0.175522\teval-logloss:0.525718\n",
            "[272]\ttrain-logloss:0.175292\teval-logloss:0.526053\n",
            "[273]\ttrain-logloss:0.174375\teval-logloss:0.526705\n",
            "[274]\ttrain-logloss:0.173613\teval-logloss:0.526481\n",
            "[275]\ttrain-logloss:0.172997\teval-logloss:0.527073\n",
            "[276]\ttrain-logloss:0.172303\teval-logloss:0.527254\n",
            "[277]\ttrain-logloss:0.171605\teval-logloss:0.527535\n",
            "[278]\ttrain-logloss:0.171087\teval-logloss:0.527785\n",
            "[279]\ttrain-logloss:0.170547\teval-logloss:0.528433\n",
            "[280]\ttrain-logloss:0.170167\teval-logloss:0.528413\n",
            "[281]\ttrain-logloss:0.169646\teval-logloss:0.528977\n",
            "[282]\ttrain-logloss:0.169517\teval-logloss:0.529122\n",
            "[283]\ttrain-logloss:0.169384\teval-logloss:0.528939\n",
            "[284]\ttrain-logloss:0.169116\teval-logloss:0.529104\n",
            "[285]\ttrain-logloss:0.168301\teval-logloss:0.529063\n",
            "[286]\ttrain-logloss:0.16749\teval-logloss:0.529016\n",
            "[287]\ttrain-logloss:0.166931\teval-logloss:0.529265\n",
            "[288]\ttrain-logloss:0.166332\teval-logloss:0.529577\n",
            "[289]\ttrain-logloss:0.166154\teval-logloss:0.529703\n",
            "[290]\ttrain-logloss:0.16519\teval-logloss:0.530541\n",
            "[291]\ttrain-logloss:0.164467\teval-logloss:0.530759\n",
            "[292]\ttrain-logloss:0.16384\teval-logloss:0.53104\n",
            "[293]\ttrain-logloss:0.163388\teval-logloss:0.531169\n",
            "[294]\ttrain-logloss:0.162776\teval-logloss:0.531692\n",
            "[295]\ttrain-logloss:0.16193\teval-logloss:0.531988\n",
            "[296]\ttrain-logloss:0.161396\teval-logloss:0.532128\n",
            "[297]\ttrain-logloss:0.160412\teval-logloss:0.531586\n",
            "[298]\ttrain-logloss:0.159555\teval-logloss:0.531792\n",
            "[299]\ttrain-logloss:0.159461\teval-logloss:0.532045\n",
            "[300]\ttrain-logloss:0.159023\teval-logloss:0.532148\n",
            "[301]\ttrain-logloss:0.158275\teval-logloss:0.532253\n",
            "[302]\ttrain-logloss:0.157465\teval-logloss:0.532543\n",
            "[303]\ttrain-logloss:0.156961\teval-logloss:0.532529\n",
            "[304]\ttrain-logloss:0.156595\teval-logloss:0.532812\n",
            "[305]\ttrain-logloss:0.156408\teval-logloss:0.533169\n",
            "[306]\ttrain-logloss:0.156294\teval-logloss:0.533208\n",
            "[307]\ttrain-logloss:0.155862\teval-logloss:0.533527\n",
            "[308]\ttrain-logloss:0.155657\teval-logloss:0.533468\n",
            "[309]\ttrain-logloss:0.155385\teval-logloss:0.533356\n",
            "[310]\ttrain-logloss:0.155245\teval-logloss:0.533392\n",
            "[311]\ttrain-logloss:0.154729\teval-logloss:0.533754\n",
            "[312]\ttrain-logloss:0.154657\teval-logloss:0.533734\n",
            "[313]\ttrain-logloss:0.154285\teval-logloss:0.534124\n",
            "[314]\ttrain-logloss:0.153506\teval-logloss:0.534418\n",
            "[315]\ttrain-logloss:0.153102\teval-logloss:0.534902\n",
            "[316]\ttrain-logloss:0.152857\teval-logloss:0.535224\n",
            "[317]\ttrain-logloss:0.152414\teval-logloss:0.535196\n",
            "[318]\ttrain-logloss:0.152209\teval-logloss:0.535483\n",
            "[319]\ttrain-logloss:0.151589\teval-logloss:0.535639\n",
            "[320]\ttrain-logloss:0.151497\teval-logloss:0.535634\n",
            "[321]\ttrain-logloss:0.151243\teval-logloss:0.535989\n",
            "[322]\ttrain-logloss:0.150799\teval-logloss:0.535984\n",
            "[323]\ttrain-logloss:0.150666\teval-logloss:0.536044\n",
            "[324]\ttrain-logloss:0.150092\teval-logloss:0.53638\n",
            "[325]\ttrain-logloss:0.149987\teval-logloss:0.536439\n",
            "[326]\ttrain-logloss:0.149662\teval-logloss:0.537011\n",
            "[327]\ttrain-logloss:0.149245\teval-logloss:0.537158\n",
            "[328]\ttrain-logloss:0.148715\teval-logloss:0.537578\n",
            "[329]\ttrain-logloss:0.148113\teval-logloss:0.537069\n",
            "[330]\ttrain-logloss:0.1477\teval-logloss:0.537053\n",
            "[331]\ttrain-logloss:0.147522\teval-logloss:0.537107\n",
            "[332]\ttrain-logloss:0.146618\teval-logloss:0.537183\n",
            "[333]\ttrain-logloss:0.146397\teval-logloss:0.537288\n",
            "[334]\ttrain-logloss:0.146054\teval-logloss:0.537526\n",
            "[335]\ttrain-logloss:0.145568\teval-logloss:0.53771\n",
            "[336]\ttrain-logloss:0.145227\teval-logloss:0.537725\n",
            "[337]\ttrain-logloss:0.144789\teval-logloss:0.537939\n",
            "[338]\ttrain-logloss:0.14408\teval-logloss:0.538551\n",
            "[339]\ttrain-logloss:0.143424\teval-logloss:0.538541\n",
            "[340]\ttrain-logloss:0.14284\teval-logloss:0.538531\n",
            "[341]\ttrain-logloss:0.14222\teval-logloss:0.538577\n",
            "[342]\ttrain-logloss:0.141746\teval-logloss:0.538492\n",
            "[343]\ttrain-logloss:0.141008\teval-logloss:0.538658\n",
            "[344]\ttrain-logloss:0.140472\teval-logloss:0.539124\n",
            "[345]\ttrain-logloss:0.140099\teval-logloss:0.539486\n",
            "[346]\ttrain-logloss:0.139977\teval-logloss:0.539706\n",
            "[347]\ttrain-logloss:0.139888\teval-logloss:0.539715\n",
            "[348]\ttrain-logloss:0.139327\teval-logloss:0.539846\n",
            "[349]\ttrain-logloss:0.138872\teval-logloss:0.540112\n",
            "[350]\ttrain-logloss:0.138107\teval-logloss:0.540138\n",
            "[351]\ttrain-logloss:0.138028\teval-logloss:0.540386\n",
            "[352]\ttrain-logloss:0.137756\teval-logloss:0.540821\n",
            "[353]\ttrain-logloss:0.137615\teval-logloss:0.541148\n",
            "[354]\ttrain-logloss:0.137026\teval-logloss:0.54132\n",
            "[355]\ttrain-logloss:0.136515\teval-logloss:0.541257\n",
            "[356]\ttrain-logloss:0.136347\teval-logloss:0.541253\n",
            "[357]\ttrain-logloss:0.136131\teval-logloss:0.541538\n",
            "[358]\ttrain-logloss:0.135922\teval-logloss:0.541794\n",
            "[359]\ttrain-logloss:0.135841\teval-logloss:0.542308\n",
            "[360]\ttrain-logloss:0.135133\teval-logloss:0.542457\n",
            "[361]\ttrain-logloss:0.1346\teval-logloss:0.542952\n",
            "[362]\ttrain-logloss:0.133741\teval-logloss:0.543273\n",
            "[363]\ttrain-logloss:0.133281\teval-logloss:0.543578\n",
            "[364]\ttrain-logloss:0.133081\teval-logloss:0.543562\n",
            "[365]\ttrain-logloss:0.132585\teval-logloss:0.544106\n",
            "[366]\ttrain-logloss:0.132362\teval-logloss:0.54415\n",
            "[367]\ttrain-logloss:0.131936\teval-logloss:0.544692\n",
            "[368]\ttrain-logloss:0.131442\teval-logloss:0.544941\n",
            "[369]\ttrain-logloss:0.131052\teval-logloss:0.544872\n",
            "[370]\ttrain-logloss:0.130928\teval-logloss:0.545096\n",
            "[371]\ttrain-logloss:0.130248\teval-logloss:0.545506\n",
            "[372]\ttrain-logloss:0.129733\teval-logloss:0.545672\n",
            "[373]\ttrain-logloss:0.129056\teval-logloss:0.546338\n",
            "[374]\ttrain-logloss:0.128393\teval-logloss:0.546931\n",
            "[375]\ttrain-logloss:0.127747\teval-logloss:0.547232\n",
            "[376]\ttrain-logloss:0.127168\teval-logloss:0.547998\n",
            "[377]\ttrain-logloss:0.126588\teval-logloss:0.548144\n",
            "[378]\ttrain-logloss:0.126127\teval-logloss:0.548233\n",
            "[379]\ttrain-logloss:0.125521\teval-logloss:0.548739\n",
            "[380]\ttrain-logloss:0.125084\teval-logloss:0.548722\n",
            "[381]\ttrain-logloss:0.124589\teval-logloss:0.548664\n",
            "[382]\ttrain-logloss:0.124107\teval-logloss:0.548751\n",
            "[383]\ttrain-logloss:0.12356\teval-logloss:0.548726\n",
            "[384]\ttrain-logloss:0.123161\teval-logloss:0.549331\n",
            "[385]\ttrain-logloss:0.12245\teval-logloss:0.549865\n",
            "[386]\ttrain-logloss:0.122117\teval-logloss:0.54999\n",
            "[387]\ttrain-logloss:0.121653\teval-logloss:0.550334\n",
            "[388]\ttrain-logloss:0.121184\teval-logloss:0.55069\n",
            "[389]\ttrain-logloss:0.120859\teval-logloss:0.550798\n",
            "[390]\ttrain-logloss:0.120539\teval-logloss:0.550622\n",
            "[391]\ttrain-logloss:0.120165\teval-logloss:0.550781\n",
            "[392]\ttrain-logloss:0.119839\teval-logloss:0.550958\n",
            "[393]\ttrain-logloss:0.119633\teval-logloss:0.551147\n",
            "[394]\ttrain-logloss:0.119215\teval-logloss:0.551472\n",
            "[395]\ttrain-logloss:0.118616\teval-logloss:0.551938\n",
            "[396]\ttrain-logloss:0.118138\teval-logloss:0.552436\n",
            "[397]\ttrain-logloss:0.117863\teval-logloss:0.552802\n",
            "[398]\ttrain-logloss:0.117679\teval-logloss:0.552966\n",
            "[399]\ttrain-logloss:0.117157\teval-logloss:0.553207\n"
          ]
        }
      ]
    },
    {
      "cell_type": "code",
      "source": [
        "fig, ax = plt.subplots(figsize=(16, 12))\n",
        "plot_importance(xgb_model, title=\"Variable Importance\", ax=ax)"
      ],
      "metadata": {
        "colab": {
          "base_uri": "https://localhost:8080/",
          "height": 748
        },
        "id": "RXNquTstllLi",
        "outputId": "981ca576-aaf3-48bf-ff22-2f93ee2dd2c2"
      },
      "execution_count": null,
      "outputs": [
        {
          "output_type": "execute_result",
          "data": {
            "text/plain": [
              "<matplotlib.axes._subplots.AxesSubplot at 0x7f6dc7f729d0>"
            ]
          },
          "metadata": {},
          "execution_count": 14
        },
        {
          "output_type": "display_data",
          "data": {
            "text/plain": [
              "<Figure size 1152x864 with 1 Axes>"
            ],
            "image/png": "[encoded data removed]"
          },
          "metadata": {
            "needs_background": "light"
          }
        }
      ]
    }
  ],
  "metadata": {
    "colab": {
      "provenance": [],
      "toc_visible": true,
      "mount_file_id": "1obnRRl2jn-2gZCRHeNTeckMR4bRTrVCs",
      "authorship_tag": "ABX9TyNi5ywsQtSm7w0ZrWn+qmpu",
      "include_colab_link": true
    },
    "kernelspec": {
      "display_name": "Python 3",
      "name": "python3"
    },
    "language_info": {
      "name": "python"
    },
    "accelerator": "TPU"
  },
  "nbformat": 4,
  "nbformat_minor": 0
}