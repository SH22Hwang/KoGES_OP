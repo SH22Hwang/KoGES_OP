{
 "cells": [
  {
   "cell_type": "code",
   "execution_count": 1,
   "outputs": [],
   "source": [
    "# 라이브러리 불러오기\n",
    "import numpy as np\n",
    "import pandas as pd"
   ],
   "metadata": {
    "collapsed": false,
    "ExecuteTime": {
     "start_time": "2023-08-31T17:40:18.932202Z",
     "end_time": "2023-08-31T17:40:20.736334Z"
    }
   }
  },
  {
   "cell_type": "code",
   "execution_count": 2,
   "metadata": {
    "collapsed": true,
    "ExecuteTime": {
     "start_time": "2023-08-31T17:40:20.737335Z",
     "end_time": "2023-08-31T17:40:20.864334Z"
    }
   },
   "outputs": [],
   "source": [
    "X_premeno_woman = pd.read_csv('./dataset/scaled/X_premeno_2023824T1810I.csv')\n",
    "X_postmeno_woman = pd.read_csv('./dataset/scaled/X_postmeno_20230824T1810I.csv')\n",
    "y_premeno_woman = pd.read_csv('./dataset/scaled/y_premeno_20230824T1810I.csv')\n",
    "y_postmeno_woman = pd.read_csv('./dataset/scaled/y_postmeno_20230824T1810I.csv')"
   ]
  },
  {
   "cell_type": "code",
   "execution_count": 3,
   "outputs": [],
   "source": [
    "# 유전체 SNP 매칭\n",
    "gen_dict = {3335: \"SNP_A-2181021\",\n",
    "            214246: \"SNP_A-1809518\",\n",
    "            262783: \"SNP_A-2130710\",\n",
    "            35799: \"SNP_A-2263153\",\n",
    "            154529: \"SNP_A-2310995\",\n",
    "            118171: \"SNP_A-1922415\",\n",
    "            182907: \"SNP_A-2266073\",\n",
    "            122732: \"SNP_A-1984271\",\n",
    "            283204: \"SNP_A-2218697\",\n",
    "            217552: \"SNP_A-1850320\",\n",
    "            335062: \"SNP_A-4262878\",\n",
    "            335032: \"SNP_A-4299800\",\n",
    "            335031: \"SNP_A-2242511\"\n",
    "            }"
   ],
   "metadata": {
    "collapsed": false,
    "ExecuteTime": {
     "start_time": "2023-08-31T17:40:46.326554Z",
     "end_time": "2023-08-31T17:40:46.341553Z"
    }
   }
  },
  {
   "cell_type": "code",
   "execution_count": 5,
   "outputs": [
    {
     "data": {
      "text/plain": "Index(['Unnamed: 0', 'AS1_SEX', 'AS1_HT', 'AS1_DM', 'AS1_AL', 'AS1_MI',\n       'AS1_TH', 'AS1_CH', 'AS1_CD', 'AS1_LP',\n       ...\n       'SNP_A-2263153', 'SNP_A-2310995', 'SNP_A-1922415', 'SNP_A-2266073',\n       'SNP_A-1984271', 'SNP_A-2218697', 'SNP_A-1850320', 'SNP_A-4262878',\n       'SNP_A-4299800', 'SNP_A-2242511'],\n      dtype='object', length=141)"
     },
     "execution_count": 5,
     "metadata": {},
     "output_type": "execute_result"
    }
   ],
   "source": [
    "X_premeno_woman.columns"
   ],
   "metadata": {
    "collapsed": false,
    "ExecuteTime": {
     "start_time": "2023-08-31T17:41:03.449693Z",
     "end_time": "2023-08-31T17:41:03.459692Z"
    }
   }
  },
  {
   "cell_type": "code",
   "execution_count": 9,
   "outputs": [
    {
     "data": {
      "text/plain": "['SNP_A-2181021',\n 'SNP_A-1809518',\n 'SNP_A-2130710',\n 'SNP_A-2263153',\n 'SNP_A-2310995',\n 'SNP_A-1922415',\n 'SNP_A-2266073',\n 'SNP_A-1984271',\n 'SNP_A-2218697',\n 'SNP_A-1850320',\n 'SNP_A-4262878',\n 'SNP_A-4299800',\n 'SNP_A-2242511']"
     },
     "execution_count": 9,
     "metadata": {},
     "output_type": "execute_result"
    }
   ],
   "source": [
    "list(gen_dict.values())"
   ],
   "metadata": {
    "collapsed": false,
    "ExecuteTime": {
     "start_time": "2023-08-31T17:42:33.530264Z",
     "end_time": "2023-08-31T17:42:33.548258Z"
    }
   }
  },
  {
   "cell_type": "code",
   "execution_count": 11,
   "outputs": [],
   "source": [
    "X_premeno_snp = X_premeno_woman[list(gen_dict.values())]\n",
    "X_postmeno_snp = X_postmeno_woman[list(gen_dict.values())]"
   ],
   "metadata": {
    "collapsed": false,
    "ExecuteTime": {
     "start_time": "2023-08-31T17:43:42.966661Z",
     "end_time": "2023-08-31T17:43:42.998641Z"
    }
   }
  },
  {
   "cell_type": "code",
   "execution_count": 15,
   "outputs": [
    {
     "data": {
      "text/plain": "      Unnamed: 0  AS1_SEX  AS1_HT  AS1_DM  AS1_AL  AS1_MI  AS1_TH  AS1_CH   \n0  NIH2307713334      2.0     0.0     0.0     0.0     0.0     0.0     0.0  \\\n1  NIH2307455306      2.0     0.0     0.0     1.0     0.0     0.0     0.0   \n2  NIH2307563051      2.0     1.0     0.0     0.0     0.0     0.0     0.0   \n3  NIH2307534459      2.0     0.0     0.0     0.0     0.0     0.0     0.0   \n4  NIH2307365696      2.0     0.0     0.0     0.0     0.0     0.0     0.0   \n\n   AS1_CD  AS1_LP  ...  AS1_WEIGHT    AS1_BMI  AS1_BDFTR  AS1_BDCMSC   \n0     0.0     0.0  ...        58.0  24.809215       35.0        35.5  \\\n1     0.0     0.0  ...        67.0  26.369274       33.8        41.9   \n2     0.0     0.0  ...        48.4  22.925253       28.7        32.4   \n3     0.0     0.0  ...        72.0  30.878374       34.1        44.5   \n4     0.0     0.0  ...        61.0  25.227200       27.2        41.7   \n\n   AS1_BPSIT1LS  AS1_BPSIT1RS  AS1_BPSIT1SYS  AS1_BPSIT1LD  AS1_BPSIT1RD   \n0         100.0         100.0          100.0          70.0          60.0  \\\n1         120.0         118.0          120.0          80.0          78.0   \n2         160.0         150.0          160.0         104.0         100.0   \n3         110.0         110.0          110.0          70.0          78.0   \n4         120.0         128.0          128.0          70.0          70.0   \n\n   AS1_BPSIT1DIA  \n0           70.0  \n1           80.0  \n2          104.0  \n3           78.0  \n4           70.0  \n\n[5 rows x 128 columns]",
      "text/html": "<div>\n<style scoped>\n    .dataframe tbody tr th:only-of-type {\n        vertical-align: middle;\n    }\n\n    .dataframe tbody tr th {\n        vertical-align: top;\n    }\n\n    .dataframe thead th {\n        text-align: right;\n    }\n</style>\n<table border=\"1\" class=\"dataframe\">\n  <thead>\n    <tr style=\"text-align: right;\">\n      <th></th>\n      <th>Unnamed: 0</th>\n      <th>AS1_SEX</th>\n      <th>AS1_HT</th>\n      <th>AS1_DM</th>\n      <th>AS1_AL</th>\n      <th>AS1_MI</th>\n      <th>AS1_TH</th>\n      <th>AS1_CH</th>\n      <th>AS1_CD</th>\n      <th>AS1_LP</th>\n      <th>...</th>\n      <th>AS1_WEIGHT</th>\n      <th>AS1_BMI</th>\n      <th>AS1_BDFTR</th>\n      <th>AS1_BDCMSC</th>\n      <th>AS1_BPSIT1LS</th>\n      <th>AS1_BPSIT1RS</th>\n      <th>AS1_BPSIT1SYS</th>\n      <th>AS1_BPSIT1LD</th>\n      <th>AS1_BPSIT1RD</th>\n      <th>AS1_BPSIT1DIA</th>\n    </tr>\n  </thead>\n  <tbody>\n    <tr>\n      <th>0</th>\n      <td>NIH2307713334</td>\n      <td>2.0</td>\n      <td>0.0</td>\n      <td>0.0</td>\n      <td>0.0</td>\n      <td>0.0</td>\n      <td>0.0</td>\n      <td>0.0</td>\n      <td>0.0</td>\n      <td>0.0</td>\n      <td>...</td>\n      <td>58.0</td>\n      <td>24.809215</td>\n      <td>35.0</td>\n      <td>35.5</td>\n      <td>100.0</td>\n      <td>100.0</td>\n      <td>100.0</td>\n      <td>70.0</td>\n      <td>60.0</td>\n      <td>70.0</td>\n    </tr>\n    <tr>\n      <th>1</th>\n      <td>NIH2307455306</td>\n      <td>2.0</td>\n      <td>0.0</td>\n      <td>0.0</td>\n      <td>1.0</td>\n      <td>0.0</td>\n      <td>0.0</td>\n      <td>0.0</td>\n      <td>0.0</td>\n      <td>0.0</td>\n      <td>...</td>\n      <td>67.0</td>\n      <td>26.369274</td>\n      <td>33.8</td>\n      <td>41.9</td>\n      <td>120.0</td>\n      <td>118.0</td>\n      <td>120.0</td>\n      <td>80.0</td>\n      <td>78.0</td>\n      <td>80.0</td>\n    </tr>\n    <tr>\n      <th>2</th>\n      <td>NIH2307563051</td>\n      <td>2.0</td>\n      <td>1.0</td>\n      <td>0.0</td>\n      <td>0.0</td>\n      <td>0.0</td>\n      <td>0.0</td>\n      <td>0.0</td>\n      <td>0.0</td>\n      <td>0.0</td>\n      <td>...</td>\n      <td>48.4</td>\n      <td>22.925253</td>\n      <td>28.7</td>\n      <td>32.4</td>\n      <td>160.0</td>\n      <td>150.0</td>\n      <td>160.0</td>\n      <td>104.0</td>\n      <td>100.0</td>\n      <td>104.0</td>\n    </tr>\n    <tr>\n      <th>3</th>\n      <td>NIH2307534459</td>\n      <td>2.0</td>\n      <td>0.0</td>\n      <td>0.0</td>\n      <td>0.0</td>\n      <td>0.0</td>\n      <td>0.0</td>\n      <td>0.0</td>\n      <td>0.0</td>\n      <td>0.0</td>\n      <td>...</td>\n      <td>72.0</td>\n      <td>30.878374</td>\n      <td>34.1</td>\n      <td>44.5</td>\n      <td>110.0</td>\n      <td>110.0</td>\n      <td>110.0</td>\n      <td>70.0</td>\n      <td>78.0</td>\n      <td>78.0</td>\n    </tr>\n    <tr>\n      <th>4</th>\n      <td>NIH2307365696</td>\n      <td>2.0</td>\n      <td>0.0</td>\n      <td>0.0</td>\n      <td>0.0</td>\n      <td>0.0</td>\n      <td>0.0</td>\n      <td>0.0</td>\n      <td>0.0</td>\n      <td>0.0</td>\n      <td>...</td>\n      <td>61.0</td>\n      <td>25.227200</td>\n      <td>27.2</td>\n      <td>41.7</td>\n      <td>120.0</td>\n      <td>128.0</td>\n      <td>128.0</td>\n      <td>70.0</td>\n      <td>70.0</td>\n      <td>70.0</td>\n    </tr>\n  </tbody>\n</table>\n<p>5 rows × 128 columns</p>\n</div>"
     },
     "execution_count": 15,
     "metadata": {},
     "output_type": "execute_result"
    }
   ],
   "source": [
    "X_premeno_nonsnp = X_premeno_woman.drop(list(gen_dict.values()), axis=1)\n",
    "X_postmeno_nonsnp = X_premeno_woman.drop(list(gen_dict.values()), axis=1)"
   ],
   "metadata": {
    "collapsed": false,
    "ExecuteTime": {
     "start_time": "2023-08-31T17:45:39.397315Z",
     "end_time": "2023-08-31T17:45:39.410315Z"
    }
   }
  },
  {
   "cell_type": "code",
   "execution_count": 16,
   "outputs": [],
   "source": [
    "X_premeno_snp.to_csv('./dataset/scaled/X_premeno_snp_202308311746I.csv')\n",
    "X_postmeno_snp.to_csv('./dataset/scaled/X_postmeno_snp_202308311746I.csv')\n",
    "X_premeno_nonsnp.to_csv('./dataset/scaled/X_premeno_nonsnp_202308311746I.csv')\n",
    "X_postmeno_nonsnp.to_csv('./dataset/scaled/X_postmeno_nonsnp_202308311746I.csv')"
   ],
   "metadata": {
    "collapsed": false,
    "ExecuteTime": {
     "start_time": "2023-08-31T17:47:02.276585Z",
     "end_time": "2023-08-31T17:47:02.498600Z"
    }
   }
  },
  {
   "cell_type": "code",
   "execution_count": null,
   "outputs": [],
   "source": [],
   "metadata": {
    "collapsed": false
   }
  }
 ],
 "metadata": {
  "kernelspec": {
   "display_name": "Python 3",
   "language": "python",
   "name": "python3"
  },
  "language_info": {
   "codemirror_mode": {
    "name": "ipython",
    "version": 2
   },
   "file_extension": ".py",
   "mimetype": "text/x-python",
   "name": "python",
   "nbconvert_exporter": "python",
   "pygments_lexer": "ipython2",
   "version": "2.7.6"
  }
 },
 "nbformat": 4,
 "nbformat_minor": 0
}
