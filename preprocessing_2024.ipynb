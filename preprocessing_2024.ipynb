{
 "cells": [
  {
   "cell_type": "markdown",
   "metadata": {
    "collapsed": false
   },
   "source": [
    "# 데이터 전처리\n",
    "\n",
    "@author 컴퓨터과학과 황승현\n",
    "\n",
    "-----\n",
    "\n",
    "- 결측값 47개 이상인 거는 제외해야한다!\n",
    "- 코드를 쓰긴 했는데 너무 중구난방이다! 리펙토링이 필요하다!\n",
    "- 내일 하겠다!\n",
    "\n",
    "-----\n",
    "\n",
    "## 2024년 New 전처리 행동강령\n",
    "\n",
    "1. 데이터 drop은 최대한 줄인다.\n",
    "1. 바이올린 플롯 등으로 이상값을 찾아 없앤다.\n",
    "1. 결측값 대치는 변수 하나하나 고민해서 한다.\n",
    "\n",
    "## 전처리 절차\n",
    "\n",
    "1. 종속변수 AS1_OP 가공\n",
    "    - AS1_DT\n",
    "    - AS1_MT\n",
    "\n",
    "2. 데이터셋 분리\n",
    "    - 여성(폐경 전) (AS1_PMYN_C: 1)\n",
    "    - 여성(폐경 후) (AS1_PMYN_C: 2)\n",
    "\n",
    "3. var_to_use활용\n",
    "    1. 질환유무, 약물력 변수 가공\n",
    "    2. 가족력, 가족과의 관계 변수 가공\n",
    "        - 부, 모, 형제자매, 기타 -> 부모, 형제자매, 기타, 해당없음\n",
    "\n",
    "6. 이상치 탐지 후 제거: 바이올린 플롯\n",
    "\n",
    "7. 결측값 대치\n",
    "    - 전처리 행동강령\n",
    "\n",
    "-----\n",
    "\n",
    "독립변수는 4가지로 분류 (binary, cath0, cath1, cnt)\n",
    "\n",
    "- binary: 범주형(binary) 변수\n",
    "-  catH0: 계층 없는 범주형(>03) 변수, 벡터화(cb-encoding)\n",
    "-  catH1: 계층 있는 범주형 변수\n",
    "-    cnt: 연속형 변수, 정규화"
   ]
  },
  {
   "cell_type": "markdown",
   "metadata": {
    "collapsed": false
   },
   "source": [
    "## 준비\n",
    "\n",
    "- 라이브러리 불러오기\n",
    "- 데이터셋, 사용할 변수 불러오기"
   ]
  },
  {
   "cell_type": "code",
   "execution_count": 2,
   "metadata": {
    "ExecuteTime": {
     "end_time": "2024-03-04T16:36:24.512702Z",
     "start_time": "2024-03-04T16:36:24.449670Z"
    },
    "collapsed": false
   },
   "outputs": [],
   "source": [
    "# 라이브러리 불러오기\n",
    "import numpy as np\n",
    "import pandas as pd\n",
    "import matplotlib.pyplot as plt\n",
    "\n",
    "from sklearn.model_selection import train_test_split\n",
    "from sklearn.preprocessing import QuantileTransformer"
   ]
  },
  {
   "cell_type": "code",
   "execution_count": 3,
   "metadata": {
    "ExecuteTime": {
     "end_time": "2024-03-04T16:36:25.263783Z",
     "start_time": "2024-03-04T16:36:24.468670Z"
    },
    "collapsed": true
   },
   "outputs": [
    {
     "name": "stdout",
     "output_type": "stream",
     "text": [
      "<class 'pandas.core.frame.DataFrame'>\n",
      "Index: 9249 entries, NIH2307795046 to NIH2307534318\n",
      "Columns: 838 entries, AS1_SEX to AS1_EGFR\n",
      "dtypes: float64(795), int64(38), object(5)\n",
      "memory usage: 59.2+ MB\n"
     ]
    }
   ],
   "source": [
    "# 데이터셋 불러오기\n",
    "# dataset = pd.read_csv(\"dataset/Dataset_OP_230316_raw.csv\", index_col=0, na_values=[77777, 99999, '#NULL!', ' ']) # 사용안함\n",
    "# dataset = pd.read_csv(\"dataset/Dataset_OP_230330_raw.csv\", index_col=0, na_values=[77777, 99999, '#NULL!', ' ']) # 사용안함\n",
    "# dataset = pd.read_csv(\"dataset/Dataset_OP_230417_raw.csv\", index_col=0, na_values=[77777, 99999, '#NULL!', ' ']) # 사용안함\n",
    "# dataset = pd.read_csv(\"dataset/Dataset_OP_230424_raw.csv\", index_col=0, na_values=[77777, 99999, '#NULL!', ' ']) # 사용안함\n",
    "dataset = pd.read_csv(\"dataset/Dataset_OP_230614_raw.csv\", index_col=0, na_values=[77777, 99999, '#NULL!', ' '], low_memory=False)\n",
    "dataset.info()"
   ]
  },
  {
   "cell_type": "code",
   "execution_count": 4,
   "metadata": {
    "ExecuteTime": {
     "end_time": "2024-03-04T16:36:25.296782Z",
     "start_time": "2024-03-04T16:36:25.265782Z"
    }
   },
   "outputs": [
    {
     "data": {
      "text/html": [
       "<div>\n",
       "<style scoped>\n",
       "    .dataframe tbody tr th:only-of-type {\n",
       "        vertical-align: middle;\n",
       "    }\n",
       "\n",
       "    .dataframe tbody tr th {\n",
       "        vertical-align: top;\n",
       "    }\n",
       "\n",
       "    .dataframe thead th {\n",
       "        text-align: right;\n",
       "    }\n",
       "</style>\n",
       "<table border=\"1\" class=\"dataframe\">\n",
       "  <thead>\n",
       "    <tr style=\"text-align: right;\">\n",
       "      <th></th>\n",
       "      <th>binary</th>\n",
       "      <th>cath0</th>\n",
       "      <th>cath1</th>\n",
       "      <th>cnt</th>\n",
       "      <th>dependent</th>\n",
       "    </tr>\n",
       "  </thead>\n",
       "  <tbody>\n",
       "    <tr>\n",
       "      <th>0</th>\n",
       "      <td>AS1_SEX</td>\n",
       "      <td>AS1_EDUA</td>\n",
       "      <td>AS1_INCOME</td>\n",
       "      <td>AS1_AGE</td>\n",
       "      <td>AS1_DT</td>\n",
       "    </tr>\n",
       "    <tr>\n",
       "      <th>1</th>\n",
       "      <td>AS1_HT</td>\n",
       "      <td>AS1_DRINK</td>\n",
       "      <td>AS1_PHYSTB</td>\n",
       "      <td>AS1_TOTALC</td>\n",
       "      <td>AS1_MT</td>\n",
       "    </tr>\n",
       "    <tr>\n",
       "      <th>2</th>\n",
       "      <td>AS1_DM</td>\n",
       "      <td>AS1_SMOKEA</td>\n",
       "      <td>AS1_PHYSIT</td>\n",
       "      <td>AS1_PMAG_C</td>\n",
       "      <td>NaN</td>\n",
       "    </tr>\n",
       "    <tr>\n",
       "      <th>3</th>\n",
       "      <td>AS1_AL</td>\n",
       "      <td>AS1_FMOSREL_N</td>\n",
       "      <td>AS1_PHYACTL</td>\n",
       "      <td>AS1_MNSAG</td>\n",
       "      <td>NaN</td>\n",
       "    </tr>\n",
       "    <tr>\n",
       "      <th>4</th>\n",
       "      <td>AS1_MI</td>\n",
       "      <td>AS1_FMOSREL_O</td>\n",
       "      <td>AS1_PHYACTM</td>\n",
       "      <td>AS1_CHILD_P</td>\n",
       "      <td>NaN</td>\n",
       "    </tr>\n",
       "    <tr>\n",
       "      <th>...</th>\n",
       "      <td>...</td>\n",
       "      <td>...</td>\n",
       "      <td>...</td>\n",
       "      <td>...</td>\n",
       "      <td>...</td>\n",
       "    </tr>\n",
       "    <tr>\n",
       "      <th>70</th>\n",
       "      <td>NaN</td>\n",
       "      <td>NaN</td>\n",
       "      <td>NaN</td>\n",
       "      <td>AS1_BPSIT1RS</td>\n",
       "      <td>NaN</td>\n",
       "    </tr>\n",
       "    <tr>\n",
       "      <th>71</th>\n",
       "      <td>NaN</td>\n",
       "      <td>NaN</td>\n",
       "      <td>NaN</td>\n",
       "      <td>AS1_BPSIT1SYS</td>\n",
       "      <td>NaN</td>\n",
       "    </tr>\n",
       "    <tr>\n",
       "      <th>72</th>\n",
       "      <td>NaN</td>\n",
       "      <td>NaN</td>\n",
       "      <td>NaN</td>\n",
       "      <td>AS1_BPSIT1LD</td>\n",
       "      <td>NaN</td>\n",
       "    </tr>\n",
       "    <tr>\n",
       "      <th>73</th>\n",
       "      <td>NaN</td>\n",
       "      <td>NaN</td>\n",
       "      <td>NaN</td>\n",
       "      <td>AS1_BPSIT1RD</td>\n",
       "      <td>NaN</td>\n",
       "    </tr>\n",
       "    <tr>\n",
       "      <th>74</th>\n",
       "      <td>NaN</td>\n",
       "      <td>NaN</td>\n",
       "      <td>NaN</td>\n",
       "      <td>AS1_BPSIT1DIA</td>\n",
       "      <td>NaN</td>\n",
       "    </tr>\n",
       "  </tbody>\n",
       "</table>\n",
       "<p>75 rows × 5 columns</p>\n",
       "</div>"
      ],
      "text/plain": [
       "     binary          cath0        cath1            cnt dependent\n",
       "0   AS1_SEX       AS1_EDUA   AS1_INCOME        AS1_AGE    AS1_DT\n",
       "1    AS1_HT      AS1_DRINK   AS1_PHYSTB     AS1_TOTALC    AS1_MT\n",
       "2    AS1_DM     AS1_SMOKEA   AS1_PHYSIT     AS1_PMAG_C       NaN\n",
       "3    AS1_AL  AS1_FMOSREL_N  AS1_PHYACTL      AS1_MNSAG       NaN\n",
       "4    AS1_MI  AS1_FMOSREL_O  AS1_PHYACTM    AS1_CHILD_P       NaN\n",
       "..      ...            ...          ...            ...       ...\n",
       "70      NaN            NaN          NaN   AS1_BPSIT1RS       NaN\n",
       "71      NaN            NaN          NaN  AS1_BPSIT1SYS       NaN\n",
       "72      NaN            NaN          NaN   AS1_BPSIT1LD       NaN\n",
       "73      NaN            NaN          NaN   AS1_BPSIT1RD       NaN\n",
       "74      NaN            NaN          NaN  AS1_BPSIT1DIA       NaN\n",
       "\n",
       "[75 rows x 5 columns]"
      ]
     },
     "execution_count": 4,
     "metadata": {},
     "output_type": "execute_result"
    }
   ],
   "source": [
    "# 특성별로 분류\n",
    "# var_to_use = pd.read_csv(\"dataset/var_to_use_2023-03-30T2240I.csv\")\n",
    "# var_to_use = pd.read_csv(\"dataset/var_to_use_2023-04-21T1258I.csv\")\n",
    "# var_to_use = pd.read_csv(\"dataset/var_to_use_2023-04-24T1830I.csv\")\n",
    "# var_to_use = pd.read_csv(\"dataset/var_to_use_2023-04-28T1610I.csv\")\n",
    "var_to_use = pd.read_csv(\"dataset/var_to_use_2023-06-13T1650I.csv\")\n",
    "var_to_use\n"
   ]
  },
  {
   "cell_type": "code",
   "execution_count": 5,
   "metadata": {},
   "outputs": [
    {
     "name": "stdout",
     "output_type": "stream",
     "text": [
      "전체 여성 수: 4798\n"
     ]
    }
   ],
   "source": [
    "print(f\"전체 여성 수: {len(dataset[dataset['AS1_SEX'] == 2])}\")"
   ]
  },
  {
   "attachments": {},
   "cell_type": "markdown",
   "metadata": {},
   "source": [
    "## 데이터 가공\n",
    "\n",
    "- 기존 데이터로 새로운 데이터 만들기\n",
    "- if 문 쓰면 안됨!\n",
    "    - The truth value of a Series is ambiguous. Use a.empty, a.bool(), a.item(), a.any() or a.all().\n",
    "- np.where 사용할 것!"
   ]
  },
  {
   "cell_type": "markdown",
   "metadata": {
    "collapsed": false
   },
   "source": [
    "### 종속변수 결측값 drop X"
   ]
  },
  {
   "cell_type": "code",
   "execution_count": 6,
   "metadata": {},
   "outputs": [],
   "source": [
    "# def set_OP(row):\n",
    "#     if pd.isna(row['AS1_DT']) and pd.isna(row['AS1_MT']):\n",
    "#         return np.nan\n",
    "#     elif not pd.isna(row['AS1_DT']) and row['AS1_DT'] <= -2.5:\n",
    "#         return 1\n",
    "#     elif not pd.isna(row['AS1_MT']) and row['AS1_MT'] <= -2.5:\n",
    "#         return 1\n",
    "#     else:\n",
    "#         return 0\n",
    "\n",
    "import pandas as pd\n",
    "import numpy as np\n",
    "\n",
    "def set_OP(row):\n",
    "  \"\"\"\n",
    "  This function assigns a value of 1 to the 'OP' column if either 'AS1_DT' or 'AS1_MT' \n",
    "  is less than or equal to -2.5, and NaN otherwise.\n",
    "\n",
    "  Args:\n",
    "      row (pandas.Series): A row from the DataFrame.\n",
    "\n",
    "  Returns:\n",
    "      int: 1 if condition is met, NaN otherwise.\n",
    "  \"\"\"\n",
    "  try:\n",
    "    # Attempt to convert AS1_DT and AS1_MT to numeric (if possible)\n",
    "    as1_dt_numeric = pd.to_numeric(row['AS1_DT'], errors='coerce')\n",
    "    as1_mt_numeric = pd.to_numeric(row['AS1_MT'], errors='coerce')\n",
    "  except:\n",
    "    # If conversion fails (non-numeric values), return NaN for 'OP'\n",
    "    return np.nan\n",
    "\n",
    "  if pd.isna(as1_dt_numeric) and pd.isna(as1_mt_numeric):\n",
    "    return np.nan\n",
    "  elif not pd.isna(as1_dt_numeric) and as1_dt_numeric <= -2.5:\n",
    "    return 1\n",
    "  elif not pd.isna(as1_mt_numeric) and as1_mt_numeric <= -2.5:\n",
    "    return 1\n",
    "  else :\n",
    "    return 0\n"
   ]
  },
  {
   "cell_type": "code",
   "execution_count": 7,
   "metadata": {},
   "outputs": [
    {
     "data": {
      "text/html": [
       "<div>\n",
       "<style scoped>\n",
       "    .dataframe tbody tr th:only-of-type {\n",
       "        vertical-align: middle;\n",
       "    }\n",
       "\n",
       "    .dataframe tbody tr th {\n",
       "        vertical-align: top;\n",
       "    }\n",
       "\n",
       "    .dataframe thead th {\n",
       "        text-align: right;\n",
       "    }\n",
       "</style>\n",
       "<table border=\"1\" class=\"dataframe\">\n",
       "  <thead>\n",
       "    <tr style=\"text-align: right;\">\n",
       "      <th></th>\n",
       "      <th>AS1_SEX</th>\n",
       "      <th>AS1_AGE</th>\n",
       "      <th>AS1_FAMNUM</th>\n",
       "      <th>AS1_HAND</th>\n",
       "      <th>AS1_SEAS</th>\n",
       "      <th>AS1_MARRYA</th>\n",
       "      <th>AS1_MARRYAETC</th>\n",
       "      <th>AS1_RELIG</th>\n",
       "      <th>AS1_RELIGETC</th>\n",
       "      <th>AS1_RELIGPRT</th>\n",
       "      <th>...</th>\n",
       "      <th>AS1_INSM.1</th>\n",
       "      <th>AS1_SLPHRD.1</th>\n",
       "      <th>AS1_SLPAMSF.1</th>\n",
       "      <th>AS1_ICOFF_1</th>\n",
       "      <th>AS1_ICOFF_2</th>\n",
       "      <th>AS1_W098.1</th>\n",
       "      <th>AS1_MNSAG.2</th>\n",
       "      <th>AS1_BRSTF</th>\n",
       "      <th>AS1_BRSTC</th>\n",
       "      <th>AS1_EGFR</th>\n",
       "    </tr>\n",
       "    <tr>\n",
       "      <th>DIST_ID</th>\n",
       "      <th></th>\n",
       "      <th></th>\n",
       "      <th></th>\n",
       "      <th></th>\n",
       "      <th></th>\n",
       "      <th></th>\n",
       "      <th></th>\n",
       "      <th></th>\n",
       "      <th></th>\n",
       "      <th></th>\n",
       "      <th></th>\n",
       "      <th></th>\n",
       "      <th></th>\n",
       "      <th></th>\n",
       "      <th></th>\n",
       "      <th></th>\n",
       "      <th></th>\n",
       "      <th></th>\n",
       "      <th></th>\n",
       "      <th></th>\n",
       "      <th></th>\n",
       "    </tr>\n",
       "  </thead>\n",
       "  <tbody>\n",
       "  </tbody>\n",
       "</table>\n",
       "<p>0 rows × 838 columns</p>\n",
       "</div>"
      ],
      "text/plain": [
       "Empty DataFrame\n",
       "Columns: [AS1_SEX, AS1_AGE, AS1_FAMNUM, AS1_HAND, AS1_SEAS, AS1_MARRYA, AS1_MARRYAETC, AS1_RELIG, AS1_RELIGETC, AS1_RELIGPRT, AS1_JOBB, AS1_EDUA, AS1_RSDYR, AS1_HOUSETY, AS1_HOUSEPS, AS1_INCOME, AS1_DRINK, AS1_DRDUA, AS1_DRQMO, AS1_TAK, AS1_TAKFQA, AS1_TAKAMA, AS1_TAKGS, AS1_BEER, AS1_BEERFQA, AS1_BEERAMA, AS1_BEERGS, AS1_RICE, AS1_RICEFQA, AS1_RICEAMA, AS1_RICEGS, AS1_WINE, AS1_WINEFQA, AS1_WINEAMA, AS1_WINEGS, AS1_SOJU, AS1_SOJUFQA, AS1_SOJUAMA, AS1_SOJUGS, AS1_HLIQ, AS1_HLIQFQA, AS1_HLIQAMA, AS1_HLIQGS, AS1_TOTALC, AS1_SMOKEA, AS1_HVSMAM, AS1_HVSMDU, AS1_HVSMDUMO, AS1_PSTSMSTOP, AS1_PSTSMYR, AS1_PSTSMMO, AS1_PSTSMAM, AS1_PACKYR, AS1_PSM, AS1_PSMH, AS1_PSMHFQA, AS1_PSMHMIN, AS1_PSMOFQA, AS1_PSMOMIN, AS1_PHYSTB, AS1_PHYSIT, AS1_PHYACTL, AS1_PHYACTM, AS1_PHYACTH, AS1_AEROBFQ, AS1_AEROBAM, AS1_JOGFQ, AS1_JOGAM, AS1_SWIMFQ, AS1_SWIMAM, AS1_TENIFQ, AS1_TENIAM, AS1_GOLFFQ, AS1_GOLFAM, AS1_BOWLFQ, AS1_BOWLAM, AS1_HEALTHFQ, AS1_HEALTHAM, AS1_WALKFQ, AS1_WALKAM, AS1_CLIMBFQ, AS1_CLIMBAM, AS1_INSUR, AS1_HEALTH, AS1_VISITHOSP, AS1_GLASSES, AS1_GLSCS1, AS1_GLSCS2, AS1_ACST, AS1_WAFQINC, AS1_URINFQINC, AS1_TIED, AS1_WGTINC, AS1_MEDCST, AS1_HTFDCST, AS1_ACC, AS1_ACCFQ, AS1_ACCHOSP, AS1_ACCHOSPMO, AS1_ACCHOSPWK, ...]\n",
       "Index: []\n",
       "\n",
       "[0 rows x 838 columns]"
      ]
     },
     "execution_count": 7,
     "metadata": {},
     "output_type": "execute_result"
    }
   ],
   "source": [
    "dataset[dataset[['AS1_DT', 'AS1_MT']].isna().all(axis=1)]"
   ]
  },
  {
   "cell_type": "code",
   "execution_count": 8,
   "metadata": {
    "ExecuteTime": {
     "end_time": "2024-03-04T16:36:25.518782Z",
     "start_time": "2024-03-04T16:36:25.282786Z"
    },
    "collapsed": false
   },
   "outputs": [],
   "source": [
    "# 종속변수의 결측값이 있으면 drop\n",
    "test = dataset.dropna(subset=['AS1_DT', 'AS1_MT'])\n",
    "\n",
    "# 남성(1) drop, 여성(2)만 가져옴\n",
    "test = test[test['AS1_SEX'] == 2]\n",
    "dataset = dataset[dataset['AS1_SEX'] == 2]\n",
    "\n",
    "# 새로운 종속변수 만들기 OP: 골다공증 여부\n",
    "test['OP'] = np.where((test['AS1_DT'] <= -2.5) | (test['AS1_MT'] <= -2.5), 1, 0)\n",
    "dataset['OP'] = dataset.apply(set_OP, axis=1)"
   ]
  },
  {
   "cell_type": "code",
   "execution_count": 9,
   "metadata": {},
   "outputs": [
    {
     "name": "stdout",
     "output_type": "stream",
     "text": [
      "<class 'pandas.core.frame.DataFrame'>\n",
      "Index: 4798 entries, NIH2307713334 to NIH2307534318\n",
      "Columns: 839 entries, AS1_SEX to OP\n",
      "dtypes: float64(795), int64(39), object(5)\n",
      "memory usage: 30.7+ MB\n"
     ]
    }
   ],
   "source": [
    "dataset.info()"
   ]
  },
  {
   "cell_type": "code",
   "execution_count": 10,
   "metadata": {},
   "outputs": [
    {
     "name": "stdout",
     "output_type": "stream",
     "text": [
      "<class 'pandas.core.frame.DataFrame'>\n",
      "Index: 4680 entries, NIH2307713334 to NIH2307534318\n",
      "Columns: 839 entries, AS1_SEX to OP\n",
      "dtypes: float64(795), int32(1), int64(38), object(5)\n",
      "memory usage: 30.0+ MB\n"
     ]
    }
   ],
   "source": [
    "test.info()"
   ]
  },
  {
   "cell_type": "code",
   "execution_count": 11,
   "metadata": {
    "ExecuteTime": {
     "end_time": "2024-03-04T16:36:25.518782Z",
     "start_time": "2024-03-04T16:36:25.362784Z"
    }
   },
   "outputs": [
    {
     "name": "stdout",
     "output_type": "stream",
     "text": [
      "4680\n",
      "OP\n",
      "0    3785\n",
      "1     895\n",
      "Name: count, dtype: int64\n",
      "4798\n",
      "OP\n",
      "0    3874\n",
      "1     924\n",
      "Name: count, dtype: int64\n"
     ]
    }
   ],
   "source": [
    "print(len(test['OP']))\n",
    "print(test['OP'].value_counts())\n",
    "\n",
    "print(len(dataset['OP']))\n",
    "print(dataset['OP'].value_counts())\n"
   ]
  },
  {
   "cell_type": "markdown",
   "metadata": {},
   "source": [
    "종속변수의 결측값이 있으면 drop하는 것 비교\n",
    "\n",
    "`dataset.dropna(subset=['AS1_DT', 'AS1_MT'], inplace=True)`\n",
    "\n",
    "drop 함\n",
    "```\n",
    "4680\n",
    "0    3785\n",
    "1     895\n",
    "Name: OP, dtype: int64\n",
    "```\n",
    "\n",
    "drop 안 함\n",
    "```\n",
    "4798\n",
    "0    3874\n",
    "1     924\n",
    "Name: OP, dtype: int64\n",
    "```\n",
    "\n",
    "drop을 하지 않고 118명 더 확보\n"
   ]
  },
  {
   "cell_type": "markdown",
   "metadata": {
    "collapsed": false
   },
   "source": [
    "### 각종 질환 가공\n",
    "\n",
    "- 질환 유무\n",
    "    - 각종 종양 유무 (AS1_TOTCA1)\n",
    "- 약물력\n",
    "- 가족력"
   ]
  },
  {
   "cell_type": "code",
   "execution_count": 12,
   "metadata": {
    "ExecuteTime": {
     "end_time": "2024-03-04T16:36:25.580781Z",
     "start_time": "2024-03-04T16:36:25.397786Z"
    }
   },
   "outputs": [],
   "source": [
    "# 질환유무 가공\n",
    "disease_list = np.array(['HT', 'DM', 'AL', 'MI', 'TH', # 질환 목록\n",
    "                         'CH', 'CD', 'LP', 'AS', 'CL',\n",
    "                         'KD', 'CV', 'GT' ]) # UL, PV, HN, TOTCA1 제외\n",
    "\n",
    "dataset['AS1_ARRM'] = np.where((dataset['AS1_JOAR'] == 2) | (dataset['AS1_JORM'] == 2) | (dataset['AS1_TRTAR'] == 2), 1, 0) # 관절염은 조건 3가지 만족하면 1 아니면 0\n",
    "\n",
    "for x in disease_list:\n",
    "    dataset['AS1_'+x] = np.where((dataset['AS1_PD'+x] == 2) | (dataset['AS1_TRT'+x] == 2), 1, 0) # 질환여부 정의. AS1_PDㅇㅇ 또는 AS1_TRTㅇㅇ 이 2이면 1 아니면 0\n"
   ]
  },
  {
   "cell_type": "code",
   "execution_count": 13,
   "metadata": {
    "ExecuteTime": {
     "end_time": "2024-03-04T16:36:25.580781Z",
     "start_time": "2024-03-04T16:36:25.409785Z"
    }
   },
   "outputs": [],
   "source": [
    "# 약물력 가공\n",
    "drug_list = np.array(['ST', 'CP', 'INS', 'HT', 'AR', \n",
    "                      'TH', 'FH', 'OS', 'STK', 'AS',\n",
    "                      'LP', 'SP', 'SL'])  # UL, DM, CP, HP 제외 SP, SL 추가\n",
    "for x in drug_list:\n",
    "    dataset['AS1_DR'+x] = np.where((dataset['AS1_DRUG'+x] == 2) | (dataset['AS1_DRUG'+x+'CU'] == 2), 1, 0)\n"
   ]
  },
  {
   "cell_type": "code",
   "execution_count": 14,
   "metadata": {
    "ExecuteTime": {
     "end_time": "2024-03-04T16:36:25.580781Z",
     "start_time": "2024-03-04T16:36:25.427784Z"
    }
   },
   "outputs": [],
   "source": [
    "# 가족력 가공\n",
    "# N: 가족력 없음, P: parent 부모, S: sibling 형제자매, O: other 기타\n",
    "# N: REL1A~4A까지 99999\n",
    "# P: REL1A~4A중 1, 2 있을 때\n",
    "# S: REL1A~4A중 3 있을 때\n",
    "# O: REL1A~4A중 4 있을 때\n",
    "\n",
    "# disease_dict = {\n",
    "#     'HT': 4, 'DM': 4, 'CVA': 3, 'HE': 2, 'OS': 2,\n",
    "#     'CVB': 2, 'CD': 2, 'PV': 2, 'LP': 2, 'GT': 2,'CH': 1\n",
    "# }\n",
    "disease_dict = { 'OS': 2 }\n",
    "\n",
    "for disease, num_family in disease_dict.items():\n",
    "    dataset[f'AS1_FM{disease}REL_N'] = np.all(dataset[[f'AS1_FM{disease}REL{i}A' for i in range(1, num_family+1)]] == 99999, axis=1).astype(int)\n",
    "    dataset[f'AS1_FM{disease}REL_P'] = np.any(dataset[[f'AS1_FM{disease}REL{i}A' for i in range(1, num_family+1)]] <= 2, axis=1).astype(int)\n",
    "    dataset[f'AS1_FM{disease}REL_S'] = np.any(dataset[[f'AS1_FM{disease}REL{i}A' for i in range(1, num_family+1)]] == 3, axis=1).astype(int)\n",
    "    dataset[f'AS1_FM{disease}REL_O'] = np.any(dataset[[f'AS1_FM{disease}REL{i}A' for i in range(1, num_family+1)]] == 4, axis=1).astype(int)"
   ]
  },
  {
   "cell_type": "code",
   "execution_count": 15,
   "metadata": {
    "ExecuteTime": {
     "end_time": "2024-03-04T16:36:25.580781Z",
     "start_time": "2024-03-04T16:36:25.441784Z"
    },
    "collapsed": false
   },
   "outputs": [
    {
     "data": {
      "text/html": [
       "<div>\n",
       "<style scoped>\n",
       "    .dataframe tbody tr th:only-of-type {\n",
       "        vertical-align: middle;\n",
       "    }\n",
       "\n",
       "    .dataframe tbody tr th {\n",
       "        vertical-align: top;\n",
       "    }\n",
       "\n",
       "    .dataframe thead th {\n",
       "        text-align: right;\n",
       "    }\n",
       "</style>\n",
       "<table border=\"1\" class=\"dataframe\">\n",
       "  <thead>\n",
       "    <tr style=\"text-align: right;\">\n",
       "      <th></th>\n",
       "      <th>AS1_FMOSREL_N</th>\n",
       "      <th>AS1_FMOSREL_P</th>\n",
       "      <th>AS1_FMOSREL_S</th>\n",
       "      <th>AS1_FMOSREL_O</th>\n",
       "    </tr>\n",
       "    <tr>\n",
       "      <th>DIST_ID</th>\n",
       "      <th></th>\n",
       "      <th></th>\n",
       "      <th></th>\n",
       "      <th></th>\n",
       "    </tr>\n",
       "  </thead>\n",
       "  <tbody>\n",
       "    <tr>\n",
       "      <th>NIH2307713334</th>\n",
       "      <td>0</td>\n",
       "      <td>0</td>\n",
       "      <td>0</td>\n",
       "      <td>0</td>\n",
       "    </tr>\n",
       "    <tr>\n",
       "      <th>NIH2307455306</th>\n",
       "      <td>0</td>\n",
       "      <td>0</td>\n",
       "      <td>0</td>\n",
       "      <td>0</td>\n",
       "    </tr>\n",
       "    <tr>\n",
       "      <th>NIH2307137554</th>\n",
       "      <td>0</td>\n",
       "      <td>0</td>\n",
       "      <td>0</td>\n",
       "      <td>0</td>\n",
       "    </tr>\n",
       "    <tr>\n",
       "      <th>NIH2307649667</th>\n",
       "      <td>0</td>\n",
       "      <td>0</td>\n",
       "      <td>0</td>\n",
       "      <td>0</td>\n",
       "    </tr>\n",
       "    <tr>\n",
       "      <th>NIH2307899915</th>\n",
       "      <td>0</td>\n",
       "      <td>1</td>\n",
       "      <td>0</td>\n",
       "      <td>0</td>\n",
       "    </tr>\n",
       "    <tr>\n",
       "      <th>...</th>\n",
       "      <td>...</td>\n",
       "      <td>...</td>\n",
       "      <td>...</td>\n",
       "      <td>...</td>\n",
       "    </tr>\n",
       "    <tr>\n",
       "      <th>NIH2307591031</th>\n",
       "      <td>0</td>\n",
       "      <td>0</td>\n",
       "      <td>0</td>\n",
       "      <td>0</td>\n",
       "    </tr>\n",
       "    <tr>\n",
       "      <th>NIH2307808901</th>\n",
       "      <td>0</td>\n",
       "      <td>0</td>\n",
       "      <td>0</td>\n",
       "      <td>0</td>\n",
       "    </tr>\n",
       "    <tr>\n",
       "      <th>NIH2307930134</th>\n",
       "      <td>0</td>\n",
       "      <td>0</td>\n",
       "      <td>0</td>\n",
       "      <td>0</td>\n",
       "    </tr>\n",
       "    <tr>\n",
       "      <th>NIH2307023172</th>\n",
       "      <td>0</td>\n",
       "      <td>0</td>\n",
       "      <td>0</td>\n",
       "      <td>0</td>\n",
       "    </tr>\n",
       "    <tr>\n",
       "      <th>NIH2307534318</th>\n",
       "      <td>0</td>\n",
       "      <td>0</td>\n",
       "      <td>0</td>\n",
       "      <td>0</td>\n",
       "    </tr>\n",
       "  </tbody>\n",
       "</table>\n",
       "<p>4798 rows × 4 columns</p>\n",
       "</div>"
      ],
      "text/plain": [
       "               AS1_FMOSREL_N  AS1_FMOSREL_P  AS1_FMOSREL_S  AS1_FMOSREL_O\n",
       "DIST_ID                                                                  \n",
       "NIH2307713334              0              0              0              0\n",
       "NIH2307455306              0              0              0              0\n",
       "NIH2307137554              0              0              0              0\n",
       "NIH2307649667              0              0              0              0\n",
       "NIH2307899915              0              1              0              0\n",
       "...                      ...            ...            ...            ...\n",
       "NIH2307591031              0              0              0              0\n",
       "NIH2307808901              0              0              0              0\n",
       "NIH2307930134              0              0              0              0\n",
       "NIH2307023172              0              0              0              0\n",
       "NIH2307534318              0              0              0              0\n",
       "\n",
       "[4798 rows x 4 columns]"
      ]
     },
     "execution_count": 15,
     "metadata": {},
     "output_type": "execute_result"
    }
   ],
   "source": [
    "dataset[[f'AS1_FM{disease}REL_{family}' for disease in disease_dict.keys() for family in ['N', 'P', 'S', 'O']]]"
   ]
  },
  {
   "cell_type": "markdown",
   "metadata": {
    "collapsed": false
   },
   "source": [
    "### 여성력 가공\n",
    "\n",
    "- ~~질환~~\n",
    "- 약물\n",
    "- 기타 수술 (AS1_OBGYOP)\n",
    "    - 자궁경부암수술/ 자궁암수술/ 자궁내막암/자궁경부암,나팔관제거수술/ 만 1 나머지는 0"
   ]
  },
  {
   "cell_type": "code",
   "execution_count": 16,
   "metadata": {
    "ExecuteTime": {
     "end_time": "2024-03-04T16:36:25.580781Z",
     "start_time": "2024-03-04T16:36:25.456785Z"
    },
    "collapsed": false
   },
   "outputs": [],
   "source": [
    "# 여성력 가공\n",
    "# 남성 데이터 셋을 제거하여 필요없음\n",
    "\n",
    "# 남자일 경우: 0 여자일 경우: 그대로\n",
    "# for x in ['CP', 'FH']:\n",
    "#     dataset['AS1_DR'+x] = np.where(dataset['AS1_SEX'] == '1',\n",
    "#                                    0,\n",
    "#                                    np.where((dataset['AS1_DRUG'+x] == 2) | (dataset['AS1_DRUG'+x+'CU'] == 2), 2, 1))\n",
    "\n",
    "for x in ['CP', 'FH']:\n",
    "    dataset['AS1_DR'+x] = np.where((dataset['AS1_DRUG'+x] == 2) | (dataset['AS1_DRUG'+x+'CU'] == 2), 1, 0)\n",
    "\n",
    "\n",
    "# women = np.array(['AS1_PREG', 'AS1_HYST', 'AS1_HYSTOVARYW', 'AS1_OVARYW',\n",
    "#                   'AS1_OBGYOP', 'AS1_BRCA', 'AS1_DRCP', 'AS1_DRFH'])\n",
    "#\n",
    "# for x in women:\n",
    "#     dataset[x] = np.where((dataset['AS1_SEX'] == 1), 0, dataset[x])"
   ]
  },
  {
   "cell_type": "markdown",
   "metadata": {
    "collapsed": false
   },
   "source": [
    "### 앉은 자세 혈압\n",
    "- AS1_BPSit1SYS\n",
    "    - AS1_BPSit1LS, AS1_BPSit1RS 변수 중 높은 값\n",
    "- AS1_BPSit1DIA\n",
    "    - AS1_BPSit1LD,  AS1_BPSit1RD  변수 중 높은 값"
   ]
  },
  {
   "cell_type": "code",
   "execution_count": 17,
   "metadata": {
    "ExecuteTime": {
     "end_time": "2024-03-04T16:36:25.613844Z",
     "start_time": "2024-03-04T16:36:25.474786Z"
    },
    "collapsed": false
   },
   "outputs": [],
   "source": [
    "dataset['AS1_BPSIT1SYS'] = np.where(dataset['AS1_BPSIT1LS'] > dataset['AS1_BPSIT1RS'], dataset['AS1_BPSIT1LS'], dataset['AS1_BPSIT1RS'])\n",
    "\n",
    "dataset['AS1_BPSIT1DIA'] = np.where(dataset['AS1_BPSIT1LD'] > dataset['AS1_BPSIT1RD'], dataset['AS1_BPSIT1LD'], dataset['AS1_BPSIT1RD'])"
   ]
  },
  {
   "cell_type": "markdown",
   "metadata": {
    "collapsed": false
   },
   "source": [
    "### 타입 별 분리"
   ]
  },
  {
   "cell_type": "code",
   "execution_count": 18,
   "metadata": {
    "ExecuteTime": {
     "end_time": "2024-03-04T16:36:25.693893Z",
     "start_time": "2024-03-04T16:36:25.490786Z"
    },
    "collapsed": false
   },
   "outputs": [],
   "source": [
    "# var_to_use의 각 열 가져옴\n",
    "\n",
    "raw_binary = dataset.reindex(columns=(var_to_use['binary'].dropna()))\n",
    "raw_cath0 = dataset.reindex(columns=(var_to_use['cath0'].dropna()))\n",
    "raw_cath1 = dataset.reindex(columns=(var_to_use['cath1'].dropna()))\n",
    "raw_cnt = dataset.reindex(columns=(var_to_use['cnt'].dropna()))\n",
    "raw_label = dataset.reindex(columns=(var_to_use['dependent'].dropna()))"
   ]
  },
  {
   "cell_type": "code",
   "execution_count": 19,
   "metadata": {
    "ExecuteTime": {
     "end_time": "2024-03-04T16:36:25.725781Z",
     "start_time": "2024-03-04T16:36:25.506786Z"
    },
    "collapsed": false
   },
   "outputs": [
    {
     "name": "stdout",
     "output_type": "stream",
     "text": [
      "raw_binary에서 발견된 누락 데이터 열:\n",
      "Series([], dtype: float64)\n",
      "raw_cath0에서 발견된 누락 데이터 열:\n",
      "Series([], dtype: float64)\n",
      "raw_cath1에서 발견된 누락 데이터 열:\n",
      "Series([], dtype: float64)\n",
      "raw_cnt에서 발견된 누락 데이터 열:\n",
      "Series([], dtype: float64)\n"
     ]
    }
   ],
   "source": [
    "# null인 행이 있다.... 코드북과 데이터셋이 불일치한다.\n",
    "dataframes = {\n",
    "    \"raw_binary\": raw_binary,\n",
    "    \"raw_cath0\": raw_cath0,\n",
    "    \"raw_cath1\": raw_cath1,\n",
    "    \"raw_cnt\": raw_cnt\n",
    "}\n",
    "\n",
    "for name, df in dataframes.items():\n",
    "    null_cell = pd.Series(index=df.columns)\n",
    "    null_cell = null_cell[df.isnull().sum() >= len(dataset)]  # 코드북에 없는 데이터 리스트\n",
    "    print(f\"{name}에서 발견된 누락 데이터 열:\")\n",
    "    print(null_cell)"
   ]
  },
  {
   "cell_type": "code",
   "execution_count": 20,
   "metadata": {
    "ExecuteTime": {
     "end_time": "2024-03-04T16:36:25.725781Z",
     "start_time": "2024-03-04T16:36:25.522787Z"
    },
    "collapsed": false
   },
   "outputs": [
    {
     "name": "stdout",
     "output_type": "stream",
     "text": [
      "dependent\n",
      "AS1_DT    77\n",
      "AS1_MT    41\n",
      "dtype: int64\n",
      "0\n"
     ]
    }
   ],
   "source": [
    "# dataset['OP']는 문제 없음\n",
    "print(raw_label.isnull().sum())\n",
    "print(dataset['OP'].isnull().sum())"
   ]
  },
  {
   "cell_type": "markdown",
   "metadata": {
    "collapsed": false
   },
   "source": [
    "## 이상치 탐지, 결측값 대치\n",
    "\n",
    "- 아주 썩어빠진 마인드\n",
    "> - 일부 데이터의 많은 결측값\n",
    ">   - 77777 -> 0\n",
    ">     - AS1_TOTALC\n",
    ">     - AS1_HVSMAM\n",
    ">   - 99999 -> ?\n",
    ">     - AS1_FMOSREL1A\n",
    ">     - AS1_CA_U\n",
    ">     - AS1_NA_U\n",
    ">     - AS1_K_U\n",
    ">\n",
    "> - binary, cath0, cath1: 각 칼럼의 최빈값으로 대치\n",
    "> - cnt: 평균값으로 대치\n",
    "\n",
    "- 올바른 결측값 처리: 변수 하나하나 신경써서 하는 것.\n",
    "\n",
    "-----\n",
    "\n",
    "- 위에거는 다 무시\n",
    "- 결측값 많은 것은 다 없애자!\n",
    "- 기존 4798명 기준으로 1% 이상 (결측치 48 이상) 다 제거하고 돌려보기 "
   ]
  },
  {
   "cell_type": "code",
   "execution_count": 21,
   "metadata": {},
   "outputs": [
    {
     "name": "stdout",
     "output_type": "stream",
     "text": [
      "AS1_PHYACTH\n",
      "0.0    2922\n",
      "8.0     838\n",
      "1.0     212\n",
      "2.0     184\n",
      "5.0     143\n",
      "3.0     118\n",
      "7.0     117\n",
      "6.0     107\n",
      "4.0      75\n",
      "Name: count, dtype: int64\n",
      "82\n"
     ]
    }
   ],
   "source": [
    "# 육체활동시간 살려달라\n",
    "print(dataset['AS1_PHYACTH'].value_counts())\n",
    "print(dataset['AS1_PHYACTH'].isnull().sum())"
   ]
  },
  {
   "cell_type": "code",
   "execution_count": 22,
   "metadata": {},
   "outputs": [],
   "source": [
    "phys = ['AS1_PHYACTH', 'AS1_PHYACTL', 'AS1_PHYACTM', 'AS1_PHYSIT', 'AS1_PHYSTB']"
   ]
  },
  {
   "cell_type": "code",
   "execution_count": 23,
   "metadata": {},
   "outputs": [],
   "source": [
    "dataset[phys] = dataset[phys].fillna(0.0)"
   ]
  },
  {
   "cell_type": "code",
   "execution_count": 24,
   "metadata": {},
   "outputs": [
    {
     "data": {
      "text/plain": [
       "0"
      ]
     },
     "execution_count": 24,
     "metadata": {},
     "output_type": "execute_result"
    }
   ],
   "source": [
    "dataset['AS1_PHYACTH'].isnull().sum()"
   ]
  },
  {
   "cell_type": "code",
   "execution_count": 25,
   "metadata": {},
   "outputs": [
    {
     "data": {
      "text/html": [
       "<div>\n",
       "<style scoped>\n",
       "    .dataframe tbody tr th:only-of-type {\n",
       "        vertical-align: middle;\n",
       "    }\n",
       "\n",
       "    .dataframe tbody tr th {\n",
       "        vertical-align: top;\n",
       "    }\n",
       "\n",
       "    .dataframe thead th {\n",
       "        text-align: right;\n",
       "    }\n",
       "</style>\n",
       "<table border=\"1\" class=\"dataframe\">\n",
       "  <thead>\n",
       "    <tr style=\"text-align: right;\">\n",
       "      <th></th>\n",
       "      <th>AS1_SEX</th>\n",
       "      <th>AS1_AGE</th>\n",
       "      <th>AS1_FAMNUM</th>\n",
       "      <th>AS1_HAND</th>\n",
       "      <th>AS1_SEAS</th>\n",
       "      <th>AS1_MARRYA</th>\n",
       "      <th>AS1_MARRYAETC</th>\n",
       "      <th>AS1_RELIG</th>\n",
       "      <th>AS1_RELIGETC</th>\n",
       "      <th>AS1_RELIGPRT</th>\n",
       "      <th>...</th>\n",
       "      <th>AS1_DRAS</th>\n",
       "      <th>AS1_DRLP</th>\n",
       "      <th>AS1_DRSP</th>\n",
       "      <th>AS1_DRSL</th>\n",
       "      <th>AS1_FMOSREL_N</th>\n",
       "      <th>AS1_FMOSREL_P</th>\n",
       "      <th>AS1_FMOSREL_S</th>\n",
       "      <th>AS1_FMOSREL_O</th>\n",
       "      <th>AS1_BPSIT1SYS</th>\n",
       "      <th>AS1_BPSIT1DIA</th>\n",
       "    </tr>\n",
       "    <tr>\n",
       "      <th>DIST_ID</th>\n",
       "      <th></th>\n",
       "      <th></th>\n",
       "      <th></th>\n",
       "      <th></th>\n",
       "      <th></th>\n",
       "      <th></th>\n",
       "      <th></th>\n",
       "      <th></th>\n",
       "      <th></th>\n",
       "      <th></th>\n",
       "      <th></th>\n",
       "      <th></th>\n",
       "      <th></th>\n",
       "      <th></th>\n",
       "      <th></th>\n",
       "      <th></th>\n",
       "      <th></th>\n",
       "      <th></th>\n",
       "      <th></th>\n",
       "      <th></th>\n",
       "      <th></th>\n",
       "    </tr>\n",
       "  </thead>\n",
       "  <tbody>\n",
       "    <tr>\n",
       "      <th>NIH2307713334</th>\n",
       "      <td>2</td>\n",
       "      <td>44</td>\n",
       "      <td>2.0</td>\n",
       "      <td>1.0</td>\n",
       "      <td>2.0</td>\n",
       "      <td>2.0</td>\n",
       "      <td>NaN</td>\n",
       "      <td>4.0</td>\n",
       "      <td>NaN</td>\n",
       "      <td>NaN</td>\n",
       "      <td>...</td>\n",
       "      <td>0</td>\n",
       "      <td>0</td>\n",
       "      <td>0</td>\n",
       "      <td>0</td>\n",
       "      <td>0</td>\n",
       "      <td>0</td>\n",
       "      <td>0</td>\n",
       "      <td>0</td>\n",
       "      <td>100.0</td>\n",
       "      <td>70.0</td>\n",
       "    </tr>\n",
       "    <tr>\n",
       "      <th>NIH2307455306</th>\n",
       "      <td>2</td>\n",
       "      <td>43</td>\n",
       "      <td>6.0</td>\n",
       "      <td>1.0</td>\n",
       "      <td>2.0</td>\n",
       "      <td>2.0</td>\n",
       "      <td>NaN</td>\n",
       "      <td>3.0</td>\n",
       "      <td>NaN</td>\n",
       "      <td>1.0</td>\n",
       "      <td>...</td>\n",
       "      <td>0</td>\n",
       "      <td>0</td>\n",
       "      <td>0</td>\n",
       "      <td>0</td>\n",
       "      <td>0</td>\n",
       "      <td>0</td>\n",
       "      <td>0</td>\n",
       "      <td>0</td>\n",
       "      <td>120.0</td>\n",
       "      <td>80.0</td>\n",
       "    </tr>\n",
       "    <tr>\n",
       "      <th>NIH2307137554</th>\n",
       "      <td>2</td>\n",
       "      <td>64</td>\n",
       "      <td>4.0</td>\n",
       "      <td>1.0</td>\n",
       "      <td>1.0</td>\n",
       "      <td>2.0</td>\n",
       "      <td>NaN</td>\n",
       "      <td>3.0</td>\n",
       "      <td>NaN</td>\n",
       "      <td>1.0</td>\n",
       "      <td>...</td>\n",
       "      <td>0</td>\n",
       "      <td>0</td>\n",
       "      <td>0</td>\n",
       "      <td>0</td>\n",
       "      <td>0</td>\n",
       "      <td>0</td>\n",
       "      <td>0</td>\n",
       "      <td>0</td>\n",
       "      <td>174.0</td>\n",
       "      <td>102.0</td>\n",
       "    </tr>\n",
       "    <tr>\n",
       "      <th>NIH2307649667</th>\n",
       "      <td>2</td>\n",
       "      <td>65</td>\n",
       "      <td>2.0</td>\n",
       "      <td>1.0</td>\n",
       "      <td>3.0</td>\n",
       "      <td>2.0</td>\n",
       "      <td>NaN</td>\n",
       "      <td>2.0</td>\n",
       "      <td>NaN</td>\n",
       "      <td>2.0</td>\n",
       "      <td>...</td>\n",
       "      <td>0</td>\n",
       "      <td>0</td>\n",
       "      <td>0</td>\n",
       "      <td>0</td>\n",
       "      <td>0</td>\n",
       "      <td>0</td>\n",
       "      <td>0</td>\n",
       "      <td>0</td>\n",
       "      <td>126.0</td>\n",
       "      <td>82.0</td>\n",
       "    </tr>\n",
       "    <tr>\n",
       "      <th>NIH2307899915</th>\n",
       "      <td>2</td>\n",
       "      <td>57</td>\n",
       "      <td>6.0</td>\n",
       "      <td>1.0</td>\n",
       "      <td>3.0</td>\n",
       "      <td>2.0</td>\n",
       "      <td>NaN</td>\n",
       "      <td>3.0</td>\n",
       "      <td>NaN</td>\n",
       "      <td>2.0</td>\n",
       "      <td>...</td>\n",
       "      <td>0</td>\n",
       "      <td>0</td>\n",
       "      <td>0</td>\n",
       "      <td>0</td>\n",
       "      <td>0</td>\n",
       "      <td>1</td>\n",
       "      <td>0</td>\n",
       "      <td>0</td>\n",
       "      <td>102.0</td>\n",
       "      <td>74.0</td>\n",
       "    </tr>\n",
       "  </tbody>\n",
       "</table>\n",
       "<p>5 rows × 869 columns</p>\n",
       "</div>"
      ],
      "text/plain": [
       "               AS1_SEX  AS1_AGE  AS1_FAMNUM  AS1_HAND  AS1_SEAS  AS1_MARRYA   \n",
       "DIST_ID                                                                       \n",
       "NIH2307713334        2       44         2.0       1.0       2.0         2.0  \\\n",
       "NIH2307455306        2       43         6.0       1.0       2.0         2.0   \n",
       "NIH2307137554        2       64         4.0       1.0       1.0         2.0   \n",
       "NIH2307649667        2       65         2.0       1.0       3.0         2.0   \n",
       "NIH2307899915        2       57         6.0       1.0       3.0         2.0   \n",
       "\n",
       "              AS1_MARRYAETC  AS1_RELIG AS1_RELIGETC  AS1_RELIGPRT  ...   \n",
       "DIST_ID                                                            ...   \n",
       "NIH2307713334           NaN        4.0          NaN           NaN  ...  \\\n",
       "NIH2307455306           NaN        3.0          NaN           1.0  ...   \n",
       "NIH2307137554           NaN        3.0          NaN           1.0  ...   \n",
       "NIH2307649667           NaN        2.0          NaN           2.0  ...   \n",
       "NIH2307899915           NaN        3.0          NaN           2.0  ...   \n",
       "\n",
       "               AS1_DRAS  AS1_DRLP  AS1_DRSP  AS1_DRSL  AS1_FMOSREL_N   \n",
       "DIST_ID                                                                \n",
       "NIH2307713334         0         0         0         0              0  \\\n",
       "NIH2307455306         0         0         0         0              0   \n",
       "NIH2307137554         0         0         0         0              0   \n",
       "NIH2307649667         0         0         0         0              0   \n",
       "NIH2307899915         0         0         0         0              0   \n",
       "\n",
       "               AS1_FMOSREL_P  AS1_FMOSREL_S  AS1_FMOSREL_O  AS1_BPSIT1SYS   \n",
       "DIST_ID                                                                     \n",
       "NIH2307713334              0              0              0          100.0  \\\n",
       "NIH2307455306              0              0              0          120.0   \n",
       "NIH2307137554              0              0              0          174.0   \n",
       "NIH2307649667              0              0              0          126.0   \n",
       "NIH2307899915              1              0              0          102.0   \n",
       "\n",
       "               AS1_BPSIT1DIA  \n",
       "DIST_ID                       \n",
       "NIH2307713334           70.0  \n",
       "NIH2307455306           80.0  \n",
       "NIH2307137554          102.0  \n",
       "NIH2307649667           82.0  \n",
       "NIH2307899915           74.0  \n",
       "\n",
       "[5 rows x 869 columns]"
      ]
     },
     "execution_count": 25,
     "metadata": {},
     "output_type": "execute_result"
    }
   ],
   "source": [
    "dataset.head()"
   ]
  },
  {
   "cell_type": "code",
   "execution_count": 26,
   "metadata": {
    "ExecuteTime": {
     "end_time": "2024-03-04T16:37:24.938563Z",
     "start_time": "2024-03-04T16:37:24.921563Z"
    },
    "collapsed": false
   },
   "outputs": [
    {
     "name": "stdout",
     "output_type": "stream",
     "text": [
      "4798\n",
      "257\n"
     ]
    },
    {
     "data": {
      "text/plain": [
       "AS1_BRCA\n",
       "1.0    4506\n",
       "2.0      35\n",
       "Name: count, dtype: int64"
      ]
     },
     "execution_count": 26,
     "metadata": {},
     "output_type": "execute_result"
    }
   ],
   "source": [
    " # AS1_BRCA 유방암 수술 여부.. 수술 안 함으로 변경\n",
    "print(len(raw_binary['AS1_BRCA']))\n",
    "print(raw_binary['AS1_BRCA'].isnull().sum())\n",
    "raw_binary['AS1_BRCA'].value_counts()"
   ]
  },
  {
   "cell_type": "code",
   "execution_count": 27,
   "metadata": {
    "ExecuteTime": {
     "end_time": "2024-03-04T16:38:58.043314Z",
     "start_time": "2024-03-04T16:38:58.017315Z"
    },
    "collapsed": false
   },
   "outputs": [
    {
     "name": "stdout",
     "output_type": "stream",
     "text": [
      "0\n"
     ]
    },
    {
     "data": {
      "text/plain": [
       "AS1_BRCA\n",
       "1.0    4763\n",
       "2.0      35\n",
       "Name: count, dtype: int64"
      ]
     },
     "execution_count": 27,
     "metadata": {},
     "output_type": "execute_result"
    }
   ],
   "source": [
    "raw_binary['AS1_BRCA'] = raw_binary['AS1_BRCA'].fillna(1.0)\n",
    "print(raw_binary['AS1_BRCA'].isnull().sum())\n",
    "raw_binary['AS1_BRCA'].value_counts()"
   ]
  },
  {
   "cell_type": "code",
   "execution_count": 28,
   "metadata": {},
   "outputs": [],
   "source": [
    "# AS1_PREG : 임신여부\n",
    "def preg2fillna(df):\n",
    "    mask = (df.AS1_BRSTF == 2) & df.AS1_PREG.isnull()\n",
    "\n",
    "    df.loc[mask, 'AS1_PREG'] = 2\n",
    "\n",
    "    return df\n"
   ]
  },
  {
   "cell_type": "code",
   "execution_count": 29,
   "metadata": {},
   "outputs": [],
   "source": [
    "raw_binary = preg2fillna(raw_binary.copy())"
   ]
  },
  {
   "cell_type": "code",
   "execution_count": 30,
   "metadata": {},
   "outputs": [
    {
     "name": "stdout",
     "output_type": "stream",
     "text": [
      "4798\n",
      "2099\n"
     ]
    },
    {
     "data": {
      "text/plain": [
       "AS1_PMAG_C\n",
       "49.0    285\n",
       "50.0    276\n",
       "48.0    239\n",
       "47.0    201\n",
       "51.0    178\n",
       "52.0    170\n",
       "46.0    154\n",
       "45.0    144\n",
       "44.0    112\n",
       "40.0     99\n",
       "54.0     96\n",
       "53.0     95\n",
       "41.0     85\n",
       "42.0     84\n",
       "43.0     75\n",
       "39.0     68\n",
       "38.0     64\n",
       "55.0     53\n",
       "56.0     29\n",
       "37.0     29\n",
       "35.0     27\n",
       "57.0     23\n",
       "36.0     21\n",
       "32.0     15\n",
       "30.0     14\n",
       "33.0     14\n",
       "34.0     12\n",
       "58.0     11\n",
       "31.0     10\n",
       "28.0      6\n",
       "29.0      4\n",
       "59.0      3\n",
       "25.0      2\n",
       "60.0      1\n",
       "Name: count, dtype: int64"
      ]
     },
     "execution_count": 30,
     "metadata": {},
     "output_type": "execute_result"
    }
   ],
   "source": [
    "# AS1_PMAG_C\n",
    "print(len(raw_cnt['AS1_PMAG_C']))\n",
    "print(raw_cnt['AS1_PMAG_C'].isnull().sum())\n",
    "raw_cnt['AS1_PMAG_C'].value_counts()"
   ]
  },
  {
   "cell_type": "code",
   "execution_count": 31,
   "metadata": {},
   "outputs": [],
   "source": [
    "def pmagc2fillna(df, bin):\n",
    "  # AS1_PMAG_C 칼럼의 결측값을 NaN으로 변경합니다.\n",
    "  df.AS1_PMAG_C = df.AS1_PMAG_C.fillna(np.nan)\n",
    "\n",
    "  # AS1_PMYN_C가 1인 경우 결측값을 0으로 대체합니다.\n",
    "  df.loc[bin.AS1_PMYN_C == 1, 'AS1_PMAG_C'] = 0\n",
    "\n",
    "  # AS1_PMYN_C가 2인 경우의 평균값을 계산합니다.\n",
    "  mean_as1_pmag_c_2 = df.loc[bin.AS1_PMYN_C == 2, 'AS1_PMAG_C'].mean().astype(int)\n",
    "\n",
    "  # AS1_PMYN_C가 2이고 AS1_PMAG_C 값이 결측값인 행을 선택합니다.\n",
    "  mask = (bin.AS1_PMYN_C == 2) & df.AS1_PMAG_C.isnull()\n",
    "\n",
    "  # 선택된 행의 AS1_PMAG_C 값을 평균값으로 대체합니다.\n",
    "  df.loc[mask, 'AS1_PMAG_C'] = mean_as1_pmag_c_2\n",
    "\n",
    "  return df\n",
    "\n",
    "raw_cnt = pmagc2fillna(raw_cnt.copy(), raw_binary)\n"
   ]
  },
  {
   "cell_type": "code",
   "execution_count": 32,
   "metadata": {},
   "outputs": [
    {
     "name": "stdout",
     "output_type": "stream",
     "text": [
      "AS1_PMAG_C: 28, AS1_PMYN_C: 28\n"
     ]
    },
    {
     "data": {
      "text/plain": [
       "AS1_PMAG_C\n",
       "0.0     1738\n",
       "46.0     487\n",
       "49.0     285\n",
       "50.0     276\n",
       "48.0     239\n",
       "47.0     201\n",
       "51.0     178\n",
       "52.0     170\n",
       "45.0     144\n",
       "44.0     112\n",
       "40.0      99\n",
       "54.0      96\n",
       "53.0      95\n",
       "41.0      85\n",
       "42.0      84\n",
       "43.0      75\n",
       "39.0      68\n",
       "38.0      64\n",
       "55.0      53\n",
       "37.0      29\n",
       "56.0      29\n",
       "35.0      27\n",
       "57.0      23\n",
       "36.0      21\n",
       "32.0      15\n",
       "30.0      14\n",
       "33.0      14\n",
       "34.0      12\n",
       "58.0      11\n",
       "31.0      10\n",
       "28.0       6\n",
       "29.0       4\n",
       "59.0       3\n",
       "25.0       2\n",
       "60.0       1\n",
       "Name: count, dtype: int64"
      ]
     },
     "execution_count": 32,
     "metadata": {},
     "output_type": "execute_result"
    }
   ],
   "source": [
    "# AS1_PMAG_C 대치 완료, 폐경여부 알 수 없는 28명은 DROP\n",
    "print(f\"AS1_PMAG_C: {raw_cnt['AS1_PMAG_C'].isnull().sum()}, AS1_PMYN_C: {raw_binary['AS1_PMYN_C'].isnull().sum()}\")\n",
    "raw_cnt['AS1_PMAG_C'].value_counts()"
   ]
  },
  {
   "cell_type": "code",
   "execution_count": 33,
   "metadata": {},
   "outputs": [],
   "source": [
    "raw_binary = raw_binary.dropna(subset=['AS1_PMYN_C'])\n",
    "raw_cnt = raw_cnt.dropna(subset=['AS1_PMAG_C'])"
   ]
  },
  {
   "cell_type": "markdown",
   "metadata": {},
   "source": [
    "### 일정 개수 이상 결측치 제거\n",
    "\n",
    "- 결측값 많은 것은 다 없애자!\n",
    "- 기존 4798명 기준으로 1% 이상 (결측치 48 이상) 다 제거하고 돌려보기 "
   ]
  },
  {
   "cell_type": "code",
   "execution_count": 34,
   "metadata": {},
   "outputs": [],
   "source": [
    "def drop_columns_with_missing_values(df, threshold=47):\n",
    "  \"\"\"Drops columns with more than the specified threshold of missing values,\n",
    "  excluding columns in the 'exception' list.\n",
    "\n",
    "  Args:\n",
    "      df (pandas.DataFrame): The input DataFrame.\n",
    "      threshold (int, optional): The minimum number of missing values a column\n",
    "          can have to be dropped. Defaults to 47.\n",
    "\n",
    "  Returns:\n",
    "      tuple: A tuple containing the modified DataFrame and the list of dropped columns.\n",
    "  \"\"\"\n",
    "\n",
    "  missing_values_count = df.isnull().sum()\n",
    "  columns_to_drop = missing_values_count[missing_values_count > threshold].index.tolist()\n",
    "\n",
    "  # Exclude columns in the 'exception' list from being dropped\n",
    "  exception = ['AS1_SMOKEA', 'AS1_INCOME', 'AS1_PHYSTB', 'AS1_PHYSIT', 'AS1_PHYACTL', 'AS1_PHYACTM', 'AS1_PHYACTH']\n",
    "  columns_to_drop = [col for col in columns_to_drop if col not in exception]\n",
    "\n",
    "  # Informative message about dropped columns (if any)\n",
    "  if columns_to_drop:\n",
    "    print(f\"Dropped columns with more than {threshold} missing values: {', '.join(columns_to_drop)}\")\n",
    "  else:\n",
    "    print(\"No columns dropped based on missing value threshold.\")\n",
    "\n",
    "  return df.drop(columns=columns_to_drop), columns_to_drop\n",
    "\n",
    "\n",
    "# def drop_columns_with_missing_values(df, threshold=47):\n",
    "#   missing_values_count = df.isnull().sum()\n",
    "#   columns_to_drop = missing_values_count[missing_values_count > threshold].index.tolist()\n",
    "\n",
    "#   # 민경누나 부탁으로 꼭 넣어야하는 거 다시 넣기\n",
    "#   exception = ['AS1_SMOKEA', 'AS1_INCOME', 'AS1_PHYSTB', 'AS1_PHYSIT', 'AS1_PHYACTL', 'AS1_PHYACTM', 'AS1_PHYACTH'],\n",
    "#   # `list.remove` 대신 `list.pop` 사용\n",
    "#   # for col in exception:\n",
    "#   #   if col in columns_to_drop:\n",
    "#   #     columns_to_drop.pop(columns_to_drop.index(col))\n",
    "\n",
    "#   columns_to_drop = [col for col in columns_to_drop if col not in exception]\n",
    "\n",
    "#   print(df.columns[0], columns_to_drop)\n",
    "#   df = df.drop(columns=columns_to_drop)\n",
    "\n",
    "#   return df, columns_to_drop\n",
    "\n",
    "  "
   ]
  },
  {
   "cell_type": "markdown",
   "metadata": {
    "collapsed": false
   },
   "source": [
    "### 남은거는 그냥 처리"
   ]
  },
  {
   "cell_type": "code",
   "execution_count": 35,
   "metadata": {
    "ExecuteTime": {
     "end_time": "2024-03-04T20:03:14.311117Z",
     "start_time": "2024-03-04T20:03:14.248716Z"
    },
    "collapsed": false
   },
   "outputs": [
    {
     "name": "stdout",
     "output_type": "stream",
     "text": [
      "Dropped columns with more than 47 missing values: AS1_HYST, AS1_OBGYOP, AS1_BRSTF\n",
      "Dropped columns with more than 47 missing values: AS1_HYSTOVARYW, AS1_OVARYW\n",
      "No columns dropped based on missing value threshold.\n",
      "Dropped columns with more than 47 missing values: AS1_CHILD_P, AS1_FPREGAG, AS1_VITB12, AS1_PRT_U, AS1_CREATINE_U, AS1_CA_U, AS1_NA_U, AS1_TSH\n"
     ]
    }
   ],
   "source": [
    "# raw_binary = raw_binary.fillna(raw_binary.mode().iloc[0])\n",
    "# raw_cath0 = raw_cath0.fillna(raw_cath0.mode().iloc[0])\n",
    "# raw_cath1 = raw_cath1.fillna(raw_cath1.mode().iloc[0])\n",
    "# raw_cnt = raw_cnt.fillna(raw_cnt.mean())\n",
    "\n",
    "binary, dropped_col_binary = drop_columns_with_missing_values(raw_binary, 47)\n",
    "binary = binary.fillna(binary.mode().iloc[0])\n",
    "\n",
    "cath0, dropped_col_cath0 = drop_columns_with_missing_values(raw_cath0, 47)\n",
    "cath0 = cath0.fillna(cath0.mode().iloc[0])\n",
    "\n",
    "cath1, dropped_col_cath1 = drop_columns_with_missing_values(raw_cath1, 47)\n",
    "cath1 = cath1.fillna(cath1.mode().iloc[0])\n",
    "\n",
    "cnt, dropped_col_cnt = drop_columns_with_missing_values(raw_cnt, 47)\n",
    "cnt = cnt.fillna(cnt.mean())"
   ]
  },
  {
   "cell_type": "code",
   "execution_count": 36,
   "metadata": {},
   "outputs": [
    {
     "name": "stdout",
     "output_type": "stream",
     "text": [
      "\n",
      "      binary: 4770\n",
      "      cath0: 4798\n",
      "      cath1: 4798        \n",
      "      cnt: 4770\n",
      "\n",
      "      \n"
     ]
    }
   ],
   "source": [
    "print(f\"\"\"\n",
    "      binary: {len(binary)}\n",
    "      cath0: {len(cath0)}\n",
    "      cath1: {len(cath1)}        \n",
    "      cnt: {len(cnt)}\n",
    "\n",
    "      \"\"\")"
   ]
  },
  {
   "cell_type": "code",
   "execution_count": 37,
   "metadata": {},
   "outputs": [
    {
     "name": "stdout",
     "output_type": "stream",
     "text": [
      "['AS1_HYST', 'AS1_OBGYOP', 'AS1_BRSTF']\n",
      "['AS1_HYSTOVARYW', 'AS1_OVARYW']\n",
      "[]\n",
      "['AS1_CHILD_P', 'AS1_FPREGAG', 'AS1_VITB12', 'AS1_PRT_U', 'AS1_CREATINE_U', 'AS1_CA_U', 'AS1_NA_U', 'AS1_TSH']\n"
     ]
    }
   ],
   "source": [
    "print(dropped_col_binary)\n",
    "print(dropped_col_cath0)\n",
    "print(dropped_col_cath1)\n",
    "print(dropped_col_cnt)"
   ]
  },
  {
   "cell_type": "code",
   "execution_count": 38,
   "metadata": {},
   "outputs": [],
   "source": [
    "# cath0['']"
   ]
  },
  {
   "cell_type": "markdown",
   "metadata": {
    "collapsed": false
   },
   "source": [
    "### 바이올린 플롯"
   ]
  },
  {
   "cell_type": "code",
   "execution_count": 39,
   "metadata": {
    "ExecuteTime": {
     "end_time": "2024-03-04T20:03:20.618905Z",
     "start_time": "2024-03-04T20:03:20.609396Z"
    },
    "collapsed": false
   },
   "outputs": [],
   "source": [
    "# import seaborn as sns\n",
    "# import matplotlib.pyplot as plt"
   ]
  },
  {
   "cell_type": "code",
   "execution_count": 40,
   "metadata": {
    "ExecuteTime": {
     "end_time": "2024-03-04T20:03:52.370617Z",
     "start_time": "2024-03-04T20:03:44.242597Z"
    },
    "collapsed": false
   },
   "outputs": [],
   "source": [
    "# plt.tight_layout()\n",
    "# # 75개의 바이올린 플롯을 위한 빈 Figure와 Axes 객체 생성\n",
    "# fig, axes = plt.subplots(nrows=5, ncols=15, figsize=(50, 30))\n",
    "\n",
    "# # 칼럼 인덱스 카운터\n",
    "# i = 0\n",
    "\n",
    "# # 모든 칼럼 순회\n",
    "# for col in cnt.columns:\n",
    "#     # 5행 15열 Axes 객체 배열에 순서대로 바이올린 플롯 그리기\n",
    "#     sns.violinplot(data=cnt, x=col, ax=axes[i // 15][i % 15])\n",
    "#     i += 1\n",
    "\n",
    "# # 그래프 제목 설정\n",
    "# fig.suptitle(\"[Continuous variables]\")\n",
    "\n",
    "# # x축 라벨 설정\n",
    "# for ax in axes.flat:\n",
    "#     ax.set_xlabel(ax.get_xlabel(), rotation=0)\n",
    "\n",
    "# # y축 라벨 설정\n",
    "# axes[0, 0].set_ylabel(\"[none]\")\n",
    "\n",
    "# # plt.show()를 사용하면 그래프가 즉시 뜨고 코드 실행이 멈춥니다.\n",
    "# # plt.savefig(\"[파일 경로]\")를 사용하면 지정된 경로에 그래프 파일을 저장합니다.\n",
    "# plt.savefig(\"./Docs/drop_vp.png\")"
   ]
  },
  {
   "cell_type": "markdown",
   "metadata": {
    "collapsed": false
   },
   "source": [
    "## 데이터셋에 유전체 붙이기\n",
    "\n",
    "유전체 인덱스 매칭 안 되는 것 drop\n",
    "유전체 값 0 0(결측값)인 것 drop"
   ]
  },
  {
   "cell_type": "code",
   "execution_count": 41,
   "metadata": {
    "ExecuteTime": {
     "end_time": "2024-03-04T20:06:04.152694Z",
     "start_time": "2024-03-04T20:06:04.138663Z"
    },
    "collapsed": false
   },
   "outputs": [],
   "source": [
    "# 유전체 SNP 매칭\n",
    "gen_dict = {3335: \"SNP_A-2181021\",\n",
    "            214246: \"SNP_A-1809518\",\n",
    "            262783: \"SNP_A-2130710\",\n",
    "            35799: \"SNP_A-2263153\",\n",
    "            154529: \"SNP_A-2310995\",\n",
    "            118171: \"SNP_A-1922415\",\n",
    "            182907: \"SNP_A-2266073\",\n",
    "            122732: \"SNP_A-1984271\",\n",
    "            283204: \"SNP_A-2218697\",\n",
    "            217552: \"SNP_A-1850320\",\n",
    "            335062: \"SNP_A-4262878\",\n",
    "            335032: \"SNP_A-4299800\",\n",
    "            335031: \"SNP_A-2242511\"}"
   ]
  },
  {
   "cell_type": "code",
   "execution_count": 47,
   "metadata": {
    "ExecuteTime": {
     "end_time": "2024-03-04T20:06:08.337506Z",
     "start_time": "2024-03-04T20:06:07.096859Z"
    },
    "collapsed": false
   },
   "outputs": [
    {
     "data": {
      "text/html": [
       "<div>\n",
       "<style scoped>\n",
       "    .dataframe tbody tr th:only-of-type {\n",
       "        vertical-align: middle;\n",
       "    }\n",
       "\n",
       "    .dataframe tbody tr th {\n",
       "        vertical-align: top;\n",
       "    }\n",
       "\n",
       "    .dataframe thead th {\n",
       "        text-align: right;\n",
       "    }\n",
       "</style>\n",
       "<table border=\"1\" class=\"dataframe\">\n",
       "  <thead>\n",
       "    <tr style=\"text-align: right;\">\n",
       "      <th></th>\n",
       "      <th>SNP_A-2181021</th>\n",
       "      <th>SNP_A-1809518</th>\n",
       "      <th>SNP_A-2130710</th>\n",
       "      <th>SNP_A-2263153</th>\n",
       "      <th>SNP_A-2310995</th>\n",
       "      <th>SNP_A-1922415</th>\n",
       "      <th>SNP_A-2266073</th>\n",
       "      <th>SNP_A-1984271</th>\n",
       "      <th>SNP_A-2218697</th>\n",
       "      <th>SNP_A-1850320</th>\n",
       "      <th>SNP_A-4262878</th>\n",
       "      <th>SNP_A-4299800</th>\n",
       "      <th>SNP_A-2242511</th>\n",
       "    </tr>\n",
       "  </thead>\n",
       "  <tbody>\n",
       "    <tr>\n",
       "      <th>NIH2307537078</th>\n",
       "      <td>C C</td>\n",
       "      <td>G A</td>\n",
       "      <td>G G</td>\n",
       "      <td>A A</td>\n",
       "      <td>C C</td>\n",
       "      <td>T T</td>\n",
       "      <td>G G</td>\n",
       "      <td>C C</td>\n",
       "      <td>A A</td>\n",
       "      <td>A G</td>\n",
       "      <td>T G</td>\n",
       "      <td>G G</td>\n",
       "      <td>A A</td>\n",
       "    </tr>\n",
       "    <tr>\n",
       "      <th>NIH2307151907</th>\n",
       "      <td>A A</td>\n",
       "      <td>G A</td>\n",
       "      <td>G T</td>\n",
       "      <td>A A</td>\n",
       "      <td>T C</td>\n",
       "      <td>T T</td>\n",
       "      <td>G G</td>\n",
       "      <td>G G</td>\n",
       "      <td>A A</td>\n",
       "      <td>G G</td>\n",
       "      <td>T G</td>\n",
       "      <td>G G</td>\n",
       "      <td>A A</td>\n",
       "    </tr>\n",
       "    <tr>\n",
       "      <th>NIH2307876488</th>\n",
       "      <td>C C</td>\n",
       "      <td>G G</td>\n",
       "      <td>T T</td>\n",
       "      <td>A A</td>\n",
       "      <td>C C</td>\n",
       "      <td>T T</td>\n",
       "      <td>G G</td>\n",
       "      <td>C C</td>\n",
       "      <td>G A</td>\n",
       "      <td>G G</td>\n",
       "      <td>T G</td>\n",
       "      <td>G G</td>\n",
       "      <td>A A</td>\n",
       "    </tr>\n",
       "    <tr>\n",
       "      <th>NIH2307009808</th>\n",
       "      <td>C C</td>\n",
       "      <td>G A</td>\n",
       "      <td>G T</td>\n",
       "      <td>A A</td>\n",
       "      <td>C C</td>\n",
       "      <td>T T</td>\n",
       "      <td>G G</td>\n",
       "      <td>G C</td>\n",
       "      <td>A A</td>\n",
       "      <td>G G</td>\n",
       "      <td>T G</td>\n",
       "      <td>G G</td>\n",
       "      <td>A A</td>\n",
       "    </tr>\n",
       "    <tr>\n",
       "      <th>NIH2307798369</th>\n",
       "      <td>C C</td>\n",
       "      <td>A A</td>\n",
       "      <td>T T</td>\n",
       "      <td>A A</td>\n",
       "      <td>C C</td>\n",
       "      <td>T T</td>\n",
       "      <td>G G</td>\n",
       "      <td>G C</td>\n",
       "      <td>G A</td>\n",
       "      <td>G G</td>\n",
       "      <td>G G</td>\n",
       "      <td>G G</td>\n",
       "      <td>A A</td>\n",
       "    </tr>\n",
       "  </tbody>\n",
       "</table>\n",
       "</div>"
      ],
      "text/plain": [
       "              SNP_A-2181021 SNP_A-1809518 SNP_A-2130710 SNP_A-2263153   \n",
       "NIH2307537078           C C           G A           G G           A A  \\\n",
       "NIH2307151907           A A           G A           G T           A A   \n",
       "NIH2307876488           C C           G G           T T           A A   \n",
       "NIH2307009808           C C           G A           G T           A A   \n",
       "NIH2307798369           C C           A A           T T           A A   \n",
       "\n",
       "              SNP_A-2310995 SNP_A-1922415 SNP_A-2266073 SNP_A-1984271   \n",
       "NIH2307537078           C C           T T           G G           C C  \\\n",
       "NIH2307151907           T C           T T           G G           G G   \n",
       "NIH2307876488           C C           T T           G G           C C   \n",
       "NIH2307009808           C C           T T           G G           G C   \n",
       "NIH2307798369           C C           T T           G G           G C   \n",
       "\n",
       "              SNP_A-2218697 SNP_A-1850320 SNP_A-4262878 SNP_A-4299800   \n",
       "NIH2307537078           A A           A G           T G           G G  \\\n",
       "NIH2307151907           A A           G G           T G           G G   \n",
       "NIH2307876488           G A           G G           T G           G G   \n",
       "NIH2307009808           A A           G G           T G           G G   \n",
       "NIH2307798369           G A           G G           G G           G G   \n",
       "\n",
       "              SNP_A-2242511  \n",
       "NIH2307537078           A A  \n",
       "NIH2307151907           A A  \n",
       "NIH2307876488           A A  \n",
       "NIH2307009808           A A  \n",
       "NIH2307798369           A A  "
      ]
     },
     "execution_count": 47,
     "metadata": {},
     "output_type": "execute_result"
    }
   ],
   "source": [
    "# 유전체 데이터프레임 만들기\n",
    "df_all_gen = pd.DataFrame()\n",
    "\n",
    "for v in gen_dict.values():\n",
    "    temp = pd.read_csv(f\"./dataset/genome/result_{v}.csv\", index_col=1, low_memory=False).dropna()\n",
    "    temp.rename(columns={\"SNP\": v}, inplace=True)\n",
    "    df_all_gen = pd.concat([df_all_gen, temp[v]], axis=1)\n",
    "\n",
    "df_all_gen.head()"
   ]
  },
  {
   "cell_type": "code",
   "execution_count": 48,
   "metadata": {},
   "outputs": [
    {
     "data": {
      "text/plain": [
       "4658"
      ]
     },
     "execution_count": 48,
     "metadata": {},
     "output_type": "execute_result"
    }
   ],
   "source": [
    "len(df_all_gen)"
   ]
  },
  {
   "cell_type": "markdown",
   "metadata": {},
   "source": [
    "결측값 찾기\n",
    "```\n",
    "SNP_A-2181021    26\n",
    "SNP_A-1809518     2\n",
    "SNP_A-2130710    15\n",
    "SNP_A-2263153     0\n",
    "SNP_A-2310995     8\n",
    "SNP_A-1922415    36\n",
    "SNP_A-2266073     0\n",
    "SNP_A-1984271     0\n",
    "SNP_A-2218697     0\n",
    "SNP_A-1850320    40\n",
    "SNP_A-4262878    12\n",
    "SNP_A-4299800     1\n",
    "SNP_A-2242511     0\n",
    "dtype: int64\n",
    "```"
   ]
  },
  {
   "cell_type": "code",
   "execution_count": 49,
   "metadata": {},
   "outputs": [
    {
     "data": {
      "text/plain": [
       "SNP_A-2181021    0\n",
       "SNP_A-1809518    0\n",
       "SNP_A-2130710    0\n",
       "SNP_A-2263153    0\n",
       "SNP_A-2310995    0\n",
       "SNP_A-1922415    0\n",
       "SNP_A-2266073    0\n",
       "SNP_A-1984271    0\n",
       "SNP_A-2218697    0\n",
       "SNP_A-1850320    0\n",
       "SNP_A-4262878    0\n",
       "SNP_A-4299800    0\n",
       "SNP_A-2242511    0\n",
       "dtype: int64"
      ]
     },
     "execution_count": 49,
     "metadata": {},
     "output_type": "execute_result"
    }
   ],
   "source": [
    "# df_all_gen= df_all_gen.replace('0 0', pd.NA)\n",
    "\n",
    "mode_values = df_all_gen.mode().iloc[0]\n",
    "\n",
    "df_all_gen= df_all_gen.replace('0 0', mode_values) # 최빈값으로 대치\n",
    "df_all_gen.isnull().sum()"
   ]
  },
  {
   "cell_type": "code",
   "execution_count": 50,
   "metadata": {
    "ExecuteTime": {
     "end_time": "2024-03-04T20:07:22.281476Z",
     "start_time": "2024-03-04T20:07:22.246426Z"
    },
    "collapsed": false
   },
   "outputs": [
    {
     "name": "stdout",
     "output_type": "stream",
     "text": [
      "<class 'pandas.core.frame.DataFrame'>\n",
      "Index: 5233 entries, NIH2307713334 to NIH2307981982\n",
      "Columns: 127 entries, AS1_SEX to SNP_A-2242511\n",
      "dtypes: float64(114), object(13)\n",
      "memory usage: 5.1+ MB\n"
     ]
    }
   ],
   "source": [
    "diet_and_gen = pd.concat([binary, cath0, cath1, cnt, df_all_gen], axis=1)\n",
    "diet_and_gen.info()"
   ]
  },
  {
   "cell_type": "code",
   "execution_count": 53,
   "metadata": {},
   "outputs": [
    {
     "data": {
      "text/plain": [
       "AS1_SEX          463\n",
       "AS1_HT           463\n",
       "AS1_DM           463\n",
       "AS1_AL           463\n",
       "AS1_MI           463\n",
       "                ... \n",
       "SNP_A-2218697    575\n",
       "SNP_A-1850320    575\n",
       "SNP_A-4262878    575\n",
       "SNP_A-4299800    575\n",
       "SNP_A-2242511    575\n",
       "Length: 127, dtype: int64"
      ]
     },
     "execution_count": 53,
     "metadata": {},
     "output_type": "execute_result"
    }
   ],
   "source": [
    "diet_and_gen.isnull().sum()"
   ]
  },
  {
   "cell_type": "code",
   "execution_count": 54,
   "metadata": {
    "ExecuteTime": {
     "end_time": "2024-03-04T20:07:24.726687Z",
     "start_time": "2024-03-04T20:07:24.667432Z"
    },
    "collapsed": false
   },
   "outputs": [
    {
     "name": "stdout",
     "output_type": "stream",
     "text": [
      "<class 'pandas.core.frame.DataFrame'>\n",
      "Index: 4770 entries, NIH2307713334 to NIH2307534318\n",
      "Columns: 127 entries, AS1_SEX to SNP_A-2242511\n",
      "dtypes: float64(114), object(13)\n",
      "memory usage: 4.7+ MB\n",
      "<class 'pandas.core.frame.DataFrame'>\n",
      "Index: 4658 entries, NIH2307713334 to NIH2307981982\n",
      "Columns: 127 entries, AS1_SEX to SNP_A-2242511\n",
      "dtypes: float64(114), object(13)\n",
      "memory usage: 4.5+ MB\n"
     ]
    }
   ],
   "source": [
    "diet_and_gen.dropna(subset=['AS1_PMAG_C', 'AS1_PMYN_C']).info()\n",
    "diet_and_gen.dropna(subset=df_all_gen.columns).info()\n",
    "# diet_and_gen.dropna(subset=['AS1_PMYN_C'],).info()"
   ]
  },
  {
   "cell_type": "code",
   "execution_count": 55,
   "metadata": {},
   "outputs": [
    {
     "name": "stdout",
     "output_type": "stream",
     "text": [
      "4770\n",
      "4199\n",
      "<class 'pandas.core.frame.DataFrame'>\n",
      "Index: 4199 entries, NIH2307713334 to NIH2307534318\n",
      "Columns: 127 entries, AS1_SEX to SNP_A-2242511\n",
      "dtypes: float64(114), object(13)\n",
      "memory usage: 4.1+ MB\n"
     ]
    }
   ],
   "source": [
    "diet_and_gen = diet_and_gen.dropna(subset=['AS1_PMAG_C', 'AS1_PMYN_C'])\n",
    "print(len(diet_and_gen))\n",
    "diet_and_gen = diet_and_gen.dropna(subset=df_all_gen.columns)\n",
    "print(len(diet_and_gen))\n",
    "diet_and_gen.info()"
   ]
  },
  {
   "cell_type": "code",
   "execution_count": 56,
   "metadata": {},
   "outputs": [
    {
     "data": {
      "text/html": [
       "<div>\n",
       "<style scoped>\n",
       "    .dataframe tbody tr th:only-of-type {\n",
       "        vertical-align: middle;\n",
       "    }\n",
       "\n",
       "    .dataframe tbody tr th {\n",
       "        vertical-align: top;\n",
       "    }\n",
       "\n",
       "    .dataframe thead th {\n",
       "        text-align: right;\n",
       "    }\n",
       "</style>\n",
       "<table border=\"1\" class=\"dataframe\">\n",
       "  <thead>\n",
       "    <tr style=\"text-align: right;\">\n",
       "      <th></th>\n",
       "      <th>AS1_SEX</th>\n",
       "      <th>AS1_AGE</th>\n",
       "      <th>AS1_FAMNUM</th>\n",
       "      <th>AS1_HAND</th>\n",
       "      <th>AS1_SEAS</th>\n",
       "      <th>AS1_MARRYA</th>\n",
       "      <th>AS1_MARRYAETC</th>\n",
       "      <th>AS1_RELIG</th>\n",
       "      <th>AS1_RELIGETC</th>\n",
       "      <th>AS1_RELIGPRT</th>\n",
       "      <th>...</th>\n",
       "      <th>AS1_DRAS</th>\n",
       "      <th>AS1_DRLP</th>\n",
       "      <th>AS1_DRSP</th>\n",
       "      <th>AS1_DRSL</th>\n",
       "      <th>AS1_FMOSREL_N</th>\n",
       "      <th>AS1_FMOSREL_P</th>\n",
       "      <th>AS1_FMOSREL_S</th>\n",
       "      <th>AS1_FMOSREL_O</th>\n",
       "      <th>AS1_BPSIT1SYS</th>\n",
       "      <th>AS1_BPSIT1DIA</th>\n",
       "    </tr>\n",
       "    <tr>\n",
       "      <th>DIST_ID</th>\n",
       "      <th></th>\n",
       "      <th></th>\n",
       "      <th></th>\n",
       "      <th></th>\n",
       "      <th></th>\n",
       "      <th></th>\n",
       "      <th></th>\n",
       "      <th></th>\n",
       "      <th></th>\n",
       "      <th></th>\n",
       "      <th></th>\n",
       "      <th></th>\n",
       "      <th></th>\n",
       "      <th></th>\n",
       "      <th></th>\n",
       "      <th></th>\n",
       "      <th></th>\n",
       "      <th></th>\n",
       "      <th></th>\n",
       "      <th></th>\n",
       "      <th></th>\n",
       "    </tr>\n",
       "  </thead>\n",
       "  <tbody>\n",
       "    <tr>\n",
       "      <th>NIH2307713334</th>\n",
       "      <td>2</td>\n",
       "      <td>44</td>\n",
       "      <td>2.0</td>\n",
       "      <td>1.0</td>\n",
       "      <td>2.0</td>\n",
       "      <td>2.0</td>\n",
       "      <td>NaN</td>\n",
       "      <td>4.0</td>\n",
       "      <td>NaN</td>\n",
       "      <td>NaN</td>\n",
       "      <td>...</td>\n",
       "      <td>0</td>\n",
       "      <td>0</td>\n",
       "      <td>0</td>\n",
       "      <td>0</td>\n",
       "      <td>0</td>\n",
       "      <td>0</td>\n",
       "      <td>0</td>\n",
       "      <td>0</td>\n",
       "      <td>100.0</td>\n",
       "      <td>70.0</td>\n",
       "    </tr>\n",
       "    <tr>\n",
       "      <th>NIH2307455306</th>\n",
       "      <td>2</td>\n",
       "      <td>43</td>\n",
       "      <td>6.0</td>\n",
       "      <td>1.0</td>\n",
       "      <td>2.0</td>\n",
       "      <td>2.0</td>\n",
       "      <td>NaN</td>\n",
       "      <td>3.0</td>\n",
       "      <td>NaN</td>\n",
       "      <td>1.0</td>\n",
       "      <td>...</td>\n",
       "      <td>0</td>\n",
       "      <td>0</td>\n",
       "      <td>0</td>\n",
       "      <td>0</td>\n",
       "      <td>0</td>\n",
       "      <td>0</td>\n",
       "      <td>0</td>\n",
       "      <td>0</td>\n",
       "      <td>120.0</td>\n",
       "      <td>80.0</td>\n",
       "    </tr>\n",
       "    <tr>\n",
       "      <th>NIH2307137554</th>\n",
       "      <td>2</td>\n",
       "      <td>64</td>\n",
       "      <td>4.0</td>\n",
       "      <td>1.0</td>\n",
       "      <td>1.0</td>\n",
       "      <td>2.0</td>\n",
       "      <td>NaN</td>\n",
       "      <td>3.0</td>\n",
       "      <td>NaN</td>\n",
       "      <td>1.0</td>\n",
       "      <td>...</td>\n",
       "      <td>0</td>\n",
       "      <td>0</td>\n",
       "      <td>0</td>\n",
       "      <td>0</td>\n",
       "      <td>0</td>\n",
       "      <td>0</td>\n",
       "      <td>0</td>\n",
       "      <td>0</td>\n",
       "      <td>174.0</td>\n",
       "      <td>102.0</td>\n",
       "    </tr>\n",
       "    <tr>\n",
       "      <th>NIH2307649667</th>\n",
       "      <td>2</td>\n",
       "      <td>65</td>\n",
       "      <td>2.0</td>\n",
       "      <td>1.0</td>\n",
       "      <td>3.0</td>\n",
       "      <td>2.0</td>\n",
       "      <td>NaN</td>\n",
       "      <td>2.0</td>\n",
       "      <td>NaN</td>\n",
       "      <td>2.0</td>\n",
       "      <td>...</td>\n",
       "      <td>0</td>\n",
       "      <td>0</td>\n",
       "      <td>0</td>\n",
       "      <td>0</td>\n",
       "      <td>0</td>\n",
       "      <td>0</td>\n",
       "      <td>0</td>\n",
       "      <td>0</td>\n",
       "      <td>126.0</td>\n",
       "      <td>82.0</td>\n",
       "    </tr>\n",
       "    <tr>\n",
       "      <th>NIH2307899915</th>\n",
       "      <td>2</td>\n",
       "      <td>57</td>\n",
       "      <td>6.0</td>\n",
       "      <td>1.0</td>\n",
       "      <td>3.0</td>\n",
       "      <td>2.0</td>\n",
       "      <td>NaN</td>\n",
       "      <td>3.0</td>\n",
       "      <td>NaN</td>\n",
       "      <td>2.0</td>\n",
       "      <td>...</td>\n",
       "      <td>0</td>\n",
       "      <td>0</td>\n",
       "      <td>0</td>\n",
       "      <td>0</td>\n",
       "      <td>0</td>\n",
       "      <td>1</td>\n",
       "      <td>0</td>\n",
       "      <td>0</td>\n",
       "      <td>102.0</td>\n",
       "      <td>74.0</td>\n",
       "    </tr>\n",
       "  </tbody>\n",
       "</table>\n",
       "<p>5 rows × 869 columns</p>\n",
       "</div>"
      ],
      "text/plain": [
       "               AS1_SEX  AS1_AGE  AS1_FAMNUM  AS1_HAND  AS1_SEAS  AS1_MARRYA   \n",
       "DIST_ID                                                                       \n",
       "NIH2307713334        2       44         2.0       1.0       2.0         2.0  \\\n",
       "NIH2307455306        2       43         6.0       1.0       2.0         2.0   \n",
       "NIH2307137554        2       64         4.0       1.0       1.0         2.0   \n",
       "NIH2307649667        2       65         2.0       1.0       3.0         2.0   \n",
       "NIH2307899915        2       57         6.0       1.0       3.0         2.0   \n",
       "\n",
       "              AS1_MARRYAETC  AS1_RELIG AS1_RELIGETC  AS1_RELIGPRT  ...   \n",
       "DIST_ID                                                            ...   \n",
       "NIH2307713334           NaN        4.0          NaN           NaN  ...  \\\n",
       "NIH2307455306           NaN        3.0          NaN           1.0  ...   \n",
       "NIH2307137554           NaN        3.0          NaN           1.0  ...   \n",
       "NIH2307649667           NaN        2.0          NaN           2.0  ...   \n",
       "NIH2307899915           NaN        3.0          NaN           2.0  ...   \n",
       "\n",
       "               AS1_DRAS  AS1_DRLP  AS1_DRSP  AS1_DRSL  AS1_FMOSREL_N   \n",
       "DIST_ID                                                                \n",
       "NIH2307713334         0         0         0         0              0  \\\n",
       "NIH2307455306         0         0         0         0              0   \n",
       "NIH2307137554         0         0         0         0              0   \n",
       "NIH2307649667         0         0         0         0              0   \n",
       "NIH2307899915         0         0         0         0              0   \n",
       "\n",
       "               AS1_FMOSREL_P  AS1_FMOSREL_S  AS1_FMOSREL_O  AS1_BPSIT1SYS   \n",
       "DIST_ID                                                                     \n",
       "NIH2307713334              0              0              0          100.0  \\\n",
       "NIH2307455306              0              0              0          120.0   \n",
       "NIH2307137554              0              0              0          174.0   \n",
       "NIH2307649667              0              0              0          126.0   \n",
       "NIH2307899915              1              0              0          102.0   \n",
       "\n",
       "               AS1_BPSIT1DIA  \n",
       "DIST_ID                       \n",
       "NIH2307713334           70.0  \n",
       "NIH2307455306           80.0  \n",
       "NIH2307137554          102.0  \n",
       "NIH2307649667           82.0  \n",
       "NIH2307899915           74.0  \n",
       "\n",
       "[5 rows x 869 columns]"
      ]
     },
     "execution_count": 56,
     "metadata": {},
     "output_type": "execute_result"
    }
   ],
   "source": [
    "dataset.head()"
   ]
  },
  {
   "cell_type": "code",
   "execution_count": 57,
   "metadata": {},
   "outputs": [
    {
     "data": {
      "text/plain": [
       "4798"
      ]
     },
     "execution_count": 57,
     "metadata": {},
     "output_type": "execute_result"
    }
   ],
   "source": [
    "len(dataset)"
   ]
  },
  {
   "cell_type": "code",
   "execution_count": 58,
   "metadata": {
    "ExecuteTime": {
     "end_time": "2024-03-04T20:08:26.272832Z",
     "start_time": "2024-03-04T20:08:26.235528Z"
    },
    "collapsed": false
   },
   "outputs": [],
   "source": [
    "X = diet_and_gen\n",
    "\n",
    "# X의 인덱스와 dataset의 인덱스를 기준으로 겹치는 인덱스만 추출\n",
    "common_index = X.index.intersection(dataset.index)\n",
    "y = dataset['OP'].loc[common_index]"
   ]
  },
  {
   "cell_type": "code",
   "execution_count": 59,
   "metadata": {},
   "outputs": [
    {
     "name": "stdout",
     "output_type": "stream",
     "text": [
      "dataset[OP]: 4798\n",
      "x 4199 y: 4199\n"
     ]
    }
   ],
   "source": [
    "print(\"dataset[OP]:\", len(dataset['OP']))\n",
    "print(\"x\", len(X), \"y:\", len(y))"
   ]
  },
  {
   "cell_type": "code",
   "execution_count": 60,
   "metadata": {
    "ExecuteTime": {
     "end_time": "2024-03-04T20:08:34.373651Z",
     "start_time": "2024-03-04T20:08:34.344439Z"
    },
    "collapsed": false
   },
   "outputs": [
    {
     "data": {
      "text/plain": [
       "Index(['NIH2307713334', 'NIH2307455306', 'NIH2307137554', 'NIH2307649667',\n",
       "       'NIH2307899915', 'NIH2307202612', 'NIH2307895121', 'NIH2307990429',\n",
       "       'NIH2307188829', 'NIH2307769863',\n",
       "       ...\n",
       "       'NIH2307705241', 'NIH2307002485', 'NIH2307422716', 'NIH2307959786',\n",
       "       'NIH2307294252', 'NIH2307635277', 'NIH2307591031', 'NIH2307808901',\n",
       "       'NIH2307930134', 'NIH2307534318'],\n",
       "      dtype='object', length=4199)"
      ]
     },
     "execution_count": 60,
     "metadata": {},
     "output_type": "execute_result"
    }
   ],
   "source": [
    "X.index"
   ]
  },
  {
   "cell_type": "code",
   "execution_count": 61,
   "metadata": {
    "ExecuteTime": {
     "end_time": "2024-03-04T20:08:35.679651Z",
     "start_time": "2024-03-04T20:08:35.622322Z"
    },
    "collapsed": false
   },
   "outputs": [
    {
     "data": {
      "text/plain": [
       "OP\n",
       "0    3393\n",
       "1     806\n",
       "Name: count, dtype: int64"
      ]
     },
     "execution_count": 61,
     "metadata": {},
     "output_type": "execute_result"
    }
   ],
   "source": [
    "y.value_counts()"
   ]
  },
  {
   "cell_type": "code",
   "execution_count": 62,
   "metadata": {
    "collapsed": false
   },
   "outputs": [],
   "source": [
    "X.to_csv(\"dataset/X_24.ver.0.5.csv\")\n",
    "y.to_csv(\"dataset/y_24.ver.0.5.csv\")"
   ]
  },
  {
   "cell_type": "markdown",
   "metadata": {
    "collapsed": false
   },
   "source": [
    "X, y만 파일로 내보내고, 폐경 여부는 다른 곳에서 처리"
   ]
  },
  {
   "cell_type": "code",
   "execution_count": 63,
   "metadata": {},
   "outputs": [],
   "source": [
    "from sklearn.preprocessing import StandardScaler\n",
    "scaler = StandardScaler()"
   ]
  },
  {
   "cell_type": "code",
   "execution_count": 64,
   "metadata": {},
   "outputs": [],
   "source": [
    "processsed_cnt = scaler.fit_transform(cnt)"
   ]
  },
  {
   "cell_type": "code",
   "execution_count": 65,
   "metadata": {},
   "outputs": [
    {
     "data": {
      "text/html": [
       "<div>\n",
       "<style scoped>\n",
       "    .dataframe tbody tr th:only-of-type {\n",
       "        vertical-align: middle;\n",
       "    }\n",
       "\n",
       "    .dataframe tbody tr th {\n",
       "        vertical-align: top;\n",
       "    }\n",
       "\n",
       "    .dataframe thead th {\n",
       "        text-align: right;\n",
       "    }\n",
       "</style>\n",
       "<table border=\"1\" class=\"dataframe\">\n",
       "  <thead>\n",
       "    <tr style=\"text-align: right;\">\n",
       "      <th>cnt</th>\n",
       "      <th>AS1_AGE</th>\n",
       "      <th>AS1_TOTALC</th>\n",
       "      <th>AS1_PMAG_C</th>\n",
       "      <th>AS1_MNSAG</th>\n",
       "      <th>AS1_SLPAMTM</th>\n",
       "      <th>AS1_ENERGY</th>\n",
       "      <th>AS1_CARBO</th>\n",
       "      <th>AS1_FAT</th>\n",
       "      <th>AS1_PROTEIN</th>\n",
       "      <th>AS1_FIBER</th>\n",
       "      <th>...</th>\n",
       "      <th>AS1_WEIGHT</th>\n",
       "      <th>AS1_BMI</th>\n",
       "      <th>AS1_BDFTR</th>\n",
       "      <th>AS1_BDCMSC</th>\n",
       "      <th>AS1_BPSIT1LS</th>\n",
       "      <th>AS1_BPSIT1RS</th>\n",
       "      <th>AS1_BPSIT1SYS</th>\n",
       "      <th>AS1_BPSIT1LD</th>\n",
       "      <th>AS1_BPSIT1RD</th>\n",
       "      <th>AS1_BPSIT1DIA</th>\n",
       "    </tr>\n",
       "    <tr>\n",
       "      <th>DIST_ID</th>\n",
       "      <th></th>\n",
       "      <th></th>\n",
       "      <th></th>\n",
       "      <th></th>\n",
       "      <th></th>\n",
       "      <th></th>\n",
       "      <th></th>\n",
       "      <th></th>\n",
       "      <th></th>\n",
       "      <th></th>\n",
       "      <th></th>\n",
       "      <th></th>\n",
       "      <th></th>\n",
       "      <th></th>\n",
       "      <th></th>\n",
       "      <th></th>\n",
       "      <th></th>\n",
       "      <th></th>\n",
       "      <th></th>\n",
       "      <th></th>\n",
       "      <th></th>\n",
       "    </tr>\n",
       "  </thead>\n",
       "  <tbody>\n",
       "    <tr>\n",
       "      <th>NIH2307713334</th>\n",
       "      <td>44</td>\n",
       "      <td>0.00</td>\n",
       "      <td>0.0</td>\n",
       "      <td>13.0</td>\n",
       "      <td>8.0</td>\n",
       "      <td>1694.174446</td>\n",
       "      <td>325.969272</td>\n",
       "      <td>18.612650</td>\n",
       "      <td>52.250152</td>\n",
       "      <td>19.829582</td>\n",
       "      <td>...</td>\n",
       "      <td>58.0</td>\n",
       "      <td>24.809215</td>\n",
       "      <td>35.0</td>\n",
       "      <td>35.5</td>\n",
       "      <td>100.0</td>\n",
       "      <td>100.0</td>\n",
       "      <td>100.0</td>\n",
       "      <td>70.0</td>\n",
       "      <td>60.0</td>\n",
       "      <td>70.0</td>\n",
       "    </tr>\n",
       "    <tr>\n",
       "      <th>NIH2307455306</th>\n",
       "      <td>43</td>\n",
       "      <td>0.29</td>\n",
       "      <td>0.0</td>\n",
       "      <td>20.0</td>\n",
       "      <td>7.0</td>\n",
       "      <td>1518.742501</td>\n",
       "      <td>303.288539</td>\n",
       "      <td>11.561803</td>\n",
       "      <td>43.115031</td>\n",
       "      <td>19.166532</td>\n",
       "      <td>...</td>\n",
       "      <td>67.0</td>\n",
       "      <td>26.369274</td>\n",
       "      <td>33.8</td>\n",
       "      <td>41.9</td>\n",
       "      <td>120.0</td>\n",
       "      <td>118.0</td>\n",
       "      <td>120.0</td>\n",
       "      <td>80.0</td>\n",
       "      <td>78.0</td>\n",
       "      <td>80.0</td>\n",
       "    </tr>\n",
       "    <tr>\n",
       "      <th>NIH2307137554</th>\n",
       "      <td>64</td>\n",
       "      <td>0.00</td>\n",
       "      <td>38.0</td>\n",
       "      <td>17.0</td>\n",
       "      <td>7.0</td>\n",
       "      <td>3033.465161</td>\n",
       "      <td>519.516083</td>\n",
       "      <td>56.330170</td>\n",
       "      <td>117.972867</td>\n",
       "      <td>45.703598</td>\n",
       "      <td>...</td>\n",
       "      <td>48.0</td>\n",
       "      <td>21.333333</td>\n",
       "      <td>30.6</td>\n",
       "      <td>31.5</td>\n",
       "      <td>168.0</td>\n",
       "      <td>174.0</td>\n",
       "      <td>174.0</td>\n",
       "      <td>100.0</td>\n",
       "      <td>102.0</td>\n",
       "      <td>102.0</td>\n",
       "    </tr>\n",
       "    <tr>\n",
       "      <th>NIH2307649667</th>\n",
       "      <td>65</td>\n",
       "      <td>0.62</td>\n",
       "      <td>52.0</td>\n",
       "      <td>18.0</td>\n",
       "      <td>7.0</td>\n",
       "      <td>990.403175</td>\n",
       "      <td>199.319908</td>\n",
       "      <td>8.016458</td>\n",
       "      <td>25.462945</td>\n",
       "      <td>15.051000</td>\n",
       "      <td>...</td>\n",
       "      <td>66.0</td>\n",
       "      <td>28.641806</td>\n",
       "      <td>35.5</td>\n",
       "      <td>40.1</td>\n",
       "      <td>120.0</td>\n",
       "      <td>126.0</td>\n",
       "      <td>126.0</td>\n",
       "      <td>80.0</td>\n",
       "      <td>82.0</td>\n",
       "      <td>82.0</td>\n",
       "    </tr>\n",
       "    <tr>\n",
       "      <th>NIH2307899915</th>\n",
       "      <td>57</td>\n",
       "      <td>0.00</td>\n",
       "      <td>46.0</td>\n",
       "      <td>16.0</td>\n",
       "      <td>7.0</td>\n",
       "      <td>2087.710623</td>\n",
       "      <td>323.282165</td>\n",
       "      <td>52.200932</td>\n",
       "      <td>67.995519</td>\n",
       "      <td>20.968875</td>\n",
       "      <td>...</td>\n",
       "      <td>56.5</td>\n",
       "      <td>23.068522</td>\n",
       "      <td>27.1</td>\n",
       "      <td>38.8</td>\n",
       "      <td>102.0</td>\n",
       "      <td>100.0</td>\n",
       "      <td>102.0</td>\n",
       "      <td>70.0</td>\n",
       "      <td>74.0</td>\n",
       "      <td>74.0</td>\n",
       "    </tr>\n",
       "    <tr>\n",
       "      <th>...</th>\n",
       "      <td>...</td>\n",
       "      <td>...</td>\n",
       "      <td>...</td>\n",
       "      <td>...</td>\n",
       "      <td>...</td>\n",
       "      <td>...</td>\n",
       "      <td>...</td>\n",
       "      <td>...</td>\n",
       "      <td>...</td>\n",
       "      <td>...</td>\n",
       "      <td>...</td>\n",
       "      <td>...</td>\n",
       "      <td>...</td>\n",
       "      <td>...</td>\n",
       "      <td>...</td>\n",
       "      <td>...</td>\n",
       "      <td>...</td>\n",
       "      <td>...</td>\n",
       "      <td>...</td>\n",
       "      <td>...</td>\n",
       "      <td>...</td>\n",
       "    </tr>\n",
       "    <tr>\n",
       "      <th>NIH2307591031</th>\n",
       "      <td>60</td>\n",
       "      <td>0.00</td>\n",
       "      <td>46.0</td>\n",
       "      <td>17.0</td>\n",
       "      <td>5.0</td>\n",
       "      <td>1363.519475</td>\n",
       "      <td>268.321021</td>\n",
       "      <td>12.078711</td>\n",
       "      <td>36.674718</td>\n",
       "      <td>12.458386</td>\n",
       "      <td>...</td>\n",
       "      <td>59.0</td>\n",
       "      <td>25.040053</td>\n",
       "      <td>26.7</td>\n",
       "      <td>40.2</td>\n",
       "      <td>120.0</td>\n",
       "      <td>140.0</td>\n",
       "      <td>140.0</td>\n",
       "      <td>80.0</td>\n",
       "      <td>80.0</td>\n",
       "      <td>80.0</td>\n",
       "    </tr>\n",
       "    <tr>\n",
       "      <th>NIH2307808901</th>\n",
       "      <td>62</td>\n",
       "      <td>0.00</td>\n",
       "      <td>42.0</td>\n",
       "      <td>18.0</td>\n",
       "      <td>5.0</td>\n",
       "      <td>1121.040518</td>\n",
       "      <td>167.326272</td>\n",
       "      <td>26.935002</td>\n",
       "      <td>49.041384</td>\n",
       "      <td>13.648075</td>\n",
       "      <td>...</td>\n",
       "      <td>60.0</td>\n",
       "      <td>26.666667</td>\n",
       "      <td>39.5</td>\n",
       "      <td>34.4</td>\n",
       "      <td>120.0</td>\n",
       "      <td>128.0</td>\n",
       "      <td>128.0</td>\n",
       "      <td>84.0</td>\n",
       "      <td>78.0</td>\n",
       "      <td>84.0</td>\n",
       "    </tr>\n",
       "    <tr>\n",
       "      <th>NIH2307930134</th>\n",
       "      <td>65</td>\n",
       "      <td>0.00</td>\n",
       "      <td>50.0</td>\n",
       "      <td>19.0</td>\n",
       "      <td>5.0</td>\n",
       "      <td>1568.944403</td>\n",
       "      <td>285.454118</td>\n",
       "      <td>21.977073</td>\n",
       "      <td>49.200527</td>\n",
       "      <td>15.514005</td>\n",
       "      <td>...</td>\n",
       "      <td>66.5</td>\n",
       "      <td>27.255841</td>\n",
       "      <td>33.6</td>\n",
       "      <td>41.2</td>\n",
       "      <td>118.0</td>\n",
       "      <td>120.0</td>\n",
       "      <td>120.0</td>\n",
       "      <td>80.0</td>\n",
       "      <td>90.0</td>\n",
       "      <td>90.0</td>\n",
       "    </tr>\n",
       "    <tr>\n",
       "      <th>NIH2307023172</th>\n",
       "      <td>69</td>\n",
       "      <td>0.00</td>\n",
       "      <td>47.0</td>\n",
       "      <td>16.0</td>\n",
       "      <td>7.0</td>\n",
       "      <td>1833.060021</td>\n",
       "      <td>365.259335</td>\n",
       "      <td>17.592698</td>\n",
       "      <td>53.309908</td>\n",
       "      <td>25.604977</td>\n",
       "      <td>...</td>\n",
       "      <td>51.5</td>\n",
       "      <td>24.974589</td>\n",
       "      <td>34.0</td>\n",
       "      <td>32.0</td>\n",
       "      <td>160.0</td>\n",
       "      <td>176.0</td>\n",
       "      <td>176.0</td>\n",
       "      <td>94.0</td>\n",
       "      <td>94.0</td>\n",
       "      <td>94.0</td>\n",
       "    </tr>\n",
       "    <tr>\n",
       "      <th>NIH2307534318</th>\n",
       "      <td>59</td>\n",
       "      <td>0.00</td>\n",
       "      <td>37.0</td>\n",
       "      <td>16.0</td>\n",
       "      <td>6.0</td>\n",
       "      <td>1537.280060</td>\n",
       "      <td>288.616297</td>\n",
       "      <td>17.761247</td>\n",
       "      <td>49.423610</td>\n",
       "      <td>20.728511</td>\n",
       "      <td>...</td>\n",
       "      <td>55.5</td>\n",
       "      <td>26.989490</td>\n",
       "      <td>39.0</td>\n",
       "      <td>31.4</td>\n",
       "      <td>132.0</td>\n",
       "      <td>128.0</td>\n",
       "      <td>132.0</td>\n",
       "      <td>76.0</td>\n",
       "      <td>72.0</td>\n",
       "      <td>76.0</td>\n",
       "    </tr>\n",
       "  </tbody>\n",
       "</table>\n",
       "<p>4770 rows × 67 columns</p>\n",
       "</div>"
      ],
      "text/plain": [
       "cnt            AS1_AGE  AS1_TOTALC  AS1_PMAG_C  AS1_MNSAG  AS1_SLPAMTM   \n",
       "DIST_ID                                                                  \n",
       "NIH2307713334       44        0.00         0.0       13.0          8.0  \\\n",
       "NIH2307455306       43        0.29         0.0       20.0          7.0   \n",
       "NIH2307137554       64        0.00        38.0       17.0          7.0   \n",
       "NIH2307649667       65        0.62        52.0       18.0          7.0   \n",
       "NIH2307899915       57        0.00        46.0       16.0          7.0   \n",
       "...                ...         ...         ...        ...          ...   \n",
       "NIH2307591031       60        0.00        46.0       17.0          5.0   \n",
       "NIH2307808901       62        0.00        42.0       18.0          5.0   \n",
       "NIH2307930134       65        0.00        50.0       19.0          5.0   \n",
       "NIH2307023172       69        0.00        47.0       16.0          7.0   \n",
       "NIH2307534318       59        0.00        37.0       16.0          6.0   \n",
       "\n",
       "cnt             AS1_ENERGY   AS1_CARBO    AS1_FAT  AS1_PROTEIN  AS1_FIBER   \n",
       "DIST_ID                                                                     \n",
       "NIH2307713334  1694.174446  325.969272  18.612650    52.250152  19.829582  \\\n",
       "NIH2307455306  1518.742501  303.288539  11.561803    43.115031  19.166532   \n",
       "NIH2307137554  3033.465161  519.516083  56.330170   117.972867  45.703598   \n",
       "NIH2307649667   990.403175  199.319908   8.016458    25.462945  15.051000   \n",
       "NIH2307899915  2087.710623  323.282165  52.200932    67.995519  20.968875   \n",
       "...                    ...         ...        ...          ...        ...   \n",
       "NIH2307591031  1363.519475  268.321021  12.078711    36.674718  12.458386   \n",
       "NIH2307808901  1121.040518  167.326272  26.935002    49.041384  13.648075   \n",
       "NIH2307930134  1568.944403  285.454118  21.977073    49.200527  15.514005   \n",
       "NIH2307023172  1833.060021  365.259335  17.592698    53.309908  25.604977   \n",
       "NIH2307534318  1537.280060  288.616297  17.761247    49.423610  20.728511   \n",
       "\n",
       "cnt            ...  AS1_WEIGHT    AS1_BMI  AS1_BDFTR  AS1_BDCMSC   \n",
       "DIST_ID        ...                                                 \n",
       "NIH2307713334  ...        58.0  24.809215       35.0        35.5  \\\n",
       "NIH2307455306  ...        67.0  26.369274       33.8        41.9   \n",
       "NIH2307137554  ...        48.0  21.333333       30.6        31.5   \n",
       "NIH2307649667  ...        66.0  28.641806       35.5        40.1   \n",
       "NIH2307899915  ...        56.5  23.068522       27.1        38.8   \n",
       "...            ...         ...        ...        ...         ...   \n",
       "NIH2307591031  ...        59.0  25.040053       26.7        40.2   \n",
       "NIH2307808901  ...        60.0  26.666667       39.5        34.4   \n",
       "NIH2307930134  ...        66.5  27.255841       33.6        41.2   \n",
       "NIH2307023172  ...        51.5  24.974589       34.0        32.0   \n",
       "NIH2307534318  ...        55.5  26.989490       39.0        31.4   \n",
       "\n",
       "cnt            AS1_BPSIT1LS  AS1_BPSIT1RS  AS1_BPSIT1SYS  AS1_BPSIT1LD   \n",
       "DIST_ID                                                                  \n",
       "NIH2307713334         100.0         100.0          100.0          70.0  \\\n",
       "NIH2307455306         120.0         118.0          120.0          80.0   \n",
       "NIH2307137554         168.0         174.0          174.0         100.0   \n",
       "NIH2307649667         120.0         126.0          126.0          80.0   \n",
       "NIH2307899915         102.0         100.0          102.0          70.0   \n",
       "...                     ...           ...            ...           ...   \n",
       "NIH2307591031         120.0         140.0          140.0          80.0   \n",
       "NIH2307808901         120.0         128.0          128.0          84.0   \n",
       "NIH2307930134         118.0         120.0          120.0          80.0   \n",
       "NIH2307023172         160.0         176.0          176.0          94.0   \n",
       "NIH2307534318         132.0         128.0          132.0          76.0   \n",
       "\n",
       "cnt            AS1_BPSIT1RD  AS1_BPSIT1DIA  \n",
       "DIST_ID                                     \n",
       "NIH2307713334          60.0           70.0  \n",
       "NIH2307455306          78.0           80.0  \n",
       "NIH2307137554         102.0          102.0  \n",
       "NIH2307649667          82.0           82.0  \n",
       "NIH2307899915          74.0           74.0  \n",
       "...                     ...            ...  \n",
       "NIH2307591031          80.0           80.0  \n",
       "NIH2307808901          78.0           84.0  \n",
       "NIH2307930134          90.0           90.0  \n",
       "NIH2307023172          94.0           94.0  \n",
       "NIH2307534318          72.0           76.0  \n",
       "\n",
       "[4770 rows x 67 columns]"
      ]
     },
     "execution_count": 65,
     "metadata": {},
     "output_type": "execute_result"
    }
   ],
   "source": [
    "cnt"
   ]
  },
  {
   "cell_type": "code",
   "execution_count": 66,
   "metadata": {},
   "outputs": [],
   "source": [
    "processsed_cnt = pd.DataFrame(processsed_cnt, columns=cnt.columns, index=cnt.index)"
   ]
  },
  {
   "cell_type": "code",
   "execution_count": 67,
   "metadata": {
    "ExecuteTime": {
     "end_time": "2024-03-04T20:09:41.884815Z",
     "start_time": "2024-03-04T20:09:41.842777Z"
    },
    "collapsed": false
   },
   "outputs": [],
   "source": [
    "# plt.tight_layout()\n",
    "# # 75개의 바이올린 플롯을 위한 빈 Figure와 Axes 객체 생성\n",
    "# fig, axes = plt.subplots(nrows=5, ncols=15, figsize=(50, 30))\n",
    "\n",
    "# # 칼럼 인덱스 카운터\n",
    "# i = 0\n",
    "\n",
    "# # 모든 칼럼 순회\n",
    "# for col in cnt.columns:\n",
    "#     # 5행 15열 Axes 객체 배열에 순서대로 바이올린 플롯 그리기\n",
    "#     sns.violinplot(data=processsed_cnt, x=col, ax=axes[i // 15][i % 15])\n",
    "#     i += 1\n",
    "\n",
    "# # 그래프 제목 설정\n",
    "# fig.suptitle(\"[Continuous variables]\")\n",
    "\n",
    "# # x축 라벨 설정\n",
    "# for ax in axes.flat:\n",
    "#     ax.set_xlabel(ax.get_xlabel(), rotation=0)\n",
    "\n",
    "# # y축 라벨 설정\n",
    "# axes[0, 0].set_ylabel(\"[none]\")\n",
    "\n",
    "# # plt.show()를 사용하면 그래프가 즉시 뜨고 코드 실행이 멈춥니다.\n",
    "# # plt.savefig(\"[파일 경로]\")를 사용하면 지정된 경로에 그래프 파일을 저장합니다.\n",
    "# plt.savefig(\"./Docs/scaled_vp.png\")"
   ]
  },
  {
   "cell_type": "code",
   "execution_count": 68,
   "metadata": {
    "ExecuteTime": {
     "end_time": "2024-03-04T20:09:42.543742Z",
     "start_time": "2024-03-04T20:09:42.518697Z"
    },
    "collapsed": false
   },
   "outputs": [
    {
     "name": "stdout",
     "output_type": "stream",
     "text": [
      "['AS1_HYST', 'AS1_OBGYOP', 'AS1_BRSTF']\n",
      "['AS1_HYSTOVARYW', 'AS1_OVARYW']\n",
      "[]\n",
      "['AS1_CHILD_P', 'AS1_FPREGAG', 'AS1_VITB12', 'AS1_PRT_U', 'AS1_CREATINE_U', 'AS1_CA_U', 'AS1_NA_U', 'AS1_TSH']\n"
     ]
    }
   ],
   "source": [
    "print(dropped_col_binary)\n",
    "print(dropped_col_cath0)\n",
    "print(dropped_col_cath1)\n",
    "print(dropped_col_cnt)"
   ]
  },
  {
   "cell_type": "code",
   "execution_count": null,
   "metadata": {
    "ExecuteTime": {
     "end_time": "2023-10-05T16:29:51.682504Z",
     "start_time": "2023-10-05T16:29:51.644505Z"
    },
    "collapsed": false
   },
   "outputs": [],
   "source": []
  }
 ],
 "metadata": {
  "kernelspec": {
   "display_name": "Python 3",
   "language": "python",
   "name": "python3"
  },
  "language_info": {
   "codemirror_mode": {
    "name": "ipython",
    "version": 3
   },
   "file_extension": ".py",
   "mimetype": "text/x-python",
   "name": "python",
   "nbconvert_exporter": "python",
   "pygments_lexer": "ipython3",
   "version": "3.10.11"
  }
 },
 "nbformat": 4,
 "nbformat_minor": 0
}
