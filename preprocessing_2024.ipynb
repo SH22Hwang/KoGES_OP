{
 "cells": [
  {
   "attachments": {
    "image.png": {
     "image/png": "[encoded data removed]"
    }
   },
   "cell_type": "markdown",
   "metadata": {
    "collapsed": false
   },
   "source": [
    "# 데이터 전처리\n",
    "\n",
    "@author 컴퓨터과학과 황승현\n",
    "KoGes 데이터 전처리\n",
    "\n",
    "2023-10-04\n",
    "데이터 표준화, 정규화 하지 않기!\n",
    "X_train만 증강하기!\n",
    "\n",
    "전처리 절차\n",
    "\n",
    "1. 데이터셋 분리\n",
    "    - 여성(폐경 전) < AS1_PMYN_C: 1\n",
    "    - 여성(폐경 후) < AS1_PMYN_C: 2\n",
    "2. 각각 사용할 독립변수, 종속변수 행 추출\n",
    "3. 질환유무, 약물력 변수 가공\n",
    "4. 가족력, 가족과의 관계 변수 가공\n",
    "    - 부, 모, 형제자매, 기타 -> 부모, 형제자매, 기타, 해당없음\n",
    "5. 종속변수 AS1_OP 가공\n",
    "    - AS1_DT\n",
    "    - AS1_MT\n",
    "6. 데이터셋을 DataFrame으로 불러오고 독립변수는 4가지로 분류 (binary, cath0, cath1, cnt)\n",
    "    - 표준화 X\n",
    "    - binary: 범주형(binary) 변수\n",
    "    -  catH0: 계층 없는 범주형(>03) 변수, 벡터화(one-hot-encoding)\n",
    "    -  catH1: 계층 있는 범주형 변수\n",
    "    -    cnt: 연속형 변수, 정규화\n",
    "\n",
    "7. 결측값 대치\n",
    "    - binary, cath0, cath1: 각 칼럼의 최빈값으로 대치\n",
    "    - cnt: 평균값으로 대치\n",
    "\n",
    "-----\n",
    "8. X_train 변수 스케일링\n",
    "  - 정규화(normalization): 0, 1\n",
    "  - 표준화(standardization): 평균: 0 표준편차: 1\n",
    "  - 계층화(quantile transform): 4분위 수"
   ]
  },
  {
   "cell_type": "markdown",
   "source": [
    "## 준비\n",
    "\n",
    "- 라이브러리 불러오기\n",
    "- 데이터셋, 사용할 변수 불러오기"
   ],
   "metadata": {
    "collapsed": false
   }
  },
  {
   "cell_type": "code",
   "execution_count": 126,
   "metadata": {
    "collapsed": false,
    "ExecuteTime": {
     "start_time": "2023-10-05T16:29:48.905505Z",
     "end_time": "2023-10-05T16:29:49.040505Z"
    }
   },
   "outputs": [],
   "source": [
    "# 라이브러리 불러오기\n",
    "import numpy as np\n",
    "import pandas as pd\n",
    "\n",
    "from sklearn.model_selection import train_test_split\n",
    "from sklearn.preprocessing import QuantileTransformer"
   ]
  },
  {
   "cell_type": "code",
   "execution_count": 127,
   "metadata": {
    "collapsed": true,
    "ExecuteTime": {
     "start_time": "2023-10-05T16:29:48.917504Z",
     "end_time": "2023-10-05T16:29:49.809504Z"
    }
   },
   "outputs": [
    {
     "name": "stderr",
     "output_type": "stream",
     "text": [
      "C:\\Users\\sh22h\\AppData\\Local\\Temp\\ipykernel_16276\\842177691.py:6: DtypeWarning: Columns (7,9,156,299) have mixed types. Specify dtype option on import or set low_memory=False.\n",
      "  dataset = pd.read_csv(\"dataset/Dataset_OP_230614_raw.csv\", index_col=0, na_values=[77777, 99999, '#NULL!', ' '])\n"
     ]
    },
    {
     "data": {
      "text/plain": "<bound method NDFrame.head of                AS1_SEX  AS1_AGE  AS1_FAMNUM  AS1_HAND  AS1_SEAS  AS1_MARRYA   \nDIST_ID                                                                       \nNIH2307795046        1       53         4.0       1.0       3.0         2.0  \\\nNIH2307713334        2       44         2.0       1.0       2.0         2.0   \nNIH2307455306        2       43         6.0       1.0       2.0         2.0   \nNIH2307778268        1       61         4.0       1.0       4.0         2.0   \nNIH2307137554        2       64         4.0       1.0       1.0         2.0   \n...                ...      ...         ...       ...       ...         ...   \nNIH2307591031        2       60         3.0       1.0       3.0         2.0   \nNIH2307808901        2       62         4.0       1.0       1.0         2.0   \nNIH2307930134        2       65         2.0       1.0       3.0         3.0   \nNIH2307023172        2       69         5.0       1.0       1.0         3.0   \nNIH2307534318        2       59         3.0       1.0       1.0         2.0   \n\n              AS1_MARRYAETC  AS1_RELIG AS1_RELIGETC  AS1_RELIGPRT  ...   \nDIST_ID                                                            ...   \nNIH2307795046           NaN        3.0          NaN           1.0  ...  \\\nNIH2307713334           NaN        4.0          NaN           NaN  ...   \nNIH2307455306           NaN        3.0          NaN           1.0  ...   \nNIH2307778268           NaN        3.0          NaN           1.0  ...   \nNIH2307137554           NaN        3.0          NaN           1.0  ...   \n...                     ...        ...          ...           ...  ...   \nNIH2307591031           NaN        1.0          NaN           2.0  ...   \nNIH2307808901           NaN        2.0          NaN           2.0  ...   \nNIH2307930134           NaN        1.0          NaN           3.0  ...   \nNIH2307023172           NaN        1.0          NaN           3.0  ...   \nNIH2307534318           NaN        3.0          NaN           2.0  ...   \n\n               AS1_INSM.1  AS1_SLPHRD.1  AS1_SLPAMSF.1  AS1_ICOFF_1   \nDIST_ID                                                               \nNIH2307795046         1.0           1.0            2.0            2  \\\nNIH2307713334         1.0           1.0            2.0            3   \nNIH2307455306         1.0           1.0            1.0            1   \nNIH2307778268         1.0           1.0            2.0            2   \nNIH2307137554         1.0           1.0            2.0            4   \n...                   ...           ...            ...          ...   \nNIH2307591031         1.0           1.0            2.0            1   \nNIH2307808901         1.0           1.0            1.0            1   \nNIH2307930134         1.0           1.0            2.0            3   \nNIH2307023172         1.0           1.0            2.0            5   \nNIH2307534318         2.0           2.0            1.0            1   \n\n               AS1_ICOFF_2  AS1_W098.1  AS1_MNSAG.2  AS1_BRSTF  AS1_BRSTC   \nDIST_ID                                                                     \nNIH2307795046            2    0.225000          NaN        NaN        NaN  \\\nNIH2307713334            2    0.578571         13.0        NaN        NaN   \nNIH2307455306            1    0.000000         20.0        2.0        3.0   \nNIH2307778268            2    0.225000          NaN        NaN        NaN   \nNIH2307137554            2    0.000000         17.0        2.0        2.0   \n...                    ...         ...          ...        ...        ...   \nNIH2307591031            1    0.000000         17.0        NaN        NaN   \nNIH2307808901            1    0.000000         18.0        2.0        4.0   \nNIH2307930134            2    1.350000         19.0        2.0        4.0   \nNIH2307023172            2    5.400000         16.0        2.0        5.0   \nNIH2307534318            1    0.000000         16.0        2.0        3.0   \n\n                 AS1_EGFR  \nDIST_ID                    \nNIH2307795046   81.027088  \nNIH2307713334  223.651123  \nNIH2307455306  225.227717  \nNIH2307778268  134.847877  \nNIH2307137554  194.337250  \n...                   ...  \nNIH2307591031  253.351350  \nNIH2307808901  249.816845  \nNIH2307930134  192.976890  \nNIH2307023172  237.829903  \nNIH2307534318  163.914811  \n\n[9249 rows x 838 columns]>"
     },
     "execution_count": 127,
     "metadata": {},
     "output_type": "execute_result"
    }
   ],
   "source": [
    "# 데이터셋 불러오기\n",
    "# dataset = pd.read_csv(\"dataset/Dataset_OP_230316_raw.csv\", index_col=0, na_values=[77777, 99999, '#NULL!', ' ']) # 사용안함\n",
    "# dataset = pd.read_csv(\"dataset/Dataset_OP_230330_raw.csv\", index_col=0, na_values=[77777, 99999, '#NULL!', ' ']) # 사용안함\n",
    "# dataset = pd.read_csv(\"dataset/Dataset_OP_230417_raw.csv\", index_col=0, na_values=[77777, 99999, '#NULL!', ' ']) # 사용안함\n",
    "# dataset = pd.read_csv(\"dataset/Dataset_OP_230424_raw.csv\", index_col=0, na_values=[77777, 99999, '#NULL!', ' ']) # 사용안함\n",
    "dataset = pd.read_csv(\"dataset/Dataset_OP_230614_raw.csv\", index_col=0, na_values=[77777, 99999, '#NULL!', ' '])\n",
    "dataset.head"
   ]
  },
  {
   "cell_type": "code",
   "execution_count": 128,
   "metadata": {
    "ExecuteTime": {
     "start_time": "2023-10-05T16:29:49.810505Z",
     "end_time": "2023-10-05T16:29:49.872535Z"
    }
   },
   "outputs": [
    {
     "data": {
      "text/plain": "     binary          cath0        cath1            cnt dependent\n0   AS1_SEX       AS1_EDUA   AS1_INCOME        AS1_AGE    AS1_DT\n1    AS1_HT      AS1_DRINK   AS1_PHYSTB     AS1_TOTALC    AS1_MT\n2    AS1_DM     AS1_SMOKEA   AS1_PHYSIT     AS1_PMAG_C       NaN\n3    AS1_AL  AS1_FMOSREL_N  AS1_PHYACTL      AS1_MNSAG       NaN\n4    AS1_MI  AS1_FMOSREL_O  AS1_PHYACTM    AS1_CHILD_P       NaN\n..      ...            ...          ...            ...       ...\n70      NaN            NaN          NaN   AS1_BPSIT1RS       NaN\n71      NaN            NaN          NaN  AS1_BPSIT1SYS       NaN\n72      NaN            NaN          NaN   AS1_BPSIT1LD       NaN\n73      NaN            NaN          NaN   AS1_BPSIT1RD       NaN\n74      NaN            NaN          NaN  AS1_BPSIT1DIA       NaN\n\n[75 rows x 5 columns]",
      "text/html": "<div>\n<style scoped>\n    .dataframe tbody tr th:only-of-type {\n        vertical-align: middle;\n    }\n\n    .dataframe tbody tr th {\n        vertical-align: top;\n    }\n\n    .dataframe thead th {\n        text-align: right;\n    }\n</style>\n<table border=\"1\" class=\"dataframe\">\n  <thead>\n    <tr style=\"text-align: right;\">\n      <th></th>\n      <th>binary</th>\n      <th>cath0</th>\n      <th>cath1</th>\n      <th>cnt</th>\n      <th>dependent</th>\n    </tr>\n  </thead>\n  <tbody>\n    <tr>\n      <th>0</th>\n      <td>AS1_SEX</td>\n      <td>AS1_EDUA</td>\n      <td>AS1_INCOME</td>\n      <td>AS1_AGE</td>\n      <td>AS1_DT</td>\n    </tr>\n    <tr>\n      <th>1</th>\n      <td>AS1_HT</td>\n      <td>AS1_DRINK</td>\n      <td>AS1_PHYSTB</td>\n      <td>AS1_TOTALC</td>\n      <td>AS1_MT</td>\n    </tr>\n    <tr>\n      <th>2</th>\n      <td>AS1_DM</td>\n      <td>AS1_SMOKEA</td>\n      <td>AS1_PHYSIT</td>\n      <td>AS1_PMAG_C</td>\n      <td>NaN</td>\n    </tr>\n    <tr>\n      <th>3</th>\n      <td>AS1_AL</td>\n      <td>AS1_FMOSREL_N</td>\n      <td>AS1_PHYACTL</td>\n      <td>AS1_MNSAG</td>\n      <td>NaN</td>\n    </tr>\n    <tr>\n      <th>4</th>\n      <td>AS1_MI</td>\n      <td>AS1_FMOSREL_O</td>\n      <td>AS1_PHYACTM</td>\n      <td>AS1_CHILD_P</td>\n      <td>NaN</td>\n    </tr>\n    <tr>\n      <th>...</th>\n      <td>...</td>\n      <td>...</td>\n      <td>...</td>\n      <td>...</td>\n      <td>...</td>\n    </tr>\n    <tr>\n      <th>70</th>\n      <td>NaN</td>\n      <td>NaN</td>\n      <td>NaN</td>\n      <td>AS1_BPSIT1RS</td>\n      <td>NaN</td>\n    </tr>\n    <tr>\n      <th>71</th>\n      <td>NaN</td>\n      <td>NaN</td>\n      <td>NaN</td>\n      <td>AS1_BPSIT1SYS</td>\n      <td>NaN</td>\n    </tr>\n    <tr>\n      <th>72</th>\n      <td>NaN</td>\n      <td>NaN</td>\n      <td>NaN</td>\n      <td>AS1_BPSIT1LD</td>\n      <td>NaN</td>\n    </tr>\n    <tr>\n      <th>73</th>\n      <td>NaN</td>\n      <td>NaN</td>\n      <td>NaN</td>\n      <td>AS1_BPSIT1RD</td>\n      <td>NaN</td>\n    </tr>\n    <tr>\n      <th>74</th>\n      <td>NaN</td>\n      <td>NaN</td>\n      <td>NaN</td>\n      <td>AS1_BPSIT1DIA</td>\n      <td>NaN</td>\n    </tr>\n  </tbody>\n</table>\n<p>75 rows × 5 columns</p>\n</div>"
     },
     "execution_count": 128,
     "metadata": {},
     "output_type": "execute_result"
    }
   ],
   "source": [
    "# 특성별로 분류\n",
    "# var_to_use = pd.read_csv(\"dataset/var_to_use_2023-03-30T2240I.csv\")\n",
    "# var_to_use = pd.read_csv(\"dataset/var_to_use_2023-04-21T1258I.csv\")\n",
    "# var_to_use = pd.read_csv(\"dataset/var_to_use_2023-04-24T1830I.csv\")\n",
    "# var_to_use = pd.read_csv(\"dataset/var_to_use_2023-04-28T1610I.csv\")\n",
    "var_to_use = pd.read_csv(\"dataset/var_to_use_2023-06-13T1650I.csv\")\n",
    "var_to_use\n"
   ]
  },
  {
   "attachments": {},
   "cell_type": "markdown",
   "metadata": {},
   "source": [
    "## 데이터 가공\n",
    "\n",
    "- 기존 데이터로 새로운 데이터 만들기\n",
    "- if 문 쓰면 안됨!\n",
    "    - The truth value of a Series is ambiguous. Use a.empty, a.bool(), a.item(), a.any() or a.all().\n",
    "- np.where 사용할 것!"
   ]
  },
  {
   "cell_type": "markdown",
   "source": [
    "### 종속변수 결측값 drop"
   ],
   "metadata": {
    "collapsed": false
   }
  },
  {
   "cell_type": "code",
   "execution_count": 129,
   "outputs": [
    {
     "name": "stdout",
     "output_type": "stream",
     "text": [
      "<class 'pandas.core.frame.DataFrame'>\n",
      "Index: 4652 entries, NIH2307713334 to NIH2307534318\n",
      "Columns: 839 entries, AS1_SEX to OP\n",
      "dtypes: float64(795), int32(1), int64(38), object(5)\n",
      "memory usage: 29.8+ MB\n"
     ]
    },
    {
     "name": "stderr",
     "output_type": "stream",
     "text": [
      "C:\\Users\\sh22h\\AppData\\Local\\Temp\\ipykernel_16276\\4015852077.py:8: SettingWithCopyWarning: \n",
      "A value is trying to be set on a copy of a slice from a DataFrame\n",
      "\n",
      "See the caveats in the documentation: https://pandas.pydata.org/pandas-docs/stable/user_guide/indexing.html#returning-a-view-versus-a-copy\n",
      "  dataset.dropna(subset = ['AS1_PMYN_C'], inplace=True)\n",
      "C:\\Users\\sh22h\\AppData\\Local\\Temp\\ipykernel_16276\\4015852077.py:11: SettingWithCopyWarning: \n",
      "A value is trying to be set on a copy of a slice from a DataFrame.\n",
      "Try using .loc[row_indexer,col_indexer] = value instead\n",
      "\n",
      "See the caveats in the documentation: https://pandas.pydata.org/pandas-docs/stable/user_guide/indexing.html#returning-a-view-versus-a-copy\n",
      "  dataset['OP'] = np.where((dataset['AS1_DT'] <= -2.5) | (dataset['AS1_MT'] <= -2.5), 1, 0)\n"
     ]
    }
   ],
   "source": [
    "# 종속변수의 결측값이 있으면 drop\n",
    "dataset.dropna(subset=['AS1_DT', 'AS1_MT'], inplace=True)\n",
    "\n",
    "# 남성(1) drop, 여성(2)만 가져옴\n",
    "dataset = dataset[dataset['AS1_SEX'] == 2]\n",
    "\n",
    "# 폐경여부 없는 사람 drop\n",
    "dataset.dropna(subset = ['AS1_PMYN_C'], inplace=True)\n",
    "\n",
    "# 새로운 종속변수 만들기 OP: 골다공증 여부\n",
    "dataset['OP'] = np.where((dataset['AS1_DT'] <= -2.5) | (dataset['AS1_MT'] <= -2.5), 1, 0)\n",
    "dataset.info()"
   ],
   "metadata": {
    "collapsed": false,
    "ExecuteTime": {
     "start_time": "2023-10-05T16:29:49.826505Z",
     "end_time": "2023-10-05T16:29:49.952504Z"
    }
   }
  },
  {
   "cell_type": "code",
   "execution_count": 130,
   "outputs": [
    {
     "data": {
      "text/plain": "AS1_PMYN_C\n2.0    2934\n1.0    1718\nName: count, dtype: int64"
     },
     "execution_count": 130,
     "metadata": {},
     "output_type": "execute_result"
    }
   ],
   "source": [
    "dataset['AS1_PMYN_C'].value_counts()"
   ],
   "metadata": {
    "collapsed": false,
    "ExecuteTime": {
     "start_time": "2023-10-05T16:29:49.907505Z",
     "end_time": "2023-10-05T16:29:49.999505Z"
    }
   }
  },
  {
   "cell_type": "markdown",
   "source": [
    "### 각종 질환 가공\n",
    "\n",
    "- 질환 유무\n",
    "    - 각종 종양 유무 (AS1_TOTCA1)\n",
    "- 약물력\n",
    "- 가족력"
   ],
   "metadata": {
    "collapsed": false
   }
  },
  {
   "cell_type": "code",
   "execution_count": 131,
   "metadata": {
    "ExecuteTime": {
     "start_time": "2023-10-05T16:29:49.924505Z",
     "end_time": "2023-10-05T16:29:50.028504Z"
    }
   },
   "outputs": [
    {
     "name": "stderr",
     "output_type": "stream",
     "text": [
      "C:\\Users\\sh22h\\AppData\\Local\\Temp\\ipykernel_16276\\376098338.py:6: SettingWithCopyWarning: \n",
      "A value is trying to be set on a copy of a slice from a DataFrame.\n",
      "Try using .loc[row_indexer,col_indexer] = value instead\n",
      "\n",
      "See the caveats in the documentation: https://pandas.pydata.org/pandas-docs/stable/user_guide/indexing.html#returning-a-view-versus-a-copy\n",
      "  dataset['AS1_ARRM'] = np.where((dataset['AS1_JOAR'] == 2) | (dataset['AS1_JORM'] == 2) | (dataset['AS1_TRTAR'] == 2), 1, 0) # 관절혐은 조건 3가지 만족하면 1 아니면 0\n",
      "C:\\Users\\sh22h\\AppData\\Local\\Temp\\ipykernel_16276\\376098338.py:9: SettingWithCopyWarning: \n",
      "A value is trying to be set on a copy of a slice from a DataFrame.\n",
      "Try using .loc[row_indexer,col_indexer] = value instead\n",
      "\n",
      "See the caveats in the documentation: https://pandas.pydata.org/pandas-docs/stable/user_guide/indexing.html#returning-a-view-versus-a-copy\n",
      "  dataset['AS1_'+x] = np.where((dataset['AS1_PD'+x] == 2) | (dataset['AS1_TRT'+x] == 2), 1, 0) # 질환여부 정의. AS1_PDㅇㅇ 또는 AS1_TRTㅇㅇ 이 2이면 1 아니면 0\n",
      "C:\\Users\\sh22h\\AppData\\Local\\Temp\\ipykernel_16276\\376098338.py:9: SettingWithCopyWarning: \n",
      "A value is trying to be set on a copy of a slice from a DataFrame.\n",
      "Try using .loc[row_indexer,col_indexer] = value instead\n",
      "\n",
      "See the caveats in the documentation: https://pandas.pydata.org/pandas-docs/stable/user_guide/indexing.html#returning-a-view-versus-a-copy\n",
      "  dataset['AS1_'+x] = np.where((dataset['AS1_PD'+x] == 2) | (dataset['AS1_TRT'+x] == 2), 1, 0) # 질환여부 정의. AS1_PDㅇㅇ 또는 AS1_TRTㅇㅇ 이 2이면 1 아니면 0\n",
      "C:\\Users\\sh22h\\AppData\\Local\\Temp\\ipykernel_16276\\376098338.py:9: SettingWithCopyWarning: \n",
      "A value is trying to be set on a copy of a slice from a DataFrame.\n",
      "Try using .loc[row_indexer,col_indexer] = value instead\n",
      "\n",
      "See the caveats in the documentation: https://pandas.pydata.org/pandas-docs/stable/user_guide/indexing.html#returning-a-view-versus-a-copy\n",
      "  dataset['AS1_'+x] = np.where((dataset['AS1_PD'+x] == 2) | (dataset['AS1_TRT'+x] == 2), 1, 0) # 질환여부 정의. AS1_PDㅇㅇ 또는 AS1_TRTㅇㅇ 이 2이면 1 아니면 0\n",
      "C:\\Users\\sh22h\\AppData\\Local\\Temp\\ipykernel_16276\\376098338.py:9: SettingWithCopyWarning: \n",
      "A value is trying to be set on a copy of a slice from a DataFrame.\n",
      "Try using .loc[row_indexer,col_indexer] = value instead\n",
      "\n",
      "See the caveats in the documentation: https://pandas.pydata.org/pandas-docs/stable/user_guide/indexing.html#returning-a-view-versus-a-copy\n",
      "  dataset['AS1_'+x] = np.where((dataset['AS1_PD'+x] == 2) | (dataset['AS1_TRT'+x] == 2), 1, 0) # 질환여부 정의. AS1_PDㅇㅇ 또는 AS1_TRTㅇㅇ 이 2이면 1 아니면 0\n",
      "C:\\Users\\sh22h\\AppData\\Local\\Temp\\ipykernel_16276\\376098338.py:9: SettingWithCopyWarning: \n",
      "A value is trying to be set on a copy of a slice from a DataFrame.\n",
      "Try using .loc[row_indexer,col_indexer] = value instead\n",
      "\n",
      "See the caveats in the documentation: https://pandas.pydata.org/pandas-docs/stable/user_guide/indexing.html#returning-a-view-versus-a-copy\n",
      "  dataset['AS1_'+x] = np.where((dataset['AS1_PD'+x] == 2) | (dataset['AS1_TRT'+x] == 2), 1, 0) # 질환여부 정의. AS1_PDㅇㅇ 또는 AS1_TRTㅇㅇ 이 2이면 1 아니면 0\n",
      "C:\\Users\\sh22h\\AppData\\Local\\Temp\\ipykernel_16276\\376098338.py:9: SettingWithCopyWarning: \n",
      "A value is trying to be set on a copy of a slice from a DataFrame.\n",
      "Try using .loc[row_indexer,col_indexer] = value instead\n",
      "\n",
      "See the caveats in the documentation: https://pandas.pydata.org/pandas-docs/stable/user_guide/indexing.html#returning-a-view-versus-a-copy\n",
      "  dataset['AS1_'+x] = np.where((dataset['AS1_PD'+x] == 2) | (dataset['AS1_TRT'+x] == 2), 1, 0) # 질환여부 정의. AS1_PDㅇㅇ 또는 AS1_TRTㅇㅇ 이 2이면 1 아니면 0\n",
      "C:\\Users\\sh22h\\AppData\\Local\\Temp\\ipykernel_16276\\376098338.py:9: SettingWithCopyWarning: \n",
      "A value is trying to be set on a copy of a slice from a DataFrame.\n",
      "Try using .loc[row_indexer,col_indexer] = value instead\n",
      "\n",
      "See the caveats in the documentation: https://pandas.pydata.org/pandas-docs/stable/user_guide/indexing.html#returning-a-view-versus-a-copy\n",
      "  dataset['AS1_'+x] = np.where((dataset['AS1_PD'+x] == 2) | (dataset['AS1_TRT'+x] == 2), 1, 0) # 질환여부 정의. AS1_PDㅇㅇ 또는 AS1_TRTㅇㅇ 이 2이면 1 아니면 0\n",
      "C:\\Users\\sh22h\\AppData\\Local\\Temp\\ipykernel_16276\\376098338.py:9: SettingWithCopyWarning: \n",
      "A value is trying to be set on a copy of a slice from a DataFrame.\n",
      "Try using .loc[row_indexer,col_indexer] = value instead\n",
      "\n",
      "See the caveats in the documentation: https://pandas.pydata.org/pandas-docs/stable/user_guide/indexing.html#returning-a-view-versus-a-copy\n",
      "  dataset['AS1_'+x] = np.where((dataset['AS1_PD'+x] == 2) | (dataset['AS1_TRT'+x] == 2), 1, 0) # 질환여부 정의. AS1_PDㅇㅇ 또는 AS1_TRTㅇㅇ 이 2이면 1 아니면 0\n",
      "C:\\Users\\sh22h\\AppData\\Local\\Temp\\ipykernel_16276\\376098338.py:9: SettingWithCopyWarning: \n",
      "A value is trying to be set on a copy of a slice from a DataFrame.\n",
      "Try using .loc[row_indexer,col_indexer] = value instead\n",
      "\n",
      "See the caveats in the documentation: https://pandas.pydata.org/pandas-docs/stable/user_guide/indexing.html#returning-a-view-versus-a-copy\n",
      "  dataset['AS1_'+x] = np.where((dataset['AS1_PD'+x] == 2) | (dataset['AS1_TRT'+x] == 2), 1, 0) # 질환여부 정의. AS1_PDㅇㅇ 또는 AS1_TRTㅇㅇ 이 2이면 1 아니면 0\n",
      "C:\\Users\\sh22h\\AppData\\Local\\Temp\\ipykernel_16276\\376098338.py:9: SettingWithCopyWarning: \n",
      "A value is trying to be set on a copy of a slice from a DataFrame.\n",
      "Try using .loc[row_indexer,col_indexer] = value instead\n",
      "\n",
      "See the caveats in the documentation: https://pandas.pydata.org/pandas-docs/stable/user_guide/indexing.html#returning-a-view-versus-a-copy\n",
      "  dataset['AS1_'+x] = np.where((dataset['AS1_PD'+x] == 2) | (dataset['AS1_TRT'+x] == 2), 1, 0) # 질환여부 정의. AS1_PDㅇㅇ 또는 AS1_TRTㅇㅇ 이 2이면 1 아니면 0\n"
     ]
    }
   ],
   "source": [
    "# 질환유무 가공\n",
    "disease_list = np.array(['HT', 'DM', 'AL', 'MI', 'TH', # 질환 목록\n",
    "                         'CH', 'CD', 'LP', 'AS', 'CL',\n",
    "                         'KD', 'CV', 'GT' ]) # UL, PV, HN, TOTCA1 제외\n",
    "\n",
    "dataset['AS1_ARRM'] = np.where((dataset['AS1_JOAR'] == 2) | (dataset['AS1_JORM'] == 2) | (dataset['AS1_TRTAR'] == 2), 1, 0) # 관절혐은 조건 3가지 만족하면 1 아니면 0\n",
    "\n",
    "for x in disease_list:\n",
    "    dataset['AS1_'+x] = np.where((dataset['AS1_PD'+x] == 2) | (dataset['AS1_TRT'+x] == 2), 1, 0) # 질환여부 정의. AS1_PDㅇㅇ 또는 AS1_TRTㅇㅇ 이 2이면 1 아니면 0\n"
   ]
  },
  {
   "cell_type": "code",
   "execution_count": 132,
   "metadata": {
    "ExecuteTime": {
     "start_time": "2023-10-05T16:29:49.939504Z",
     "end_time": "2023-10-05T16:29:50.028504Z"
    }
   },
   "outputs": [
    {
     "name": "stderr",
     "output_type": "stream",
     "text": [
      "C:\\Users\\sh22h\\AppData\\Local\\Temp\\ipykernel_16276\\1121918423.py:6: SettingWithCopyWarning: \n",
      "A value is trying to be set on a copy of a slice from a DataFrame.\n",
      "Try using .loc[row_indexer,col_indexer] = value instead\n",
      "\n",
      "See the caveats in the documentation: https://pandas.pydata.org/pandas-docs/stable/user_guide/indexing.html#returning-a-view-versus-a-copy\n",
      "  dataset['AS1_DR'+x] = np.where((dataset['AS1_DRUG'+x] == 2) | (dataset['AS1_DRUG'+x+'CU'] == 2), 1, 0)\n",
      "C:\\Users\\sh22h\\AppData\\Local\\Temp\\ipykernel_16276\\1121918423.py:6: SettingWithCopyWarning: \n",
      "A value is trying to be set on a copy of a slice from a DataFrame.\n",
      "Try using .loc[row_indexer,col_indexer] = value instead\n",
      "\n",
      "See the caveats in the documentation: https://pandas.pydata.org/pandas-docs/stable/user_guide/indexing.html#returning-a-view-versus-a-copy\n",
      "  dataset['AS1_DR'+x] = np.where((dataset['AS1_DRUG'+x] == 2) | (dataset['AS1_DRUG'+x+'CU'] == 2), 1, 0)\n",
      "C:\\Users\\sh22h\\AppData\\Local\\Temp\\ipykernel_16276\\1121918423.py:6: SettingWithCopyWarning: \n",
      "A value is trying to be set on a copy of a slice from a DataFrame.\n",
      "Try using .loc[row_indexer,col_indexer] = value instead\n",
      "\n",
      "See the caveats in the documentation: https://pandas.pydata.org/pandas-docs/stable/user_guide/indexing.html#returning-a-view-versus-a-copy\n",
      "  dataset['AS1_DR'+x] = np.where((dataset['AS1_DRUG'+x] == 2) | (dataset['AS1_DRUG'+x+'CU'] == 2), 1, 0)\n",
      "C:\\Users\\sh22h\\AppData\\Local\\Temp\\ipykernel_16276\\1121918423.py:6: SettingWithCopyWarning: \n",
      "A value is trying to be set on a copy of a slice from a DataFrame.\n",
      "Try using .loc[row_indexer,col_indexer] = value instead\n",
      "\n",
      "See the caveats in the documentation: https://pandas.pydata.org/pandas-docs/stable/user_guide/indexing.html#returning-a-view-versus-a-copy\n",
      "  dataset['AS1_DR'+x] = np.where((dataset['AS1_DRUG'+x] == 2) | (dataset['AS1_DRUG'+x+'CU'] == 2), 1, 0)\n",
      "C:\\Users\\sh22h\\AppData\\Local\\Temp\\ipykernel_16276\\1121918423.py:6: SettingWithCopyWarning: \n",
      "A value is trying to be set on a copy of a slice from a DataFrame.\n",
      "Try using .loc[row_indexer,col_indexer] = value instead\n",
      "\n",
      "See the caveats in the documentation: https://pandas.pydata.org/pandas-docs/stable/user_guide/indexing.html#returning-a-view-versus-a-copy\n",
      "  dataset['AS1_DR'+x] = np.where((dataset['AS1_DRUG'+x] == 2) | (dataset['AS1_DRUG'+x+'CU'] == 2), 1, 0)\n",
      "C:\\Users\\sh22h\\AppData\\Local\\Temp\\ipykernel_16276\\1121918423.py:6: SettingWithCopyWarning: \n",
      "A value is trying to be set on a copy of a slice from a DataFrame.\n",
      "Try using .loc[row_indexer,col_indexer] = value instead\n",
      "\n",
      "See the caveats in the documentation: https://pandas.pydata.org/pandas-docs/stable/user_guide/indexing.html#returning-a-view-versus-a-copy\n",
      "  dataset['AS1_DR'+x] = np.where((dataset['AS1_DRUG'+x] == 2) | (dataset['AS1_DRUG'+x+'CU'] == 2), 1, 0)\n",
      "C:\\Users\\sh22h\\AppData\\Local\\Temp\\ipykernel_16276\\1121918423.py:6: SettingWithCopyWarning: \n",
      "A value is trying to be set on a copy of a slice from a DataFrame.\n",
      "Try using .loc[row_indexer,col_indexer] = value instead\n",
      "\n",
      "See the caveats in the documentation: https://pandas.pydata.org/pandas-docs/stable/user_guide/indexing.html#returning-a-view-versus-a-copy\n",
      "  dataset['AS1_DR'+x] = np.where((dataset['AS1_DRUG'+x] == 2) | (dataset['AS1_DRUG'+x+'CU'] == 2), 1, 0)\n",
      "C:\\Users\\sh22h\\AppData\\Local\\Temp\\ipykernel_16276\\1121918423.py:6: SettingWithCopyWarning: \n",
      "A value is trying to be set on a copy of a slice from a DataFrame.\n",
      "Try using .loc[row_indexer,col_indexer] = value instead\n",
      "\n",
      "See the caveats in the documentation: https://pandas.pydata.org/pandas-docs/stable/user_guide/indexing.html#returning-a-view-versus-a-copy\n",
      "  dataset['AS1_DR'+x] = np.where((dataset['AS1_DRUG'+x] == 2) | (dataset['AS1_DRUG'+x+'CU'] == 2), 1, 0)\n",
      "C:\\Users\\sh22h\\AppData\\Local\\Temp\\ipykernel_16276\\1121918423.py:6: SettingWithCopyWarning: \n",
      "A value is trying to be set on a copy of a slice from a DataFrame.\n",
      "Try using .loc[row_indexer,col_indexer] = value instead\n",
      "\n",
      "See the caveats in the documentation: https://pandas.pydata.org/pandas-docs/stable/user_guide/indexing.html#returning-a-view-versus-a-copy\n",
      "  dataset['AS1_DR'+x] = np.where((dataset['AS1_DRUG'+x] == 2) | (dataset['AS1_DRUG'+x+'CU'] == 2), 1, 0)\n",
      "C:\\Users\\sh22h\\AppData\\Local\\Temp\\ipykernel_16276\\1121918423.py:6: SettingWithCopyWarning: \n",
      "A value is trying to be set on a copy of a slice from a DataFrame.\n",
      "Try using .loc[row_indexer,col_indexer] = value instead\n",
      "\n",
      "See the caveats in the documentation: https://pandas.pydata.org/pandas-docs/stable/user_guide/indexing.html#returning-a-view-versus-a-copy\n",
      "  dataset['AS1_DR'+x] = np.where((dataset['AS1_DRUG'+x] == 2) | (dataset['AS1_DRUG'+x+'CU'] == 2), 1, 0)\n",
      "C:\\Users\\sh22h\\AppData\\Local\\Temp\\ipykernel_16276\\1121918423.py:6: SettingWithCopyWarning: \n",
      "A value is trying to be set on a copy of a slice from a DataFrame.\n",
      "Try using .loc[row_indexer,col_indexer] = value instead\n",
      "\n",
      "See the caveats in the documentation: https://pandas.pydata.org/pandas-docs/stable/user_guide/indexing.html#returning-a-view-versus-a-copy\n",
      "  dataset['AS1_DR'+x] = np.where((dataset['AS1_DRUG'+x] == 2) | (dataset['AS1_DRUG'+x+'CU'] == 2), 1, 0)\n",
      "C:\\Users\\sh22h\\AppData\\Local\\Temp\\ipykernel_16276\\1121918423.py:6: SettingWithCopyWarning: \n",
      "A value is trying to be set on a copy of a slice from a DataFrame.\n",
      "Try using .loc[row_indexer,col_indexer] = value instead\n",
      "\n",
      "See the caveats in the documentation: https://pandas.pydata.org/pandas-docs/stable/user_guide/indexing.html#returning-a-view-versus-a-copy\n",
      "  dataset['AS1_DR'+x] = np.where((dataset['AS1_DRUG'+x] == 2) | (dataset['AS1_DRUG'+x+'CU'] == 2), 1, 0)\n",
      "C:\\Users\\sh22h\\AppData\\Local\\Temp\\ipykernel_16276\\1121918423.py:6: SettingWithCopyWarning: \n",
      "A value is trying to be set on a copy of a slice from a DataFrame.\n",
      "Try using .loc[row_indexer,col_indexer] = value instead\n",
      "\n",
      "See the caveats in the documentation: https://pandas.pydata.org/pandas-docs/stable/user_guide/indexing.html#returning-a-view-versus-a-copy\n",
      "  dataset['AS1_DR'+x] = np.where((dataset['AS1_DRUG'+x] == 2) | (dataset['AS1_DRUG'+x+'CU'] == 2), 1, 0)\n"
     ]
    }
   ],
   "source": [
    "# 약물력 가공\n",
    "drug_list = np.array(['ST', 'CP', 'INS', 'HT', 'AR', \n",
    "                      'TH', 'FH', 'OS', 'STK', 'AS',\n",
    "                      'LP', 'SP', 'SL'])  # UL, DM, CP, HP 제외 SP, SL 추가\n",
    "for x in drug_list:\n",
    "    dataset['AS1_DR'+x] = np.where((dataset['AS1_DRUG'+x] == 2) | (dataset['AS1_DRUG'+x+'CU'] == 2), 1, 0)\n"
   ]
  },
  {
   "cell_type": "code",
   "execution_count": 133,
   "metadata": {
    "ExecuteTime": {
     "start_time": "2023-10-05T16:29:49.958504Z",
     "end_time": "2023-10-05T16:29:50.058504Z"
    }
   },
   "outputs": [
    {
     "name": "stderr",
     "output_type": "stream",
     "text": [
      "C:\\Users\\sh22h\\AppData\\Local\\Temp\\ipykernel_16276\\1486024573.py:16: SettingWithCopyWarning: \n",
      "A value is trying to be set on a copy of a slice from a DataFrame.\n",
      "Try using .loc[row_indexer,col_indexer] = value instead\n",
      "\n",
      "See the caveats in the documentation: https://pandas.pydata.org/pandas-docs/stable/user_guide/indexing.html#returning-a-view-versus-a-copy\n",
      "  dataset[f'AS1_FM{disease}REL_N'] = np.all(dataset[[f'AS1_FM{disease}REL{i}A' for i in range(1, num_family+1)]] == 99999, axis=1).astype(int)\n",
      "C:\\Users\\sh22h\\AppData\\Local\\Temp\\ipykernel_16276\\1486024573.py:17: SettingWithCopyWarning: \n",
      "A value is trying to be set on a copy of a slice from a DataFrame.\n",
      "Try using .loc[row_indexer,col_indexer] = value instead\n",
      "\n",
      "See the caveats in the documentation: https://pandas.pydata.org/pandas-docs/stable/user_guide/indexing.html#returning-a-view-versus-a-copy\n",
      "  dataset[f'AS1_FM{disease}REL_P'] = np.any(dataset[[f'AS1_FM{disease}REL{i}A' for i in range(1, num_family+1)]] <= 2, axis=1).astype(int)\n",
      "C:\\Users\\sh22h\\AppData\\Local\\Temp\\ipykernel_16276\\1486024573.py:18: SettingWithCopyWarning: \n",
      "A value is trying to be set on a copy of a slice from a DataFrame.\n",
      "Try using .loc[row_indexer,col_indexer] = value instead\n",
      "\n",
      "See the caveats in the documentation: https://pandas.pydata.org/pandas-docs/stable/user_guide/indexing.html#returning-a-view-versus-a-copy\n",
      "  dataset[f'AS1_FM{disease}REL_S'] = np.any(dataset[[f'AS1_FM{disease}REL{i}A' for i in range(1, num_family+1)]] == 3, axis=1).astype(int)\n",
      "C:\\Users\\sh22h\\AppData\\Local\\Temp\\ipykernel_16276\\1486024573.py:19: SettingWithCopyWarning: \n",
      "A value is trying to be set on a copy of a slice from a DataFrame.\n",
      "Try using .loc[row_indexer,col_indexer] = value instead\n",
      "\n",
      "See the caveats in the documentation: https://pandas.pydata.org/pandas-docs/stable/user_guide/indexing.html#returning-a-view-versus-a-copy\n",
      "  dataset[f'AS1_FM{disease}REL_O'] = np.any(dataset[[f'AS1_FM{disease}REL{i}A' for i in range(1, num_family+1)]] == 4, axis=1).astype(int)\n"
     ]
    }
   ],
   "source": [
    "# 와 ChatGPT가 아니었다면 np.all과 np.any를 몰랐을거야!\n",
    "# 가족력 가공\n",
    "# N: 가족력 없음, P: parent 부모, S: sibling 형제자매, O: other 기타\n",
    "# N: REL1A~4A까지 99999\n",
    "# P: REL1A~4A중 1, 2 있을 때\n",
    "# S: REL1A~4A중 3 있을 때\n",
    "# O: REL1A~4A중 4 있을 때\n",
    "\n",
    "# disease_dict = {\n",
    "#     'HT': 4, 'DM': 4, 'CVA': 3, 'HE': 2, 'OS': 2,\n",
    "#     'CVB': 2, 'CD': 2, 'PV': 2, 'LP': 2, 'GT': 2,'CH': 1\n",
    "# }\n",
    "disease_dict = { 'OS': 2 }\n",
    "\n",
    "for disease, num_family in disease_dict.items():\n",
    "    dataset[f'AS1_FM{disease}REL_N'] = np.all(dataset[[f'AS1_FM{disease}REL{i}A' for i in range(1, num_family+1)]] == 99999, axis=1).astype(int)\n",
    "    dataset[f'AS1_FM{disease}REL_P'] = np.any(dataset[[f'AS1_FM{disease}REL{i}A' for i in range(1, num_family+1)]] <= 2, axis=1).astype(int)\n",
    "    dataset[f'AS1_FM{disease}REL_S'] = np.any(dataset[[f'AS1_FM{disease}REL{i}A' for i in range(1, num_family+1)]] == 3, axis=1).astype(int)\n",
    "    dataset[f'AS1_FM{disease}REL_O'] = np.any(dataset[[f'AS1_FM{disease}REL{i}A' for i in range(1, num_family+1)]] == 4, axis=1).astype(int)"
   ]
  },
  {
   "cell_type": "code",
   "execution_count": 134,
   "metadata": {
    "ExecuteTime": {
     "start_time": "2023-10-05T16:29:49.972505Z",
     "end_time": "2023-10-05T16:29:50.121505Z"
    }
   },
   "outputs": [
    {
     "data": {
      "text/plain": "               AS1_FMOSREL_N  AS1_FMOSREL_P  AS1_FMOSREL_S  AS1_FMOSREL_O\nDIST_ID                                                                  \nNIH2307713334              0              0              0              0\nNIH2307455306              0              0              0              0\nNIH2307137554              0              0              0              0\nNIH2307649667              0              0              0              0\nNIH2307899915              0              1              0              0\n...                      ...            ...            ...            ...\nNIH2307591031              0              0              0              0\nNIH2307808901              0              0              0              0\nNIH2307930134              0              0              0              0\nNIH2307023172              0              0              0              0\nNIH2307534318              0              0              0              0\n\n[4652 rows x 4 columns]",
      "text/html": "<div>\n<style scoped>\n    .dataframe tbody tr th:only-of-type {\n        vertical-align: middle;\n    }\n\n    .dataframe tbody tr th {\n        vertical-align: top;\n    }\n\n    .dataframe thead th {\n        text-align: right;\n    }\n</style>\n<table border=\"1\" class=\"dataframe\">\n  <thead>\n    <tr style=\"text-align: right;\">\n      <th></th>\n      <th>AS1_FMOSREL_N</th>\n      <th>AS1_FMOSREL_P</th>\n      <th>AS1_FMOSREL_S</th>\n      <th>AS1_FMOSREL_O</th>\n    </tr>\n    <tr>\n      <th>DIST_ID</th>\n      <th></th>\n      <th></th>\n      <th></th>\n      <th></th>\n    </tr>\n  </thead>\n  <tbody>\n    <tr>\n      <th>NIH2307713334</th>\n      <td>0</td>\n      <td>0</td>\n      <td>0</td>\n      <td>0</td>\n    </tr>\n    <tr>\n      <th>NIH2307455306</th>\n      <td>0</td>\n      <td>0</td>\n      <td>0</td>\n      <td>0</td>\n    </tr>\n    <tr>\n      <th>NIH2307137554</th>\n      <td>0</td>\n      <td>0</td>\n      <td>0</td>\n      <td>0</td>\n    </tr>\n    <tr>\n      <th>NIH2307649667</th>\n      <td>0</td>\n      <td>0</td>\n      <td>0</td>\n      <td>0</td>\n    </tr>\n    <tr>\n      <th>NIH2307899915</th>\n      <td>0</td>\n      <td>1</td>\n      <td>0</td>\n      <td>0</td>\n    </tr>\n    <tr>\n      <th>...</th>\n      <td>...</td>\n      <td>...</td>\n      <td>...</td>\n      <td>...</td>\n    </tr>\n    <tr>\n      <th>NIH2307591031</th>\n      <td>0</td>\n      <td>0</td>\n      <td>0</td>\n      <td>0</td>\n    </tr>\n    <tr>\n      <th>NIH2307808901</th>\n      <td>0</td>\n      <td>0</td>\n      <td>0</td>\n      <td>0</td>\n    </tr>\n    <tr>\n      <th>NIH2307930134</th>\n      <td>0</td>\n      <td>0</td>\n      <td>0</td>\n      <td>0</td>\n    </tr>\n    <tr>\n      <th>NIH2307023172</th>\n      <td>0</td>\n      <td>0</td>\n      <td>0</td>\n      <td>0</td>\n    </tr>\n    <tr>\n      <th>NIH2307534318</th>\n      <td>0</td>\n      <td>0</td>\n      <td>0</td>\n      <td>0</td>\n    </tr>\n  </tbody>\n</table>\n<p>4652 rows × 4 columns</p>\n</div>"
     },
     "execution_count": 134,
     "metadata": {},
     "output_type": "execute_result"
    }
   ],
   "source": [
    "dataset[[f'AS1_FM{disease}REL_{family}' for disease in disease_dict.keys() for family in ['N', 'P', 'S', 'O']]]"
   ]
  },
  {
   "cell_type": "markdown",
   "source": [
    "### 여성력 가공\n",
    "\n",
    "- ~~질환~~\n",
    "- 약물\n",
    "- 기타 수술 (AS1_OBGYOP)\n",
    "    - 자궁경부암수술/ 자궁암수술/ 자궁내막암/자궁경부암,나팔관제거수술/ 만 1 나머지는 0"
   ],
   "metadata": {
    "collapsed": false
   }
  },
  {
   "cell_type": "code",
   "execution_count": 135,
   "metadata": {
    "ExecuteTime": {
     "start_time": "2023-10-05T16:29:49.987504Z",
     "end_time": "2023-10-05T16:29:50.122504Z"
    }
   },
   "outputs": [
    {
     "name": "stderr",
     "output_type": "stream",
     "text": [
      "C:\\Users\\sh22h\\AppData\\Local\\Temp\\ipykernel_16276\\3218887834.py:11: SettingWithCopyWarning: \n",
      "A value is trying to be set on a copy of a slice from a DataFrame.\n",
      "Try using .loc[row_indexer,col_indexer] = value instead\n",
      "\n",
      "See the caveats in the documentation: https://pandas.pydata.org/pandas-docs/stable/user_guide/indexing.html#returning-a-view-versus-a-copy\n",
      "  dataset['AS1_DR'+x] = np.where((dataset['AS1_DRUG'+x] == 2) | (dataset['AS1_DRUG'+x+'CU'] == 2), 1, 0)\n"
     ]
    }
   ],
   "source": [
    "# 여성력 가공\n",
    "# 남성 데이터 셋을 제거하여 필요없음\n",
    "\n",
    "# 남자일 경우: 0 여자일 경우: 그대로\n",
    "# for x in ['CP', 'FH']:\n",
    "#     dataset['AS1_DR'+x] = np.where(dataset['AS1_SEX'] == '1',\n",
    "#                                    0,\n",
    "#                                    np.where((dataset['AS1_DRUG'+x] == 2) | (dataset['AS1_DRUG'+x+'CU'] == 2), 2, 1))\n",
    "\n",
    "for x in ['CP', 'FH']:\n",
    "    dataset['AS1_DR'+x] = np.where((dataset['AS1_DRUG'+x] == 2) | (dataset['AS1_DRUG'+x+'CU'] == 2), 1, 0)\n",
    "\n",
    "    \n",
    "# women = np.array(['AS1_PREG', 'AS1_HYST', 'AS1_HYSTOVARYW', 'AS1_OVARYW',\n",
    "#                   'AS1_OBGYOP', 'AS1_BRCA', 'AS1_DRCP', 'AS1_DRFH'])\n",
    "#\n",
    "# for x in women:\n",
    "#     dataset[x] = np.where((dataset['AS1_SEX'] == 1), 0, dataset[x])"
   ]
  },
  {
   "cell_type": "markdown",
   "source": [
    "### 앉은 자세 혈압\n",
    "- AS1_BPSit1SYS\n",
    "    - AS1_BPSit1LS, AS1_BPSit1RS 변수 중 높은 값\n",
    "- AS1_BPSit1DIA\n",
    "    - AS1_BPSit1LD,  AS1_BPSit1RD  변수 중 높은 값"
   ],
   "metadata": {
    "collapsed": false
   }
  },
  {
   "cell_type": "code",
   "execution_count": 136,
   "outputs": [
    {
     "name": "stderr",
     "output_type": "stream",
     "text": [
      "C:\\Users\\sh22h\\AppData\\Local\\Temp\\ipykernel_16276\\2122532319.py:1: SettingWithCopyWarning: \n",
      "A value is trying to be set on a copy of a slice from a DataFrame.\n",
      "Try using .loc[row_indexer,col_indexer] = value instead\n",
      "\n",
      "See the caveats in the documentation: https://pandas.pydata.org/pandas-docs/stable/user_guide/indexing.html#returning-a-view-versus-a-copy\n",
      "  dataset['AS1_BPSIT1SYS'] = np.where(dataset['AS1_BPSIT1LS'] > dataset['AS1_BPSIT1RS'], dataset['AS1_BPSIT1LS'], dataset['AS1_BPSIT1RS'])\n",
      "C:\\Users\\sh22h\\AppData\\Local\\Temp\\ipykernel_16276\\2122532319.py:3: SettingWithCopyWarning: \n",
      "A value is trying to be set on a copy of a slice from a DataFrame.\n",
      "Try using .loc[row_indexer,col_indexer] = value instead\n",
      "\n",
      "See the caveats in the documentation: https://pandas.pydata.org/pandas-docs/stable/user_guide/indexing.html#returning-a-view-versus-a-copy\n",
      "  dataset['AS1_BPSIT1DIA'] = np.where(dataset['AS1_BPSIT1LD'] > dataset['AS1_BPSIT1RD'], dataset['AS1_BPSIT1LD'], dataset['AS1_BPSIT1RD'])\n"
     ]
    }
   ],
   "source": [
    "dataset['AS1_BPSIT1SYS'] = np.where(dataset['AS1_BPSIT1LS'] > dataset['AS1_BPSIT1RS'], dataset['AS1_BPSIT1LS'], dataset['AS1_BPSIT1RS'])\n",
    "\n",
    "dataset['AS1_BPSIT1DIA'] = np.where(dataset['AS1_BPSIT1LD'] > dataset['AS1_BPSIT1RD'], dataset['AS1_BPSIT1LD'], dataset['AS1_BPSIT1RD'])"
   ],
   "metadata": {
    "collapsed": false,
    "ExecuteTime": {
     "start_time": "2023-10-05T16:29:50.002505Z",
     "end_time": "2023-10-05T16:29:50.122504Z"
    }
   }
  },
  {
   "cell_type": "markdown",
   "source": [
    "### 타입 별 분리"
   ],
   "metadata": {
    "collapsed": false
   }
  },
  {
   "cell_type": "code",
   "execution_count": 137,
   "metadata": {
    "collapsed": false,
    "ExecuteTime": {
     "start_time": "2023-10-05T16:29:50.017505Z",
     "end_time": "2023-10-05T16:29:50.122504Z"
    }
   },
   "outputs": [],
   "source": [
    "# var_to_use의 각 열 가져옴\n",
    "\n",
    "raw_binary = dataset.reindex(columns=(var_to_use['binary'].dropna()))\n",
    "raw_cath0 = dataset.reindex(columns=(var_to_use['cath0'].dropna()))\n",
    "raw_cath1 = dataset.reindex(columns=(var_to_use['cath1'].dropna()))\n",
    "raw_cnt = dataset.reindex(columns=(var_to_use['cnt'].dropna()))\n",
    "raw_label = dataset.reindex(columns=(var_to_use['dependent'].dropna()))"
   ]
  },
  {
   "cell_type": "code",
   "execution_count": 138,
   "metadata": {
    "ExecuteTime": {
     "start_time": "2023-10-05T16:29:50.033505Z",
     "end_time": "2023-10-05T16:29:50.122504Z"
    }
   },
   "outputs": [
    {
     "data": {
      "text/plain": "Series([], dtype: float64)"
     },
     "execution_count": 138,
     "metadata": {},
     "output_type": "execute_result"
    }
   ],
   "source": [
    "# null인 행이 있다.... 코드북과 데이터셋이 불일치한다.\n",
    "target = raw_cnt\n",
    "null_cell = pd.Series(index=target.columns)\n",
    "null_cell = null_cell[target.isnull().sum() >= len(dataset)]  # 코드북에 없는 데이터 리스트\n",
    "null_cell"
   ]
  },
  {
   "cell_type": "code",
   "execution_count": 139,
   "metadata": {
    "collapsed": false,
    "ExecuteTime": {
     "start_time": "2023-10-05T16:29:50.048505Z",
     "end_time": "2023-10-05T16:29:50.123505Z"
    }
   },
   "outputs": [
    {
     "data": {
      "text/plain": "dependent      AS1_DT  AS1_MT\nDIST_ID                      \nNIH2307713334    -0.4     0.4\nNIH2307455306     0.0    -1.0\nNIH2307137554    -1.8    -1.9\nNIH2307649667    -2.0    -1.7\nNIH2307899915     0.1    -0.1\n...               ...     ...\nNIH2307591031    -3.0     0.2\nNIH2307808901    -3.3    -4.1\nNIH2307930134    -3.9    -2.4\nNIH2307023172    -2.0     0.8\nNIH2307534318    -1.0     0.9\n\n[4652 rows x 2 columns]",
      "text/html": "<div>\n<style scoped>\n    .dataframe tbody tr th:only-of-type {\n        vertical-align: middle;\n    }\n\n    .dataframe tbody tr th {\n        vertical-align: top;\n    }\n\n    .dataframe thead th {\n        text-align: right;\n    }\n</style>\n<table border=\"1\" class=\"dataframe\">\n  <thead>\n    <tr style=\"text-align: right;\">\n      <th>dependent</th>\n      <th>AS1_DT</th>\n      <th>AS1_MT</th>\n    </tr>\n    <tr>\n      <th>DIST_ID</th>\n      <th></th>\n      <th></th>\n    </tr>\n  </thead>\n  <tbody>\n    <tr>\n      <th>NIH2307713334</th>\n      <td>-0.4</td>\n      <td>0.4</td>\n    </tr>\n    <tr>\n      <th>NIH2307455306</th>\n      <td>0.0</td>\n      <td>-1.0</td>\n    </tr>\n    <tr>\n      <th>NIH2307137554</th>\n      <td>-1.8</td>\n      <td>-1.9</td>\n    </tr>\n    <tr>\n      <th>NIH2307649667</th>\n      <td>-2.0</td>\n      <td>-1.7</td>\n    </tr>\n    <tr>\n      <th>NIH2307899915</th>\n      <td>0.1</td>\n      <td>-0.1</td>\n    </tr>\n    <tr>\n      <th>...</th>\n      <td>...</td>\n      <td>...</td>\n    </tr>\n    <tr>\n      <th>NIH2307591031</th>\n      <td>-3.0</td>\n      <td>0.2</td>\n    </tr>\n    <tr>\n      <th>NIH2307808901</th>\n      <td>-3.3</td>\n      <td>-4.1</td>\n    </tr>\n    <tr>\n      <th>NIH2307930134</th>\n      <td>-3.9</td>\n      <td>-2.4</td>\n    </tr>\n    <tr>\n      <th>NIH2307023172</th>\n      <td>-2.0</td>\n      <td>0.8</td>\n    </tr>\n    <tr>\n      <th>NIH2307534318</th>\n      <td>-1.0</td>\n      <td>0.9</td>\n    </tr>\n  </tbody>\n</table>\n<p>4652 rows × 2 columns</p>\n</div>"
     },
     "execution_count": 139,
     "metadata": {},
     "output_type": "execute_result"
    }
   ],
   "source": [
    "raw_label"
   ]
  },
  {
   "attachments": {},
   "cell_type": "markdown",
   "metadata": {},
   "source": [
    "### 결측값 대치 (문제 있음)\n",
    "- 일부 데이터의 많은 결측값\n",
    "  - 77777 -> 0\n",
    "    - AS1_TOTALC\n",
    "    - AS1_HVSMAM\n",
    "  - 99999 -> ?\n",
    "    - AS1_FMOSREL1A\n",
    "    - AS1_CA_U\n",
    "    - AS1_NA_U\n",
    "    - AS1_K_U\n",
    "\n",
    "- binary, cath0, cath1: 각 칼럼의 최빈값으로 대치\n",
    "- cnt: 평균값으로 대치"
   ]
  },
  {
   "cell_type": "code",
   "execution_count": 140,
   "metadata": {
    "collapsed": false,
    "ExecuteTime": {
     "start_time": "2023-10-05T16:29:50.065504Z",
     "end_time": "2023-10-05T16:29:50.160504Z"
    }
   },
   "outputs": [],
   "source": [
    "raw_binary = raw_binary.fillna(raw_binary.mode().iloc[0])\n",
    "raw_cath0 = raw_cath0.fillna(raw_cath0.mode().iloc[0])\n",
    "raw_cath1 = raw_cath1.fillna(raw_cath1.mode().iloc[0])\n",
    "raw_cnt = raw_cnt.fillna(raw_cnt.mean())"
   ]
  },
  {
   "cell_type": "markdown",
   "source": [
    "### ~~데이터 균일 분포에 매핑~~ 사용 X\n",
    "\n",
    "- 표준화 정규화 등등 사용 x\n",
    "- float로 형변환만\n",
    "\n",
    "- QuantileTransformer\n",
    "> QuantileTransformer provides a non-parametric transformation to map the data to a uniform distribution with values between 0 and 1"
   ],
   "metadata": {
    "collapsed": false
   }
  },
  {
   "cell_type": "code",
   "execution_count": 141,
   "outputs": [],
   "source": [
    "# quantile_transformer = QuantileTransformer(random_state=0)"
   ],
   "metadata": {
    "collapsed": false,
    "ExecuteTime": {
     "start_time": "2023-10-05T16:29:50.130507Z",
     "end_time": "2023-10-05T16:29:50.219535Z"
    }
   }
  },
  {
   "cell_type": "code",
   "execution_count": 142,
   "metadata": {
    "collapsed": false,
    "ExecuteTime": {
     "start_time": "2023-10-05T16:29:50.144505Z",
     "end_time": "2023-10-05T16:29:50.230540Z"
    }
   },
   "outputs": [],
   "source": [
    "# binary = pd.DataFrame(quantile_transformer.fit_transform(raw_binary), index=dataset.index, columns=raw_binary.columns).astype('float')\n",
    "# cath1 = pd.DataFrame(quantile_transformer.fit_transform(raw_cath1), index=dataset.index, columns=raw_cath1.columns).astype('float')\n",
    "# cnt = pd.DataFrame(quantile_transformer.fit_transform(raw_cnt), index=dataset.index, columns=raw_cnt.columns).astype('float')\n",
    "binary = raw_binary.astype('float')\n",
    "cath1 = raw_cath1.astype('float')\n",
    "cath0 = raw_cath0.astype('float')\n",
    "# cath0 = pd.get_dummies(raw_cath0, columns=raw_cath0.columns, drop_first=True, dtype='float64') # one-hot-encoding\n",
    "cnt = raw_cnt.astype('float')\n",
    "\n",
    "# label = pd.DataFrame(quantile_transformer.fit_transform(raw_label), index=dataset.index, columns=raw_label.columns).astype('float')"
   ]
  },
  {
   "cell_type": "markdown",
   "source": [
    "## 데이터셋에 유전체 붙이기"
   ],
   "metadata": {
    "collapsed": false
   }
  },
  {
   "cell_type": "code",
   "execution_count": 143,
   "outputs": [],
   "source": [
    "# 유전체 SNP 매칭\n",
    "gen_dict = {3335: \"SNP_A-2181021\",\n",
    "            214246: \"SNP_A-1809518\",\n",
    "            262783: \"SNP_A-2130710\",\n",
    "            35799: \"SNP_A-2263153\",\n",
    "            154529: \"SNP_A-2310995\",\n",
    "            118171: \"SNP_A-1922415\",\n",
    "            182907: \"SNP_A-2266073\",\n",
    "            122732: \"SNP_A-1984271\",\n",
    "            283204: \"SNP_A-2218697\",\n",
    "            217552: \"SNP_A-1850320\",\n",
    "            335062: \"SNP_A-4262878\",\n",
    "            335032: \"SNP_A-4299800\",\n",
    "            335031: \"SNP_A-2242511\"\n",
    "            }"
   ],
   "metadata": {
    "collapsed": false,
    "ExecuteTime": {
     "start_time": "2023-10-05T16:29:50.159504Z",
     "end_time": "2023-10-05T16:29:50.268538Z"
    }
   }
  },
  {
   "cell_type": "code",
   "execution_count": 144,
   "outputs": [
    {
     "data": {
      "text/plain": "              SNP_A-2181021 SNP_A-1809518 SNP_A-2130710 SNP_A-2263153   \nNIH2307537078           C C           G A           G G           A A  \\\nNIH2307151907           A A           G A           G T           A A   \nNIH2307876488           C C           G G           T T           A A   \nNIH2307009808           C C           G A           G T           A A   \nNIH2307798369           C C           A A           T T           A A   \n\n              SNP_A-2310995 SNP_A-1922415 SNP_A-2266073 SNP_A-1984271   \nNIH2307537078           C C           T T           G G           C C  \\\nNIH2307151907           T C           T T           G G           G G   \nNIH2307876488           C C           T T           G G           C C   \nNIH2307009808           C C           T T           G G           G C   \nNIH2307798369           C C           T T           G G           G C   \n\n              SNP_A-2218697 SNP_A-1850320 SNP_A-4262878 SNP_A-4299800   \nNIH2307537078           A A           A G           T G           G G  \\\nNIH2307151907           A A           G G           T G           G G   \nNIH2307876488           G A           G G           T G           G G   \nNIH2307009808           A A           G G           T G           G G   \nNIH2307798369           G A           G G           G G           G G   \n\n              SNP_A-2242511  \nNIH2307537078           A A  \nNIH2307151907           A A  \nNIH2307876488           A A  \nNIH2307009808           A A  \nNIH2307798369           A A  ",
      "text/html": "<div>\n<style scoped>\n    .dataframe tbody tr th:only-of-type {\n        vertical-align: middle;\n    }\n\n    .dataframe tbody tr th {\n        vertical-align: top;\n    }\n\n    .dataframe thead th {\n        text-align: right;\n    }\n</style>\n<table border=\"1\" class=\"dataframe\">\n  <thead>\n    <tr style=\"text-align: right;\">\n      <th></th>\n      <th>SNP_A-2181021</th>\n      <th>SNP_A-1809518</th>\n      <th>SNP_A-2130710</th>\n      <th>SNP_A-2263153</th>\n      <th>SNP_A-2310995</th>\n      <th>SNP_A-1922415</th>\n      <th>SNP_A-2266073</th>\n      <th>SNP_A-1984271</th>\n      <th>SNP_A-2218697</th>\n      <th>SNP_A-1850320</th>\n      <th>SNP_A-4262878</th>\n      <th>SNP_A-4299800</th>\n      <th>SNP_A-2242511</th>\n    </tr>\n  </thead>\n  <tbody>\n    <tr>\n      <th>NIH2307537078</th>\n      <td>C C</td>\n      <td>G A</td>\n      <td>G G</td>\n      <td>A A</td>\n      <td>C C</td>\n      <td>T T</td>\n      <td>G G</td>\n      <td>C C</td>\n      <td>A A</td>\n      <td>A G</td>\n      <td>T G</td>\n      <td>G G</td>\n      <td>A A</td>\n    </tr>\n    <tr>\n      <th>NIH2307151907</th>\n      <td>A A</td>\n      <td>G A</td>\n      <td>G T</td>\n      <td>A A</td>\n      <td>T C</td>\n      <td>T T</td>\n      <td>G G</td>\n      <td>G G</td>\n      <td>A A</td>\n      <td>G G</td>\n      <td>T G</td>\n      <td>G G</td>\n      <td>A A</td>\n    </tr>\n    <tr>\n      <th>NIH2307876488</th>\n      <td>C C</td>\n      <td>G G</td>\n      <td>T T</td>\n      <td>A A</td>\n      <td>C C</td>\n      <td>T T</td>\n      <td>G G</td>\n      <td>C C</td>\n      <td>G A</td>\n      <td>G G</td>\n      <td>T G</td>\n      <td>G G</td>\n      <td>A A</td>\n    </tr>\n    <tr>\n      <th>NIH2307009808</th>\n      <td>C C</td>\n      <td>G A</td>\n      <td>G T</td>\n      <td>A A</td>\n      <td>C C</td>\n      <td>T T</td>\n      <td>G G</td>\n      <td>G C</td>\n      <td>A A</td>\n      <td>G G</td>\n      <td>T G</td>\n      <td>G G</td>\n      <td>A A</td>\n    </tr>\n    <tr>\n      <th>NIH2307798369</th>\n      <td>C C</td>\n      <td>A A</td>\n      <td>T T</td>\n      <td>A A</td>\n      <td>C C</td>\n      <td>T T</td>\n      <td>G G</td>\n      <td>G C</td>\n      <td>G A</td>\n      <td>G G</td>\n      <td>G G</td>\n      <td>G G</td>\n      <td>A A</td>\n    </tr>\n  </tbody>\n</table>\n</div>"
     },
     "execution_count": 144,
     "metadata": {},
     "output_type": "execute_result"
    }
   ],
   "source": [
    "# 유전체 데이터프레임 만들기\n",
    "df_all_gen = pd.DataFrame()\n",
    "\n",
    "for v in gen_dict.values():\n",
    "    temp = pd.read_csv(f\"./dataset/genome/result_{v}.csv\", index_col=1, low_memory=False).dropna()\n",
    "    temp.rename(columns={\"SNP\": v}, inplace=True)\n",
    "    df_all_gen = pd.concat([df_all_gen, temp[v]], axis=1)\n",
    "\n",
    "df_all_gen.head()"
   ],
   "metadata": {
    "collapsed": false,
    "ExecuteTime": {
     "start_time": "2023-10-05T16:29:50.175504Z",
     "end_time": "2023-10-05T16:29:51.079505Z"
    }
   }
  },
  {
   "cell_type": "code",
   "execution_count": 145,
   "outputs": [
    {
     "name": "stdout",
     "output_type": "stream",
     "text": [
      "<class 'pandas.core.frame.DataFrame'>\n",
      "Index: 5217 entries, NIH2307713334 to NIH2307027315\n",
      "Columns: 140 entries, AS1_SEX to SNP_A-2242511\n",
      "dtypes: float64(127), object(13)\n",
      "memory usage: 5.6+ MB\n"
     ]
    }
   ],
   "source": [
    "diet_and_gen = pd.concat([binary, cath0, cath1, cnt, df_all_gen], axis=1)\n",
    "diet_and_gen.info()"
   ],
   "metadata": {
    "collapsed": false,
    "ExecuteTime": {
     "start_time": "2023-10-05T16:29:51.080507Z",
     "end_time": "2023-10-05T16:29:51.265505Z"
    }
   }
  },
  {
   "cell_type": "code",
   "execution_count": 146,
   "outputs": [
    {
     "name": "stdout",
     "output_type": "stream",
     "text": [
      "<class 'pandas.core.frame.DataFrame'>\n",
      "Index: 4093 entries, NIH2307713334 to NIH2307534318\n",
      "Columns: 140 entries, AS1_SEX to SNP_A-2242511\n",
      "dtypes: float64(127), object(13)\n",
      "memory usage: 4.4+ MB\n"
     ]
    }
   ],
   "source": [
    "diet_and_gen.dropna().info()\n",
    "# diet_and_gen.dropna(subset=['AS1_PMYN_C'],).info()"
   ],
   "metadata": {
    "collapsed": false,
    "ExecuteTime": {
     "start_time": "2023-10-05T16:29:51.188505Z",
     "end_time": "2023-10-05T16:29:51.296504Z"
    }
   }
  },
  {
   "cell_type": "code",
   "execution_count": 147,
   "outputs": [],
   "source": [
    "diet_and_gen.dropna(inplace=True)"
   ],
   "metadata": {
    "collapsed": false,
    "ExecuteTime": {
     "start_time": "2023-10-05T16:29:51.226524Z",
     "end_time": "2023-10-05T16:29:51.327534Z"
    }
   }
  },
  {
   "cell_type": "code",
   "execution_count": 148,
   "metadata": {
    "collapsed": false,
    "ExecuteTime": {
     "start_time": "2023-10-05T16:29:51.252504Z",
     "end_time": "2023-10-05T16:29:51.328540Z"
    }
   },
   "outputs": [],
   "source": [
    "X = pd.concat([binary, cath0, cath1, cnt, df_all_gen], axis=1)\n",
    "X = X.dropna()\n",
    "\n",
    "y = dataset['OP'].loc[X.index]"
   ]
  },
  {
   "cell_type": "code",
   "execution_count": 149,
   "outputs": [
    {
     "data": {
      "text/plain": "Index(['NIH2307713334', 'NIH2307455306', 'NIH2307137554', 'NIH2307649667',\n       'NIH2307899915', 'NIH2307202612', 'NIH2307895121', 'NIH2307990429',\n       'NIH2307188829', 'NIH2307769863',\n       ...\n       'NIH2307705241', 'NIH2307002485', 'NIH2307422716', 'NIH2307959786',\n       'NIH2307294252', 'NIH2307635277', 'NIH2307591031', 'NIH2307808901',\n       'NIH2307930134', 'NIH2307534318'],\n      dtype='object', length=4093)"
     },
     "execution_count": 149,
     "metadata": {},
     "output_type": "execute_result"
    }
   ],
   "source": [
    "X.index"
   ],
   "metadata": {
    "collapsed": false,
    "ExecuteTime": {
     "start_time": "2023-10-05T16:29:51.284504Z",
     "end_time": "2023-10-05T16:29:51.329504Z"
    }
   }
  },
  {
   "cell_type": "code",
   "execution_count": 150,
   "metadata": {
    "collapsed": false,
    "ExecuteTime": {
     "start_time": "2023-10-05T16:29:51.298505Z",
     "end_time": "2023-10-05T16:29:51.329504Z"
    }
   },
   "outputs": [
    {
     "data": {
      "text/plain": "OP\n0    3311\n1     782\nName: count, dtype: int64"
     },
     "execution_count": 150,
     "metadata": {},
     "output_type": "execute_result"
    }
   ],
   "source": [
    "y.value_counts()"
   ]
  },
  {
   "cell_type": "code",
   "execution_count": 151,
   "outputs": [],
   "source": [
    "X.to_csv(\"dataset/X_231005.csv\")\n",
    "y.to_csv(\"dataset/y_231005.csv\")"
   ],
   "metadata": {
    "collapsed": false,
    "ExecuteTime": {
     "start_time": "2023-10-05T16:29:51.315507Z",
     "end_time": "2023-10-05T16:29:51.614505Z"
    }
   }
  },
  {
   "cell_type": "markdown",
   "source": [
    "X, y만 파일로 내보내고, 폐경 여부는 다른 곳에서 처리"
   ],
   "metadata": {
    "collapsed": false
   }
  },
  {
   "cell_type": "code",
   "execution_count": 152,
   "outputs": [
    {
     "data": {
      "text/plain": "4093"
     },
     "execution_count": 152,
     "metadata": {},
     "output_type": "execute_result"
    }
   ],
   "source": [
    "len(X)"
   ],
   "metadata": {
    "collapsed": false,
    "ExecuteTime": {
     "start_time": "2023-10-05T16:29:51.615505Z",
     "end_time": "2023-10-05T16:29:51.628505Z"
    }
   }
  },
  {
   "cell_type": "code",
   "execution_count": 153,
   "outputs": [
    {
     "data": {
      "text/plain": "AS1_SEX          0\nAS1_HT           0\nAS1_DM           0\nAS1_AL           0\nAS1_MI           0\n                ..\nSNP_A-2218697    0\nSNP_A-1850320    0\nSNP_A-4262878    0\nSNP_A-4299800    0\nSNP_A-2242511    0\nLength: 140, dtype: int64"
     },
     "execution_count": 153,
     "metadata": {},
     "output_type": "execute_result"
    }
   ],
   "source": [
    "X.isnull().sum()"
   ],
   "metadata": {
    "collapsed": false,
    "ExecuteTime": {
     "start_time": "2023-10-05T16:29:51.629505Z",
     "end_time": "2023-10-05T16:29:51.673504Z"
    }
   }
  },
  {
   "cell_type": "code",
   "execution_count": 153,
   "outputs": [],
   "source": [],
   "metadata": {
    "collapsed": false,
    "ExecuteTime": {
     "start_time": "2023-10-05T16:29:51.644505Z",
     "end_time": "2023-10-05T16:29:51.682504Z"
    }
   }
  }
 ],
 "metadata": {
  "kernelspec": {
   "display_name": "Python 3",
   "language": "python",
   "name": "python3"
  },
  "language_info": {
   "codemirror_mode": {
    "name": "ipython",
    "version": 3
   },
   "file_extension": ".py",
   "mimetype": "text/x-python",
   "name": "python",
   "nbconvert_exporter": "python",
   "pygments_lexer": "ipython3",
   "version": "3.9.13"
  }
 },
 "nbformat": 4,
 "nbformat_minor": 0
}
