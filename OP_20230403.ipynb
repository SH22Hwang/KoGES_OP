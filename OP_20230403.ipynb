{
  "nbformat": 4,
  "nbformat_minor": 0,
  "metadata": {
    "colab": {
      "provenance": [],
      "toc_visible": true,
      "collapsed_sections": [
        "x-C8UI7jSQwy",
        "sYI2gfoqR4AS",
        "yruDjbuHB-1D",
        "vtQptovXY8wx",
        "I0uLKFYuZEDZ"
      ],
      "authorship_tag": "ABX9TyMcNRpwqeQfnP4SUBCgkfz7",
      "include_colab_link": true
    },
    "kernelspec": {
      "name": "python3",
      "display_name": "Python 3"
    },
    "language_info": {
      "name": "python"
    },
    "gpuClass": "standard"
  },
  "cells": [
    {
      "cell_type": "markdown",
      "metadata": {
        "id": "view-in-github",
        "colab_type": "text"
      },
      "source": [
        "<a href=\"https://colab.research.google.com/github/SH22Hwang/KoGES_OP/blob/master/OP_20230403.ipynb\" target=\"_parent\"><img src=\"https://colab.research.google.com/assets/colab-badge.svg\" alt=\"Open In Colab\"/></a>"
      ]
    },
    {
      "cell_type": "markdown",
      "source": [
        "# 골다공증\n",
        "\n",
        "다양한 모델로 돌려보았다~\n",
        "\n",
        "- Traditional ML\n",
        "  + Linear Model\n",
        "  + KNN\n",
        "  + Decison Tree\n",
        "  + SVM\n",
        "- GBDT\n",
        "  + XGBoost\n",
        "  + LGBM\n",
        "- DNN\n",
        "  + MLP\n",
        "  + SAINT\n",
        "\n",
        "## 개발환경\n",
        "\n",
        "- PyTorch\n",
        "  \n",
        "## 문제점\n",
        "\n",
        "- classification 모델인데, 어느 한 쪽으로만 예측하는 경우 발생\n",
        "  - 알고보니, 예측값을 int64로 취급한 것 같음.\n",
        "  -\n",
        "\n"
      ],
      "metadata": {
        "id": "FAl448xJPFA8"
      }
    },
    {
      "cell_type": "code",
      "source": [
        "import torch\n",
        "import torch.nn as nn\n",
        "import torch.optim as optim\n",
        "import torch.nn.functional as fn\n",
        "from torch.utils.data import DataLoader, TensorDataset, Dataset\n",
        "\n",
        "from sklearn.model_selection import train_test_split\n",
        "from sklearn.preprocessing import StandardScaler\n",
        "from sklearn.metrics import confusion_matrix\n",
        "from sklearn.metrics import accuracy_score, recall_score, precision_score, f1_score\n",
        "from sklearn.metrics import mean_squared_error, roc_auc_score # roc_auc_score(y_test, y_pred)\n",
        "\n",
        "from xgboost import XGBClassifier\n",
        "import lightgbm as lgb\n",
        "\n",
        "import numpy as np\n",
        "import pandas as pd\n",
        "\n",
        "from google.colab import drive\n",
        "drive.mount('/content/drive')"
      ],
      "metadata": {
        "id": "qZtvThivQiqq",
        "colab": {
          "base_uri": "https://localhost:8080/"
        },
        "outputId": "eb75cc69-3213-43c7-c7b8-26ddc5a3e2fb"
      },
      "execution_count": null,
      "outputs": [
        {
          "output_type": "stream",
          "name": "stdout",
          "text": [
            "Mounted at /content/drive\n"
          ]
        }
      ]
    },
    {
      "cell_type": "code",
      "source": [
        "# 데이터 불러오기\n",
        "# _premeno: 폐경 전 여성\n",
        "# _postmeno: 폐경 후 여성\n",
        "X_premeno = pd.read_csv('/content/drive/MyDrive/Colab Notebooks/PreProcessed/X_premeno_20230428.csv', index_col=0)\n",
        "X_postmeno = pd.read_csv('/content/drive/MyDrive/Colab Notebooks/PreProcessed/X_postmeno_20230428.csv', index_col=0)\n",
        "y_premeno = pd.read_csv('/content/drive/MyDrive/Colab Notebooks/PreProcessed/y_premeno_20230428.csv', index_col=0)\n",
        "y_postmeno = pd.read_csv('/content/drive/MyDrive/Colab Notebooks/PreProcessed/y_postmeno_20230428.csv', index_col=0)"
      ],
      "metadata": {
        "id": "bHpXgV8pFTOL"
      },
      "execution_count": null,
      "outputs": []
    },
    {
      "cell_type": "code",
      "source": [
        "# 데이터 분리하기... 데아터 증강 해야하나??\n",
        "\n",
        "# Split data into train and test sets\n",
        "X_premeno_train, X_premeno_test, y_premeno_train, y_premeno_test = train_test_split(X_premeno, y_premeno, test_size=0.2, random_state=415)\n",
        "X_postmeno_train, X_postmeno_test, y_postmeno_train, y_postmeno_test = train_test_split(X_postmeno, y_postmeno, test_size=0.2, random_state=415)\n",
        "\n",
        "# Create PyTorch tensors and datasets XGBoost, LGBM, SAINT에서는 사용 안 함.\n",
        "X_premeno_train_tensor = torch.tensor(X_premeno_train.values).float()\n",
        "X_premeno_test_tensor = torch.tensor(X_premeno_test.values).float()\n",
        "y_premeno_train_tensor = torch.tensor(y_premeno_train.values).float()\n",
        "y_premeno_test_tensor = torch.tensor(y_premeno_test.values).float()\n",
        "\n",
        "X_postmeno_train_tensor = torch.tensor(X_postmeno_train.values).float()\n",
        "X_postmeno_test_tensor = torch.tensor(X_postmeno_test.values).float()\n",
        "y_postmeno_train_tensor = torch.tensor(y_postmeno_train.values).float()\n",
        "y_postmeno_test_tensor = torch.tensor(y_postmeno_test.values).float()\n",
        "\n",
        "# Create DataLoader for mini-batch training\n",
        "# train_dataset = TensorDataset(X_train_tensor, y_train_tensor)\n",
        "# train_loader = DataLoader(train_dataset, batch_size=32, shuffle=True)"
      ],
      "metadata": {
        "id": "y5YVi9AQF9zr"
      },
      "execution_count": null,
      "outputs": []
    },
    {
      "cell_type": "code",
      "source": [
        "print(X_premeno_train.shape, X_premeno_test.shape, y_premeno_train.shape, y_premeno_test.shape)\n",
        "print(X_postmeno_train.shape, X_postmeno_test.shape, y_postmeno_train.shape, y_postmeno_test.shape)"
      ],
      "metadata": {
        "colab": {
          "base_uri": "https://localhost:8080/"
        },
        "id": "TGhjQ46mkiWc",
        "outputId": "49ae69bb-98e7-4549-a1dc-6acd530ff5bd"
      },
      "execution_count": null,
      "outputs": [
        {
          "output_type": "stream",
          "name": "stdout",
          "text": [
            "(1374, 157) (344, 157) (1374, 1) (344, 1)\n",
            "(2347, 157) (587, 157) (2347, 1) (587, 1)\n"
          ]
        }
      ]
    },
    {
      "cell_type": "code",
      "source": [
        "y_postmeno"
      ],
      "metadata": {
        "colab": {
          "base_uri": "https://localhost:8080/",
          "height": 455
        },
        "id": "o5ck5TdXUPMT",
        "outputId": "5691221f-f011-4ec7-94b9-69fde2e40943"
      },
      "execution_count": null,
      "outputs": [
        {
          "output_type": "execute_result",
          "data": {
            "text/plain": [
              "               OP\n",
              "DIST_ID          \n",
              "NIH2307137554   0\n",
              "NIH2307649667   0\n",
              "NIH2307899915   0\n",
              "NIH2307202612   0\n",
              "NIH2307895121   1\n",
              "...            ..\n",
              "NIH2307591031   1\n",
              "NIH2307808901   1\n",
              "NIH2307930134   1\n",
              "NIH2307023172   0\n",
              "NIH2307534318   0\n",
              "\n",
              "[2934 rows x 1 columns]"
            ],
            "text/html": [
              "\n",
              "  <div id=\"df-cf3d74ed-6709-4719-9041-51c53dd825b3\">\n",
              "    <div class=\"colab-df-container\">\n",
              "      <div>\n",
              "<style scoped>\n",
              "    .dataframe tbody tr th:only-of-type {\n",
              "        vertical-align: middle;\n",
              "    }\n",
              "\n",
              "    .dataframe tbody tr th {\n",
              "        vertical-align: top;\n",
              "    }\n",
              "\n",
              "    .dataframe thead th {\n",
              "        text-align: right;\n",
              "    }\n",
              "</style>\n",
              "<table border=\"1\" class=\"dataframe\">\n",
              "  <thead>\n",
              "    <tr style=\"text-align: right;\">\n",
              "      <th></th>\n",
              "      <th>OP</th>\n",
              "    </tr>\n",
              "    <tr>\n",
              "      <th>DIST_ID</th>\n",
              "      <th></th>\n",
              "    </tr>\n",
              "  </thead>\n",
              "  <tbody>\n",
              "    <tr>\n",
              "      <th>NIH2307137554</th>\n",
              "      <td>0</td>\n",
              "    </tr>\n",
              "    <tr>\n",
              "      <th>NIH2307649667</th>\n",
              "      <td>0</td>\n",
              "    </tr>\n",
              "    <tr>\n",
              "      <th>NIH2307899915</th>\n",
              "      <td>0</td>\n",
              "    </tr>\n",
              "    <tr>\n",
              "      <th>NIH2307202612</th>\n",
              "      <td>0</td>\n",
              "    </tr>\n",
              "    <tr>\n",
              "      <th>NIH2307895121</th>\n",
              "      <td>1</td>\n",
              "    </tr>\n",
              "    <tr>\n",
              "      <th>...</th>\n",
              "      <td>...</td>\n",
              "    </tr>\n",
              "    <tr>\n",
              "      <th>NIH2307591031</th>\n",
              "      <td>1</td>\n",
              "    </tr>\n",
              "    <tr>\n",
              "      <th>NIH2307808901</th>\n",
              "      <td>1</td>\n",
              "    </tr>\n",
              "    <tr>\n",
              "      <th>NIH2307930134</th>\n",
              "      <td>1</td>\n",
              "    </tr>\n",
              "    <tr>\n",
              "      <th>NIH2307023172</th>\n",
              "      <td>0</td>\n",
              "    </tr>\n",
              "    <tr>\n",
              "      <th>NIH2307534318</th>\n",
              "      <td>0</td>\n",
              "    </tr>\n",
              "  </tbody>\n",
              "</table>\n",
              "<p>2934 rows × 1 columns</p>\n",
              "</div>\n",
              "      <button class=\"colab-df-convert\" onclick=\"convertToInteractive('df-cf3d74ed-6709-4719-9041-51c53dd825b3')\"\n",
              "              title=\"Convert this dataframe to an interactive table.\"\n",
              "              style=\"display:none;\">\n",
              "        \n",
              "  <svg xmlns=\"http://www.w3.org/2000/svg\" height=\"24px\"viewBox=\"0 0 24 24\"\n",
              "       width=\"24px\">\n",
              "    <path d=\"M0 0h24v24H0V0z\" fill=\"none\"/>\n",
              "    <path d=\"M18.56 5.44l.94 2.06.94-2.06 2.06-.94-2.06-.94-.94-2.06-.94 2.06-2.06.94zm-11 1L8.5 8.5l.94-2.06 2.06-.94-2.06-.94L8.5 2.5l-.94 2.06-2.06.94zm10 10l.94 2.06.94-2.06 2.06-.94-2.06-.94-.94-2.06-.94 2.06-2.06.94z\"/><path d=\"M17.41 7.96l-1.37-1.37c-.4-.4-.92-.59-1.43-.59-.52 0-1.04.2-1.43.59L10.3 9.45l-7.72 7.72c-.78.78-.78 2.05 0 2.83L4 21.41c.39.39.9.59 1.41.59.51 0 1.02-.2 1.41-.59l7.78-7.78 2.81-2.81c.8-.78.8-2.07 0-2.86zM5.41 20L4 18.59l7.72-7.72 1.47 1.35L5.41 20z\"/>\n",
              "  </svg>\n",
              "      </button>\n",
              "      \n",
              "  <style>\n",
              "    .colab-df-container {\n",
              "      display:flex;\n",
              "      flex-wrap:wrap;\n",
              "      gap: 12px;\n",
              "    }\n",
              "\n",
              "    .colab-df-convert {\n",
              "      background-color: #E8F0FE;\n",
              "      border: none;\n",
              "      border-radius: 50%;\n",
              "      cursor: pointer;\n",
              "      display: none;\n",
              "      fill: #1967D2;\n",
              "      height: 32px;\n",
              "      padding: 0 0 0 0;\n",
              "      width: 32px;\n",
              "    }\n",
              "\n",
              "    .colab-df-convert:hover {\n",
              "      background-color: #E2EBFA;\n",
              "      box-shadow: 0px 1px 2px rgba(60, 64, 67, 0.3), 0px 1px 3px 1px rgba(60, 64, 67, 0.15);\n",
              "      fill: #174EA6;\n",
              "    }\n",
              "\n",
              "    [theme=dark] .colab-df-convert {\n",
              "      background-color: #3B4455;\n",
              "      fill: #D2E3FC;\n",
              "    }\n",
              "\n",
              "    [theme=dark] .colab-df-convert:hover {\n",
              "      background-color: #434B5C;\n",
              "      box-shadow: 0px 1px 3px 1px rgba(0, 0, 0, 0.15);\n",
              "      filter: drop-shadow(0px 1px 2px rgba(0, 0, 0, 0.3));\n",
              "      fill: #FFFFFF;\n",
              "    }\n",
              "  </style>\n",
              "\n",
              "      <script>\n",
              "        const buttonEl =\n",
              "          document.querySelector('#df-cf3d74ed-6709-4719-9041-51c53dd825b3 button.colab-df-convert');\n",
              "        buttonEl.style.display =\n",
              "          google.colab.kernel.accessAllowed ? 'block' : 'none';\n",
              "\n",
              "        async function convertToInteractive(key) {\n",
              "          const element = document.querySelector('#df-cf3d74ed-6709-4719-9041-51c53dd825b3');\n",
              "          const dataTable =\n",
              "            await google.colab.kernel.invokeFunction('convertToInteractive',\n",
              "                                                     [key], {});\n",
              "          if (!dataTable) return;\n",
              "\n",
              "          const docLinkHtml = 'Like what you see? Visit the ' +\n",
              "            '<a target=\"_blank\" href=https://colab.research.google.com/notebooks/data_table.ipynb>data table notebook</a>'\n",
              "            + ' to learn more about interactive tables.';\n",
              "          element.innerHTML = '';\n",
              "          dataTable['output_type'] = 'display_data';\n",
              "          await google.colab.output.renderOutput(dataTable, element);\n",
              "          const docLink = document.createElement('div');\n",
              "          docLink.innerHTML = docLinkHtml;\n",
              "          element.appendChild(docLink);\n",
              "        }\n",
              "      </script>\n",
              "    </div>\n",
              "  </div>\n",
              "  "
            ]
          },
          "metadata": {},
          "execution_count": 5
        }
      ]
    },
    {
      "cell_type": "code",
      "source": [
        "# Statistical Accuracy Measurement Comprehensive Gift Set\n",
        "def SAMCGS(y_test, y_pred):\n",
        "  # 정확도 종합 선물 세트\n",
        "  accuracy = accuracy_score(y_test, y_pred)\n",
        "  conf_mat = confusion_matrix(y_test, y_pred)\n",
        "  # tn, fp, fn, tp = conf_mat.ravel()\n",
        "\n",
        "  precision = precision_score(y_test, y_pred, zero_division=1) # tp / (tp + fp)\n",
        "  recall = recall_score(y_test, y_pred, zero_division=1)       # tp / (tp + fn)\n",
        "  f1 = f1_score(y_test, y_pred, zero_division=1) # 2 * (precision * recall) / (precision + recall)\n",
        "\n",
        "  print(f'''\n",
        "  Confusion Matrix:\\n{conf_mat}\\n\n",
        "  Accuracy: {accuracy:.3f}\n",
        "  Precison: {precision:.3f}\n",
        "  Recall  : {recall:.3f}\n",
        "  F1 Score: {f1:.3f}'''\n",
        "  )\n",
        "\n",
        "  # return precision, recall, f1"
      ],
      "metadata": {
        "id": "cNVggRKWzhHM"
      },
      "execution_count": null,
      "outputs": []
    },
    {
      "cell_type": "markdown",
      "source": [
        "## Decision Tree"
      ],
      "metadata": {
        "id": "x-C8UI7jSQwy"
      }
    },
    {
      "cell_type": "code",
      "source": [
        "# Define the Decision Tree model\n",
        "class DecisionTree(torch.nn.Module):\n",
        "    def __init__(self, max_depth):\n",
        "        super(DecisionTree, self).__init__()\n",
        "        self.max_depth = max_depth\n",
        "        self.best_feature = None\n",
        "        self.best_threshold = None\n",
        "        self.best_impurity = 1.0\n",
        "\n",
        "    def fit(self, X, y, depth=0):\n",
        "        # Stop recursion if maximum depth is reached or all samples have the same label\n",
        "        if depth == self.max_depth or torch.unique(y).shape[0] == 1:\n",
        "            mode = torch.mode(y)\n",
        "            self.label = mode.values[0].item()\n",
        "            # if mode.count > 1:\n",
        "            #   print(f\"Warning: found {mode.count} samples with tie in class labels\")\n",
        "            return\n",
        "\n",
        "        # Find the feature and threshold that maximally separate the samples\n",
        "        self.best_feature = None\n",
        "        self.best_threshold = None\n",
        "        self.best_impurity = 1.0\n",
        "        for feature in range(X.shape[1]):\n",
        "            for threshold in torch.linspace(X[:, feature].min(), X[:, feature].max(), steps=10):\n",
        "                left_indices = X[:, feature] <= threshold\n",
        "                right_indices = X[:, feature] > threshold\n",
        "                if left_indices.sum() == 0 or right_indices.sum() == 0:\n",
        "                    continue\n",
        "                left_labels = y[left_indices]\n",
        "                right_labels = y[right_indices]\n",
        "                impurity = left_labels.shape[0] / y.shape[0] * self._compute_gini_impurity(left_labels) + right_labels.shape[0] / y.shape[0] * self._compute_gini_impurity(right_labels)\n",
        "                if impurity < self.best_impurity:\n",
        "                    self.best_feature = feature\n",
        "                    self.best_threshold = threshold\n",
        "                    self.best_impurity = impurity\n",
        "\n",
        "        # Stop recursion if no feature and threshold can separate the samples\n",
        "        if self.best_feature is None:\n",
        "            self.label = torch.mode(y).values.item()\n",
        "            return\n",
        "\n",
        "        # Split the samples based on the best feature and threshold\n",
        "        left_indices = X[:, self.best_feature] <= self.best_threshold\n",
        "        right_indices = X[:, self.best_feature] > self.best_threshold\n",
        "\n",
        "        # Recursively fit the left and right child nodes\n",
        "        self.left = DecisionTree(max_depth=self.max_depth)\n",
        "        self.left.fit(X[left_indices], y[left_indices], depth+1)\n",
        "        self.right = DecisionTree(max_depth=self.max_depth)\n",
        "        self.right.fit(X[right_indices], y[right_indices], depth+1)\n",
        "\n",
        "    def _compute_gini_impurity(self, y):\n",
        "        _, counts = torch.unique(y, return_counts=True)\n",
        "        proportions = counts / y.shape[0]\n",
        "        return 1 - (proportions ** 2).sum()\n",
        "\n",
        "    def predict(self, X):\n",
        "        y_pred = torch.empty(X.shape[0], dtype=torch.int64)\n",
        "        for i in range(X.shape[0]):\n",
        "            node = self\n",
        "            while hasattr(node, 'left'):\n",
        "                if X[i, node.best_feature] <= node.best_threshold:\n",
        "                    node = node.left\n",
        "                else:\n",
        "                    node = node.right\n",
        "            y_pred[i] = node.label\n",
        "        return y_pred\n"
      ],
      "metadata": {
        "id": "uQ4bdBrUUffp"
      },
      "execution_count": null,
      "outputs": []
    },
    {
      "cell_type": "code",
      "source": [
        "# Initialize the model and fit it to the training set\n",
        "model_premeno = DecisionTree(max_depth=3)\n",
        "model_premeno.fit(torch.tensor(X_premeno_train_tensor), torch.tensor(y_premeno_train_tensor))\n",
        "\n",
        "# Test the model on the test set\n",
        "y_premeno_pred = model_premeno.predict(torch.tensor(X_premeno_test.values))"
      ],
      "metadata": {
        "colab": {
          "base_uri": "https://localhost:8080/"
        },
        "id": "RDRXqYhZwHs9",
        "outputId": "2616098a-7a64-44aa-e52c-4e2ea678f03b"
      },
      "execution_count": null,
      "outputs": [
        {
          "output_type": "stream",
          "name": "stderr",
          "text": [
            "<ipython-input-47-20d57c73e439>:3: UserWarning: To copy construct from a tensor, it is recommended to use sourceTensor.clone().detach() or sourceTensor.clone().detach().requires_grad_(True), rather than torch.tensor(sourceTensor).\n",
            "  model_premeno.fit(torch.tensor(X_premeno_train_tensor), torch.tensor(y_premeno_train_tensor))\n"
          ]
        }
      ]
    },
    {
      "cell_type": "code",
      "source": [
        "print(\"폐경 전 여성, Decision Tree\")\n",
        "SAMCGS(y_premeno_test, y_premeno_pred)"
      ],
      "metadata": {
        "colab": {
          "base_uri": "https://localhost:8080/"
        },
        "id": "r41VzqL71y7l",
        "outputId": "abfe1408-3c84-4e1a-f31f-a758df43444e"
      },
      "execution_count": null,
      "outputs": [
        {
          "output_type": "stream",
          "name": "stdout",
          "text": [
            "폐경 전 여성, Decision Tree\n",
            "\n",
            "  Confusion Matrix:\n",
            "[[330   1]\n",
            " [ 13   0]]\n",
            "\n",
            "  Accuracy: 0.959\n",
            "  Precison: 0.000\n",
            "  Recall  : 0.000\n",
            "  F1 Score: 0.000\n"
          ]
        }
      ]
    },
    {
      "cell_type": "code",
      "source": [
        "# Initialize the model and fit it to the training set\n",
        "model_postmeno = DecisionTree(max_depth=3)\n",
        "model_postmeno.fit(torch.tensor(X_postmeno_train_tensor), torch.tensor(y_postmeno_train_tensor))\n",
        "\n",
        "# Test the model on the test set\n",
        "y_postmeno_pred = model_postmeno.predict(torch.tensor(X_postmeno_test.values))"
      ],
      "metadata": {
        "colab": {
          "base_uri": "https://localhost:8080/"
        },
        "id": "qmw2p5Iu8RT7",
        "outputId": "2bdb522b-3573-47d1-dc83-1e83a2b74221"
      },
      "execution_count": null,
      "outputs": [
        {
          "output_type": "stream",
          "name": "stderr",
          "text": [
            "<ipython-input-49-cdcc688a0648>:3: UserWarning: To copy construct from a tensor, it is recommended to use sourceTensor.clone().detach() or sourceTensor.clone().detach().requires_grad_(True), rather than torch.tensor(sourceTensor).\n",
            "  model_postmeno.fit(torch.tensor(X_postmeno_train_tensor), torch.tensor(y_postmeno_train_tensor))\n"
          ]
        }
      ]
    },
    {
      "cell_type": "code",
      "source": [
        "print(\"폐경 후 여성, Decision Tree\")\n",
        "SAMCGS(y_postmeno_test, y_postmeno_pred)"
      ],
      "metadata": {
        "colab": {
          "base_uri": "https://localhost:8080/"
        },
        "id": "8tPTt-cI8bY0",
        "outputId": "35b170c0-e62d-47df-98c1-dd693e189ca8"
      },
      "execution_count": null,
      "outputs": [
        {
          "output_type": "stream",
          "name": "stdout",
          "text": [
            "폐경 후 여성, Decision Tree\n",
            "\n",
            "  Confusion Matrix:\n",
            "[[373  44]\n",
            " [160  10]]\n",
            "\n",
            "  Accuracy: 0.652\n",
            "  Precison: 0.185\n",
            "  Recall  : 0.059\n",
            "  F1 Score: 0.089\n"
          ]
        }
      ]
    },
    {
      "cell_type": "markdown",
      "source": [
        "## KNN"
      ],
      "metadata": {
        "id": "sYI2gfoqR4AS"
      }
    },
    {
      "cell_type": "code",
      "source": [
        "from sklearn.neighbors import KNeighborsClassifier\n",
        "\n",
        "knn_premeno = KNeighborsClassifier(n_neighbors=2)\n",
        "knn_postmeno = KNeighborsClassifier(n_neighbors=2)\n",
        "\n",
        "knn_premeno.fit(X_premeno_train, y_premeno_train)\n",
        "knn_postmeno.fit(X_postmeno_train, y_postmeno_train)\n",
        "\n",
        "y_premeno_pred = knn_premeno.predict(X_premeno_test)\n",
        "y_postmeno_pred = knn_postmeno.predict(X_postmeno_test)"
      ],
      "metadata": {
        "colab": {
          "base_uri": "https://localhost:8080/"
        },
        "id": "l1vqjihXp69U",
        "outputId": "6659e344-6f37-450c-c1d7-bdf3405538c8"
      },
      "execution_count": null,
      "outputs": [
        {
          "output_type": "stream",
          "name": "stderr",
          "text": [
            "/usr/local/lib/python3.10/dist-packages/sklearn/neighbors/_classification.py:215: DataConversionWarning: A column-vector y was passed when a 1d array was expected. Please change the shape of y to (n_samples,), for example using ravel().\n",
            "  return self._fit(X, y)\n",
            "/usr/local/lib/python3.10/dist-packages/sklearn/neighbors/_classification.py:215: DataConversionWarning: A column-vector y was passed when a 1d array was expected. Please change the shape of y to (n_samples,), for example using ravel().\n",
            "  return self._fit(X, y)\n"
          ]
        }
      ]
    },
    {
      "cell_type": "code",
      "source": [
        "print(\"폐경 전 여성, KNN\")\n",
        "SAMCGS(y_premeno_test, y_premeno_pred)"
      ],
      "metadata": {
        "colab": {
          "base_uri": "https://localhost:8080/"
        },
        "id": "1ciZ38WZCWQg",
        "outputId": "7fe94bd0-89fe-4842-9ed2-3289d788acc8"
      },
      "execution_count": null,
      "outputs": [
        {
          "output_type": "stream",
          "name": "stdout",
          "text": [
            "폐경 전 여성, KNN\n",
            "\n",
            "  Confusion Matrix:\n",
            "[[330   1]\n",
            " [ 13   0]]\n",
            "\n",
            "  Accuracy: 0.959\n",
            "  Precison: 0.000\n",
            "  Recall  : 0.000\n",
            "  F1 Score: 0.000\n"
          ]
        }
      ]
    },
    {
      "cell_type": "code",
      "source": [
        "print(\"폐경 후 여성, KNN\")\n",
        "SAMCGS(y_postmeno_test, y_postmeno_pred)"
      ],
      "metadata": {
        "colab": {
          "base_uri": "https://localhost:8080/"
        },
        "id": "uAAqDA3aCw8R",
        "outputId": "6fe8dc27-3fc9-4ebd-a9ff-e92d78075190"
      },
      "execution_count": null,
      "outputs": [
        {
          "output_type": "stream",
          "name": "stdout",
          "text": [
            "폐경 후 여성, KNN\n",
            "\n",
            "  Confusion Matrix:\n",
            "[[385  32]\n",
            " [138  32]]\n",
            "\n",
            "  Accuracy: 0.710\n",
            "  Precison: 0.500\n",
            "  Recall  : 0.188\n",
            "  F1 Score: 0.274\n"
          ]
        }
      ]
    },
    {
      "cell_type": "markdown",
      "source": [
        "## SVM"
      ],
      "metadata": {
        "id": "yruDjbuHB-1D"
      }
    },
    {
      "cell_type": "code",
      "source": [
        "# Define the linear SVM model\n",
        "class SVM(nn.Module):\n",
        "    def __init__(self, input_dim):\n",
        "        super(SVM, self).__init__()\n",
        "        self.fc1 = nn.Linear(input_dim, 1)\n",
        "\n",
        "    def forward(self, x):\n",
        "        x = self.fc1(x)\n",
        "        return x\n",
        "\n",
        "svm_model_premeno = SVM(X_premeno_train.shape[1])\n",
        "svm_model_postmeno = SVM(X_postmeno_train.shape[1])\n",
        "\n",
        "# Define the loss function and optimizer\n",
        "criterion_premeno = nn.MarginRankingLoss(margin=1)\n",
        "criterion_postmeno = nn.MarginRankingLoss(margin=1)\n",
        "optimizer_premeno = optim.SGD(svm_model_postmeno.parameters(), lr=0.01)\n",
        "optimizer_postmeno = optim.SGD(svm_model_postmeno.parameters(), lr=0.01)\n",
        "\n",
        "# Train the model\n",
        "for epoch in range(100):\n",
        "    optimizer_premeno.zero_grad()\n",
        "    optimizer_postmeno.zero_grad()\n",
        "\n",
        "    output_premeno = svm_model_premeno(X_premeno_train_tensor).squeeze()\n",
        "    output_postmeno = svm_model_postmeno(X_postmeno_train_tensor).squeeze()\n",
        "\n",
        "    loss_premeno = criterion_premeno(output_premeno, y_premeno_train_tensor.squeeze(), torch.ones_like(y_premeno_train_tensor).squeeze())\n",
        "    loss_premeno.backward()\n",
        "    loss_postmeno = criterion_postmeno(output_postmeno, y_postmeno_train_tensor.squeeze(), torch.ones_like(y_postmeno_train_tensor).squeeze())\n",
        "    loss_postmeno.backward()\n",
        "\n",
        "    optimizer_premeno.step()\n",
        "    optimizer_postmeno.step()\n",
        "\n",
        "# Make predictions on the test set\n",
        "y_premeno_pred = torch.sign(svm_model_premeno(X_premeno_test_tensor).squeeze()).detach().numpy()\n",
        "y_postmeno_pred = torch.sign(svm_model_postmeno(X_postmeno_test_tensor).squeeze()).detach().numpy()"
      ],
      "metadata": {
        "id": "eayLeQg3B-aL"
      },
      "execution_count": null,
      "outputs": []
    },
    {
      "cell_type": "code",
      "source": [
        "y_premeno_test.value_counts()"
      ],
      "metadata": {
        "colab": {
          "base_uri": "https://localhost:8080/"
        },
        "id": "PfFTM8hOLHQZ",
        "outputId": "b97f6775-c7b1-4a5f-aed2-b72115897905"
      },
      "execution_count": null,
      "outputs": [
        {
          "output_type": "execute_result",
          "data": {
            "text/plain": [
              "OP\n",
              "0     331\n",
              "1      13\n",
              "dtype: int64"
            ]
          },
          "metadata": {},
          "execution_count": 55
        }
      ]
    },
    {
      "cell_type": "code",
      "source": [
        "y_premeno_pred = np.where(y_premeno_pred < 0, 0, 1)\n",
        "unique, counts = np.unique(y_premeno_pred, return_counts=True)\n",
        "print(dict(zip(unique, counts)))"
      ],
      "metadata": {
        "colab": {
          "base_uri": "https://localhost:8080/"
        },
        "id": "QMNooe4_M5dI",
        "outputId": "7c5348f4-9623-4589-a707-a355f1e7420a"
      },
      "execution_count": null,
      "outputs": [
        {
          "output_type": "stream",
          "name": "stdout",
          "text": [
            "{0: 208, 1: 136}\n"
          ]
        }
      ]
    },
    {
      "cell_type": "code",
      "source": [
        "y_postmeno_test.value_counts()"
      ],
      "metadata": {
        "colab": {
          "base_uri": "https://localhost:8080/"
        },
        "id": "DdIVuxUZNOOo",
        "outputId": "08faeba1-0bae-40f8-de4e-8cadd262f11d"
      },
      "execution_count": null,
      "outputs": [
        {
          "output_type": "execute_result",
          "data": {
            "text/plain": [
              "OP\n",
              "0     417\n",
              "1     170\n",
              "dtype: int64"
            ]
          },
          "metadata": {},
          "execution_count": 57
        }
      ]
    },
    {
      "cell_type": "code",
      "source": [
        "y_postmeno_pred = np.where(y_postmeno_pred < 0, 0, 1)\n",
        "unique, counts = np.unique(y_postmeno_pred, return_counts=True)\n",
        "print(dict(zip(unique, counts)))"
      ],
      "metadata": {
        "colab": {
          "base_uri": "https://localhost:8080/"
        },
        "id": "_HY-CpPuNQu4",
        "outputId": "c95b85d9-5d91-4e58-ed4d-49188c3ebb0e"
      },
      "execution_count": null,
      "outputs": [
        {
          "output_type": "stream",
          "name": "stdout",
          "text": [
            "{1: 587}\n"
          ]
        }
      ]
    },
    {
      "cell_type": "code",
      "source": [
        "print(\"폐경 전 여성, SVM\")\n",
        "SAMCGS(y_premeno_test.to_numpy(), y_premeno_pred)"
      ],
      "metadata": {
        "colab": {
          "base_uri": "https://localhost:8080/"
        },
        "id": "AIZm9S7aEAIB",
        "outputId": "9ba2ceb0-29f8-4635-8912-3a1bfa244524"
      },
      "execution_count": null,
      "outputs": [
        {
          "output_type": "stream",
          "name": "stdout",
          "text": [
            "폐경 전 여성, SVM\n",
            "\n",
            "  Confusion Matrix:\n",
            "[[200 131]\n",
            " [  8   5]]\n",
            "\n",
            "  Accuracy: 0.596\n",
            "  Precison: 0.037\n",
            "  Recall  : 0.385\n",
            "  F1 Score: 0.067\n"
          ]
        }
      ]
    },
    {
      "cell_type": "code",
      "source": [
        "print(\"폐경 후 여성, SVM\")\n",
        "SAMCGS(y_postmeno_test, y_postmeno_pred)"
      ],
      "metadata": {
        "colab": {
          "base_uri": "https://localhost:8080/"
        },
        "id": "qv1TkLkQEB8o",
        "outputId": "e151c107-3947-48c2-bb19-0f92a3bd187e"
      },
      "execution_count": null,
      "outputs": [
        {
          "output_type": "stream",
          "name": "stdout",
          "text": [
            "폐경 후 여성, SVM\n",
            "\n",
            "  Confusion Matrix:\n",
            "[[  0 417]\n",
            " [  0 170]]\n",
            "\n",
            "  Accuracy: 0.290\n",
            "  Precison: 0.290\n",
            "  Recall  : 1.000\n",
            "  F1 Score: 0.449\n"
          ]
        }
      ]
    },
    {
      "cell_type": "markdown",
      "source": [
        "## XGBoost"
      ],
      "metadata": {
        "id": "vtQptovXY8wx"
      }
    },
    {
      "cell_type": "code",
      "source": [
        "# create model instance\n",
        "xgb_premeno = XGBClassifier(n_estimators=2, max_depth=2, learning_rate=1, objective='binary:logistic')\n",
        "xgb_postmeno = XGBClassifier(n_estimators=2, max_depth=2, learning_rate=1, objective='binary:logistic')\n",
        "\n",
        "# fit model\n",
        "xgb_premeno.fit(X_premeno_train, y_premeno_train)\n",
        "xgb_postmeno.fit(X_postmeno_train, y_postmeno_train)\n",
        "\n",
        "# make predictions\n",
        "y_premeno_pred = xgb_premeno.predict(X_premeno_test)\n",
        "y_postmeno_pred = xgb_postmeno.predict(X_postmeno_test)"
      ],
      "metadata": {
        "id": "Gj-jn1-sY8Sx"
      },
      "execution_count": null,
      "outputs": []
    },
    {
      "cell_type": "code",
      "source": [
        "print(\"폐경 전 여성, XGBoost\")\n",
        "SAMCGS(y_premeno_test, y_premeno_pred)"
      ],
      "metadata": {
        "colab": {
          "base_uri": "https://localhost:8080/"
        },
        "id": "dwTa0FcXzHr8",
        "outputId": "67686e5f-68f0-43b8-95d8-51b49efbeea0"
      },
      "execution_count": null,
      "outputs": [
        {
          "output_type": "stream",
          "name": "stdout",
          "text": [
            "폐경 전 여성, XGBoost\n",
            "\n",
            "  Confusion Matrix:\n",
            "[[330   1]\n",
            " [ 12   1]]\n",
            "\n",
            "  Accuracy: 0.962\n",
            "  Precison: 0.500\n",
            "  Recall  : 0.077\n",
            "  F1 Score: 0.133\n"
          ]
        }
      ]
    },
    {
      "cell_type": "code",
      "source": [
        "print(\"폐경 후 여성, XGBoost\")\n",
        "SAMCGS(y_postmeno_test, y_postmeno_pred)"
      ],
      "metadata": {
        "colab": {
          "base_uri": "https://localhost:8080/"
        },
        "id": "tylSWqHRam6p",
        "outputId": "b0773e50-c219-4c16-b5ea-ad3b5b13c039"
      },
      "execution_count": null,
      "outputs": [
        {
          "output_type": "stream",
          "name": "stdout",
          "text": [
            "폐경 후 여성, XGBoost\n",
            "\n",
            "  Confusion Matrix:\n",
            "[[389  28]\n",
            " [142  28]]\n",
            "\n",
            "  Accuracy: 0.710\n",
            "  Precison: 0.500\n",
            "  Recall  : 0.165\n",
            "  F1 Score: 0.248\n"
          ]
        }
      ]
    },
    {
      "cell_type": "markdown",
      "source": [
        "## LGBM"
      ],
      "metadata": {
        "id": "I0uLKFYuZEDZ"
      }
    },
    {
      "cell_type": "code",
      "source": [
        "# # Define the LightGBM model\n",
        "# params = {\n",
        "#     'objective': 'binary',\n",
        "#     'metric': 'auc',\n",
        "#     'boosting_type': 'gbdt',\n",
        "#     'num_leaves': 31,\n",
        "#     'learning_rate': 0.05,\n",
        "#     'feature_fraction': 0.9,\n",
        "#     'bagging_fraction': 0.8,\n",
        "#     'bagging_freq': 5,\n",
        "#     'verbose': 0\n",
        "# }\n",
        "\n",
        "# train_data = lgb.Dataset(X_train, label=y_train)\n",
        "# test_data = lgb.Dataset(X_test, label=y_test)\n",
        "\n",
        "# # Train the model\n",
        "# model = lgb.train(params, train_data, num_boost_round=100, valid_sets=[train_data, test_data], early_stopping_rounds=10)\n",
        "\n",
        "# # Make predictions on test set\n",
        "# y_pred = model.predict(X_test)\n",
        "\n",
        "clf_premeno = lgb.LGBMClassifier()\n",
        "clf_premeno.fit(X_premeno_train, y_premeno_train) # LightGBMError: Do not support special JSON characters in feature name.\n",
        "                                                  #\n",
        "y_premeno_pred=clf_premeno.predict(X_premeno_test)\n",
        "\n",
        "clf_postmeno = lgb.LGBMClassifier()\n",
        "clf_postmeno.fit(X_postmeno_train, y_postmeno_train)\n",
        "y_postmeno_pred=clf_postmeno.predict(X_postmeno_test)"
      ],
      "metadata": {
        "id": "SmET7QfNBa3k",
        "colab": {
          "base_uri": "https://localhost:8080/"
        },
        "outputId": "9b539b53-7254-4c77-f9bf-df7184528501"
      },
      "execution_count": null,
      "outputs": [
        {
          "output_type": "stream",
          "name": "stderr",
          "text": [
            "/usr/local/lib/python3.10/dist-packages/sklearn/preprocessing/_label.py:99: DataConversionWarning: A column-vector y was passed when a 1d array was expected. Please change the shape of y to (n_samples, ), for example using ravel().\n",
            "  y = column_or_1d(y, warn=True)\n",
            "/usr/local/lib/python3.10/dist-packages/sklearn/preprocessing/_label.py:134: DataConversionWarning: A column-vector y was passed when a 1d array was expected. Please change the shape of y to (n_samples, ), for example using ravel().\n",
            "  y = column_or_1d(y, dtype=self.classes_.dtype, warn=True)\n",
            "/usr/local/lib/python3.10/dist-packages/sklearn/preprocessing/_label.py:99: DataConversionWarning: A column-vector y was passed when a 1d array was expected. Please change the shape of y to (n_samples, ), for example using ravel().\n",
            "  y = column_or_1d(y, warn=True)\n",
            "/usr/local/lib/python3.10/dist-packages/sklearn/preprocessing/_label.py:134: DataConversionWarning: A column-vector y was passed when a 1d array was expected. Please change the shape of y to (n_samples, ), for example using ravel().\n",
            "  y = column_or_1d(y, dtype=self.classes_.dtype, warn=True)\n"
          ]
        }
      ]
    },
    {
      "cell_type": "code",
      "source": [
        "print(\"폐경 전 여성, LGBM\")\n",
        "SAMCGS(y_premeno_test, y_premeno_pred)"
      ],
      "metadata": {
        "id": "bnq0K0F4zQHM",
        "colab": {
          "base_uri": "https://localhost:8080/"
        },
        "outputId": "f49d9c6e-7989-40ac-8f41-41bfbf0d8bba"
      },
      "execution_count": null,
      "outputs": [
        {
          "output_type": "stream",
          "name": "stdout",
          "text": [
            "폐경 전 여성, LGBM\n",
            "\n",
            "  Confusion Matrix:\n",
            "[[331   0]\n",
            " [ 13   0]]\n",
            "\n",
            "  Accuracy: 0.962\n",
            "  Precison: 1.000\n",
            "  Recall  : 0.000\n",
            "  F1 Score: 0.000\n"
          ]
        }
      ]
    },
    {
      "cell_type": "code",
      "source": [
        "print(\"폐경 후 여성, LGBM\")\n",
        "SAMCGS(y_postmeno_test, y_postmeno_pred)"
      ],
      "metadata": {
        "colab": {
          "base_uri": "https://localhost:8080/"
        },
        "id": "aZ_GVyEv1GLq",
        "outputId": "5958bf72-c00a-457e-9934-b6e2d9c66cc8"
      },
      "execution_count": null,
      "outputs": [
        {
          "output_type": "stream",
          "name": "stdout",
          "text": [
            "폐경 후 여성, LGBM\n",
            "\n",
            "  Confusion Matrix:\n",
            "[[383  34]\n",
            " [141  29]]\n",
            "\n",
            "  Accuracy: 0.702\n",
            "  Precison: 0.460\n",
            "  Recall  : 0.171\n",
            "  F1 Score: 0.249\n"
          ]
        }
      ]
    },
    {
      "cell_type": "markdown",
      "source": [
        "## MLP\n",
        "\n",
        "- 이전에 가장 좋았던 코드 사용\n",
        "  - 고혈압 분석 모델 참고\n",
        "  - hidden:\n",
        "    - layer: 5\n",
        "    - dimension: 32\n",
        "  - output:\n",
        "    - dimmension: 1\n",
        "    - activation: Sigmoid\n",
        "\n",
        "- 내가 할 코드\n",
        "  - hidden:\n",
        "    - layer:\n",
        "    - dimension:\n",
        "  - output:\n",
        "    - dimmension:\n",
        "    - activation: Sigmoid\n"
      ],
      "metadata": {
        "id": "UicLOhOGUh6B"
      }
    },
    {
      "cell_type": "markdown",
      "source": [
        "### 블로그에서 가져온 클래스\n",
        "출처: https://data-science-hi.tistory.com/188\n",
        "\n",
        "\n",
        "- X_premeno_train\n",
        "- X_premeno_test\n",
        "- y_premeno_train\n",
        "- y_premeno_test\n",
        "\n",
        "- X_postmeno_train\n",
        "- X_postmeno_test\n",
        "- y_postmeno_train\n",
        "- y_postmeno_test"
      ],
      "metadata": {
        "id": "dg7KrteohLQN"
      }
    },
    {
      "cell_type": "code",
      "source": [
        "# torch의 Dataset 을 상속.\n",
        "class TensorData(Dataset):\n",
        "\n",
        "    def __init__(self, x_data, y_data):\n",
        "        self.x_data = torch.FloatTensor(x_data)\n",
        "        self.y_data = torch.FloatTensor(y_data)\n",
        "        self.len = self.y_data.shape[0]\n",
        "\n",
        "    def __getitem__(self, index):\n",
        "        return self.x_data[index], self.y_data[index]\n",
        "\n",
        "    def __len__(self):\n",
        "        return self.len"
      ],
      "metadata": {
        "id": "bnCRm3wbLcpy"
      },
      "execution_count": null,
      "outputs": []
    },
    {
      "cell_type": "code",
      "source": [
        "# 학습 데이터, 시험 데이터 배치 형태로 구축하기\n",
        "# premeno, postmeno 따로 생성\n",
        "\n",
        "premeno_train_sets = TensorData(X_premeno_train_tensor, y_premeno_train_tensor)\n",
        "premeno_train_loader = torch.utils.data.DataLoader(premeno_train_sets, batch_size=32, shuffle=True)\n",
        "\n",
        "premeno_test_sets = TensorData(X_premeno_test_tensor, y_premeno_test_tensor)\n",
        "premeno_test_loader = torch.utils.data.DataLoader(premeno_test_sets, batch_size=32, shuffle=False)\n",
        "\n",
        "postmeno_train_sets = TensorData(X_postmeno_train_tensor, y_postmeno_train_tensor)\n",
        "postmeno_train_loader = torch.utils.data.DataLoader(postmeno_train_sets, batch_size=32, shuffle=True)\n",
        "\n",
        "postmeno_test_sets = TensorData(X_postmeno_test_tensor, y_postmeno_test_tensor)\n",
        "postmeno_test_loader = torch.utils.data.DataLoader(postmeno_test_sets, batch_size=32, shuffle=False)"
      ],
      "metadata": {
        "id": "B15yQ_puYcpN"
      },
      "execution_count": null,
      "outputs": []
    },
    {
      "cell_type": "code",
      "source": [
        "# input, hidden dim 매개변수로 따로 넣어주기\n",
        "\n",
        "class Regressor(nn.Module):\n",
        "    def __init__(self, input_dim, hidden_dim):\n",
        "        super().__init__() # 모델 연산 정의\n",
        "        self.fc1 = nn.Linear(input_dim, hidden_dim, bias=True) # 입력층(13) -> 은닉층1(50)으로 가는 연산\n",
        "        self.fc2 = nn.Linear(hidden_dim, hidden_dim, bias=True) # 은닉층1(50) -> 은닉층2(30)으로 가는 연산\n",
        "        self.fc3 = nn.Linear(hidden_dim, 1, bias=True) # 은닉층2(30) -> 출력층(1)으로 가는 연산\n",
        "        self.dropout = nn.Dropout(0.2) # 연산이 될 때마다 20%의 비율로 랜덤하게 노드를 없앤다.\n",
        "\n",
        "    def forward(self, x): # 모델 연산의 순서를 정의\n",
        "        x = fn.relu(self.fc1(x)) # Linear 계산 후 활성화 함수 ReLU를 적용한다.\n",
        "        x = self.dropout(fn.relu(self.fc2(x))) # 은닉층2에서 드랍아웃을 적용한다.(즉, 30개의 20%인 6개의 노드가 계산에서 제외된다.)\n",
        "        x = fn.relu(self.fc3(x)) # Linear 계산 후 활성화 함수 ReLU를 적용한다.\n",
        "\n",
        "        return x\n",
        "\n",
        "# 주의 사항\n",
        "# 드랍아웃은 과적합(overfitting)을 방지하기 위해 노드의 일부를 배제하고 계산하는 방식이기 때문에 절대로 출력층에 사용해서는 안 된다."
      ],
      "metadata": {
        "id": "wkXHWJxehiwu"
      },
      "execution_count": null,
      "outputs": []
    },
    {
      "cell_type": "code",
      "source": [
        "mlp_premeno = Regressor(X_premeno_train.shape[1], 32)\n",
        "mlp_postmeno = Regressor(X_postmeno_train.shape[1], 32)"
      ],
      "metadata": {
        "id": "fuefrMsg0C8-"
      },
      "execution_count": null,
      "outputs": []
    },
    {
      "cell_type": "code",
      "source": [
        "# criterion = nn.MSELoss() critation은 earlystopping을 사용할 때 쓰는 것.\n",
        "objective = nn.MSELoss()\n",
        "optimizer = optim.Adam(mlp_postmeno.parameters(), lr=0.001, weight_decay=1e-7)"
      ],
      "metadata": {
        "id": "DZAQP7mDhkF1"
      },
      "execution_count": null,
      "outputs": []
    },
    {
      "cell_type": "code",
      "source": [
        "loss_pre = [] # loss를 저장할 리스트.\n",
        "loss_post = []\n",
        "# n = len(trainloader)\n",
        "len_pre_loader = len(premeno_train_loader)\n",
        "len_post_loader = len(postmeno_train_loader)\n",
        "\n",
        "for epoch in range(400):\n",
        "  running_loss = 0.0 # 한 에폭이 돌 때 그안에서 배치마다 loss가 나온다. 즉 한번 학습할 때 그렇게 쪼개지면서 loss가 다 나오니 MSE를 구하기 위해서 사용한다.\n",
        "\n",
        "  for i, data in enumerate(postmeno_train_loader, 0): # 무작위로 섞인 32개의 데이터가 담긴 배치가 하나씩 들어온다.\n",
        "    inputs, values = data # data에는 X, Y가 들어있다.\n",
        "    optimizer.zero_grad() # 최적화 초기화.\n",
        "    outputs = mlp_premeno(inputs) # 모델에 입력값을 넣어 예측값을 산출한다.\n",
        "\n",
        "    loss = objective(outputs, values) # 손실함수를 계산. error 계산.\n",
        "    loss.backward() # 손실 함수를 기준으로 역전파를 설정한다.\n",
        "\n",
        "    optimizer.step() # 역전파를 진행하고 가중치를 업데이트한다.\n",
        "\n",
        "    running_loss += loss.item() # epoch 마다 평균 loss를 계산하기 위해 배치 loss를 더한다.\n",
        "\n",
        "  loss_post.append(running_loss/len_post_loader) # MSE(Mean Squared Error) 계산"
      ],
      "metadata": {
        "id": "7vvc3qNUhpqd"
      },
      "execution_count": null,
      "outputs": []
    },
    {
      "cell_type": "code",
      "source": [
        "# model: mlp_premeno dataloader: premeno_train_loader\n",
        "def evaluation(model, dataloader):\n",
        "\n",
        "  predictions = torch.tensor([], dtype=torch.float) # 예측값을 저장하는 텐서.\n",
        "  actual = torch.tensor([], dtype=torch.float) # 실제값을 저장하는 텐서.\n",
        "\n",
        "  with torch.no_grad():\n",
        "    model.eval() # 평가를 할 땐 반드시 eval()을 사용해야 한다.\n",
        "\n",
        "    for data in dataloader:\n",
        "      inputs, values = data\n",
        "      outputs = model(inputs)\n",
        "\n",
        "      predictions = torch.cat((predictions, outputs), 0) # cat함수를 통해 예측값을 누적.\n",
        "      actual = torch.cat((actual, values), 0) # cat함수를 통해 실제값을 누적.\n",
        "\n",
        "  predictions = predictions.numpy() # 넘파이 배열로 변경.\n",
        "  actual = actual.numpy() # 넘파이 배열로 변경.\n",
        "\n",
        "  SAMCGS(actual.ravel().astype(np.int64), predictions.ravel().astype(np.int64))\n",
        "\n",
        "  rmse = np.sqrt(mean_squared_error(predictions, actual)) # sklearn을 이용해 RMSE를 계산.\n",
        "\n",
        "  return rmse"
      ],
      "metadata": {
        "id": "WBFzd_wnhrst"
      },
      "execution_count": null,
      "outputs": []
    },
    {
      "cell_type": "code",
      "source": [
        "# train_rmse = evaluation(mlp_premeno, premeno_train_loader) # 원래는 이렇게 하면 안되지만, 비교를 위해서 train을 넣어서 본다.\n",
        "# test_rmse = evaluation(mlp_premeno, premeno_test_loader)\n",
        "test_rmse = evaluation(mlp_postmeno, postmeno_test_loader)\n",
        "\n",
        "# print(f'train rmse:{train_rmse}')\n",
        "print(f'test rmse:{test_rmse}')"
      ],
      "metadata": {
        "colab": {
          "base_uri": "https://localhost:8080/"
        },
        "id": "LkMOGqm12T5d",
        "outputId": "438f1d4b-1664-4f90-c941-25f3db8e45bb"
      },
      "execution_count": null,
      "outputs": [
        {
          "output_type": "stream",
          "name": "stdout",
          "text": [
            "\n",
            "  Confusion Matrix:\n",
            "[[417   0]\n",
            " [170   0]]\n",
            "\n",
            "  Accuracy: 0.710\n",
            "  Precison: 1.000\n",
            "  Recall  : 0.000\n",
            "  F1 Score: 0.000\n",
            "test rmse:0.4834246337413788\n"
          ]
        }
      ]
    },
    {
      "cell_type": "code",
      "source": [],
      "metadata": {
        "id": "l8xsQcTT2h1r"
      },
      "execution_count": null,
      "outputs": []
    }
  ]
}