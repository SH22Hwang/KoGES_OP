{
 "cells": [
  {
   "attachments": {
    "image.png": {
     "image/png": "[encoded data removed]"
    }
   },
   "cell_type": "markdown",
   "metadata": {
    "collapsed": false
   },
   "source": [
    "# 데이터 전처리\n",
    "\n",
    "@author 컴퓨터과학과 황승현\n",
    "KoGes 데이터 전처리\n",
    "\n",
    "2023-05-29 수정... 데이터 쳐내기\n",
    "\n",
    "전처리 절차\n",
    "\n",
    "1. 데이터셋 분리\n",
    "    - ~~남성~~ 사용 안 함\n",
    "    - 여성(폐경 전) < AS1_PMYN_C: 1\n",
    "    - 여성(폐경 후) < AS1_PMYN_C: 2\n",
    "2. 각각 사용할 독립변수, 종속변수 행 추출\n",
    "3. 질환유무, 약물력 변수 가공\n",
    "4. 가족력, 가족과의 관계 변수 가공\n",
    "    - 부, 모, 형제자매, 기타 -> 부모, 형제자매, 기타, 해당없음\n",
    "5. 종속변수 AS1_OP 가공\n",
    "    - AS1_DT\n",
    "    - AS1_MT\n",
    "6. 데이터셋을 DataFrame으로 불러오고 독립변수는 4가지로 분류 (binary, cath0, cath1, cnt, tumor_name)\n",
    "  - binary: 범주형(binary) 변수, 0 / 1 로 변경\n",
    "  -  catH0: 계층 없는 범주형(>03) 변수, 벡터화(one-hot-encoding)\n",
    "  -  catH1: 계층 있는 범주형 변수, 표준화\n",
    "  -    cnt: 연속형 변수, 정규화, 표준화\n",
    "  - tumor_name\n",
    "7. 결측값 제거 : 일단 0으로 대치\n",
    "8. 연속형 변수 스케일링\n",
    "  - 정규화(normalization): 0, 1\n",
    "  - 표준화(standardization): 평균: 0 표준편차: 1\n",
    "  - 계층화(quantile transform): 4분위 수"
   ]
  },
  {
   "cell_type": "markdown",
   "source": [
    "## 준비\n",
    "\n",
    "- 라이브러리 불러오기\n",
    "- 데이터셋, 사용할 변수 불러오기"
   ],
   "metadata": {
    "collapsed": false
   }
  },
  {
   "cell_type": "code",
   "execution_count": 2,
   "metadata": {
    "collapsed": false,
    "ExecuteTime": {
     "start_time": "2023-05-29T19:46:09.134966Z",
     "end_time": "2023-05-29T19:46:10.200993Z"
    }
   },
   "outputs": [],
   "source": [
    "# 라이브러리 불러오기\n",
    "import numpy as np\n",
    "import pandas as pd\n",
    "\n",
    "from sklearn.model_selection import train_test_split\n",
    "from sklearn.preprocessing import QuantileTransformer"
   ]
  },
  {
   "cell_type": "code",
   "execution_count": 3,
   "metadata": {
    "collapsed": true,
    "ExecuteTime": {
     "start_time": "2023-05-29T19:46:10.201992Z",
     "end_time": "2023-05-29T19:46:11.054587Z"
    }
   },
   "outputs": [
    {
     "name": "stderr",
     "output_type": "stream",
     "text": [
      "C:\\Users\\sh22h\\AppData\\Local\\Temp\\ipykernel_24060\\3045930773.py:6: DtypeWarning: Columns (7,9,156,299) have mixed types. Specify dtype option on import or set low_memory=False.\n",
      "  dataset = pd.read_csv(\"dataset/Dataset_OP_230428_raw.csv\", index_col=0, na_values=[77777, 99999, '#NULL!', ' '])\n"
     ]
    },
    {
     "data": {
      "text/plain": "               AS1_SEX  AS1_AGE  AS1_FAMNUM  AS1_HAND  AS1_SEAS  AS1_MARRYA   \nDIST_ID                                                                       \nNIH2307795046        1       53         4.0       1.0       3.0         2.0  \\\nNIH2307713334        2       44         2.0       1.0       2.0         2.0   \nNIH2307455306        2       43         6.0       1.0       2.0         2.0   \nNIH2307778268        1       61         4.0       1.0       4.0         2.0   \nNIH2307137554        2       64         4.0       1.0       1.0         2.0   \n...                ...      ...         ...       ...       ...         ...   \nNIH2307591031        2       60         3.0       1.0       3.0         2.0   \nNIH2307808901        2       62         4.0       1.0       1.0         2.0   \nNIH2307930134        2       65         2.0       1.0       3.0         3.0   \nNIH2307023172        2       69         5.0       1.0       1.0         3.0   \nNIH2307534318        2       59         3.0       1.0       1.0         2.0   \n\n              AS1_MARRYAETC  AS1_RELIG AS1_RELIGETC  AS1_RELIGPRT  ...   \nDIST_ID                                                            ...   \nNIH2307795046           NaN        3.0          NaN           1.0  ...  \\\nNIH2307713334           NaN        4.0          NaN           NaN  ...   \nNIH2307455306           NaN        3.0          NaN           1.0  ...   \nNIH2307778268           NaN        3.0          NaN           1.0  ...   \nNIH2307137554           NaN        3.0          NaN           1.0  ...   \n...                     ...        ...          ...           ...  ...   \nNIH2307591031           NaN        1.0          NaN           2.0  ...   \nNIH2307808901           NaN        2.0          NaN           2.0  ...   \nNIH2307930134           NaN        1.0          NaN           3.0  ...   \nNIH2307023172           NaN        1.0          NaN           3.0  ...   \nNIH2307534318           NaN        3.0          NaN           2.0  ...   \n\n                AS1_PUFA  AS1_N3PUFA  AS1_N6PUFA   AS1_PRAL   AS1_NEAP   \nDIST_ID                                                                  \nNIH2307795046   3.193209    0.244105    0.919774  -2.628106  22.154756  \\\nNIH2307713334   5.760385    0.372534    3.071067  18.912062  37.523511   \nNIH2307455306   4.104470    0.289509    2.988182  -4.043056  25.554372   \nNIH2307778268   6.447458    0.428001    3.900943  18.623976  41.971904   \nNIH2307137554  24.797659    2.695854   15.169099   0.648516  25.068314   \n...                  ...         ...         ...        ...        ...   \nNIH2307591031   5.642395    0.158707    2.560059   6.793156  35.047024   \nNIH2307808901   9.044120    0.820519    3.861349  17.183396  40.640374   \nNIH2307930134   7.730632    0.431979    4.279104  25.785485  43.224860   \nNIH2307023172   7.682746    0.688370    5.799527   3.054090  22.972763   \nNIH2307534318  10.571447    0.813181    6.004964  12.131897  29.451768   \n\n                AS1_DII  AS1_KHEI  AS1_DASH  AS1_aMED  AS1_HOMAIR  \nDIST_ID                                                            \nNIH2307795046  2.069437        24        22         4    2.718878  \nNIH2307713334  2.371169        45        27         4    0.306401  \nNIH2307455306  1.500256        37        24         5    1.272971  \nNIH2307778268  2.394346        47        23         2    0.379918  \nNIH2307137554  2.054646        56        29         5    1.618351  \n...                 ...       ...       ...       ...         ...  \nNIH2307591031  2.624506        43        25         5    1.975572  \nNIH2307808901  1.596741        77        25         4    1.416057  \nNIH2307930134  2.807543        46        25         3    4.158371  \nNIH2307023172  1.696486        50        32         4    3.134814  \nNIH2307534318  1.452176        38        29         5    1.789067  \n\n[9249 rows x 821 columns]",
      "text/html": "<div>\n<style scoped>\n    .dataframe tbody tr th:only-of-type {\n        vertical-align: middle;\n    }\n\n    .dataframe tbody tr th {\n        vertical-align: top;\n    }\n\n    .dataframe thead th {\n        text-align: right;\n    }\n</style>\n<table border=\"1\" class=\"dataframe\">\n  <thead>\n    <tr style=\"text-align: right;\">\n      <th></th>\n      <th>AS1_SEX</th>\n      <th>AS1_AGE</th>\n      <th>AS1_FAMNUM</th>\n      <th>AS1_HAND</th>\n      <th>AS1_SEAS</th>\n      <th>AS1_MARRYA</th>\n      <th>AS1_MARRYAETC</th>\n      <th>AS1_RELIG</th>\n      <th>AS1_RELIGETC</th>\n      <th>AS1_RELIGPRT</th>\n      <th>...</th>\n      <th>AS1_PUFA</th>\n      <th>AS1_N3PUFA</th>\n      <th>AS1_N6PUFA</th>\n      <th>AS1_PRAL</th>\n      <th>AS1_NEAP</th>\n      <th>AS1_DII</th>\n      <th>AS1_KHEI</th>\n      <th>AS1_DASH</th>\n      <th>AS1_aMED</th>\n      <th>AS1_HOMAIR</th>\n    </tr>\n    <tr>\n      <th>DIST_ID</th>\n      <th></th>\n      <th></th>\n      <th></th>\n      <th></th>\n      <th></th>\n      <th></th>\n      <th></th>\n      <th></th>\n      <th></th>\n      <th></th>\n      <th></th>\n      <th></th>\n      <th></th>\n      <th></th>\n      <th></th>\n      <th></th>\n      <th></th>\n      <th></th>\n      <th></th>\n      <th></th>\n      <th></th>\n    </tr>\n  </thead>\n  <tbody>\n    <tr>\n      <th>NIH2307795046</th>\n      <td>1</td>\n      <td>53</td>\n      <td>4.0</td>\n      <td>1.0</td>\n      <td>3.0</td>\n      <td>2.0</td>\n      <td>NaN</td>\n      <td>3.0</td>\n      <td>NaN</td>\n      <td>1.0</td>\n      <td>...</td>\n      <td>3.193209</td>\n      <td>0.244105</td>\n      <td>0.919774</td>\n      <td>-2.628106</td>\n      <td>22.154756</td>\n      <td>2.069437</td>\n      <td>24</td>\n      <td>22</td>\n      <td>4</td>\n      <td>2.718878</td>\n    </tr>\n    <tr>\n      <th>NIH2307713334</th>\n      <td>2</td>\n      <td>44</td>\n      <td>2.0</td>\n      <td>1.0</td>\n      <td>2.0</td>\n      <td>2.0</td>\n      <td>NaN</td>\n      <td>4.0</td>\n      <td>NaN</td>\n      <td>NaN</td>\n      <td>...</td>\n      <td>5.760385</td>\n      <td>0.372534</td>\n      <td>3.071067</td>\n      <td>18.912062</td>\n      <td>37.523511</td>\n      <td>2.371169</td>\n      <td>45</td>\n      <td>27</td>\n      <td>4</td>\n      <td>0.306401</td>\n    </tr>\n    <tr>\n      <th>NIH2307455306</th>\n      <td>2</td>\n      <td>43</td>\n      <td>6.0</td>\n      <td>1.0</td>\n      <td>2.0</td>\n      <td>2.0</td>\n      <td>NaN</td>\n      <td>3.0</td>\n      <td>NaN</td>\n      <td>1.0</td>\n      <td>...</td>\n      <td>4.104470</td>\n      <td>0.289509</td>\n      <td>2.988182</td>\n      <td>-4.043056</td>\n      <td>25.554372</td>\n      <td>1.500256</td>\n      <td>37</td>\n      <td>24</td>\n      <td>5</td>\n      <td>1.272971</td>\n    </tr>\n    <tr>\n      <th>NIH2307778268</th>\n      <td>1</td>\n      <td>61</td>\n      <td>4.0</td>\n      <td>1.0</td>\n      <td>4.0</td>\n      <td>2.0</td>\n      <td>NaN</td>\n      <td>3.0</td>\n      <td>NaN</td>\n      <td>1.0</td>\n      <td>...</td>\n      <td>6.447458</td>\n      <td>0.428001</td>\n      <td>3.900943</td>\n      <td>18.623976</td>\n      <td>41.971904</td>\n      <td>2.394346</td>\n      <td>47</td>\n      <td>23</td>\n      <td>2</td>\n      <td>0.379918</td>\n    </tr>\n    <tr>\n      <th>NIH2307137554</th>\n      <td>2</td>\n      <td>64</td>\n      <td>4.0</td>\n      <td>1.0</td>\n      <td>1.0</td>\n      <td>2.0</td>\n      <td>NaN</td>\n      <td>3.0</td>\n      <td>NaN</td>\n      <td>1.0</td>\n      <td>...</td>\n      <td>24.797659</td>\n      <td>2.695854</td>\n      <td>15.169099</td>\n      <td>0.648516</td>\n      <td>25.068314</td>\n      <td>2.054646</td>\n      <td>56</td>\n      <td>29</td>\n      <td>5</td>\n      <td>1.618351</td>\n    </tr>\n    <tr>\n      <th>...</th>\n      <td>...</td>\n      <td>...</td>\n      <td>...</td>\n      <td>...</td>\n      <td>...</td>\n      <td>...</td>\n      <td>...</td>\n      <td>...</td>\n      <td>...</td>\n      <td>...</td>\n      <td>...</td>\n      <td>...</td>\n      <td>...</td>\n      <td>...</td>\n      <td>...</td>\n      <td>...</td>\n      <td>...</td>\n      <td>...</td>\n      <td>...</td>\n      <td>...</td>\n      <td>...</td>\n    </tr>\n    <tr>\n      <th>NIH2307591031</th>\n      <td>2</td>\n      <td>60</td>\n      <td>3.0</td>\n      <td>1.0</td>\n      <td>3.0</td>\n      <td>2.0</td>\n      <td>NaN</td>\n      <td>1.0</td>\n      <td>NaN</td>\n      <td>2.0</td>\n      <td>...</td>\n      <td>5.642395</td>\n      <td>0.158707</td>\n      <td>2.560059</td>\n      <td>6.793156</td>\n      <td>35.047024</td>\n      <td>2.624506</td>\n      <td>43</td>\n      <td>25</td>\n      <td>5</td>\n      <td>1.975572</td>\n    </tr>\n    <tr>\n      <th>NIH2307808901</th>\n      <td>2</td>\n      <td>62</td>\n      <td>4.0</td>\n      <td>1.0</td>\n      <td>1.0</td>\n      <td>2.0</td>\n      <td>NaN</td>\n      <td>2.0</td>\n      <td>NaN</td>\n      <td>2.0</td>\n      <td>...</td>\n      <td>9.044120</td>\n      <td>0.820519</td>\n      <td>3.861349</td>\n      <td>17.183396</td>\n      <td>40.640374</td>\n      <td>1.596741</td>\n      <td>77</td>\n      <td>25</td>\n      <td>4</td>\n      <td>1.416057</td>\n    </tr>\n    <tr>\n      <th>NIH2307930134</th>\n      <td>2</td>\n      <td>65</td>\n      <td>2.0</td>\n      <td>1.0</td>\n      <td>3.0</td>\n      <td>3.0</td>\n      <td>NaN</td>\n      <td>1.0</td>\n      <td>NaN</td>\n      <td>3.0</td>\n      <td>...</td>\n      <td>7.730632</td>\n      <td>0.431979</td>\n      <td>4.279104</td>\n      <td>25.785485</td>\n      <td>43.224860</td>\n      <td>2.807543</td>\n      <td>46</td>\n      <td>25</td>\n      <td>3</td>\n      <td>4.158371</td>\n    </tr>\n    <tr>\n      <th>NIH2307023172</th>\n      <td>2</td>\n      <td>69</td>\n      <td>5.0</td>\n      <td>1.0</td>\n      <td>1.0</td>\n      <td>3.0</td>\n      <td>NaN</td>\n      <td>1.0</td>\n      <td>NaN</td>\n      <td>3.0</td>\n      <td>...</td>\n      <td>7.682746</td>\n      <td>0.688370</td>\n      <td>5.799527</td>\n      <td>3.054090</td>\n      <td>22.972763</td>\n      <td>1.696486</td>\n      <td>50</td>\n      <td>32</td>\n      <td>4</td>\n      <td>3.134814</td>\n    </tr>\n    <tr>\n      <th>NIH2307534318</th>\n      <td>2</td>\n      <td>59</td>\n      <td>3.0</td>\n      <td>1.0</td>\n      <td>1.0</td>\n      <td>2.0</td>\n      <td>NaN</td>\n      <td>3.0</td>\n      <td>NaN</td>\n      <td>2.0</td>\n      <td>...</td>\n      <td>10.571447</td>\n      <td>0.813181</td>\n      <td>6.004964</td>\n      <td>12.131897</td>\n      <td>29.451768</td>\n      <td>1.452176</td>\n      <td>38</td>\n      <td>29</td>\n      <td>5</td>\n      <td>1.789067</td>\n    </tr>\n  </tbody>\n</table>\n<p>9249 rows × 821 columns</p>\n</div>"
     },
     "execution_count": 3,
     "metadata": {},
     "output_type": "execute_result"
    }
   ],
   "source": [
    "# 데이터셋 불러오기\n",
    "# dataset = pd.read_csv(\"dataset/Dataset_OP_230316_raw.csv\", index_col=0, na_values=[77777, 99999, '#NULL!', ' ']) # 사용안함\n",
    "# dataset = pd.read_csv(\"dataset/Dataset_OP_230330_raw.csv\", index_col=0, na_values=[77777, 99999, '#NULL!', ' ']) # 사용안함\n",
    "# dataset = pd.read_csv(\"dataset/Dataset_OP_230417_raw.csv\", index_col=0, na_values=[77777, 99999, '#NULL!', ' ']) # 사용안함\n",
    "# dataset = pd.read_csv(\"dataset/Dataset_OP_230424_raw.csv\", index_col=0, na_values=[77777, 99999, '#NULL!', ' ']) # 사용안함\n",
    "dataset = pd.read_csv(\"dataset/Dataset_OP_230428_raw.csv\", index_col=0, na_values=[77777, 99999, '#NULL!', ' '])\n",
    "dataset"
   ]
  },
  {
   "cell_type": "code",
   "execution_count": 4,
   "outputs": [
    {
     "ename": "KeyError",
     "evalue": "'AS1_OP'",
     "output_type": "error",
     "traceback": [
      "\u001B[1;31m---------------------------------------------------------------------------\u001B[0m",
      "\u001B[1;31mKeyError\u001B[0m                                  Traceback (most recent call last)",
      "File \u001B[1;32mC:\\GIthub\\KoGES_OP\\venv\\lib\\site-packages\\pandas\\core\\indexes\\base.py:3652\u001B[0m, in \u001B[0;36mIndex.get_loc\u001B[1;34m(self, key)\u001B[0m\n\u001B[0;32m   3651\u001B[0m \u001B[38;5;28;01mtry\u001B[39;00m:\n\u001B[1;32m-> 3652\u001B[0m     \u001B[38;5;28;01mreturn\u001B[39;00m \u001B[38;5;28;43mself\u001B[39;49m\u001B[38;5;241;43m.\u001B[39;49m\u001B[43m_engine\u001B[49m\u001B[38;5;241;43m.\u001B[39;49m\u001B[43mget_loc\u001B[49m\u001B[43m(\u001B[49m\u001B[43mcasted_key\u001B[49m\u001B[43m)\u001B[49m\n\u001B[0;32m   3653\u001B[0m \u001B[38;5;28;01mexcept\u001B[39;00m \u001B[38;5;167;01mKeyError\u001B[39;00m \u001B[38;5;28;01mas\u001B[39;00m err:\n",
      "File \u001B[1;32mC:\\GIthub\\KoGES_OP\\venv\\lib\\site-packages\\pandas\\_libs\\index.pyx:147\u001B[0m, in \u001B[0;36mpandas._libs.index.IndexEngine.get_loc\u001B[1;34m()\u001B[0m\n",
      "File \u001B[1;32mC:\\GIthub\\KoGES_OP\\venv\\lib\\site-packages\\pandas\\_libs\\index.pyx:176\u001B[0m, in \u001B[0;36mpandas._libs.index.IndexEngine.get_loc\u001B[1;34m()\u001B[0m\n",
      "File \u001B[1;32mpandas\\_libs\\hashtable_class_helper.pxi:7080\u001B[0m, in \u001B[0;36mpandas._libs.hashtable.PyObjectHashTable.get_item\u001B[1;34m()\u001B[0m\n",
      "File \u001B[1;32mpandas\\_libs\\hashtable_class_helper.pxi:7088\u001B[0m, in \u001B[0;36mpandas._libs.hashtable.PyObjectHashTable.get_item\u001B[1;34m()\u001B[0m\n",
      "\u001B[1;31mKeyError\u001B[0m: 'AS1_OP'",
      "\nThe above exception was the direct cause of the following exception:\n",
      "\u001B[1;31mKeyError\u001B[0m                                  Traceback (most recent call last)",
      "Cell \u001B[1;32mIn[4], line 1\u001B[0m\n\u001B[1;32m----> 1\u001B[0m dataset[dataset[\u001B[38;5;124m'\u001B[39m\u001B[38;5;124mAS1_PHYSTB\u001B[39m\u001B[38;5;124m'\u001B[39m] \u001B[38;5;241m==\u001B[39m \u001B[38;5;241m2\u001B[39m \u001B[38;5;241m&\u001B[39m \u001B[43mdataset\u001B[49m\u001B[43m[\u001B[49m\u001B[38;5;124;43m'\u001B[39;49m\u001B[38;5;124;43mAS1_OP\u001B[39;49m\u001B[38;5;124;43m'\u001B[39;49m\u001B[43m]\u001B[49m \u001B[38;5;241m==\u001B[39m \u001B[38;5;241m1\u001B[39m]\u001B[38;5;241m.\u001B[39mvalue_counts()\n",
      "File \u001B[1;32mC:\\GIthub\\KoGES_OP\\venv\\lib\\site-packages\\pandas\\core\\frame.py:3761\u001B[0m, in \u001B[0;36mDataFrame.__getitem__\u001B[1;34m(self, key)\u001B[0m\n\u001B[0;32m   3759\u001B[0m \u001B[38;5;28;01mif\u001B[39;00m \u001B[38;5;28mself\u001B[39m\u001B[38;5;241m.\u001B[39mcolumns\u001B[38;5;241m.\u001B[39mnlevels \u001B[38;5;241m>\u001B[39m \u001B[38;5;241m1\u001B[39m:\n\u001B[0;32m   3760\u001B[0m     \u001B[38;5;28;01mreturn\u001B[39;00m \u001B[38;5;28mself\u001B[39m\u001B[38;5;241m.\u001B[39m_getitem_multilevel(key)\n\u001B[1;32m-> 3761\u001B[0m indexer \u001B[38;5;241m=\u001B[39m \u001B[38;5;28;43mself\u001B[39;49m\u001B[38;5;241;43m.\u001B[39;49m\u001B[43mcolumns\u001B[49m\u001B[38;5;241;43m.\u001B[39;49m\u001B[43mget_loc\u001B[49m\u001B[43m(\u001B[49m\u001B[43mkey\u001B[49m\u001B[43m)\u001B[49m\n\u001B[0;32m   3762\u001B[0m \u001B[38;5;28;01mif\u001B[39;00m is_integer(indexer):\n\u001B[0;32m   3763\u001B[0m     indexer \u001B[38;5;241m=\u001B[39m [indexer]\n",
      "File \u001B[1;32mC:\\GIthub\\KoGES_OP\\venv\\lib\\site-packages\\pandas\\core\\indexes\\base.py:3654\u001B[0m, in \u001B[0;36mIndex.get_loc\u001B[1;34m(self, key)\u001B[0m\n\u001B[0;32m   3652\u001B[0m     \u001B[38;5;28;01mreturn\u001B[39;00m \u001B[38;5;28mself\u001B[39m\u001B[38;5;241m.\u001B[39m_engine\u001B[38;5;241m.\u001B[39mget_loc(casted_key)\n\u001B[0;32m   3653\u001B[0m \u001B[38;5;28;01mexcept\u001B[39;00m \u001B[38;5;167;01mKeyError\u001B[39;00m \u001B[38;5;28;01mas\u001B[39;00m err:\n\u001B[1;32m-> 3654\u001B[0m     \u001B[38;5;28;01mraise\u001B[39;00m \u001B[38;5;167;01mKeyError\u001B[39;00m(key) \u001B[38;5;28;01mfrom\u001B[39;00m \u001B[38;5;21;01merr\u001B[39;00m\n\u001B[0;32m   3655\u001B[0m \u001B[38;5;28;01mexcept\u001B[39;00m \u001B[38;5;167;01mTypeError\u001B[39;00m:\n\u001B[0;32m   3656\u001B[0m     \u001B[38;5;66;03m# If we have a listlike key, _check_indexing_error will raise\u001B[39;00m\n\u001B[0;32m   3657\u001B[0m     \u001B[38;5;66;03m#  InvalidIndexError. Otherwise we fall through and re-raise\u001B[39;00m\n\u001B[0;32m   3658\u001B[0m     \u001B[38;5;66;03m#  the TypeError.\u001B[39;00m\n\u001B[0;32m   3659\u001B[0m     \u001B[38;5;28mself\u001B[39m\u001B[38;5;241m.\u001B[39m_check_indexing_error(key)\n",
      "\u001B[1;31mKeyError\u001B[0m: 'AS1_OP'"
     ]
    }
   ],
   "source": [],
   "metadata": {
    "collapsed": false
   }
  },
  {
   "cell_type": "code",
   "execution_count": 5,
   "metadata": {
    "ExecuteTime": {
     "start_time": "2023-05-29T19:46:39.301026Z",
     "end_time": "2023-05-29T19:46:39.353022Z"
    }
   },
   "outputs": [
    {
     "data": {
      "text/plain": "      binary          cath0        cath1             cnt dependent\n0     AS1_AL       AS1_BRCA    AS1_DRINK         AS1_AGE    AS1_DT\n1   AS1_ARRM       AS1_DRCP     AS1_EDUA  AS1_ALBUMIN_TR    AS1_MT\n2     AS1_AS       AS1_DRFH   AS1_INCOME      AS1_ALT_TR       NaN\n3     AS1_CD  AS1_FMCDREL_N  AS1_PHYACTH        AS1_aMED       NaN\n4     AS1_CH  AS1_FMCDREL_O  AS1_PHYACTL      AS1_AST_TR       NaN\n..       ...            ...          ...             ...       ...\n56       NaN            NaN          NaN        AS1_VITE       NaN\n57       NaN            NaN          NaN        AS1_VITK       NaN\n58       NaN            NaN          NaN       AS1_WAIST       NaN\n59       NaN            NaN          NaN      AS1_WEIGHT       NaN\n60       NaN            NaN          NaN          AS1_ZN       NaN\n\n[61 rows x 5 columns]",
      "text/html": "<div>\n<style scoped>\n    .dataframe tbody tr th:only-of-type {\n        vertical-align: middle;\n    }\n\n    .dataframe tbody tr th {\n        vertical-align: top;\n    }\n\n    .dataframe thead th {\n        text-align: right;\n    }\n</style>\n<table border=\"1\" class=\"dataframe\">\n  <thead>\n    <tr style=\"text-align: right;\">\n      <th></th>\n      <th>binary</th>\n      <th>cath0</th>\n      <th>cath1</th>\n      <th>cnt</th>\n      <th>dependent</th>\n    </tr>\n  </thead>\n  <tbody>\n    <tr>\n      <th>0</th>\n      <td>AS1_AL</td>\n      <td>AS1_BRCA</td>\n      <td>AS1_DRINK</td>\n      <td>AS1_AGE</td>\n      <td>AS1_DT</td>\n    </tr>\n    <tr>\n      <th>1</th>\n      <td>AS1_ARRM</td>\n      <td>AS1_DRCP</td>\n      <td>AS1_EDUA</td>\n      <td>AS1_ALBUMIN_TR</td>\n      <td>AS1_MT</td>\n    </tr>\n    <tr>\n      <th>2</th>\n      <td>AS1_AS</td>\n      <td>AS1_DRFH</td>\n      <td>AS1_INCOME</td>\n      <td>AS1_ALT_TR</td>\n      <td>NaN</td>\n    </tr>\n    <tr>\n      <th>3</th>\n      <td>AS1_CD</td>\n      <td>AS1_FMCDREL_N</td>\n      <td>AS1_PHYACTH</td>\n      <td>AS1_aMED</td>\n      <td>NaN</td>\n    </tr>\n    <tr>\n      <th>4</th>\n      <td>AS1_CH</td>\n      <td>AS1_FMCDREL_O</td>\n      <td>AS1_PHYACTL</td>\n      <td>AS1_AST_TR</td>\n      <td>NaN</td>\n    </tr>\n    <tr>\n      <th>...</th>\n      <td>...</td>\n      <td>...</td>\n      <td>...</td>\n      <td>...</td>\n      <td>...</td>\n    </tr>\n    <tr>\n      <th>56</th>\n      <td>NaN</td>\n      <td>NaN</td>\n      <td>NaN</td>\n      <td>AS1_VITE</td>\n      <td>NaN</td>\n    </tr>\n    <tr>\n      <th>57</th>\n      <td>NaN</td>\n      <td>NaN</td>\n      <td>NaN</td>\n      <td>AS1_VITK</td>\n      <td>NaN</td>\n    </tr>\n    <tr>\n      <th>58</th>\n      <td>NaN</td>\n      <td>NaN</td>\n      <td>NaN</td>\n      <td>AS1_WAIST</td>\n      <td>NaN</td>\n    </tr>\n    <tr>\n      <th>59</th>\n      <td>NaN</td>\n      <td>NaN</td>\n      <td>NaN</td>\n      <td>AS1_WEIGHT</td>\n      <td>NaN</td>\n    </tr>\n    <tr>\n      <th>60</th>\n      <td>NaN</td>\n      <td>NaN</td>\n      <td>NaN</td>\n      <td>AS1_ZN</td>\n      <td>NaN</td>\n    </tr>\n  </tbody>\n</table>\n<p>61 rows × 5 columns</p>\n</div>"
     },
     "execution_count": 5,
     "metadata": {},
     "output_type": "execute_result"
    }
   ],
   "source": [
    "# 특성별로 분류\n",
    "# var_to_use = pd.read_csv(\"dataset/var_to_use_2023-03-30T2240I.csv\")\n",
    "# var_to_use = pd.read_csv(\"dataset/var_to_use_2023-04-21T1258I.csv\")\n",
    "# var_to_use = pd.read_csv(\"dataset/var_to_use_2023-04-24T1830I.csv\")\n",
    "var_to_use = pd.read_csv(\"dataset/var_to_use_2023-04-28T1610I.csv\")\n",
    "var_to_use\n"
   ]
  },
  {
   "attachments": {},
   "cell_type": "markdown",
   "metadata": {},
   "source": [
    "## 데이터 가공\n",
    "\n",
    "- 기존 데이터로 새로운 데이터 만들기\n",
    "- if 문 쓰면 안됨!\n",
    "    - The truth value of a Series is ambiguous. Use a.empty, a.bool(), a.item(), a.any() or a.all().\n",
    "- np.where 사용할 것!"
   ]
  },
  {
   "cell_type": "markdown",
   "source": [
    "### 종속변수 결측값 drop"
   ],
   "metadata": {
    "collapsed": false
   }
  },
  {
   "cell_type": "code",
   "execution_count": 6,
   "outputs": [
    {
     "name": "stdout",
     "output_type": "stream",
     "text": [
      "<class 'pandas.core.frame.DataFrame'>\n",
      "Index: 4680 entries, NIH2307713334 to NIH2307534318\n",
      "Columns: 822 entries, AS1_SEX to OP\n",
      "dtypes: float64(780), int32(1), int64(36), object(5)\n",
      "memory usage: 29.4+ MB\n"
     ]
    },
    {
     "name": "stderr",
     "output_type": "stream",
     "text": [
      "C:\\Users\\sh22h\\AppData\\Local\\Temp\\ipykernel_24060\\1920078704.py:8: SettingWithCopyWarning: \n",
      "A value is trying to be set on a copy of a slice from a DataFrame.\n",
      "Try using .loc[row_indexer,col_indexer] = value instead\n",
      "\n",
      "See the caveats in the documentation: https://pandas.pydata.org/pandas-docs/stable/user_guide/indexing.html#returning-a-view-versus-a-copy\n",
      "  dataset['OP'] = np.where((dataset['AS1_DT'] <= -2.5) | (dataset['AS1_MT'] <= -2.5), 1, 0)\n"
     ]
    }
   ],
   "source": [
    "# 종속변수의 결측값이 있으면 drop\n",
    "dataset.dropna(subset=['AS1_DT', 'AS1_MT'], inplace=True)\n",
    "\n",
    "# 남성(1) drop, 여성(2)만 가져옴\n",
    "dataset = dataset[dataset['AS1_SEX'] == 2]\n",
    "\n",
    "# 새로운 종속변수 만들기 OP: 골다공증 여부\n",
    "dataset['OP'] = np.where((dataset['AS1_DT'] <= -2.5) | (dataset['AS1_MT'] <= -2.5), 1, 0)\n",
    "dataset.info()"
   ],
   "metadata": {
    "collapsed": false,
    "ExecuteTime": {
     "start_time": "2023-05-29T19:46:42.372377Z",
     "end_time": "2023-05-29T19:46:42.422412Z"
    }
   }
  },
  {
   "cell_type": "code",
   "execution_count": 21,
   "outputs": [
    {
     "data": {
      "text/plain": "AS1_PHYSTB\n0.0    1432\n1.0     821\n2.0     782\n3.0     470\n5.0     349\n4.0     347\n6.0     204\n8.0     148\n7.0      77\nName: count, dtype: int64"
     },
     "execution_count": 21,
     "metadata": {},
     "output_type": "execute_result"
    }
   ],
   "source": [
    "dataset['AS1_PHYSTB'].value_counts()"
   ],
   "metadata": {
    "collapsed": false,
    "ExecuteTime": {
     "start_time": "2023-05-29T19:51:23.064370Z",
     "end_time": "2023-05-29T19:51:23.114647Z"
    }
   }
  },
  {
   "cell_type": "code",
   "execution_count": 23,
   "outputs": [
    {
     "data": {
      "text/plain": "AS1_PHYSTB\n0.0    279\n1.0    179\n2.0    133\n3.0     80\n4.0     65\n5.0     57\n6.0     47\n8.0     23\n7.0     21\nName: count, dtype: int64"
     },
     "execution_count": 23,
     "metadata": {},
     "output_type": "execute_result"
    }
   ],
   "source": [
    "test = dataset[dataset['OP'] == 1]\n",
    "\n",
    "test['AS1_PHYSTB'].value_counts()"
   ],
   "metadata": {
    "collapsed": false,
    "ExecuteTime": {
     "start_time": "2023-05-29T19:55:43.787817Z",
     "end_time": "2023-05-29T19:55:43.811890Z"
    }
   }
  },
  {
   "cell_type": "code",
   "execution_count": 24,
   "outputs": [
    {
     "data": {
      "text/plain": "AS1_PHYSTB\n0.0    1153\n2.0     649\n1.0     642\n3.0     390\n5.0     292\n4.0     282\n6.0     157\n8.0     125\n7.0      56\nName: count, dtype: int64"
     },
     "execution_count": 24,
     "metadata": {},
     "output_type": "execute_result"
    }
   ],
   "source": [
    "test2 = dataset[dataset['OP'] == 0]\n",
    "\n",
    "test2['AS1_PHYSTB'].value_counts()"
   ],
   "metadata": {
    "collapsed": false,
    "ExecuteTime": {
     "start_time": "2023-05-29T19:56:53.666967Z",
     "end_time": "2023-05-29T19:56:53.674965Z"
    }
   }
  },
  {
   "cell_type": "markdown",
   "source": [
    "### 각종 질환 가공\n",
    "\n",
    "- 질환 유무\n",
    "    - 각종 종양 유무 (AS1_TOTCA1)\n",
    "- 약물력\n",
    "- 가족력"
   ],
   "metadata": {
    "collapsed": false
   }
  },
  {
   "cell_type": "code",
   "execution_count": 49,
   "metadata": {
    "ExecuteTime": {
     "start_time": "2023-05-29T16:30:25.985896Z",
     "end_time": "2023-05-29T16:30:26.152926Z"
    }
   },
   "outputs": [
    {
     "name": "stderr",
     "output_type": "stream",
     "text": [
      "C:\\Users\\sh22h\\AppData\\Local\\Temp\\ipykernel_40992\\2030893350.py:8: SettingWithCopyWarning: \n",
      "A value is trying to be set on a copy of a slice from a DataFrame.\n",
      "Try using .loc[row_indexer,col_indexer] = value instead\n",
      "\n",
      "See the caveats in the documentation: https://pandas.pydata.org/pandas-docs/stable/user_guide/indexing.html#returning-a-view-versus-a-copy\n",
      "  dataset['AS1_ARRM'] = np.where((dataset['AS1_JOAR'] == 2) | (dataset['AS1_JORM'] == 2) | (dataset['AS1_TRTAR'] == 2), 1, 0) # 관절혐은 조건 3가지 만족하면 1 아니면 0\n",
      "C:\\Users\\sh22h\\AppData\\Local\\Temp\\ipykernel_40992\\2030893350.py:11: SettingWithCopyWarning: \n",
      "A value is trying to be set on a copy of a slice from a DataFrame.\n",
      "Try using .loc[row_indexer,col_indexer] = value instead\n",
      "\n",
      "See the caveats in the documentation: https://pandas.pydata.org/pandas-docs/stable/user_guide/indexing.html#returning-a-view-versus-a-copy\n",
      "  dataset['AS1_'+x] = np.where((dataset['AS1_PD'+x] == 2) | (dataset['AS1_TRT'+x] == 2), 1, 0) # 질환여부 정의.\n",
      "C:\\Users\\sh22h\\AppData\\Local\\Temp\\ipykernel_40992\\2030893350.py:11: SettingWithCopyWarning: \n",
      "A value is trying to be set on a copy of a slice from a DataFrame.\n",
      "Try using .loc[row_indexer,col_indexer] = value instead\n",
      "\n",
      "See the caveats in the documentation: https://pandas.pydata.org/pandas-docs/stable/user_guide/indexing.html#returning-a-view-versus-a-copy\n",
      "  dataset['AS1_'+x] = np.where((dataset['AS1_PD'+x] == 2) | (dataset['AS1_TRT'+x] == 2), 1, 0) # 질환여부 정의.\n",
      "C:\\Users\\sh22h\\AppData\\Local\\Temp\\ipykernel_40992\\2030893350.py:11: SettingWithCopyWarning: \n",
      "A value is trying to be set on a copy of a slice from a DataFrame.\n",
      "Try using .loc[row_indexer,col_indexer] = value instead\n",
      "\n",
      "See the caveats in the documentation: https://pandas.pydata.org/pandas-docs/stable/user_guide/indexing.html#returning-a-view-versus-a-copy\n",
      "  dataset['AS1_'+x] = np.where((dataset['AS1_PD'+x] == 2) | (dataset['AS1_TRT'+x] == 2), 1, 0) # 질환여부 정의.\n",
      "C:\\Users\\sh22h\\AppData\\Local\\Temp\\ipykernel_40992\\2030893350.py:11: SettingWithCopyWarning: \n",
      "A value is trying to be set on a copy of a slice from a DataFrame.\n",
      "Try using .loc[row_indexer,col_indexer] = value instead\n",
      "\n",
      "See the caveats in the documentation: https://pandas.pydata.org/pandas-docs/stable/user_guide/indexing.html#returning-a-view-versus-a-copy\n",
      "  dataset['AS1_'+x] = np.where((dataset['AS1_PD'+x] == 2) | (dataset['AS1_TRT'+x] == 2), 1, 0) # 질환여부 정의.\n",
      "C:\\Users\\sh22h\\AppData\\Local\\Temp\\ipykernel_40992\\2030893350.py:11: SettingWithCopyWarning: \n",
      "A value is trying to be set on a copy of a slice from a DataFrame.\n",
      "Try using .loc[row_indexer,col_indexer] = value instead\n",
      "\n",
      "See the caveats in the documentation: https://pandas.pydata.org/pandas-docs/stable/user_guide/indexing.html#returning-a-view-versus-a-copy\n",
      "  dataset['AS1_'+x] = np.where((dataset['AS1_PD'+x] == 2) | (dataset['AS1_TRT'+x] == 2), 1, 0) # 질환여부 정의.\n",
      "C:\\Users\\sh22h\\AppData\\Local\\Temp\\ipykernel_40992\\2030893350.py:11: SettingWithCopyWarning: \n",
      "A value is trying to be set on a copy of a slice from a DataFrame.\n",
      "Try using .loc[row_indexer,col_indexer] = value instead\n",
      "\n",
      "See the caveats in the documentation: https://pandas.pydata.org/pandas-docs/stable/user_guide/indexing.html#returning-a-view-versus-a-copy\n",
      "  dataset['AS1_'+x] = np.where((dataset['AS1_PD'+x] == 2) | (dataset['AS1_TRT'+x] == 2), 1, 0) # 질환여부 정의.\n",
      "C:\\Users\\sh22h\\AppData\\Local\\Temp\\ipykernel_40992\\2030893350.py:11: SettingWithCopyWarning: \n",
      "A value is trying to be set on a copy of a slice from a DataFrame.\n",
      "Try using .loc[row_indexer,col_indexer] = value instead\n",
      "\n",
      "See the caveats in the documentation: https://pandas.pydata.org/pandas-docs/stable/user_guide/indexing.html#returning-a-view-versus-a-copy\n",
      "  dataset['AS1_'+x] = np.where((dataset['AS1_PD'+x] == 2) | (dataset['AS1_TRT'+x] == 2), 1, 0) # 질환여부 정의.\n",
      "C:\\Users\\sh22h\\AppData\\Local\\Temp\\ipykernel_40992\\2030893350.py:11: SettingWithCopyWarning: \n",
      "A value is trying to be set on a copy of a slice from a DataFrame.\n",
      "Try using .loc[row_indexer,col_indexer] = value instead\n",
      "\n",
      "See the caveats in the documentation: https://pandas.pydata.org/pandas-docs/stable/user_guide/indexing.html#returning-a-view-versus-a-copy\n",
      "  dataset['AS1_'+x] = np.where((dataset['AS1_PD'+x] == 2) | (dataset['AS1_TRT'+x] == 2), 1, 0) # 질환여부 정의.\n",
      "C:\\Users\\sh22h\\AppData\\Local\\Temp\\ipykernel_40992\\2030893350.py:11: SettingWithCopyWarning: \n",
      "A value is trying to be set on a copy of a slice from a DataFrame.\n",
      "Try using .loc[row_indexer,col_indexer] = value instead\n",
      "\n",
      "See the caveats in the documentation: https://pandas.pydata.org/pandas-docs/stable/user_guide/indexing.html#returning-a-view-versus-a-copy\n",
      "  dataset['AS1_'+x] = np.where((dataset['AS1_PD'+x] == 2) | (dataset['AS1_TRT'+x] == 2), 1, 0) # 질환여부 정의.\n",
      "C:\\Users\\sh22h\\AppData\\Local\\Temp\\ipykernel_40992\\2030893350.py:11: SettingWithCopyWarning: \n",
      "A value is trying to be set on a copy of a slice from a DataFrame.\n",
      "Try using .loc[row_indexer,col_indexer] = value instead\n",
      "\n",
      "See the caveats in the documentation: https://pandas.pydata.org/pandas-docs/stable/user_guide/indexing.html#returning-a-view-versus-a-copy\n",
      "  dataset['AS1_'+x] = np.where((dataset['AS1_PD'+x] == 2) | (dataset['AS1_TRT'+x] == 2), 1, 0) # 질환여부 정의.\n",
      "C:\\Users\\sh22h\\AppData\\Local\\Temp\\ipykernel_40992\\2030893350.py:11: SettingWithCopyWarning: \n",
      "A value is trying to be set on a copy of a slice from a DataFrame.\n",
      "Try using .loc[row_indexer,col_indexer] = value instead\n",
      "\n",
      "See the caveats in the documentation: https://pandas.pydata.org/pandas-docs/stable/user_guide/indexing.html#returning-a-view-versus-a-copy\n",
      "  dataset['AS1_'+x] = np.where((dataset['AS1_PD'+x] == 2) | (dataset['AS1_TRT'+x] == 2), 1, 0) # 질환여부 정의.\n"
     ]
    }
   ],
   "source": [
    "# 질환유무 가공\n",
    "disease_list = np.array(['HT', 'DM', 'UL', 'AL', 'MI', # 질환 목록\n",
    "                         'TH', 'CH', 'CD', 'LP', 'AS',\n",
    "                         'CL', 'PV', 'KD', 'CV', 'HN',\n",
    "                         'GT', 'TOTCA1'])\n",
    "\n",
    "dataset['AS1_ARRM'] = np.where((dataset['AS1_JOAR'] == 2) | (dataset['AS1_JORM'] == 2) | (dataset['AS1_TRTAR'] == 2), 1, 0) # 관절혐은 조건 3가지 만족하면 1 아니면 0\n",
    "\n",
    "for x in disease_list:\n",
    "    dataset['AS1_'+x] = np.where((dataset['AS1_PD'+x] == 2) | (dataset['AS1_TRT'+x] == 2), 1, 0) # 질환여부 정의. AS1_PDㅇㅇ 또는 AS1_TRTㅇㅇ 이 2이면 1 아니면 0\n"
   ]
  },
  {
   "cell_type": "code",
   "execution_count": 50,
   "metadata": {
    "ExecuteTime": {
     "start_time": "2023-05-29T16:30:26.016409Z",
     "end_time": "2023-05-29T16:30:26.152926Z"
    }
   },
   "outputs": [
    {
     "name": "stderr",
     "output_type": "stream",
     "text": [
      "C:\\Users\\sh22h\\AppData\\Local\\Temp\\ipykernel_40992\\1122588383.py:6: SettingWithCopyWarning: \n",
      "A value is trying to be set on a copy of a slice from a DataFrame.\n",
      "Try using .loc[row_indexer,col_indexer] = value instead\n",
      "\n",
      "See the caveats in the documentation: https://pandas.pydata.org/pandas-docs/stable/user_guide/indexing.html#returning-a-view-versus-a-copy\n",
      "  dataset['AS1_DR'+x] = np.where((dataset['AS1_DRUG'+x] == 2) | (dataset['AS1_DRUG'+x+'CU'] == 2), 1, 0)\n",
      "C:\\Users\\sh22h\\AppData\\Local\\Temp\\ipykernel_40992\\1122588383.py:6: SettingWithCopyWarning: \n",
      "A value is trying to be set on a copy of a slice from a DataFrame.\n",
      "Try using .loc[row_indexer,col_indexer] = value instead\n",
      "\n",
      "See the caveats in the documentation: https://pandas.pydata.org/pandas-docs/stable/user_guide/indexing.html#returning-a-view-versus-a-copy\n",
      "  dataset['AS1_DR'+x] = np.where((dataset['AS1_DRUG'+x] == 2) | (dataset['AS1_DRUG'+x+'CU'] == 2), 1, 0)\n",
      "C:\\Users\\sh22h\\AppData\\Local\\Temp\\ipykernel_40992\\1122588383.py:6: SettingWithCopyWarning: \n",
      "A value is trying to be set on a copy of a slice from a DataFrame.\n",
      "Try using .loc[row_indexer,col_indexer] = value instead\n",
      "\n",
      "See the caveats in the documentation: https://pandas.pydata.org/pandas-docs/stable/user_guide/indexing.html#returning-a-view-versus-a-copy\n",
      "  dataset['AS1_DR'+x] = np.where((dataset['AS1_DRUG'+x] == 2) | (dataset['AS1_DRUG'+x+'CU'] == 2), 1, 0)\n",
      "C:\\Users\\sh22h\\AppData\\Local\\Temp\\ipykernel_40992\\1122588383.py:6: SettingWithCopyWarning: \n",
      "A value is trying to be set on a copy of a slice from a DataFrame.\n",
      "Try using .loc[row_indexer,col_indexer] = value instead\n",
      "\n",
      "See the caveats in the documentation: https://pandas.pydata.org/pandas-docs/stable/user_guide/indexing.html#returning-a-view-versus-a-copy\n",
      "  dataset['AS1_DR'+x] = np.where((dataset['AS1_DRUG'+x] == 2) | (dataset['AS1_DRUG'+x+'CU'] == 2), 1, 0)\n",
      "C:\\Users\\sh22h\\AppData\\Local\\Temp\\ipykernel_40992\\1122588383.py:6: SettingWithCopyWarning: \n",
      "A value is trying to be set on a copy of a slice from a DataFrame.\n",
      "Try using .loc[row_indexer,col_indexer] = value instead\n",
      "\n",
      "See the caveats in the documentation: https://pandas.pydata.org/pandas-docs/stable/user_guide/indexing.html#returning-a-view-versus-a-copy\n",
      "  dataset['AS1_DR'+x] = np.where((dataset['AS1_DRUG'+x] == 2) | (dataset['AS1_DRUG'+x+'CU'] == 2), 1, 0)\n",
      "C:\\Users\\sh22h\\AppData\\Local\\Temp\\ipykernel_40992\\1122588383.py:6: SettingWithCopyWarning: \n",
      "A value is trying to be set on a copy of a slice from a DataFrame.\n",
      "Try using .loc[row_indexer,col_indexer] = value instead\n",
      "\n",
      "See the caveats in the documentation: https://pandas.pydata.org/pandas-docs/stable/user_guide/indexing.html#returning-a-view-versus-a-copy\n",
      "  dataset['AS1_DR'+x] = np.where((dataset['AS1_DRUG'+x] == 2) | (dataset['AS1_DRUG'+x+'CU'] == 2), 1, 0)\n",
      "C:\\Users\\sh22h\\AppData\\Local\\Temp\\ipykernel_40992\\1122588383.py:6: SettingWithCopyWarning: \n",
      "A value is trying to be set on a copy of a slice from a DataFrame.\n",
      "Try using .loc[row_indexer,col_indexer] = value instead\n",
      "\n",
      "See the caveats in the documentation: https://pandas.pydata.org/pandas-docs/stable/user_guide/indexing.html#returning-a-view-versus-a-copy\n",
      "  dataset['AS1_DR'+x] = np.where((dataset['AS1_DRUG'+x] == 2) | (dataset['AS1_DRUG'+x+'CU'] == 2), 1, 0)\n",
      "C:\\Users\\sh22h\\AppData\\Local\\Temp\\ipykernel_40992\\1122588383.py:6: SettingWithCopyWarning: \n",
      "A value is trying to be set on a copy of a slice from a DataFrame.\n",
      "Try using .loc[row_indexer,col_indexer] = value instead\n",
      "\n",
      "See the caveats in the documentation: https://pandas.pydata.org/pandas-docs/stable/user_guide/indexing.html#returning-a-view-versus-a-copy\n",
      "  dataset['AS1_DR'+x] = np.where((dataset['AS1_DRUG'+x] == 2) | (dataset['AS1_DRUG'+x+'CU'] == 2), 1, 0)\n",
      "C:\\Users\\sh22h\\AppData\\Local\\Temp\\ipykernel_40992\\1122588383.py:6: SettingWithCopyWarning: \n",
      "A value is trying to be set on a copy of a slice from a DataFrame.\n",
      "Try using .loc[row_indexer,col_indexer] = value instead\n",
      "\n",
      "See the caveats in the documentation: https://pandas.pydata.org/pandas-docs/stable/user_guide/indexing.html#returning-a-view-versus-a-copy\n",
      "  dataset['AS1_DR'+x] = np.where((dataset['AS1_DRUG'+x] == 2) | (dataset['AS1_DRUG'+x+'CU'] == 2), 1, 0)\n",
      "C:\\Users\\sh22h\\AppData\\Local\\Temp\\ipykernel_40992\\1122588383.py:6: SettingWithCopyWarning: \n",
      "A value is trying to be set on a copy of a slice from a DataFrame.\n",
      "Try using .loc[row_indexer,col_indexer] = value instead\n",
      "\n",
      "See the caveats in the documentation: https://pandas.pydata.org/pandas-docs/stable/user_guide/indexing.html#returning-a-view-versus-a-copy\n",
      "  dataset['AS1_DR'+x] = np.where((dataset['AS1_DRUG'+x] == 2) | (dataset['AS1_DRUG'+x+'CU'] == 2), 1, 0)\n"
     ]
    }
   ],
   "source": [
    "# 약물력 가공\n",
    "drug_list = np.array(['ST', 'CP', 'INS', 'HT', 'AR', \n",
    "                      'UL', 'TH', 'FH', 'OS', 'DM',\n",
    "                      'STK', 'AS', 'LP'])  # CP, HP 제외\n",
    "for x in drug_list:\n",
    "    dataset['AS1_DR'+x] = np.where((dataset['AS1_DRUG'+x] == 2) | (dataset['AS1_DRUG'+x+'CU'] == 2), 1, 0)\n"
   ]
  },
  {
   "cell_type": "code",
   "execution_count": 51,
   "metadata": {
    "ExecuteTime": {
     "start_time": "2023-05-29T16:30:26.032409Z",
     "end_time": "2023-05-29T16:30:26.153926Z"
    }
   },
   "outputs": [
    {
     "name": "stderr",
     "output_type": "stream",
     "text": [
      "C:\\Users\\sh22h\\AppData\\Local\\Temp\\ipykernel_40992\\3877498656.py:15: SettingWithCopyWarning: \n",
      "A value is trying to be set on a copy of a slice from a DataFrame.\n",
      "Try using .loc[row_indexer,col_indexer] = value instead\n",
      "\n",
      "See the caveats in the documentation: https://pandas.pydata.org/pandas-docs/stable/user_guide/indexing.html#returning-a-view-versus-a-copy\n",
      "  dataset[f'AS1_FM{disease}REL_N'] = np.all(dataset[[f'AS1_FM{disease}REL{i}A' for i in range(1, num_family+1)]] == 99999, axis=1).astype(int)\n",
      "C:\\Users\\sh22h\\AppData\\Local\\Temp\\ipykernel_40992\\3877498656.py:16: SettingWithCopyWarning: \n",
      "A value is trying to be set on a copy of a slice from a DataFrame.\n",
      "Try using .loc[row_indexer,col_indexer] = value instead\n",
      "\n",
      "See the caveats in the documentation: https://pandas.pydata.org/pandas-docs/stable/user_guide/indexing.html#returning-a-view-versus-a-copy\n",
      "  dataset[f'AS1_FM{disease}REL_P'] = np.any(dataset[[f'AS1_FM{disease}REL{i}A' for i in range(1, num_family+1)]] <= 2, axis=1).astype(int)\n",
      "C:\\Users\\sh22h\\AppData\\Local\\Temp\\ipykernel_40992\\3877498656.py:17: SettingWithCopyWarning: \n",
      "A value is trying to be set on a copy of a slice from a DataFrame.\n",
      "Try using .loc[row_indexer,col_indexer] = value instead\n",
      "\n",
      "See the caveats in the documentation: https://pandas.pydata.org/pandas-docs/stable/user_guide/indexing.html#returning-a-view-versus-a-copy\n",
      "  dataset[f'AS1_FM{disease}REL_S'] = np.any(dataset[[f'AS1_FM{disease}REL{i}A' for i in range(1, num_family+1)]] == 3, axis=1).astype(int)\n",
      "C:\\Users\\sh22h\\AppData\\Local\\Temp\\ipykernel_40992\\3877498656.py:18: SettingWithCopyWarning: \n",
      "A value is trying to be set on a copy of a slice from a DataFrame.\n",
      "Try using .loc[row_indexer,col_indexer] = value instead\n",
      "\n",
      "See the caveats in the documentation: https://pandas.pydata.org/pandas-docs/stable/user_guide/indexing.html#returning-a-view-versus-a-copy\n",
      "  dataset[f'AS1_FM{disease}REL_O'] = np.any(dataset[[f'AS1_FM{disease}REL{i}A' for i in range(1, num_family+1)]] == 4, axis=1).astype(int)\n",
      "C:\\Users\\sh22h\\AppData\\Local\\Temp\\ipykernel_40992\\3877498656.py:15: SettingWithCopyWarning: \n",
      "A value is trying to be set on a copy of a slice from a DataFrame.\n",
      "Try using .loc[row_indexer,col_indexer] = value instead\n",
      "\n",
      "See the caveats in the documentation: https://pandas.pydata.org/pandas-docs/stable/user_guide/indexing.html#returning-a-view-versus-a-copy\n",
      "  dataset[f'AS1_FM{disease}REL_N'] = np.all(dataset[[f'AS1_FM{disease}REL{i}A' for i in range(1, num_family+1)]] == 99999, axis=1).astype(int)\n",
      "C:\\Users\\sh22h\\AppData\\Local\\Temp\\ipykernel_40992\\3877498656.py:16: SettingWithCopyWarning: \n",
      "A value is trying to be set on a copy of a slice from a DataFrame.\n",
      "Try using .loc[row_indexer,col_indexer] = value instead\n",
      "\n",
      "See the caveats in the documentation: https://pandas.pydata.org/pandas-docs/stable/user_guide/indexing.html#returning-a-view-versus-a-copy\n",
      "  dataset[f'AS1_FM{disease}REL_P'] = np.any(dataset[[f'AS1_FM{disease}REL{i}A' for i in range(1, num_family+1)]] <= 2, axis=1).astype(int)\n",
      "C:\\Users\\sh22h\\AppData\\Local\\Temp\\ipykernel_40992\\3877498656.py:17: SettingWithCopyWarning: \n",
      "A value is trying to be set on a copy of a slice from a DataFrame.\n",
      "Try using .loc[row_indexer,col_indexer] = value instead\n",
      "\n",
      "See the caveats in the documentation: https://pandas.pydata.org/pandas-docs/stable/user_guide/indexing.html#returning-a-view-versus-a-copy\n",
      "  dataset[f'AS1_FM{disease}REL_S'] = np.any(dataset[[f'AS1_FM{disease}REL{i}A' for i in range(1, num_family+1)]] == 3, axis=1).astype(int)\n",
      "C:\\Users\\sh22h\\AppData\\Local\\Temp\\ipykernel_40992\\3877498656.py:18: SettingWithCopyWarning: \n",
      "A value is trying to be set on a copy of a slice from a DataFrame.\n",
      "Try using .loc[row_indexer,col_indexer] = value instead\n",
      "\n",
      "See the caveats in the documentation: https://pandas.pydata.org/pandas-docs/stable/user_guide/indexing.html#returning-a-view-versus-a-copy\n",
      "  dataset[f'AS1_FM{disease}REL_O'] = np.any(dataset[[f'AS1_FM{disease}REL{i}A' for i in range(1, num_family+1)]] == 4, axis=1).astype(int)\n",
      "C:\\Users\\sh22h\\AppData\\Local\\Temp\\ipykernel_40992\\3877498656.py:15: SettingWithCopyWarning: \n",
      "A value is trying to be set on a copy of a slice from a DataFrame.\n",
      "Try using .loc[row_indexer,col_indexer] = value instead\n",
      "\n",
      "See the caveats in the documentation: https://pandas.pydata.org/pandas-docs/stable/user_guide/indexing.html#returning-a-view-versus-a-copy\n",
      "  dataset[f'AS1_FM{disease}REL_N'] = np.all(dataset[[f'AS1_FM{disease}REL{i}A' for i in range(1, num_family+1)]] == 99999, axis=1).astype(int)\n",
      "C:\\Users\\sh22h\\AppData\\Local\\Temp\\ipykernel_40992\\3877498656.py:16: SettingWithCopyWarning: \n",
      "A value is trying to be set on a copy of a slice from a DataFrame.\n",
      "Try using .loc[row_indexer,col_indexer] = value instead\n",
      "\n",
      "See the caveats in the documentation: https://pandas.pydata.org/pandas-docs/stable/user_guide/indexing.html#returning-a-view-versus-a-copy\n",
      "  dataset[f'AS1_FM{disease}REL_P'] = np.any(dataset[[f'AS1_FM{disease}REL{i}A' for i in range(1, num_family+1)]] <= 2, axis=1).astype(int)\n",
      "C:\\Users\\sh22h\\AppData\\Local\\Temp\\ipykernel_40992\\3877498656.py:17: SettingWithCopyWarning: \n",
      "A value is trying to be set on a copy of a slice from a DataFrame.\n",
      "Try using .loc[row_indexer,col_indexer] = value instead\n",
      "\n",
      "See the caveats in the documentation: https://pandas.pydata.org/pandas-docs/stable/user_guide/indexing.html#returning-a-view-versus-a-copy\n",
      "  dataset[f'AS1_FM{disease}REL_S'] = np.any(dataset[[f'AS1_FM{disease}REL{i}A' for i in range(1, num_family+1)]] == 3, axis=1).astype(int)\n",
      "C:\\Users\\sh22h\\AppData\\Local\\Temp\\ipykernel_40992\\3877498656.py:18: SettingWithCopyWarning: \n",
      "A value is trying to be set on a copy of a slice from a DataFrame.\n",
      "Try using .loc[row_indexer,col_indexer] = value instead\n",
      "\n",
      "See the caveats in the documentation: https://pandas.pydata.org/pandas-docs/stable/user_guide/indexing.html#returning-a-view-versus-a-copy\n",
      "  dataset[f'AS1_FM{disease}REL_O'] = np.any(dataset[[f'AS1_FM{disease}REL{i}A' for i in range(1, num_family+1)]] == 4, axis=1).astype(int)\n",
      "C:\\Users\\sh22h\\AppData\\Local\\Temp\\ipykernel_40992\\3877498656.py:15: SettingWithCopyWarning: \n",
      "A value is trying to be set on a copy of a slice from a DataFrame.\n",
      "Try using .loc[row_indexer,col_indexer] = value instead\n",
      "\n",
      "See the caveats in the documentation: https://pandas.pydata.org/pandas-docs/stable/user_guide/indexing.html#returning-a-view-versus-a-copy\n",
      "  dataset[f'AS1_FM{disease}REL_N'] = np.all(dataset[[f'AS1_FM{disease}REL{i}A' for i in range(1, num_family+1)]] == 99999, axis=1).astype(int)\n",
      "C:\\Users\\sh22h\\AppData\\Local\\Temp\\ipykernel_40992\\3877498656.py:16: SettingWithCopyWarning: \n",
      "A value is trying to be set on a copy of a slice from a DataFrame.\n",
      "Try using .loc[row_indexer,col_indexer] = value instead\n",
      "\n",
      "See the caveats in the documentation: https://pandas.pydata.org/pandas-docs/stable/user_guide/indexing.html#returning-a-view-versus-a-copy\n",
      "  dataset[f'AS1_FM{disease}REL_P'] = np.any(dataset[[f'AS1_FM{disease}REL{i}A' for i in range(1, num_family+1)]] <= 2, axis=1).astype(int)\n",
      "C:\\Users\\sh22h\\AppData\\Local\\Temp\\ipykernel_40992\\3877498656.py:17: SettingWithCopyWarning: \n",
      "A value is trying to be set on a copy of a slice from a DataFrame.\n",
      "Try using .loc[row_indexer,col_indexer] = value instead\n",
      "\n",
      "See the caveats in the documentation: https://pandas.pydata.org/pandas-docs/stable/user_guide/indexing.html#returning-a-view-versus-a-copy\n",
      "  dataset[f'AS1_FM{disease}REL_S'] = np.any(dataset[[f'AS1_FM{disease}REL{i}A' for i in range(1, num_family+1)]] == 3, axis=1).astype(int)\n",
      "C:\\Users\\sh22h\\AppData\\Local\\Temp\\ipykernel_40992\\3877498656.py:18: SettingWithCopyWarning: \n",
      "A value is trying to be set on a copy of a slice from a DataFrame.\n",
      "Try using .loc[row_indexer,col_indexer] = value instead\n",
      "\n",
      "See the caveats in the documentation: https://pandas.pydata.org/pandas-docs/stable/user_guide/indexing.html#returning-a-view-versus-a-copy\n",
      "  dataset[f'AS1_FM{disease}REL_O'] = np.any(dataset[[f'AS1_FM{disease}REL{i}A' for i in range(1, num_family+1)]] == 4, axis=1).astype(int)\n",
      "C:\\Users\\sh22h\\AppData\\Local\\Temp\\ipykernel_40992\\3877498656.py:15: SettingWithCopyWarning: \n",
      "A value is trying to be set on a copy of a slice from a DataFrame.\n",
      "Try using .loc[row_indexer,col_indexer] = value instead\n",
      "\n",
      "See the caveats in the documentation: https://pandas.pydata.org/pandas-docs/stable/user_guide/indexing.html#returning-a-view-versus-a-copy\n",
      "  dataset[f'AS1_FM{disease}REL_N'] = np.all(dataset[[f'AS1_FM{disease}REL{i}A' for i in range(1, num_family+1)]] == 99999, axis=1).astype(int)\n",
      "C:\\Users\\sh22h\\AppData\\Local\\Temp\\ipykernel_40992\\3877498656.py:16: SettingWithCopyWarning: \n",
      "A value is trying to be set on a copy of a slice from a DataFrame.\n",
      "Try using .loc[row_indexer,col_indexer] = value instead\n",
      "\n",
      "See the caveats in the documentation: https://pandas.pydata.org/pandas-docs/stable/user_guide/indexing.html#returning-a-view-versus-a-copy\n",
      "  dataset[f'AS1_FM{disease}REL_P'] = np.any(dataset[[f'AS1_FM{disease}REL{i}A' for i in range(1, num_family+1)]] <= 2, axis=1).astype(int)\n",
      "C:\\Users\\sh22h\\AppData\\Local\\Temp\\ipykernel_40992\\3877498656.py:17: SettingWithCopyWarning: \n",
      "A value is trying to be set on a copy of a slice from a DataFrame.\n",
      "Try using .loc[row_indexer,col_indexer] = value instead\n",
      "\n",
      "See the caveats in the documentation: https://pandas.pydata.org/pandas-docs/stable/user_guide/indexing.html#returning-a-view-versus-a-copy\n",
      "  dataset[f'AS1_FM{disease}REL_S'] = np.any(dataset[[f'AS1_FM{disease}REL{i}A' for i in range(1, num_family+1)]] == 3, axis=1).astype(int)\n",
      "C:\\Users\\sh22h\\AppData\\Local\\Temp\\ipykernel_40992\\3877498656.py:18: SettingWithCopyWarning: \n",
      "A value is trying to be set on a copy of a slice from a DataFrame.\n",
      "Try using .loc[row_indexer,col_indexer] = value instead\n",
      "\n",
      "See the caveats in the documentation: https://pandas.pydata.org/pandas-docs/stable/user_guide/indexing.html#returning-a-view-versus-a-copy\n",
      "  dataset[f'AS1_FM{disease}REL_O'] = np.any(dataset[[f'AS1_FM{disease}REL{i}A' for i in range(1, num_family+1)]] == 4, axis=1).astype(int)\n"
     ]
    }
   ],
   "source": [
    "# 와 ChatGPT가 아니었다면 np.all과 np.any를 몰랐을거야!\n",
    "# 가족력 가공\n",
    "# N: 가족력 없음, P: parent 부모, S: sibling 형제자매, O: other 기타\n",
    "# N: REL1A~4A까지 99999\n",
    "# P: REL1A~4A중 1, 2 있을 때\n",
    "# S: REL1A~4A중 3 있을 때\n",
    "# O: REL1A~4A중 4 있을 때\n",
    "\n",
    "disease_dict = {\n",
    "    'HT': 4, 'DM': 4, 'CVA': 3, 'HE': 2, 'OS': 2,\n",
    "    'CVB': 2, 'CD': 2, 'PV': 2, 'LP': 2, 'GT': 2,'CH': 1\n",
    "}\n",
    "\n",
    "for disease, num_family in disease_dict.items():\n",
    "    dataset[f'AS1_FM{disease}REL_N'] = np.all(dataset[[f'AS1_FM{disease}REL{i}A' for i in range(1, num_family+1)]] == 99999, axis=1).astype(int)\n",
    "    dataset[f'AS1_FM{disease}REL_P'] = np.any(dataset[[f'AS1_FM{disease}REL{i}A' for i in range(1, num_family+1)]] <= 2, axis=1).astype(int)\n",
    "    dataset[f'AS1_FM{disease}REL_S'] = np.any(dataset[[f'AS1_FM{disease}REL{i}A' for i in range(1, num_family+1)]] == 3, axis=1).astype(int)\n",
    "    dataset[f'AS1_FM{disease}REL_O'] = np.any(dataset[[f'AS1_FM{disease}REL{i}A' for i in range(1, num_family+1)]] == 4, axis=1).astype(int)"
   ]
  },
  {
   "cell_type": "code",
   "execution_count": 52,
   "metadata": {
    "ExecuteTime": {
     "start_time": "2023-05-29T16:30:26.062410Z",
     "end_time": "2023-05-29T16:30:26.153926Z"
    }
   },
   "outputs": [
    {
     "data": {
      "text/plain": "               AS1_FMHTREL_N  AS1_FMHTREL_P  AS1_FMHTREL_S  AS1_FMHTREL_O   \nDIST_ID                                                                     \nNIH2307713334              0              0              0              0  \\\nNIH2307455306              0              0              0              0   \nNIH2307137554              0              0              0              0   \nNIH2307649667              0              0              0              0   \nNIH2307899915              0              0              0              0   \n...                      ...            ...            ...            ...   \nNIH2307591031              0              0              0              0   \nNIH2307808901              0              0              0              0   \nNIH2307930134              0              0              0              0   \nNIH2307023172              0              0              0              0   \nNIH2307534318              0              0              0              0   \n\n               AS1_FMDMREL_N  AS1_FMDMREL_P  AS1_FMDMREL_S  AS1_FMDMREL_O   \nDIST_ID                                                                     \nNIH2307713334              0              0              0              0  \\\nNIH2307455306              0              0              0              0   \nNIH2307137554              0              0              0              0   \nNIH2307649667              0              0              0              0   \nNIH2307899915              0              0              0              0   \n...                      ...            ...            ...            ...   \nNIH2307591031              0              0              0              0   \nNIH2307808901              0              0              1              0   \nNIH2307930134              0              0              0              0   \nNIH2307023172              0              0              0              0   \nNIH2307534318              0              0              0              0   \n\n               AS1_FMOSREL_N  AS1_FMOSREL_P  AS1_FMOSREL_S  AS1_FMOSREL_O   \nDIST_ID                                                                     \nNIH2307713334              0              0              0              0  \\\nNIH2307455306              0              0              0              0   \nNIH2307137554              0              0              0              0   \nNIH2307649667              0              0              0              0   \nNIH2307899915              0              1              0              0   \n...                      ...            ...            ...            ...   \nNIH2307591031              0              0              0              0   \nNIH2307808901              0              0              0              0   \nNIH2307930134              0              0              0              0   \nNIH2307023172              0              0              0              0   \nNIH2307534318              0              0              0              0   \n\n               AS1_FMLPREL_N  AS1_FMLPREL_P  AS1_FMLPREL_S  AS1_FMLPREL_O   \nDIST_ID                                                                     \nNIH2307713334              0              0              0              0  \\\nNIH2307455306              0              0              0              0   \nNIH2307137554              0              0              0              0   \nNIH2307649667              0              0              0              0   \nNIH2307899915              0              0              0              0   \n...                      ...            ...            ...            ...   \nNIH2307591031              0              0              0              0   \nNIH2307808901              0              0              0              0   \nNIH2307930134              0              0              0              0   \nNIH2307023172              0              0              0              0   \nNIH2307534318              0              0              0              0   \n\n               AS1_FMGTREL_N  AS1_FMGTREL_P  AS1_FMGTREL_S  AS1_FMGTREL_O  \nDIST_ID                                                                    \nNIH2307713334              0              0              0              0  \nNIH2307455306              0              0              0              0  \nNIH2307137554              0              0              0              0  \nNIH2307649667              0              0              0              0  \nNIH2307899915              0              0              0              0  \n...                      ...            ...            ...            ...  \nNIH2307591031              0              0              0              0  \nNIH2307808901              0              0              0              0  \nNIH2307930134              0              0              0              0  \nNIH2307023172              0              0              0              0  \nNIH2307534318              0              0              0              0  \n\n[4680 rows x 20 columns]",
      "text/html": "<div>\n<style scoped>\n    .dataframe tbody tr th:only-of-type {\n        vertical-align: middle;\n    }\n\n    .dataframe tbody tr th {\n        vertical-align: top;\n    }\n\n    .dataframe thead th {\n        text-align: right;\n    }\n</style>\n<table border=\"1\" class=\"dataframe\">\n  <thead>\n    <tr style=\"text-align: right;\">\n      <th></th>\n      <th>AS1_FMHTREL_N</th>\n      <th>AS1_FMHTREL_P</th>\n      <th>AS1_FMHTREL_S</th>\n      <th>AS1_FMHTREL_O</th>\n      <th>AS1_FMDMREL_N</th>\n      <th>AS1_FMDMREL_P</th>\n      <th>AS1_FMDMREL_S</th>\n      <th>AS1_FMDMREL_O</th>\n      <th>AS1_FMOSREL_N</th>\n      <th>AS1_FMOSREL_P</th>\n      <th>AS1_FMOSREL_S</th>\n      <th>AS1_FMOSREL_O</th>\n      <th>AS1_FMLPREL_N</th>\n      <th>AS1_FMLPREL_P</th>\n      <th>AS1_FMLPREL_S</th>\n      <th>AS1_FMLPREL_O</th>\n      <th>AS1_FMGTREL_N</th>\n      <th>AS1_FMGTREL_P</th>\n      <th>AS1_FMGTREL_S</th>\n      <th>AS1_FMGTREL_O</th>\n    </tr>\n    <tr>\n      <th>DIST_ID</th>\n      <th></th>\n      <th></th>\n      <th></th>\n      <th></th>\n      <th></th>\n      <th></th>\n      <th></th>\n      <th></th>\n      <th></th>\n      <th></th>\n      <th></th>\n      <th></th>\n      <th></th>\n      <th></th>\n      <th></th>\n      <th></th>\n      <th></th>\n      <th></th>\n      <th></th>\n      <th></th>\n    </tr>\n  </thead>\n  <tbody>\n    <tr>\n      <th>NIH2307713334</th>\n      <td>0</td>\n      <td>0</td>\n      <td>0</td>\n      <td>0</td>\n      <td>0</td>\n      <td>0</td>\n      <td>0</td>\n      <td>0</td>\n      <td>0</td>\n      <td>0</td>\n      <td>0</td>\n      <td>0</td>\n      <td>0</td>\n      <td>0</td>\n      <td>0</td>\n      <td>0</td>\n      <td>0</td>\n      <td>0</td>\n      <td>0</td>\n      <td>0</td>\n    </tr>\n    <tr>\n      <th>NIH2307455306</th>\n      <td>0</td>\n      <td>0</td>\n      <td>0</td>\n      <td>0</td>\n      <td>0</td>\n      <td>0</td>\n      <td>0</td>\n      <td>0</td>\n      <td>0</td>\n      <td>0</td>\n      <td>0</td>\n      <td>0</td>\n      <td>0</td>\n      <td>0</td>\n      <td>0</td>\n      <td>0</td>\n      <td>0</td>\n      <td>0</td>\n      <td>0</td>\n      <td>0</td>\n    </tr>\n    <tr>\n      <th>NIH2307137554</th>\n      <td>0</td>\n      <td>0</td>\n      <td>0</td>\n      <td>0</td>\n      <td>0</td>\n      <td>0</td>\n      <td>0</td>\n      <td>0</td>\n      <td>0</td>\n      <td>0</td>\n      <td>0</td>\n      <td>0</td>\n      <td>0</td>\n      <td>0</td>\n      <td>0</td>\n      <td>0</td>\n      <td>0</td>\n      <td>0</td>\n      <td>0</td>\n      <td>0</td>\n    </tr>\n    <tr>\n      <th>NIH2307649667</th>\n      <td>0</td>\n      <td>0</td>\n      <td>0</td>\n      <td>0</td>\n      <td>0</td>\n      <td>0</td>\n      <td>0</td>\n      <td>0</td>\n      <td>0</td>\n      <td>0</td>\n      <td>0</td>\n      <td>0</td>\n      <td>0</td>\n      <td>0</td>\n      <td>0</td>\n      <td>0</td>\n      <td>0</td>\n      <td>0</td>\n      <td>0</td>\n      <td>0</td>\n    </tr>\n    <tr>\n      <th>NIH2307899915</th>\n      <td>0</td>\n      <td>0</td>\n      <td>0</td>\n      <td>0</td>\n      <td>0</td>\n      <td>0</td>\n      <td>0</td>\n      <td>0</td>\n      <td>0</td>\n      <td>1</td>\n      <td>0</td>\n      <td>0</td>\n      <td>0</td>\n      <td>0</td>\n      <td>0</td>\n      <td>0</td>\n      <td>0</td>\n      <td>0</td>\n      <td>0</td>\n      <td>0</td>\n    </tr>\n    <tr>\n      <th>...</th>\n      <td>...</td>\n      <td>...</td>\n      <td>...</td>\n      <td>...</td>\n      <td>...</td>\n      <td>...</td>\n      <td>...</td>\n      <td>...</td>\n      <td>...</td>\n      <td>...</td>\n      <td>...</td>\n      <td>...</td>\n      <td>...</td>\n      <td>...</td>\n      <td>...</td>\n      <td>...</td>\n      <td>...</td>\n      <td>...</td>\n      <td>...</td>\n      <td>...</td>\n    </tr>\n    <tr>\n      <th>NIH2307591031</th>\n      <td>0</td>\n      <td>0</td>\n      <td>0</td>\n      <td>0</td>\n      <td>0</td>\n      <td>0</td>\n      <td>0</td>\n      <td>0</td>\n      <td>0</td>\n      <td>0</td>\n      <td>0</td>\n      <td>0</td>\n      <td>0</td>\n      <td>0</td>\n      <td>0</td>\n      <td>0</td>\n      <td>0</td>\n      <td>0</td>\n      <td>0</td>\n      <td>0</td>\n    </tr>\n    <tr>\n      <th>NIH2307808901</th>\n      <td>0</td>\n      <td>0</td>\n      <td>0</td>\n      <td>0</td>\n      <td>0</td>\n      <td>0</td>\n      <td>1</td>\n      <td>0</td>\n      <td>0</td>\n      <td>0</td>\n      <td>0</td>\n      <td>0</td>\n      <td>0</td>\n      <td>0</td>\n      <td>0</td>\n      <td>0</td>\n      <td>0</td>\n      <td>0</td>\n      <td>0</td>\n      <td>0</td>\n    </tr>\n    <tr>\n      <th>NIH2307930134</th>\n      <td>0</td>\n      <td>0</td>\n      <td>0</td>\n      <td>0</td>\n      <td>0</td>\n      <td>0</td>\n      <td>0</td>\n      <td>0</td>\n      <td>0</td>\n      <td>0</td>\n      <td>0</td>\n      <td>0</td>\n      <td>0</td>\n      <td>0</td>\n      <td>0</td>\n      <td>0</td>\n      <td>0</td>\n      <td>0</td>\n      <td>0</td>\n      <td>0</td>\n    </tr>\n    <tr>\n      <th>NIH2307023172</th>\n      <td>0</td>\n      <td>0</td>\n      <td>0</td>\n      <td>0</td>\n      <td>0</td>\n      <td>0</td>\n      <td>0</td>\n      <td>0</td>\n      <td>0</td>\n      <td>0</td>\n      <td>0</td>\n      <td>0</td>\n      <td>0</td>\n      <td>0</td>\n      <td>0</td>\n      <td>0</td>\n      <td>0</td>\n      <td>0</td>\n      <td>0</td>\n      <td>0</td>\n    </tr>\n    <tr>\n      <th>NIH2307534318</th>\n      <td>0</td>\n      <td>0</td>\n      <td>0</td>\n      <td>0</td>\n      <td>0</td>\n      <td>0</td>\n      <td>0</td>\n      <td>0</td>\n      <td>0</td>\n      <td>0</td>\n      <td>0</td>\n      <td>0</td>\n      <td>0</td>\n      <td>0</td>\n      <td>0</td>\n      <td>0</td>\n      <td>0</td>\n      <td>0</td>\n      <td>0</td>\n      <td>0</td>\n    </tr>\n  </tbody>\n</table>\n<p>4680 rows × 20 columns</p>\n</div>"
     },
     "execution_count": 52,
     "metadata": {},
     "output_type": "execute_result"
    }
   ],
   "source": [
    "dataset[[f'AS1_FM{disease}REL_{family}' for disease in disease_dict.keys() for family in ['N', 'P', 'S', 'O']]]"
   ]
  },
  {
   "cell_type": "markdown",
   "source": [
    "### 여성력 가공\n",
    "\n",
    "- ~~질환~~\n",
    "- 약물\n",
    "- 기타 수술 (AS1_OBGYOP)\n",
    "    - 자궁경부암수술/ 자궁암수술/ 자궁내막암/자궁경부암,나팔관제거수술/ 만 1 나머지는 0"
   ],
   "metadata": {
    "collapsed": false
   }
  },
  {
   "cell_type": "code",
   "execution_count": 53,
   "metadata": {
    "ExecuteTime": {
     "start_time": "2023-05-29T16:30:26.078410Z",
     "end_time": "2023-05-29T16:30:26.153926Z"
    }
   },
   "outputs": [
    {
     "name": "stderr",
     "output_type": "stream",
     "text": [
      "C:\\Users\\sh22h\\AppData\\Local\\Temp\\ipykernel_40992\\3218887834.py:11: SettingWithCopyWarning: \n",
      "A value is trying to be set on a copy of a slice from a DataFrame.\n",
      "Try using .loc[row_indexer,col_indexer] = value instead\n",
      "\n",
      "See the caveats in the documentation: https://pandas.pydata.org/pandas-docs/stable/user_guide/indexing.html#returning-a-view-versus-a-copy\n",
      "  dataset['AS1_DR'+x] = np.where((dataset['AS1_DRUG'+x] == 2) | (dataset['AS1_DRUG'+x+'CU'] == 2), 1, 0)\n"
     ]
    }
   ],
   "source": [
    "# 여성력 가공\n",
    "# 남성 데이터 셋을 제거하여 필요없음\n",
    "\n",
    "# 남자일 경우: 0 여자일 경우: 그대로\n",
    "# for x in ['CP', 'FH']:\n",
    "#     dataset['AS1_DR'+x] = np.where(dataset['AS1_SEX'] == '1',\n",
    "#                                    0,\n",
    "#                                    np.where((dataset['AS1_DRUG'+x] == 2) | (dataset['AS1_DRUG'+x+'CU'] == 2), 2, 1))\n",
    "\n",
    "for x in ['CP', 'FH']:\n",
    "    dataset['AS1_DR'+x] = np.where((dataset['AS1_DRUG'+x] == 2) | (dataset['AS1_DRUG'+x+'CU'] == 2), 1, 0)\n",
    "\n",
    "    \n",
    "# women = np.array(['AS1_PREG', 'AS1_HYST', 'AS1_HYSTOVARYW', 'AS1_OVARYW',\n",
    "#                   'AS1_OBGYOP', 'AS1_BRCA', 'AS1_DRCP', 'AS1_DRFH'])\n",
    "#\n",
    "# for x in women:\n",
    "#     dataset[x] = np.where((dataset['AS1_SEX'] == 1), 0, dataset[x])"
   ]
  },
  {
   "cell_type": "markdown",
   "source": [
    "### 타입 별 분리"
   ],
   "metadata": {
    "collapsed": false
   }
  },
  {
   "cell_type": "code",
   "execution_count": 54,
   "metadata": {
    "collapsed": false,
    "ExecuteTime": {
     "start_time": "2023-05-29T16:30:26.093416Z",
     "end_time": "2023-05-29T16:30:26.232437Z"
    }
   },
   "outputs": [],
   "source": [
    "# var_to_use의 각 열 가져옴\n",
    "\n",
    "raw_binary = dataset.reindex(columns=(var_to_use['binary'].dropna()))\n",
    "raw_cath0 = dataset.reindex(columns=(var_to_use['cath0'].dropna()))\n",
    "raw_cath1 = dataset.reindex(columns=(var_to_use['cath1'].dropna()))\n",
    "raw_cnt = dataset.reindex(columns=(var_to_use['cnt'].dropna()))\n",
    "raw_label = dataset.reindex(columns=(var_to_use['dependent'].dropna()))"
   ]
  },
  {
   "cell_type": "code",
   "execution_count": 59,
   "metadata": {
    "ExecuteTime": {
     "start_time": "2023-05-29T16:30:50.561503Z",
     "end_time": "2023-05-29T16:30:50.583532Z"
    }
   },
   "outputs": [
    {
     "data": {
      "text/plain": "Series([], dtype: float64)"
     },
     "execution_count": 59,
     "metadata": {},
     "output_type": "execute_result"
    }
   ],
   "source": [
    "# null인 행이 있다.... 코드북과 데이터셋이 불일치한다.\n",
    "target = raw_cnt\n",
    "null_cell = pd.Series(index=target.columns)\n",
    "null_cell = null_cell[target.isnull().sum() >= len(dataset)]  # 코드북에 없는 데이터 리스트\n",
    "null_cell"
   ]
  },
  {
   "cell_type": "code",
   "execution_count": 60,
   "metadata": {
    "collapsed": false,
    "ExecuteTime": {
     "start_time": "2023-05-29T16:30:54.888192Z",
     "end_time": "2023-05-29T16:30:54.904195Z"
    }
   },
   "outputs": [
    {
     "data": {
      "text/plain": "dependent      AS1_DT  AS1_MT\nDIST_ID                      \nNIH2307713334    -0.4     0.4\nNIH2307455306     0.0    -1.0\nNIH2307137554    -1.8    -1.9\nNIH2307649667    -2.0    -1.7\nNIH2307899915     0.1    -0.1\n...               ...     ...\nNIH2307591031    -3.0     0.2\nNIH2307808901    -3.3    -4.1\nNIH2307930134    -3.9    -2.4\nNIH2307023172    -2.0     0.8\nNIH2307534318    -1.0     0.9\n\n[4680 rows x 2 columns]",
      "text/html": "<div>\n<style scoped>\n    .dataframe tbody tr th:only-of-type {\n        vertical-align: middle;\n    }\n\n    .dataframe tbody tr th {\n        vertical-align: top;\n    }\n\n    .dataframe thead th {\n        text-align: right;\n    }\n</style>\n<table border=\"1\" class=\"dataframe\">\n  <thead>\n    <tr style=\"text-align: right;\">\n      <th>dependent</th>\n      <th>AS1_DT</th>\n      <th>AS1_MT</th>\n    </tr>\n    <tr>\n      <th>DIST_ID</th>\n      <th></th>\n      <th></th>\n    </tr>\n  </thead>\n  <tbody>\n    <tr>\n      <th>NIH2307713334</th>\n      <td>-0.4</td>\n      <td>0.4</td>\n    </tr>\n    <tr>\n      <th>NIH2307455306</th>\n      <td>0.0</td>\n      <td>-1.0</td>\n    </tr>\n    <tr>\n      <th>NIH2307137554</th>\n      <td>-1.8</td>\n      <td>-1.9</td>\n    </tr>\n    <tr>\n      <th>NIH2307649667</th>\n      <td>-2.0</td>\n      <td>-1.7</td>\n    </tr>\n    <tr>\n      <th>NIH2307899915</th>\n      <td>0.1</td>\n      <td>-0.1</td>\n    </tr>\n    <tr>\n      <th>...</th>\n      <td>...</td>\n      <td>...</td>\n    </tr>\n    <tr>\n      <th>NIH2307591031</th>\n      <td>-3.0</td>\n      <td>0.2</td>\n    </tr>\n    <tr>\n      <th>NIH2307808901</th>\n      <td>-3.3</td>\n      <td>-4.1</td>\n    </tr>\n    <tr>\n      <th>NIH2307930134</th>\n      <td>-3.9</td>\n      <td>-2.4</td>\n    </tr>\n    <tr>\n      <th>NIH2307023172</th>\n      <td>-2.0</td>\n      <td>0.8</td>\n    </tr>\n    <tr>\n      <th>NIH2307534318</th>\n      <td>-1.0</td>\n      <td>0.9</td>\n    </tr>\n  </tbody>\n</table>\n<p>4680 rows × 2 columns</p>\n</div>"
     },
     "execution_count": 60,
     "metadata": {},
     "output_type": "execute_result"
    }
   ],
   "source": [
    "raw_label"
   ]
  },
  {
   "attachments": {},
   "cell_type": "markdown",
   "metadata": {},
   "source": [
    "### 결측값 대치 (문제 있음)\n",
    "- 일부 데이터의 많은 결측값\n",
    "  - 77777 -> 0\n",
    "    - AS1_TOTALC\n",
    "    - AS1_HVSMAM\n",
    "  - 99999 -> ?\n",
    "    - AS1_FMOSREL1A\n",
    "    - AS1_CA_U\n",
    "    - AS1_NA_U\n",
    "    - AS1_K_U\n",
    "\n",
    "  - 변수 정리할 때까지, 그냥 0으로 대체"
   ]
  },
  {
   "cell_type": "code",
   "execution_count": 61,
   "metadata": {
    "collapsed": false,
    "ExecuteTime": {
     "start_time": "2023-05-29T16:30:58.283916Z",
     "end_time": "2023-05-29T16:30:58.304916Z"
    }
   },
   "outputs": [],
   "source": [
    "# 원 데이터의 결측값 모두 0으로 대치\n",
    "raw_binary = raw_binary.fillna(0)\n",
    "raw_cath0 = raw_cath0.fillna(0)\n",
    "raw_cath1 = raw_cath1.fillna(0)\n",
    "raw_cnt = raw_cnt.fillna(0)\n",
    "\n",
    "raw_label = raw_label.fillna(0)"
   ]
  },
  {
   "cell_type": "markdown",
   "source": [
    "### 데이터 균일 분포에 매핑\n",
    "\n",
    "- QuantileTransformer\n",
    "> QuantileTransformer provides a non-parametric transformation to map the data to a uniform distribution with values between 0 and 1"
   ],
   "metadata": {
    "collapsed": false
   }
  },
  {
   "cell_type": "code",
   "execution_count": 62,
   "outputs": [],
   "source": [
    "quantile_transformer = QuantileTransformer(random_state=0)"
   ],
   "metadata": {
    "collapsed": false,
    "ExecuteTime": {
     "start_time": "2023-05-29T16:31:08.042748Z",
     "end_time": "2023-05-29T16:31:08.065255Z"
    }
   }
  },
  {
   "cell_type": "code",
   "execution_count": 63,
   "metadata": {
    "collapsed": false,
    "ExecuteTime": {
     "start_time": "2023-05-29T16:31:09.397532Z",
     "end_time": "2023-05-29T16:31:09.498553Z"
    }
   },
   "outputs": [],
   "source": [
    "binary = pd.DataFrame(quantile_transformer.fit_transform(raw_binary), index=dataset.index, columns=raw_binary.columns).astype('float')\n",
    "cath1 = pd.DataFrame(quantile_transformer.fit_transform(raw_cath1), index=dataset.index, columns=raw_cath1.columns).astype('float')\n",
    "cnt = pd.DataFrame(quantile_transformer.fit_transform(raw_cnt), index=dataset.index, columns=raw_cnt.columns).astype('float')\n",
    "\n",
    "cath0 = pd.get_dummies(raw_cath0, columns=raw_cath0.columns, drop_first=True, dtype='float64') # one-hot-encoding\n",
    "\n",
    "label = pd.DataFrame(quantile_transformer.fit_transform(raw_label), index=dataset.index, columns=raw_label.columns).astype('float')"
   ]
  },
  {
   "cell_type": "markdown",
   "source": [
    "## 데이터셋 분리 및 csv로 변환\n",
    "\n",
    "- ~~남성~~ 사용 안 함\n",
    "- 여성(폐경 전) < AS1_PMYN_C: 1\n",
    "    - X_premeno_woman\n",
    "    - y_premeno_woman\n",
    "- 여성(폐경 후) < AS1_PMYN_C: 2\n",
    "    - X_postmeno_woman\n",
    "    - y_postmeno_woman"
   ],
   "metadata": {
    "collapsed": false
   }
  },
  {
   "cell_type": "code",
   "execution_count": 71,
   "metadata": {
    "collapsed": false,
    "ExecuteTime": {
     "start_time": "2023-05-29T16:32:28.676653Z",
     "end_time": "2023-05-29T16:32:28.691650Z"
    }
   },
   "outputs": [
    {
     "name": "stdout",
     "output_type": "stream",
     "text": [
      "(4680, 30) (4680, 27) (4680, 7) (4680, 49)\n"
     ]
    }
   ],
   "source": [
    "X = pd.concat([binary, cath0, cath1, cnt], axis=1)\n",
    "y = dataset['OP']\n",
    "\n",
    "post_processing = pd.concat([X, y])"
   ]
  },
  {
   "cell_type": "code",
   "execution_count": 74,
   "outputs": [],
   "source": [
    "post_processing"
   ],
   "metadata": {
    "collapsed": false,
    "ExecuteTime": {
     "start_time": "2023-05-29T16:33:32.080362Z",
     "end_time": "2023-05-29T16:33:32.094360Z"
    }
   }
  },
  {
   "cell_type": "code",
   "execution_count": 75,
   "metadata": {
    "collapsed": false,
    "ExecuteTime": {
     "start_time": "2023-05-29T16:33:47.073493Z",
     "end_time": "2023-05-29T16:33:47.102494Z"
    }
   },
   "outputs": [
    {
     "data": {
      "text/plain": "               AS1_AL  AS1_ARRM  AS1_AS  AS1_BRCA  AS1_CD  AS1_CH  AS1_CL   \nDIST_ID                                                                     \nNIH2307713334     0.0       0.0     0.0  0.000000     0.0     0.0     0.0  \\\nNIH2307455306     1.0       0.0     0.0  0.522523     0.0     0.0     0.0   \nNIH2307137554     0.0       0.0     0.0  0.522523     0.0     0.0     0.0   \nNIH2307649667     1.0       1.0     0.0  0.522523     0.0     0.0     0.0   \nNIH2307899915     0.0       1.0     0.0  0.522523     0.0     0.0     0.0   \n...               ...       ...     ...       ...     ...     ...     ...   \nNIH2307591031     0.0       1.0     0.0  0.522523     0.0     0.0     0.0   \nNIH2307808901     0.0       0.0     0.0  0.522523     0.0     0.0     0.0   \nNIH2307930134     0.0       1.0     0.0  0.522523     0.0     0.0     0.0   \nNIH2307023172     0.0       0.0     0.0  0.522523     0.0     0.0     0.0   \nNIH2307534318     0.0       0.0     0.0  0.522523     0.0     0.0     0.0   \n\n               AS1_CV  AS1_DM  AS1_DRAR  ...  AS1_TSH  AS1_VITB12  AS1_VITC   \nDIST_ID                                  ...                                  \nNIH2307713334     0.0     0.0       0.0  ...      0.0         0.0  0.384900  \\\nNIH2307455306     0.0     0.0       0.0  ...      0.0         0.0  0.722397   \nNIH2307137554     0.0     0.0       0.0  ...      0.0         0.0  0.964462   \nNIH2307649667     0.0     0.0       1.0  ...      0.0         0.0  0.718730   \nNIH2307899915     0.0     0.0       0.0  ...      0.0         0.0  0.709742   \n...               ...     ...       ...  ...      ...         ...       ...   \nNIH2307591031     0.0     0.0       0.0  ...      0.0         0.0  0.305729   \nNIH2307808901     0.0     0.0       0.0  ...      0.0         0.0  0.337910   \nNIH2307930134     0.0     0.0       0.0  ...      0.0         0.0  0.160374   \nNIH2307023172     0.0     0.0       0.0  ...      0.0         0.0  0.684234   \nNIH2307534318     0.0     0.0       0.0  ...      0.0         0.0  0.525165   \n\n               AS1_VITD  AS1_VITE  AS1_VITK  AS1_WAIST  AS1_WEIGHT    AS1_ZN   \nDIST_ID                                                                        \nNIH2307713334  0.550550  0.452036  0.634588   0.715129    0.478979  0.854341  \\\nNIH2307455306  0.107593  0.307612  0.712137   0.951952    0.842843  0.561487   \nNIH2307137554  0.959684  0.968856  0.895095   0.708709    0.085586  0.901597   \nNIH2307649667  0.147561  0.194780  0.024460   0.767267    0.818819  0.056817   \nNIH2307899915  0.198581  0.721670  0.766659   0.603604    0.406406  0.889551   \n...                 ...       ...       ...        ...         ...       ...   \nNIH2307591031  0.421247  0.294572  0.461068   0.326827    0.529029  0.304367   \nNIH2307808901  0.726683  0.340577  0.764407   0.379379    0.586086  0.329345   \nNIH2307930134  0.499452  0.334274  0.161843   0.664164    0.831331  0.511343   \nNIH2307023172  0.592146  0.805474  0.338442   0.755756    0.184685  0.729707   \nNIH2307534318  0.542744  0.439192  0.591589   0.689690    0.354354  0.471338   \n\n               OP  \nDIST_ID            \nNIH2307713334   0  \nNIH2307455306   0  \nNIH2307137554   0  \nNIH2307649667   0  \nNIH2307899915   0  \n...            ..  \nNIH2307591031   1  \nNIH2307808901   1  \nNIH2307930134   1  \nNIH2307023172   0  \nNIH2307534318   0  \n\n[4680 rows x 114 columns]",
      "text/html": "<div>\n<style scoped>\n    .dataframe tbody tr th:only-of-type {\n        vertical-align: middle;\n    }\n\n    .dataframe tbody tr th {\n        vertical-align: top;\n    }\n\n    .dataframe thead th {\n        text-align: right;\n    }\n</style>\n<table border=\"1\" class=\"dataframe\">\n  <thead>\n    <tr style=\"text-align: right;\">\n      <th></th>\n      <th>AS1_AL</th>\n      <th>AS1_ARRM</th>\n      <th>AS1_AS</th>\n      <th>AS1_BRCA</th>\n      <th>AS1_CD</th>\n      <th>AS1_CH</th>\n      <th>AS1_CL</th>\n      <th>AS1_CV</th>\n      <th>AS1_DM</th>\n      <th>AS1_DRAR</th>\n      <th>...</th>\n      <th>AS1_TSH</th>\n      <th>AS1_VITB12</th>\n      <th>AS1_VITC</th>\n      <th>AS1_VITD</th>\n      <th>AS1_VITE</th>\n      <th>AS1_VITK</th>\n      <th>AS1_WAIST</th>\n      <th>AS1_WEIGHT</th>\n      <th>AS1_ZN</th>\n      <th>OP</th>\n    </tr>\n    <tr>\n      <th>DIST_ID</th>\n      <th></th>\n      <th></th>\n      <th></th>\n      <th></th>\n      <th></th>\n      <th></th>\n      <th></th>\n      <th></th>\n      <th></th>\n      <th></th>\n      <th></th>\n      <th></th>\n      <th></th>\n      <th></th>\n      <th></th>\n      <th></th>\n      <th></th>\n      <th></th>\n      <th></th>\n      <th></th>\n      <th></th>\n    </tr>\n  </thead>\n  <tbody>\n    <tr>\n      <th>NIH2307713334</th>\n      <td>0.0</td>\n      <td>0.0</td>\n      <td>0.0</td>\n      <td>0.000000</td>\n      <td>0.0</td>\n      <td>0.0</td>\n      <td>0.0</td>\n      <td>0.0</td>\n      <td>0.0</td>\n      <td>0.0</td>\n      <td>...</td>\n      <td>0.0</td>\n      <td>0.0</td>\n      <td>0.384900</td>\n      <td>0.550550</td>\n      <td>0.452036</td>\n      <td>0.634588</td>\n      <td>0.715129</td>\n      <td>0.478979</td>\n      <td>0.854341</td>\n      <td>0</td>\n    </tr>\n    <tr>\n      <th>NIH2307455306</th>\n      <td>1.0</td>\n      <td>0.0</td>\n      <td>0.0</td>\n      <td>0.522523</td>\n      <td>0.0</td>\n      <td>0.0</td>\n      <td>0.0</td>\n      <td>0.0</td>\n      <td>0.0</td>\n      <td>0.0</td>\n      <td>...</td>\n      <td>0.0</td>\n      <td>0.0</td>\n      <td>0.722397</td>\n      <td>0.107593</td>\n      <td>0.307612</td>\n      <td>0.712137</td>\n      <td>0.951952</td>\n      <td>0.842843</td>\n      <td>0.561487</td>\n      <td>0</td>\n    </tr>\n    <tr>\n      <th>NIH2307137554</th>\n      <td>0.0</td>\n      <td>0.0</td>\n      <td>0.0</td>\n      <td>0.522523</td>\n      <td>0.0</td>\n      <td>0.0</td>\n      <td>0.0</td>\n      <td>0.0</td>\n      <td>0.0</td>\n      <td>0.0</td>\n      <td>...</td>\n      <td>0.0</td>\n      <td>0.0</td>\n      <td>0.964462</td>\n      <td>0.959684</td>\n      <td>0.968856</td>\n      <td>0.895095</td>\n      <td>0.708709</td>\n      <td>0.085586</td>\n      <td>0.901597</td>\n      <td>0</td>\n    </tr>\n    <tr>\n      <th>NIH2307649667</th>\n      <td>1.0</td>\n      <td>1.0</td>\n      <td>0.0</td>\n      <td>0.522523</td>\n      <td>0.0</td>\n      <td>0.0</td>\n      <td>0.0</td>\n      <td>0.0</td>\n      <td>0.0</td>\n      <td>1.0</td>\n      <td>...</td>\n      <td>0.0</td>\n      <td>0.0</td>\n      <td>0.718730</td>\n      <td>0.147561</td>\n      <td>0.194780</td>\n      <td>0.024460</td>\n      <td>0.767267</td>\n      <td>0.818819</td>\n      <td>0.056817</td>\n      <td>0</td>\n    </tr>\n    <tr>\n      <th>NIH2307899915</th>\n      <td>0.0</td>\n      <td>1.0</td>\n      <td>0.0</td>\n      <td>0.522523</td>\n      <td>0.0</td>\n      <td>0.0</td>\n      <td>0.0</td>\n      <td>0.0</td>\n      <td>0.0</td>\n      <td>0.0</td>\n      <td>...</td>\n      <td>0.0</td>\n      <td>0.0</td>\n      <td>0.709742</td>\n      <td>0.198581</td>\n      <td>0.721670</td>\n      <td>0.766659</td>\n      <td>0.603604</td>\n      <td>0.406406</td>\n      <td>0.889551</td>\n      <td>0</td>\n    </tr>\n    <tr>\n      <th>...</th>\n      <td>...</td>\n      <td>...</td>\n      <td>...</td>\n      <td>...</td>\n      <td>...</td>\n      <td>...</td>\n      <td>...</td>\n      <td>...</td>\n      <td>...</td>\n      <td>...</td>\n      <td>...</td>\n      <td>...</td>\n      <td>...</td>\n      <td>...</td>\n      <td>...</td>\n      <td>...</td>\n      <td>...</td>\n      <td>...</td>\n      <td>...</td>\n      <td>...</td>\n      <td>...</td>\n    </tr>\n    <tr>\n      <th>NIH2307591031</th>\n      <td>0.0</td>\n      <td>1.0</td>\n      <td>0.0</td>\n      <td>0.522523</td>\n      <td>0.0</td>\n      <td>0.0</td>\n      <td>0.0</td>\n      <td>0.0</td>\n      <td>0.0</td>\n      <td>0.0</td>\n      <td>...</td>\n      <td>0.0</td>\n      <td>0.0</td>\n      <td>0.305729</td>\n      <td>0.421247</td>\n      <td>0.294572</td>\n      <td>0.461068</td>\n      <td>0.326827</td>\n      <td>0.529029</td>\n      <td>0.304367</td>\n      <td>1</td>\n    </tr>\n    <tr>\n      <th>NIH2307808901</th>\n      <td>0.0</td>\n      <td>0.0</td>\n      <td>0.0</td>\n      <td>0.522523</td>\n      <td>0.0</td>\n      <td>0.0</td>\n      <td>0.0</td>\n      <td>0.0</td>\n      <td>0.0</td>\n      <td>0.0</td>\n      <td>...</td>\n      <td>0.0</td>\n      <td>0.0</td>\n      <td>0.337910</td>\n      <td>0.726683</td>\n      <td>0.340577</td>\n      <td>0.764407</td>\n      <td>0.379379</td>\n      <td>0.586086</td>\n      <td>0.329345</td>\n      <td>1</td>\n    </tr>\n    <tr>\n      <th>NIH2307930134</th>\n      <td>0.0</td>\n      <td>1.0</td>\n      <td>0.0</td>\n      <td>0.522523</td>\n      <td>0.0</td>\n      <td>0.0</td>\n      <td>0.0</td>\n      <td>0.0</td>\n      <td>0.0</td>\n      <td>0.0</td>\n      <td>...</td>\n      <td>0.0</td>\n      <td>0.0</td>\n      <td>0.160374</td>\n      <td>0.499452</td>\n      <td>0.334274</td>\n      <td>0.161843</td>\n      <td>0.664164</td>\n      <td>0.831331</td>\n      <td>0.511343</td>\n      <td>1</td>\n    </tr>\n    <tr>\n      <th>NIH2307023172</th>\n      <td>0.0</td>\n      <td>0.0</td>\n      <td>0.0</td>\n      <td>0.522523</td>\n      <td>0.0</td>\n      <td>0.0</td>\n      <td>0.0</td>\n      <td>0.0</td>\n      <td>0.0</td>\n      <td>0.0</td>\n      <td>...</td>\n      <td>0.0</td>\n      <td>0.0</td>\n      <td>0.684234</td>\n      <td>0.592146</td>\n      <td>0.805474</td>\n      <td>0.338442</td>\n      <td>0.755756</td>\n      <td>0.184685</td>\n      <td>0.729707</td>\n      <td>0</td>\n    </tr>\n    <tr>\n      <th>NIH2307534318</th>\n      <td>0.0</td>\n      <td>0.0</td>\n      <td>0.0</td>\n      <td>0.522523</td>\n      <td>0.0</td>\n      <td>0.0</td>\n      <td>0.0</td>\n      <td>0.0</td>\n      <td>0.0</td>\n      <td>0.0</td>\n      <td>...</td>\n      <td>0.0</td>\n      <td>0.0</td>\n      <td>0.525165</td>\n      <td>0.542744</td>\n      <td>0.439192</td>\n      <td>0.591589</td>\n      <td>0.689690</td>\n      <td>0.354354</td>\n      <td>0.471338</td>\n      <td>0</td>\n    </tr>\n  </tbody>\n</table>\n<p>4680 rows × 114 columns</p>\n</div>"
     },
     "execution_count": 75,
     "metadata": {},
     "output_type": "execute_result"
    }
   ],
   "source": [
    "y.value_counts()"
   ]
  },
  {
   "cell_type": "code",
   "execution_count": 76,
   "metadata": {
    "collapsed": false,
    "ExecuteTime": {
     "start_time": "2023-05-29T16:33:50.686022Z",
     "end_time": "2023-05-29T16:33:50.972504Z"
    }
   },
   "outputs": [
    {
     "data": {
      "text/plain": "OP\n0    3785\n1     895\nName: count, dtype: int64"
     },
     "execution_count": 76,
     "metadata": {},
     "output_type": "execute_result"
    }
   ],
   "source": [
    "# X.to_csv(\"dataset/scaled/X_230330.csv\")\n",
    "# y.to_csv(\"dataset/scaled/y_230330.csv\")\n",
    "meno1 = dataset['AS1_PMYN_C'] == 1\n",
    "meno2 = dataset['AS1_PMYN_C'] == 2\n",
    "\n",
    "X_premeno_woman = X.loc[meno1]\n",
    "X_postmeno_woman = X.loc[meno2]\n",
    "y_premeno_woman = y.loc[meno1]\n",
    "y_postmeno_woman = y.loc[meno2]\n",
    "print(f\"폐경 전 여성의 골다공증:\\n {y_premeno_woman.value_counts()}\"\n",
    "      f\"\\n\\n폐경 후 여성의 골다공증:\\n {y_postmeno_woman.value_counts()}\")"
   ]
  },
  {
   "cell_type": "code",
   "execution_count": 77,
   "outputs": [
    {
     "name": "stdout",
     "output_type": "stream",
     "text": [
      "폐경 전 여성의 골다공증:\n",
      " OP\n",
      "0    1651\n",
      "1      67\n",
      "Name: count, dtype: int64\n",
      "\n",
      "폐경 후 여성의 골다공증:\n",
      " OP\n",
      "0    2109\n",
      "1     825\n",
      "Name: count, dtype: int64\n"
     ]
    }
   ],
   "source": [
    "X_premeno_woman.to_csv('./dataset/scaled/X_premeno_20230428.csv')\n",
    "X_postmeno_woman.to_csv('./dataset/scaled/X_postmeno_20230428.csv')\n",
    "y_premeno_woman.to_csv('./dataset/scaled/y_premeno_20230428.csv')\n",
    "y_postmeno_woman.to_csv('./dataset/scaled/y_postmeno_20230428.csv')"
   ],
   "metadata": {
    "collapsed": false,
    "ExecuteTime": {
     "start_time": "2023-05-29T16:33:55.105966Z",
     "end_time": "2023-05-29T16:33:55.120965Z"
    }
   }
  },
  {
   "cell_type": "code",
   "execution_count": 78,
   "outputs": [],
   "source": [
    "y_premeno_woman"
   ],
   "metadata": {
    "collapsed": false,
    "ExecuteTime": {
     "start_time": "2023-05-29T16:33:58.730223Z",
     "end_time": "2023-05-29T16:33:59.146339Z"
    }
   }
  },
  {
   "cell_type": "code",
   "execution_count": 79,
   "outputs": [
    {
     "data": {
      "text/plain": "DIST_ID\nNIH2307713334    0\nNIH2307455306    0\nNIH2307635434    0\nNIH2307563051    0\nNIH2307534459    0\n                ..\nNIH2307492442    0\nNIH2307287708    0\nNIH2307394231    0\nNIH2307665690    0\nNIH2307625463    0\nName: OP, Length: 1718, dtype: int32"
     },
     "execution_count": 79,
     "metadata": {},
     "output_type": "execute_result"
    }
   ],
   "source": [
    "X_train, X_test, y_train, y_test = train_test_split(X_premeno_woman, y_premeno_woman, test_size=0.2, random_state=415)\n",
    "print(X_train.shape, X_test.shape, y_train.shape, y_test.shape)\n",
    "y_train"
   ],
   "metadata": {
    "collapsed": false,
    "ExecuteTime": {
     "start_time": "2023-05-29T16:34:01.463690Z",
     "end_time": "2023-05-29T16:34:01.472690Z"
    }
   }
  },
  {
   "cell_type": "code",
   "execution_count": 28,
   "outputs": [
    {
     "name": "stdout",
     "output_type": "stream",
     "text": [
      "(2347, 157) (587, 157) (2347,) (587,)\n"
     ]
    },
    {
     "data": {
      "text/plain": "DIST_ID\nNIH2307808754    0\nNIH2307618867    0\nNIH2307144156    1\nNIH2307449183    0\nNIH2307081068    0\n                ..\nNIH2307893627    1\nNIH2307002244    1\nNIH2307413889    0\nNIH2307534866    0\nNIH2307325698    0\nName: OP, Length: 2347, dtype: int32"
     },
     "execution_count": 28,
     "metadata": {},
     "output_type": "execute_result"
    }
   ],
   "source": [
    "X_train, X_test, y_train, y_test = train_test_split(X_postmeno_woman, y_postmeno_woman, test_size=0.2, random_state=415)\n",
    "print(X_train.shape, X_test.shape, y_train.shape, y_test.shape)\n",
    "y_train"
   ],
   "metadata": {
    "collapsed": false,
    "ExecuteTime": {
     "start_time": "2023-04-28T16:42:20.812020Z",
     "end_time": "2023-04-28T16:42:20.842139Z"
    }
   }
  },
  {
   "cell_type": "code",
   "execution_count": 1,
   "outputs": [
    {
     "ename": "NameError",
     "evalue": "name 'dataset' is not defined",
     "output_type": "error",
     "traceback": [
      "\u001B[1;31m---------------------------------------------------------------------------\u001B[0m",
      "\u001B[1;31mNameError\u001B[0m                                 Traceback (most recent call last)",
      "Cell \u001B[1;32mIn[1], line 1\u001B[0m\n\u001B[1;32m----> 1\u001B[0m \u001B[43mdataset\u001B[49m[dataset[\u001B[38;5;124m'\u001B[39m\u001B[38;5;124mAS1_PHYSTB\u001B[39m\u001B[38;5;124m'\u001B[39m] \u001B[38;5;241m==\u001B[39m \u001B[38;5;241m2\u001B[39m \u001B[38;5;241m&\u001B[39m dataset[\u001B[38;5;124m'\u001B[39m\u001B[38;5;124mAS1_OP\u001B[39m\u001B[38;5;124m'\u001B[39m] \u001B[38;5;241m==\u001B[39m \u001B[38;5;241m1\u001B[39m]\n",
      "\u001B[1;31mNameError\u001B[0m: name 'dataset' is not defined"
     ]
    }
   ],
   "source": [],
   "metadata": {
    "collapsed": false
   }
  },
  {
   "cell_type": "code",
   "execution_count": null,
   "outputs": [],
   "source": [],
   "metadata": {
    "collapsed": false
   }
  }
 ],
 "metadata": {
  "kernelspec": {
   "display_name": "Python 3",
   "language": "python",
   "name": "python3"
  },
  "language_info": {
   "codemirror_mode": {
    "name": "ipython",
    "version": 3
   },
   "file_extension": ".py",
   "mimetype": "text/x-python",
   "name": "python",
   "nbconvert_exporter": "python",
   "pygments_lexer": "ipython3",
   "version": "3.9.13"
  }
 },
 "nbformat": 4,
 "nbformat_minor": 0
}
