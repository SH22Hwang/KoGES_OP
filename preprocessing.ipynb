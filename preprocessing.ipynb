{
 "cells": [
  {
   "attachments": {
    "image.png": {
     "image/png": "[encoded data removed]"
    }
   },
   "cell_type": "markdown",
   "metadata": {
    "collapsed": false
   },
   "source": [
    "# 데이터 전처리\n",
    "\n",
    "@author 컴퓨터과학과 황승현\n",
    "KoGes 데이터 전처리\n",
    "\n",
    "2023-05-29 수정... 데이터 쳐내기\n",
    "\n",
    "전처리 절차\n",
    "\n",
    "1. 데이터셋 분리\n",
    "    - ~~남성~~ 사용 안 함\n",
    "    - 여성(폐경 전) < AS1_PMYN_C: 1\n",
    "    - 여성(폐경 후) < AS1_PMYN_C: 2\n",
    "2. 각각 사용할 독립변수, 종속변수 행 추출\n",
    "3. 질환유무, 약물력 변수 가공\n",
    "4. 가족력, 가족과의 관계 변수 가공\n",
    "    - 부, 모, 형제자매, 기타 -> 부모, 형제자매, 기타, 해당없음\n",
    "5. 종속변수 AS1_OP 가공\n",
    "    - AS1_DT\n",
    "    - AS1_MT\n",
    "6. 데이터셋을 DataFrame으로 불러오고 독립변수는 4가지로 분류 (binary, cath0, cath1, cnt, tumor_name)\n",
    "  - binary: 범주형(binary) 변수, 0 / 1 로 변경\n",
    "  -  catH0: 계층 없는 범주형(>03) 변수, 벡터화(one-hot-encoding)\n",
    "  -  catH1: 계층 있는 범주형 변수, 표준화\n",
    "  -    cnt: 연속형 변수, 정규화, 표준화\n",
    "  - tumor_name\n",
    "7. 결측값 제거 : 일단 0으로 대치\n",
    "8. 연속형 변수 스케일링\n",
    "  - 정규화(normalization): 0, 1\n",
    "  - 표준화(standardization): 평균: 0 표준편차: 1\n",
    "  - 계층화(quantile transform): 4분위 수"
   ]
  },
  {
   "cell_type": "markdown",
   "source": [
    "## 준비\n",
    "\n",
    "- 라이브러리 불러오기\n",
    "- 데이터셋, 사용할 변수 불러오기"
   ],
   "metadata": {
    "collapsed": false
   }
  },
  {
   "cell_type": "code",
   "execution_count": 2,
   "metadata": {
    "collapsed": false,
    "ExecuteTime": {
     "start_time": "2023-08-18T19:38:55.733128Z",
     "end_time": "2023-08-18T19:39:01.075879Z"
    }
   },
   "outputs": [],
   "source": [
    "# 라이브러리 불러오기\n",
    "import numpy as np\n",
    "import pandas as pd\n",
    "\n",
    "from sklearn.model_selection import train_test_split\n",
    "from sklearn.preprocessing import QuantileTransformer"
   ]
  },
  {
   "cell_type": "code",
   "execution_count": 3,
   "metadata": {
    "collapsed": true,
    "ExecuteTime": {
     "start_time": "2023-08-18T19:39:01.077879Z",
     "end_time": "2023-08-18T19:39:02.122881Z"
    }
   },
   "outputs": [
    {
     "name": "stderr",
     "output_type": "stream",
     "text": [
      "C:\\Users\\sh22h\\AppData\\Local\\Temp\\ipykernel_6868\\842177691.py:6: DtypeWarning: Columns (7,9,156,299) have mixed types. Specify dtype option on import or set low_memory=False.\n",
      "  dataset = pd.read_csv(\"dataset/Dataset_OP_230614_raw.csv\", index_col=0, na_values=[77777, 99999, '#NULL!', ' '])\n"
     ]
    },
    {
     "data": {
      "text/plain": "<bound method NDFrame.head of                AS1_SEX  AS1_AGE  AS1_FAMNUM  AS1_HAND  AS1_SEAS  AS1_MARRYA   \nDIST_ID                                                                       \nNIH2307795046        1       53         4.0       1.0       3.0         2.0  \\\nNIH2307713334        2       44         2.0       1.0       2.0         2.0   \nNIH2307455306        2       43         6.0       1.0       2.0         2.0   \nNIH2307778268        1       61         4.0       1.0       4.0         2.0   \nNIH2307137554        2       64         4.0       1.0       1.0         2.0   \n...                ...      ...         ...       ...       ...         ...   \nNIH2307591031        2       60         3.0       1.0       3.0         2.0   \nNIH2307808901        2       62         4.0       1.0       1.0         2.0   \nNIH2307930134        2       65         2.0       1.0       3.0         3.0   \nNIH2307023172        2       69         5.0       1.0       1.0         3.0   \nNIH2307534318        2       59         3.0       1.0       1.0         2.0   \n\n              AS1_MARRYAETC  AS1_RELIG AS1_RELIGETC  AS1_RELIGPRT  ...   \nDIST_ID                                                            ...   \nNIH2307795046           NaN        3.0          NaN           1.0  ...  \\\nNIH2307713334           NaN        4.0          NaN           NaN  ...   \nNIH2307455306           NaN        3.0          NaN           1.0  ...   \nNIH2307778268           NaN        3.0          NaN           1.0  ...   \nNIH2307137554           NaN        3.0          NaN           1.0  ...   \n...                     ...        ...          ...           ...  ...   \nNIH2307591031           NaN        1.0          NaN           2.0  ...   \nNIH2307808901           NaN        2.0          NaN           2.0  ...   \nNIH2307930134           NaN        1.0          NaN           3.0  ...   \nNIH2307023172           NaN        1.0          NaN           3.0  ...   \nNIH2307534318           NaN        3.0          NaN           2.0  ...   \n\n               AS1_INSM.1  AS1_SLPHRD.1  AS1_SLPAMSF.1  AS1_ICOFF_1   \nDIST_ID                                                               \nNIH2307795046         1.0           1.0            2.0            2  \\\nNIH2307713334         1.0           1.0            2.0            3   \nNIH2307455306         1.0           1.0            1.0            1   \nNIH2307778268         1.0           1.0            2.0            2   \nNIH2307137554         1.0           1.0            2.0            4   \n...                   ...           ...            ...          ...   \nNIH2307591031         1.0           1.0            2.0            1   \nNIH2307808901         1.0           1.0            1.0            1   \nNIH2307930134         1.0           1.0            2.0            3   \nNIH2307023172         1.0           1.0            2.0            5   \nNIH2307534318         2.0           2.0            1.0            1   \n\n               AS1_ICOFF_2  AS1_W098.1  AS1_MNSAG.2  AS1_BRSTF  AS1_BRSTC   \nDIST_ID                                                                     \nNIH2307795046            2    0.225000          NaN        NaN        NaN  \\\nNIH2307713334            2    0.578571         13.0        NaN        NaN   \nNIH2307455306            1    0.000000         20.0        2.0        3.0   \nNIH2307778268            2    0.225000          NaN        NaN        NaN   \nNIH2307137554            2    0.000000         17.0        2.0        2.0   \n...                    ...         ...          ...        ...        ...   \nNIH2307591031            1    0.000000         17.0        NaN        NaN   \nNIH2307808901            1    0.000000         18.0        2.0        4.0   \nNIH2307930134            2    1.350000         19.0        2.0        4.0   \nNIH2307023172            2    5.400000         16.0        2.0        5.0   \nNIH2307534318            1    0.000000         16.0        2.0        3.0   \n\n                 AS1_EGFR  \nDIST_ID                    \nNIH2307795046   81.027088  \nNIH2307713334  223.651123  \nNIH2307455306  225.227717  \nNIH2307778268  134.847877  \nNIH2307137554  194.337250  \n...                   ...  \nNIH2307591031  253.351350  \nNIH2307808901  249.816845  \nNIH2307930134  192.976890  \nNIH2307023172  237.829903  \nNIH2307534318  163.914811  \n\n[9249 rows x 838 columns]>"
     },
     "execution_count": 3,
     "metadata": {},
     "output_type": "execute_result"
    }
   ],
   "source": [
    "# 데이터셋 불러오기\n",
    "# dataset = pd.read_csv(\"dataset/Dataset_OP_230316_raw.csv\", index_col=0, na_values=[77777, 99999, '#NULL!', ' ']) # 사용안함\n",
    "# dataset = pd.read_csv(\"dataset/Dataset_OP_230330_raw.csv\", index_col=0, na_values=[77777, 99999, '#NULL!', ' ']) # 사용안함\n",
    "# dataset = pd.read_csv(\"dataset/Dataset_OP_230417_raw.csv\", index_col=0, na_values=[77777, 99999, '#NULL!', ' ']) # 사용안함\n",
    "# dataset = pd.read_csv(\"dataset/Dataset_OP_230424_raw.csv\", index_col=0, na_values=[77777, 99999, '#NULL!', ' ']) # 사용안함\n",
    "dataset = pd.read_csv(\"dataset/Dataset_OP_230614_raw.csv\", index_col=0, na_values=[77777, 99999, '#NULL!', ' '])\n",
    "dataset.head"
   ]
  },
  {
   "cell_type": "code",
   "execution_count": 4,
   "metadata": {
    "ExecuteTime": {
     "start_time": "2023-08-18T19:39:02.121878Z",
     "end_time": "2023-08-18T19:39:02.211878Z"
    }
   },
   "outputs": [
    {
     "data": {
      "text/plain": "     binary          cath0        cath1            cnt dependent\n0   AS1_SEX       AS1_EDUA   AS1_INCOME        AS1_AGE    AS1_DT\n1    AS1_HT      AS1_DRINK   AS1_PHYSTB     AS1_TOTALC    AS1_MT\n2    AS1_DM     AS1_SMOKEA   AS1_PHYSIT     AS1_PMAG_C       NaN\n3    AS1_AL  AS1_FMOSREL_N  AS1_PHYACTL      AS1_MNSAG       NaN\n4    AS1_MI  AS1_FMOSREL_O  AS1_PHYACTM    AS1_CHILD_P       NaN\n..      ...            ...          ...            ...       ...\n70      NaN            NaN          NaN   AS1_BPSIT1RS       NaN\n71      NaN            NaN          NaN  AS1_BPSIT1SYS       NaN\n72      NaN            NaN          NaN   AS1_BPSIT1LD       NaN\n73      NaN            NaN          NaN   AS1_BPSIT1RD       NaN\n74      NaN            NaN          NaN  AS1_BPSIT1DIA       NaN\n\n[75 rows x 5 columns]",
      "text/html": "<div>\n<style scoped>\n    .dataframe tbody tr th:only-of-type {\n        vertical-align: middle;\n    }\n\n    .dataframe tbody tr th {\n        vertical-align: top;\n    }\n\n    .dataframe thead th {\n        text-align: right;\n    }\n</style>\n<table border=\"1\" class=\"dataframe\">\n  <thead>\n    <tr style=\"text-align: right;\">\n      <th></th>\n      <th>binary</th>\n      <th>cath0</th>\n      <th>cath1</th>\n      <th>cnt</th>\n      <th>dependent</th>\n    </tr>\n  </thead>\n  <tbody>\n    <tr>\n      <th>0</th>\n      <td>AS1_SEX</td>\n      <td>AS1_EDUA</td>\n      <td>AS1_INCOME</td>\n      <td>AS1_AGE</td>\n      <td>AS1_DT</td>\n    </tr>\n    <tr>\n      <th>1</th>\n      <td>AS1_HT</td>\n      <td>AS1_DRINK</td>\n      <td>AS1_PHYSTB</td>\n      <td>AS1_TOTALC</td>\n      <td>AS1_MT</td>\n    </tr>\n    <tr>\n      <th>2</th>\n      <td>AS1_DM</td>\n      <td>AS1_SMOKEA</td>\n      <td>AS1_PHYSIT</td>\n      <td>AS1_PMAG_C</td>\n      <td>NaN</td>\n    </tr>\n    <tr>\n      <th>3</th>\n      <td>AS1_AL</td>\n      <td>AS1_FMOSREL_N</td>\n      <td>AS1_PHYACTL</td>\n      <td>AS1_MNSAG</td>\n      <td>NaN</td>\n    </tr>\n    <tr>\n      <th>4</th>\n      <td>AS1_MI</td>\n      <td>AS1_FMOSREL_O</td>\n      <td>AS1_PHYACTM</td>\n      <td>AS1_CHILD_P</td>\n      <td>NaN</td>\n    </tr>\n    <tr>\n      <th>...</th>\n      <td>...</td>\n      <td>...</td>\n      <td>...</td>\n      <td>...</td>\n      <td>...</td>\n    </tr>\n    <tr>\n      <th>70</th>\n      <td>NaN</td>\n      <td>NaN</td>\n      <td>NaN</td>\n      <td>AS1_BPSIT1RS</td>\n      <td>NaN</td>\n    </tr>\n    <tr>\n      <th>71</th>\n      <td>NaN</td>\n      <td>NaN</td>\n      <td>NaN</td>\n      <td>AS1_BPSIT1SYS</td>\n      <td>NaN</td>\n    </tr>\n    <tr>\n      <th>72</th>\n      <td>NaN</td>\n      <td>NaN</td>\n      <td>NaN</td>\n      <td>AS1_BPSIT1LD</td>\n      <td>NaN</td>\n    </tr>\n    <tr>\n      <th>73</th>\n      <td>NaN</td>\n      <td>NaN</td>\n      <td>NaN</td>\n      <td>AS1_BPSIT1RD</td>\n      <td>NaN</td>\n    </tr>\n    <tr>\n      <th>74</th>\n      <td>NaN</td>\n      <td>NaN</td>\n      <td>NaN</td>\n      <td>AS1_BPSIT1DIA</td>\n      <td>NaN</td>\n    </tr>\n  </tbody>\n</table>\n<p>75 rows × 5 columns</p>\n</div>"
     },
     "execution_count": 4,
     "metadata": {},
     "output_type": "execute_result"
    }
   ],
   "source": [
    "# 특성별로 분류\n",
    "# var_to_use = pd.read_csv(\"dataset/var_to_use_2023-03-30T2240I.csv\")\n",
    "# var_to_use = pd.read_csv(\"dataset/var_to_use_2023-04-21T1258I.csv\")\n",
    "# var_to_use = pd.read_csv(\"dataset/var_to_use_2023-04-24T1830I.csv\")\n",
    "# var_to_use = pd.read_csv(\"dataset/var_to_use_2023-04-28T1610I.csv\")\n",
    "var_to_use = pd.read_csv(\"dataset/var_to_use_2023-06-13T1650I.csv\")\n",
    "var_to_use\n"
   ]
  },
  {
   "attachments": {},
   "cell_type": "markdown",
   "metadata": {},
   "source": [
    "## 데이터 가공\n",
    "\n",
    "- 기존 데이터로 새로운 데이터 만들기\n",
    "- if 문 쓰면 안됨!\n",
    "    - The truth value of a Series is ambiguous. Use a.empty, a.bool(), a.item(), a.any() or a.all().\n",
    "- np.where 사용할 것!"
   ]
  },
  {
   "cell_type": "markdown",
   "source": [
    "### 종속변수 결측값 drop"
   ],
   "metadata": {
    "collapsed": false
   }
  },
  {
   "cell_type": "code",
   "execution_count": 5,
   "outputs": [
    {
     "name": "stdout",
     "output_type": "stream",
     "text": [
      "<class 'pandas.core.frame.DataFrame'>\n",
      "Index: 4680 entries, NIH2307713334 to NIH2307534318\n",
      "Columns: 839 entries, AS1_SEX to OP\n",
      "dtypes: float64(795), int32(1), int64(38), object(5)\n",
      "memory usage: 30.0+ MB\n"
     ]
    },
    {
     "name": "stderr",
     "output_type": "stream",
     "text": [
      "C:\\Users\\sh22h\\AppData\\Local\\Temp\\ipykernel_6868\\1920078704.py:8: SettingWithCopyWarning: \n",
      "A value is trying to be set on a copy of a slice from a DataFrame.\n",
      "Try using .loc[row_indexer,col_indexer] = value instead\n",
      "\n",
      "See the caveats in the documentation: https://pandas.pydata.org/pandas-docs/stable/user_guide/indexing.html#returning-a-view-versus-a-copy\n",
      "  dataset['OP'] = np.where((dataset['AS1_DT'] <= -2.5) | (dataset['AS1_MT'] <= -2.5), 1, 0)\n"
     ]
    }
   ],
   "source": [
    "# 종속변수의 결측값이 있으면 drop\n",
    "dataset.dropna(subset=['AS1_DT', 'AS1_MT'], inplace=True)\n",
    "\n",
    "# 남성(1) drop, 여성(2)만 가져옴\n",
    "dataset = dataset[dataset['AS1_SEX'] == 2]\n",
    "\n",
    "# 새로운 종속변수 만들기 OP: 골다공증 여부\n",
    "dataset['OP'] = np.where((dataset['AS1_DT'] <= -2.5) | (dataset['AS1_MT'] <= -2.5), 1, 0)\n",
    "dataset.info()"
   ],
   "metadata": {
    "collapsed": false,
    "ExecuteTime": {
     "start_time": "2023-08-18T19:39:02.153878Z",
     "end_time": "2023-08-18T19:39:02.257879Z"
    }
   }
  },
  {
   "cell_type": "markdown",
   "source": [
    "### 각종 질환 가공\n",
    "\n",
    "- 질환 유무\n",
    "    - 각종 종양 유무 (AS1_TOTCA1)\n",
    "- 약물력\n",
    "- 가족력"
   ],
   "metadata": {
    "collapsed": false
   }
  },
  {
   "cell_type": "code",
   "execution_count": 6,
   "metadata": {
    "ExecuteTime": {
     "start_time": "2023-08-18T19:39:02.230910Z",
     "end_time": "2023-08-18T19:39:02.349879Z"
    }
   },
   "outputs": [
    {
     "name": "stderr",
     "output_type": "stream",
     "text": [
      "C:\\Users\\sh22h\\AppData\\Local\\Temp\\ipykernel_6868\\376098338.py:6: SettingWithCopyWarning: \n",
      "A value is trying to be set on a copy of a slice from a DataFrame.\n",
      "Try using .loc[row_indexer,col_indexer] = value instead\n",
      "\n",
      "See the caveats in the documentation: https://pandas.pydata.org/pandas-docs/stable/user_guide/indexing.html#returning-a-view-versus-a-copy\n",
      "  dataset['AS1_ARRM'] = np.where((dataset['AS1_JOAR'] == 2) | (dataset['AS1_JORM'] == 2) | (dataset['AS1_TRTAR'] == 2), 1, 0) # 관절혐은 조건 3가지 만족하면 1 아니면 0\n",
      "C:\\Users\\sh22h\\AppData\\Local\\Temp\\ipykernel_6868\\376098338.py:9: SettingWithCopyWarning: \n",
      "A value is trying to be set on a copy of a slice from a DataFrame.\n",
      "Try using .loc[row_indexer,col_indexer] = value instead\n",
      "\n",
      "See the caveats in the documentation: https://pandas.pydata.org/pandas-docs/stable/user_guide/indexing.html#returning-a-view-versus-a-copy\n",
      "  dataset['AS1_'+x] = np.where((dataset['AS1_PD'+x] == 2) | (dataset['AS1_TRT'+x] == 2), 1, 0) # 질환여부 정의. AS1_PDㅇㅇ 또는 AS1_TRTㅇㅇ 이 2이면 1 아니면 0\n",
      "C:\\Users\\sh22h\\AppData\\Local\\Temp\\ipykernel_6868\\376098338.py:9: SettingWithCopyWarning: \n",
      "A value is trying to be set on a copy of a slice from a DataFrame.\n",
      "Try using .loc[row_indexer,col_indexer] = value instead\n",
      "\n",
      "See the caveats in the documentation: https://pandas.pydata.org/pandas-docs/stable/user_guide/indexing.html#returning-a-view-versus-a-copy\n",
      "  dataset['AS1_'+x] = np.where((dataset['AS1_PD'+x] == 2) | (dataset['AS1_TRT'+x] == 2), 1, 0) # 질환여부 정의. AS1_PDㅇㅇ 또는 AS1_TRTㅇㅇ 이 2이면 1 아니면 0\n",
      "C:\\Users\\sh22h\\AppData\\Local\\Temp\\ipykernel_6868\\376098338.py:9: SettingWithCopyWarning: \n",
      "A value is trying to be set on a copy of a slice from a DataFrame.\n",
      "Try using .loc[row_indexer,col_indexer] = value instead\n",
      "\n",
      "See the caveats in the documentation: https://pandas.pydata.org/pandas-docs/stable/user_guide/indexing.html#returning-a-view-versus-a-copy\n",
      "  dataset['AS1_'+x] = np.where((dataset['AS1_PD'+x] == 2) | (dataset['AS1_TRT'+x] == 2), 1, 0) # 질환여부 정의. AS1_PDㅇㅇ 또는 AS1_TRTㅇㅇ 이 2이면 1 아니면 0\n",
      "C:\\Users\\sh22h\\AppData\\Local\\Temp\\ipykernel_6868\\376098338.py:9: SettingWithCopyWarning: \n",
      "A value is trying to be set on a copy of a slice from a DataFrame.\n",
      "Try using .loc[row_indexer,col_indexer] = value instead\n",
      "\n",
      "See the caveats in the documentation: https://pandas.pydata.org/pandas-docs/stable/user_guide/indexing.html#returning-a-view-versus-a-copy\n",
      "  dataset['AS1_'+x] = np.where((dataset['AS1_PD'+x] == 2) | (dataset['AS1_TRT'+x] == 2), 1, 0) # 질환여부 정의. AS1_PDㅇㅇ 또는 AS1_TRTㅇㅇ 이 2이면 1 아니면 0\n",
      "C:\\Users\\sh22h\\AppData\\Local\\Temp\\ipykernel_6868\\376098338.py:9: SettingWithCopyWarning: \n",
      "A value is trying to be set on a copy of a slice from a DataFrame.\n",
      "Try using .loc[row_indexer,col_indexer] = value instead\n",
      "\n",
      "See the caveats in the documentation: https://pandas.pydata.org/pandas-docs/stable/user_guide/indexing.html#returning-a-view-versus-a-copy\n",
      "  dataset['AS1_'+x] = np.where((dataset['AS1_PD'+x] == 2) | (dataset['AS1_TRT'+x] == 2), 1, 0) # 질환여부 정의. AS1_PDㅇㅇ 또는 AS1_TRTㅇㅇ 이 2이면 1 아니면 0\n",
      "C:\\Users\\sh22h\\AppData\\Local\\Temp\\ipykernel_6868\\376098338.py:9: SettingWithCopyWarning: \n",
      "A value is trying to be set on a copy of a slice from a DataFrame.\n",
      "Try using .loc[row_indexer,col_indexer] = value instead\n",
      "\n",
      "See the caveats in the documentation: https://pandas.pydata.org/pandas-docs/stable/user_guide/indexing.html#returning-a-view-versus-a-copy\n",
      "  dataset['AS1_'+x] = np.where((dataset['AS1_PD'+x] == 2) | (dataset['AS1_TRT'+x] == 2), 1, 0) # 질환여부 정의. AS1_PDㅇㅇ 또는 AS1_TRTㅇㅇ 이 2이면 1 아니면 0\n",
      "C:\\Users\\sh22h\\AppData\\Local\\Temp\\ipykernel_6868\\376098338.py:9: SettingWithCopyWarning: \n",
      "A value is trying to be set on a copy of a slice from a DataFrame.\n",
      "Try using .loc[row_indexer,col_indexer] = value instead\n",
      "\n",
      "See the caveats in the documentation: https://pandas.pydata.org/pandas-docs/stable/user_guide/indexing.html#returning-a-view-versus-a-copy\n",
      "  dataset['AS1_'+x] = np.where((dataset['AS1_PD'+x] == 2) | (dataset['AS1_TRT'+x] == 2), 1, 0) # 질환여부 정의. AS1_PDㅇㅇ 또는 AS1_TRTㅇㅇ 이 2이면 1 아니면 0\n",
      "C:\\Users\\sh22h\\AppData\\Local\\Temp\\ipykernel_6868\\376098338.py:9: SettingWithCopyWarning: \n",
      "A value is trying to be set on a copy of a slice from a DataFrame.\n",
      "Try using .loc[row_indexer,col_indexer] = value instead\n",
      "\n",
      "See the caveats in the documentation: https://pandas.pydata.org/pandas-docs/stable/user_guide/indexing.html#returning-a-view-versus-a-copy\n",
      "  dataset['AS1_'+x] = np.where((dataset['AS1_PD'+x] == 2) | (dataset['AS1_TRT'+x] == 2), 1, 0) # 질환여부 정의. AS1_PDㅇㅇ 또는 AS1_TRTㅇㅇ 이 2이면 1 아니면 0\n",
      "C:\\Users\\sh22h\\AppData\\Local\\Temp\\ipykernel_6868\\376098338.py:9: SettingWithCopyWarning: \n",
      "A value is trying to be set on a copy of a slice from a DataFrame.\n",
      "Try using .loc[row_indexer,col_indexer] = value instead\n",
      "\n",
      "See the caveats in the documentation: https://pandas.pydata.org/pandas-docs/stable/user_guide/indexing.html#returning-a-view-versus-a-copy\n",
      "  dataset['AS1_'+x] = np.where((dataset['AS1_PD'+x] == 2) | (dataset['AS1_TRT'+x] == 2), 1, 0) # 질환여부 정의. AS1_PDㅇㅇ 또는 AS1_TRTㅇㅇ 이 2이면 1 아니면 0\n",
      "C:\\Users\\sh22h\\AppData\\Local\\Temp\\ipykernel_6868\\376098338.py:9: SettingWithCopyWarning: \n",
      "A value is trying to be set on a copy of a slice from a DataFrame.\n",
      "Try using .loc[row_indexer,col_indexer] = value instead\n",
      "\n",
      "See the caveats in the documentation: https://pandas.pydata.org/pandas-docs/stable/user_guide/indexing.html#returning-a-view-versus-a-copy\n",
      "  dataset['AS1_'+x] = np.where((dataset['AS1_PD'+x] == 2) | (dataset['AS1_TRT'+x] == 2), 1, 0) # 질환여부 정의. AS1_PDㅇㅇ 또는 AS1_TRTㅇㅇ 이 2이면 1 아니면 0\n"
     ]
    }
   ],
   "source": [
    "# 질환유무 가공\n",
    "disease_list = np.array(['HT', 'DM', 'AL', 'MI', 'TH', # 질환 목록\n",
    "                         'CH', 'CD', 'LP', 'AS', 'CL',\n",
    "                         'KD', 'CV', 'GT' ]) # UL, PV, HN, TOTCA1 제외\n",
    "\n",
    "dataset['AS1_ARRM'] = np.where((dataset['AS1_JOAR'] == 2) | (dataset['AS1_JORM'] == 2) | (dataset['AS1_TRTAR'] == 2), 1, 0) # 관절혐은 조건 3가지 만족하면 1 아니면 0\n",
    "\n",
    "for x in disease_list:\n",
    "    dataset['AS1_'+x] = np.where((dataset['AS1_PD'+x] == 2) | (dataset['AS1_TRT'+x] == 2), 1, 0) # 질환여부 정의. AS1_PDㅇㅇ 또는 AS1_TRTㅇㅇ 이 2이면 1 아니면 0\n"
   ]
  },
  {
   "cell_type": "code",
   "execution_count": 7,
   "metadata": {
    "ExecuteTime": {
     "start_time": "2023-08-18T19:39:02.245881Z",
     "end_time": "2023-08-18T19:39:02.401879Z"
    }
   },
   "outputs": [
    {
     "name": "stderr",
     "output_type": "stream",
     "text": [
      "C:\\Users\\sh22h\\AppData\\Local\\Temp\\ipykernel_6868\\1121918423.py:6: SettingWithCopyWarning: \n",
      "A value is trying to be set on a copy of a slice from a DataFrame.\n",
      "Try using .loc[row_indexer,col_indexer] = value instead\n",
      "\n",
      "See the caveats in the documentation: https://pandas.pydata.org/pandas-docs/stable/user_guide/indexing.html#returning-a-view-versus-a-copy\n",
      "  dataset['AS1_DR'+x] = np.where((dataset['AS1_DRUG'+x] == 2) | (dataset['AS1_DRUG'+x+'CU'] == 2), 1, 0)\n",
      "C:\\Users\\sh22h\\AppData\\Local\\Temp\\ipykernel_6868\\1121918423.py:6: SettingWithCopyWarning: \n",
      "A value is trying to be set on a copy of a slice from a DataFrame.\n",
      "Try using .loc[row_indexer,col_indexer] = value instead\n",
      "\n",
      "See the caveats in the documentation: https://pandas.pydata.org/pandas-docs/stable/user_guide/indexing.html#returning-a-view-versus-a-copy\n",
      "  dataset['AS1_DR'+x] = np.where((dataset['AS1_DRUG'+x] == 2) | (dataset['AS1_DRUG'+x+'CU'] == 2), 1, 0)\n",
      "C:\\Users\\sh22h\\AppData\\Local\\Temp\\ipykernel_6868\\1121918423.py:6: SettingWithCopyWarning: \n",
      "A value is trying to be set on a copy of a slice from a DataFrame.\n",
      "Try using .loc[row_indexer,col_indexer] = value instead\n",
      "\n",
      "See the caveats in the documentation: https://pandas.pydata.org/pandas-docs/stable/user_guide/indexing.html#returning-a-view-versus-a-copy\n",
      "  dataset['AS1_DR'+x] = np.where((dataset['AS1_DRUG'+x] == 2) | (dataset['AS1_DRUG'+x+'CU'] == 2), 1, 0)\n",
      "C:\\Users\\sh22h\\AppData\\Local\\Temp\\ipykernel_6868\\1121918423.py:6: SettingWithCopyWarning: \n",
      "A value is trying to be set on a copy of a slice from a DataFrame.\n",
      "Try using .loc[row_indexer,col_indexer] = value instead\n",
      "\n",
      "See the caveats in the documentation: https://pandas.pydata.org/pandas-docs/stable/user_guide/indexing.html#returning-a-view-versus-a-copy\n",
      "  dataset['AS1_DR'+x] = np.where((dataset['AS1_DRUG'+x] == 2) | (dataset['AS1_DRUG'+x+'CU'] == 2), 1, 0)\n",
      "C:\\Users\\sh22h\\AppData\\Local\\Temp\\ipykernel_6868\\1121918423.py:6: SettingWithCopyWarning: \n",
      "A value is trying to be set on a copy of a slice from a DataFrame.\n",
      "Try using .loc[row_indexer,col_indexer] = value instead\n",
      "\n",
      "See the caveats in the documentation: https://pandas.pydata.org/pandas-docs/stable/user_guide/indexing.html#returning-a-view-versus-a-copy\n",
      "  dataset['AS1_DR'+x] = np.where((dataset['AS1_DRUG'+x] == 2) | (dataset['AS1_DRUG'+x+'CU'] == 2), 1, 0)\n",
      "C:\\Users\\sh22h\\AppData\\Local\\Temp\\ipykernel_6868\\1121918423.py:6: SettingWithCopyWarning: \n",
      "A value is trying to be set on a copy of a slice from a DataFrame.\n",
      "Try using .loc[row_indexer,col_indexer] = value instead\n",
      "\n",
      "See the caveats in the documentation: https://pandas.pydata.org/pandas-docs/stable/user_guide/indexing.html#returning-a-view-versus-a-copy\n",
      "  dataset['AS1_DR'+x] = np.where((dataset['AS1_DRUG'+x] == 2) | (dataset['AS1_DRUG'+x+'CU'] == 2), 1, 0)\n",
      "C:\\Users\\sh22h\\AppData\\Local\\Temp\\ipykernel_6868\\1121918423.py:6: SettingWithCopyWarning: \n",
      "A value is trying to be set on a copy of a slice from a DataFrame.\n",
      "Try using .loc[row_indexer,col_indexer] = value instead\n",
      "\n",
      "See the caveats in the documentation: https://pandas.pydata.org/pandas-docs/stable/user_guide/indexing.html#returning-a-view-versus-a-copy\n",
      "  dataset['AS1_DR'+x] = np.where((dataset['AS1_DRUG'+x] == 2) | (dataset['AS1_DRUG'+x+'CU'] == 2), 1, 0)\n",
      "C:\\Users\\sh22h\\AppData\\Local\\Temp\\ipykernel_6868\\1121918423.py:6: SettingWithCopyWarning: \n",
      "A value is trying to be set on a copy of a slice from a DataFrame.\n",
      "Try using .loc[row_indexer,col_indexer] = value instead\n",
      "\n",
      "See the caveats in the documentation: https://pandas.pydata.org/pandas-docs/stable/user_guide/indexing.html#returning-a-view-versus-a-copy\n",
      "  dataset['AS1_DR'+x] = np.where((dataset['AS1_DRUG'+x] == 2) | (dataset['AS1_DRUG'+x+'CU'] == 2), 1, 0)\n",
      "C:\\Users\\sh22h\\AppData\\Local\\Temp\\ipykernel_6868\\1121918423.py:6: SettingWithCopyWarning: \n",
      "A value is trying to be set on a copy of a slice from a DataFrame.\n",
      "Try using .loc[row_indexer,col_indexer] = value instead\n",
      "\n",
      "See the caveats in the documentation: https://pandas.pydata.org/pandas-docs/stable/user_guide/indexing.html#returning-a-view-versus-a-copy\n",
      "  dataset['AS1_DR'+x] = np.where((dataset['AS1_DRUG'+x] == 2) | (dataset['AS1_DRUG'+x+'CU'] == 2), 1, 0)\n",
      "C:\\Users\\sh22h\\AppData\\Local\\Temp\\ipykernel_6868\\1121918423.py:6: SettingWithCopyWarning: \n",
      "A value is trying to be set on a copy of a slice from a DataFrame.\n",
      "Try using .loc[row_indexer,col_indexer] = value instead\n",
      "\n",
      "See the caveats in the documentation: https://pandas.pydata.org/pandas-docs/stable/user_guide/indexing.html#returning-a-view-versus-a-copy\n",
      "  dataset['AS1_DR'+x] = np.where((dataset['AS1_DRUG'+x] == 2) | (dataset['AS1_DRUG'+x+'CU'] == 2), 1, 0)\n",
      "C:\\Users\\sh22h\\AppData\\Local\\Temp\\ipykernel_6868\\1121918423.py:6: SettingWithCopyWarning: \n",
      "A value is trying to be set on a copy of a slice from a DataFrame.\n",
      "Try using .loc[row_indexer,col_indexer] = value instead\n",
      "\n",
      "See the caveats in the documentation: https://pandas.pydata.org/pandas-docs/stable/user_guide/indexing.html#returning-a-view-versus-a-copy\n",
      "  dataset['AS1_DR'+x] = np.where((dataset['AS1_DRUG'+x] == 2) | (dataset['AS1_DRUG'+x+'CU'] == 2), 1, 0)\n",
      "C:\\Users\\sh22h\\AppData\\Local\\Temp\\ipykernel_6868\\1121918423.py:6: SettingWithCopyWarning: \n",
      "A value is trying to be set on a copy of a slice from a DataFrame.\n",
      "Try using .loc[row_indexer,col_indexer] = value instead\n",
      "\n",
      "See the caveats in the documentation: https://pandas.pydata.org/pandas-docs/stable/user_guide/indexing.html#returning-a-view-versus-a-copy\n",
      "  dataset['AS1_DR'+x] = np.where((dataset['AS1_DRUG'+x] == 2) | (dataset['AS1_DRUG'+x+'CU'] == 2), 1, 0)\n",
      "C:\\Users\\sh22h\\AppData\\Local\\Temp\\ipykernel_6868\\1121918423.py:6: SettingWithCopyWarning: \n",
      "A value is trying to be set on a copy of a slice from a DataFrame.\n",
      "Try using .loc[row_indexer,col_indexer] = value instead\n",
      "\n",
      "See the caveats in the documentation: https://pandas.pydata.org/pandas-docs/stable/user_guide/indexing.html#returning-a-view-versus-a-copy\n",
      "  dataset['AS1_DR'+x] = np.where((dataset['AS1_DRUG'+x] == 2) | (dataset['AS1_DRUG'+x+'CU'] == 2), 1, 0)\n"
     ]
    }
   ],
   "source": [
    "# 약물력 가공\n",
    "drug_list = np.array(['ST', 'CP', 'INS', 'HT', 'AR', \n",
    "                      'TH', 'FH', 'OS', 'STK', 'AS',\n",
    "                      'LP', 'SP', 'SL'])  # UL, DM, CP, HP 제외 SP, SL 추가\n",
    "for x in drug_list:\n",
    "    dataset['AS1_DR'+x] = np.where((dataset['AS1_DRUG'+x] == 2) | (dataset['AS1_DRUG'+x+'CU'] == 2), 1, 0)\n"
   ]
  },
  {
   "cell_type": "code",
   "execution_count": 8,
   "metadata": {
    "ExecuteTime": {
     "start_time": "2023-08-18T19:39:02.275879Z",
     "end_time": "2023-08-18T19:39:02.401879Z"
    }
   },
   "outputs": [
    {
     "name": "stderr",
     "output_type": "stream",
     "text": [
      "C:\\Users\\sh22h\\AppData\\Local\\Temp\\ipykernel_6868\\1486024573.py:16: SettingWithCopyWarning: \n",
      "A value is trying to be set on a copy of a slice from a DataFrame.\n",
      "Try using .loc[row_indexer,col_indexer] = value instead\n",
      "\n",
      "See the caveats in the documentation: https://pandas.pydata.org/pandas-docs/stable/user_guide/indexing.html#returning-a-view-versus-a-copy\n",
      "  dataset[f'AS1_FM{disease}REL_N'] = np.all(dataset[[f'AS1_FM{disease}REL{i}A' for i in range(1, num_family+1)]] == 99999, axis=1).astype(int)\n",
      "C:\\Users\\sh22h\\AppData\\Local\\Temp\\ipykernel_6868\\1486024573.py:17: SettingWithCopyWarning: \n",
      "A value is trying to be set on a copy of a slice from a DataFrame.\n",
      "Try using .loc[row_indexer,col_indexer] = value instead\n",
      "\n",
      "See the caveats in the documentation: https://pandas.pydata.org/pandas-docs/stable/user_guide/indexing.html#returning-a-view-versus-a-copy\n",
      "  dataset[f'AS1_FM{disease}REL_P'] = np.any(dataset[[f'AS1_FM{disease}REL{i}A' for i in range(1, num_family+1)]] <= 2, axis=1).astype(int)\n",
      "C:\\Users\\sh22h\\AppData\\Local\\Temp\\ipykernel_6868\\1486024573.py:18: SettingWithCopyWarning: \n",
      "A value is trying to be set on a copy of a slice from a DataFrame.\n",
      "Try using .loc[row_indexer,col_indexer] = value instead\n",
      "\n",
      "See the caveats in the documentation: https://pandas.pydata.org/pandas-docs/stable/user_guide/indexing.html#returning-a-view-versus-a-copy\n",
      "  dataset[f'AS1_FM{disease}REL_S'] = np.any(dataset[[f'AS1_FM{disease}REL{i}A' for i in range(1, num_family+1)]] == 3, axis=1).astype(int)\n",
      "C:\\Users\\sh22h\\AppData\\Local\\Temp\\ipykernel_6868\\1486024573.py:19: SettingWithCopyWarning: \n",
      "A value is trying to be set on a copy of a slice from a DataFrame.\n",
      "Try using .loc[row_indexer,col_indexer] = value instead\n",
      "\n",
      "See the caveats in the documentation: https://pandas.pydata.org/pandas-docs/stable/user_guide/indexing.html#returning-a-view-versus-a-copy\n",
      "  dataset[f'AS1_FM{disease}REL_O'] = np.any(dataset[[f'AS1_FM{disease}REL{i}A' for i in range(1, num_family+1)]] == 4, axis=1).astype(int)\n"
     ]
    }
   ],
   "source": [
    "# 와 ChatGPT가 아니었다면 np.all과 np.any를 몰랐을거야!\n",
    "# 가족력 가공\n",
    "# N: 가족력 없음, P: parent 부모, S: sibling 형제자매, O: other 기타\n",
    "# N: REL1A~4A까지 99999\n",
    "# P: REL1A~4A중 1, 2 있을 때\n",
    "# S: REL1A~4A중 3 있을 때\n",
    "# O: REL1A~4A중 4 있을 때\n",
    "\n",
    "# disease_dict = {\n",
    "#     'HT': 4, 'DM': 4, 'CVA': 3, 'HE': 2, 'OS': 2,\n",
    "#     'CVB': 2, 'CD': 2, 'PV': 2, 'LP': 2, 'GT': 2,'CH': 1\n",
    "# }\n",
    "disease_dict = { 'OS': 2 }\n",
    "\n",
    "for disease, num_family in disease_dict.items():\n",
    "    dataset[f'AS1_FM{disease}REL_N'] = np.all(dataset[[f'AS1_FM{disease}REL{i}A' for i in range(1, num_family+1)]] == 99999, axis=1).astype(int)\n",
    "    dataset[f'AS1_FM{disease}REL_P'] = np.any(dataset[[f'AS1_FM{disease}REL{i}A' for i in range(1, num_family+1)]] <= 2, axis=1).astype(int)\n",
    "    dataset[f'AS1_FM{disease}REL_S'] = np.any(dataset[[f'AS1_FM{disease}REL{i}A' for i in range(1, num_family+1)]] == 3, axis=1).astype(int)\n",
    "    dataset[f'AS1_FM{disease}REL_O'] = np.any(dataset[[f'AS1_FM{disease}REL{i}A' for i in range(1, num_family+1)]] == 4, axis=1).astype(int)"
   ]
  },
  {
   "cell_type": "code",
   "execution_count": 9,
   "metadata": {
    "ExecuteTime": {
     "start_time": "2023-08-18T19:39:02.291879Z",
     "end_time": "2023-08-18T19:39:02.402879Z"
    }
   },
   "outputs": [
    {
     "data": {
      "text/plain": "               AS1_FMOSREL_N  AS1_FMOSREL_P  AS1_FMOSREL_S  AS1_FMOSREL_O\nDIST_ID                                                                  \nNIH2307713334              0              0              0              0\nNIH2307455306              0              0              0              0\nNIH2307137554              0              0              0              0\nNIH2307649667              0              0              0              0\nNIH2307899915              0              1              0              0\n...                      ...            ...            ...            ...\nNIH2307591031              0              0              0              0\nNIH2307808901              0              0              0              0\nNIH2307930134              0              0              0              0\nNIH2307023172              0              0              0              0\nNIH2307534318              0              0              0              0\n\n[4680 rows x 4 columns]",
      "text/html": "<div>\n<style scoped>\n    .dataframe tbody tr th:only-of-type {\n        vertical-align: middle;\n    }\n\n    .dataframe tbody tr th {\n        vertical-align: top;\n    }\n\n    .dataframe thead th {\n        text-align: right;\n    }\n</style>\n<table border=\"1\" class=\"dataframe\">\n  <thead>\n    <tr style=\"text-align: right;\">\n      <th></th>\n      <th>AS1_FMOSREL_N</th>\n      <th>AS1_FMOSREL_P</th>\n      <th>AS1_FMOSREL_S</th>\n      <th>AS1_FMOSREL_O</th>\n    </tr>\n    <tr>\n      <th>DIST_ID</th>\n      <th></th>\n      <th></th>\n      <th></th>\n      <th></th>\n    </tr>\n  </thead>\n  <tbody>\n    <tr>\n      <th>NIH2307713334</th>\n      <td>0</td>\n      <td>0</td>\n      <td>0</td>\n      <td>0</td>\n    </tr>\n    <tr>\n      <th>NIH2307455306</th>\n      <td>0</td>\n      <td>0</td>\n      <td>0</td>\n      <td>0</td>\n    </tr>\n    <tr>\n      <th>NIH2307137554</th>\n      <td>0</td>\n      <td>0</td>\n      <td>0</td>\n      <td>0</td>\n    </tr>\n    <tr>\n      <th>NIH2307649667</th>\n      <td>0</td>\n      <td>0</td>\n      <td>0</td>\n      <td>0</td>\n    </tr>\n    <tr>\n      <th>NIH2307899915</th>\n      <td>0</td>\n      <td>1</td>\n      <td>0</td>\n      <td>0</td>\n    </tr>\n    <tr>\n      <th>...</th>\n      <td>...</td>\n      <td>...</td>\n      <td>...</td>\n      <td>...</td>\n    </tr>\n    <tr>\n      <th>NIH2307591031</th>\n      <td>0</td>\n      <td>0</td>\n      <td>0</td>\n      <td>0</td>\n    </tr>\n    <tr>\n      <th>NIH2307808901</th>\n      <td>0</td>\n      <td>0</td>\n      <td>0</td>\n      <td>0</td>\n    </tr>\n    <tr>\n      <th>NIH2307930134</th>\n      <td>0</td>\n      <td>0</td>\n      <td>0</td>\n      <td>0</td>\n    </tr>\n    <tr>\n      <th>NIH2307023172</th>\n      <td>0</td>\n      <td>0</td>\n      <td>0</td>\n      <td>0</td>\n    </tr>\n    <tr>\n      <th>NIH2307534318</th>\n      <td>0</td>\n      <td>0</td>\n      <td>0</td>\n      <td>0</td>\n    </tr>\n  </tbody>\n</table>\n<p>4680 rows × 4 columns</p>\n</div>"
     },
     "execution_count": 9,
     "metadata": {},
     "output_type": "execute_result"
    }
   ],
   "source": [
    "dataset[[f'AS1_FM{disease}REL_{family}' for disease in disease_dict.keys() for family in ['N', 'P', 'S', 'O']]]"
   ]
  },
  {
   "cell_type": "markdown",
   "source": [
    "### 여성력 가공\n",
    "\n",
    "- ~~질환~~\n",
    "- 약물\n",
    "- 기타 수술 (AS1_OBGYOP)\n",
    "    - 자궁경부암수술/ 자궁암수술/ 자궁내막암/자궁경부암,나팔관제거수술/ 만 1 나머지는 0"
   ],
   "metadata": {
    "collapsed": false
   }
  },
  {
   "cell_type": "code",
   "execution_count": 10,
   "metadata": {
    "ExecuteTime": {
     "start_time": "2023-08-18T19:39:02.306879Z",
     "end_time": "2023-08-18T19:39:02.403880Z"
    }
   },
   "outputs": [
    {
     "name": "stderr",
     "output_type": "stream",
     "text": [
      "C:\\Users\\sh22h\\AppData\\Local\\Temp\\ipykernel_6868\\3218887834.py:11: SettingWithCopyWarning: \n",
      "A value is trying to be set on a copy of a slice from a DataFrame.\n",
      "Try using .loc[row_indexer,col_indexer] = value instead\n",
      "\n",
      "See the caveats in the documentation: https://pandas.pydata.org/pandas-docs/stable/user_guide/indexing.html#returning-a-view-versus-a-copy\n",
      "  dataset['AS1_DR'+x] = np.where((dataset['AS1_DRUG'+x] == 2) | (dataset['AS1_DRUG'+x+'CU'] == 2), 1, 0)\n"
     ]
    }
   ],
   "source": [
    "# 여성력 가공\n",
    "# 남성 데이터 셋을 제거하여 필요없음\n",
    "\n",
    "# 남자일 경우: 0 여자일 경우: 그대로\n",
    "# for x in ['CP', 'FH']:\n",
    "#     dataset['AS1_DR'+x] = np.where(dataset['AS1_SEX'] == '1',\n",
    "#                                    0,\n",
    "#                                    np.where((dataset['AS1_DRUG'+x] == 2) | (dataset['AS1_DRUG'+x+'CU'] == 2), 2, 1))\n",
    "\n",
    "for x in ['CP', 'FH']:\n",
    "    dataset['AS1_DR'+x] = np.where((dataset['AS1_DRUG'+x] == 2) | (dataset['AS1_DRUG'+x+'CU'] == 2), 1, 0)\n",
    "\n",
    "    \n",
    "# women = np.array(['AS1_PREG', 'AS1_HYST', 'AS1_HYSTOVARYW', 'AS1_OVARYW',\n",
    "#                   'AS1_OBGYOP', 'AS1_BRCA', 'AS1_DRCP', 'AS1_DRFH'])\n",
    "#\n",
    "# for x in women:\n",
    "#     dataset[x] = np.where((dataset['AS1_SEX'] == 1), 0, dataset[x])"
   ]
  },
  {
   "cell_type": "markdown",
   "source": [
    "### 앉은 자세 혈압\n",
    "- AS1_BPSit1SYS\n",
    "    - AS1_BPSit1LS, AS1_BPSit1RS 변수 중 높은 값\n",
    "- AS1_BPSit1DIA\n",
    "    - AS1_BPSit1LD,  AS1_BPSit1RD  변수 중 높은 값"
   ],
   "metadata": {
    "collapsed": false
   }
  },
  {
   "cell_type": "code",
   "execution_count": 11,
   "outputs": [
    {
     "name": "stderr",
     "output_type": "stream",
     "text": [
      "C:\\Users\\sh22h\\AppData\\Local\\Temp\\ipykernel_6868\\2122532319.py:1: SettingWithCopyWarning: \n",
      "A value is trying to be set on a copy of a slice from a DataFrame.\n",
      "Try using .loc[row_indexer,col_indexer] = value instead\n",
      "\n",
      "See the caveats in the documentation: https://pandas.pydata.org/pandas-docs/stable/user_guide/indexing.html#returning-a-view-versus-a-copy\n",
      "  dataset['AS1_BPSIT1SYS'] = np.where(dataset['AS1_BPSIT1LS'] > dataset['AS1_BPSIT1RS'], dataset['AS1_BPSIT1LS'], dataset['AS1_BPSIT1RS'])\n",
      "C:\\Users\\sh22h\\AppData\\Local\\Temp\\ipykernel_6868\\2122532319.py:3: SettingWithCopyWarning: \n",
      "A value is trying to be set on a copy of a slice from a DataFrame.\n",
      "Try using .loc[row_indexer,col_indexer] = value instead\n",
      "\n",
      "See the caveats in the documentation: https://pandas.pydata.org/pandas-docs/stable/user_guide/indexing.html#returning-a-view-versus-a-copy\n",
      "  dataset['AS1_BPSIT1DIA'] = np.where(dataset['AS1_BPSIT1LD'] > dataset['AS1_BPSIT1RD'], dataset['AS1_BPSIT1LD'], dataset['AS1_BPSIT1RD'])\n"
     ]
    }
   ],
   "source": [
    "dataset['AS1_BPSIT1SYS'] = np.where(dataset['AS1_BPSIT1LS'] > dataset['AS1_BPSIT1RS'], dataset['AS1_BPSIT1LS'], dataset['AS1_BPSIT1RS'])\n",
    "\n",
    "dataset['AS1_BPSIT1DIA'] = np.where(dataset['AS1_BPSIT1LD'] > dataset['AS1_BPSIT1RD'], dataset['AS1_BPSIT1LD'], dataset['AS1_BPSIT1RD'])"
   ],
   "metadata": {
    "collapsed": false,
    "ExecuteTime": {
     "start_time": "2023-08-18T19:39:02.323879Z",
     "end_time": "2023-08-18T19:39:02.403880Z"
    }
   }
  },
  {
   "cell_type": "markdown",
   "source": [
    "### 타입 별 분리"
   ],
   "metadata": {
    "collapsed": false
   }
  },
  {
   "cell_type": "code",
   "execution_count": 12,
   "metadata": {
    "collapsed": false,
    "ExecuteTime": {
     "start_time": "2023-08-18T19:39:02.337879Z",
     "end_time": "2023-08-18T19:39:02.403880Z"
    }
   },
   "outputs": [],
   "source": [
    "# var_to_use의 각 열 가져옴\n",
    "\n",
    "raw_binary = dataset.reindex(columns=(var_to_use['binary'].dropna()))\n",
    "raw_cath0 = dataset.reindex(columns=(var_to_use['cath0'].dropna()))\n",
    "raw_cath1 = dataset.reindex(columns=(var_to_use['cath1'].dropna()))\n",
    "raw_cnt = dataset.reindex(columns=(var_to_use['cnt'].dropna()))\n",
    "raw_label = dataset.reindex(columns=(var_to_use['dependent'].dropna()))"
   ]
  },
  {
   "cell_type": "code",
   "execution_count": 13,
   "metadata": {
    "ExecuteTime": {
     "start_time": "2023-08-18T19:39:02.351879Z",
     "end_time": "2023-08-18T19:39:02.404880Z"
    }
   },
   "outputs": [
    {
     "data": {
      "text/plain": "Series([], dtype: float64)"
     },
     "execution_count": 13,
     "metadata": {},
     "output_type": "execute_result"
    }
   ],
   "source": [
    "# null인 행이 있다.... 코드북과 데이터셋이 불일치한다.\n",
    "target = raw_cnt\n",
    "null_cell = pd.Series(index=target.columns)\n",
    "null_cell = null_cell[target.isnull().sum() >= len(dataset)]  # 코드북에 없는 데이터 리스트\n",
    "null_cell"
   ]
  },
  {
   "cell_type": "code",
   "execution_count": 14,
   "metadata": {
    "collapsed": false,
    "ExecuteTime": {
     "start_time": "2023-08-18T19:39:02.367878Z",
     "end_time": "2023-08-18T19:39:02.520879Z"
    }
   },
   "outputs": [
    {
     "data": {
      "text/plain": "dependent      AS1_DT  AS1_MT\nDIST_ID                      \nNIH2307713334    -0.4     0.4\nNIH2307455306     0.0    -1.0\nNIH2307137554    -1.8    -1.9\nNIH2307649667    -2.0    -1.7\nNIH2307899915     0.1    -0.1\n...               ...     ...\nNIH2307591031    -3.0     0.2\nNIH2307808901    -3.3    -4.1\nNIH2307930134    -3.9    -2.4\nNIH2307023172    -2.0     0.8\nNIH2307534318    -1.0     0.9\n\n[4680 rows x 2 columns]",
      "text/html": "<div>\n<style scoped>\n    .dataframe tbody tr th:only-of-type {\n        vertical-align: middle;\n    }\n\n    .dataframe tbody tr th {\n        vertical-align: top;\n    }\n\n    .dataframe thead th {\n        text-align: right;\n    }\n</style>\n<table border=\"1\" class=\"dataframe\">\n  <thead>\n    <tr style=\"text-align: right;\">\n      <th>dependent</th>\n      <th>AS1_DT</th>\n      <th>AS1_MT</th>\n    </tr>\n    <tr>\n      <th>DIST_ID</th>\n      <th></th>\n      <th></th>\n    </tr>\n  </thead>\n  <tbody>\n    <tr>\n      <th>NIH2307713334</th>\n      <td>-0.4</td>\n      <td>0.4</td>\n    </tr>\n    <tr>\n      <th>NIH2307455306</th>\n      <td>0.0</td>\n      <td>-1.0</td>\n    </tr>\n    <tr>\n      <th>NIH2307137554</th>\n      <td>-1.8</td>\n      <td>-1.9</td>\n    </tr>\n    <tr>\n      <th>NIH2307649667</th>\n      <td>-2.0</td>\n      <td>-1.7</td>\n    </tr>\n    <tr>\n      <th>NIH2307899915</th>\n      <td>0.1</td>\n      <td>-0.1</td>\n    </tr>\n    <tr>\n      <th>...</th>\n      <td>...</td>\n      <td>...</td>\n    </tr>\n    <tr>\n      <th>NIH2307591031</th>\n      <td>-3.0</td>\n      <td>0.2</td>\n    </tr>\n    <tr>\n      <th>NIH2307808901</th>\n      <td>-3.3</td>\n      <td>-4.1</td>\n    </tr>\n    <tr>\n      <th>NIH2307930134</th>\n      <td>-3.9</td>\n      <td>-2.4</td>\n    </tr>\n    <tr>\n      <th>NIH2307023172</th>\n      <td>-2.0</td>\n      <td>0.8</td>\n    </tr>\n    <tr>\n      <th>NIH2307534318</th>\n      <td>-1.0</td>\n      <td>0.9</td>\n    </tr>\n  </tbody>\n</table>\n<p>4680 rows × 2 columns</p>\n</div>"
     },
     "execution_count": 14,
     "metadata": {},
     "output_type": "execute_result"
    }
   ],
   "source": [
    "raw_label"
   ]
  },
  {
   "attachments": {},
   "cell_type": "markdown",
   "metadata": {},
   "source": [
    "### 결측값 대치 (문제 있음)\n",
    "- 일부 데이터의 많은 결측값\n",
    "  - 77777 -> 0\n",
    "    - AS1_TOTALC\n",
    "    - AS1_HVSMAM\n",
    "  - 99999 -> ?\n",
    "    - AS1_FMOSREL1A\n",
    "    - AS1_CA_U\n",
    "    - AS1_NA_U\n",
    "    - AS1_K_U\n",
    "\n",
    "  - 변수 정리할 때까지, 그냥 0으로 대체"
   ]
  },
  {
   "cell_type": "code",
   "execution_count": 15,
   "metadata": {
    "collapsed": false,
    "ExecuteTime": {
     "start_time": "2023-08-18T19:39:02.383880Z",
     "end_time": "2023-08-18T19:39:02.536879Z"
    }
   },
   "outputs": [],
   "source": [
    "# 원 데이터의 결측값 모두 0으로 대치\n",
    "raw_binary = raw_binary.fillna(0)\n",
    "raw_cath0 = raw_cath0.fillna(0)\n",
    "raw_cath1 = raw_cath1.fillna(0)\n",
    "raw_cnt = raw_cnt.fillna(0)\n",
    "\n",
    "raw_label = raw_label.fillna(0)"
   ]
  },
  {
   "cell_type": "markdown",
   "source": [
    "### 데이터 균일 분포에 매핑\n",
    "\n",
    "- QuantileTransformer\n",
    "> QuantileTransformer provides a non-parametric transformation to map the data to a uniform distribution with values between 0 and 1"
   ],
   "metadata": {
    "collapsed": false
   }
  },
  {
   "cell_type": "code",
   "execution_count": 16,
   "outputs": [],
   "source": [
    "quantile_transformer = QuantileTransformer(random_state=0)"
   ],
   "metadata": {
    "collapsed": false,
    "ExecuteTime": {
     "start_time": "2023-08-18T19:39:02.399878Z",
     "end_time": "2023-08-18T19:39:02.554879Z"
    }
   }
  },
  {
   "cell_type": "code",
   "execution_count": 17,
   "metadata": {
    "collapsed": false,
    "ExecuteTime": {
     "start_time": "2023-08-18T19:39:02.417878Z",
     "end_time": "2023-08-18T19:39:02.616878Z"
    }
   },
   "outputs": [],
   "source": [
    "binary = pd.DataFrame(quantile_transformer.fit_transform(raw_binary), index=dataset.index, columns=raw_binary.columns).astype('float')\n",
    "cath1 = pd.DataFrame(quantile_transformer.fit_transform(raw_cath1), index=dataset.index, columns=raw_cath1.columns).astype('float')\n",
    "cnt = pd.DataFrame(quantile_transformer.fit_transform(raw_cnt), index=dataset.index, columns=raw_cnt.columns).astype('float')\n",
    "\n",
    "cath0 = pd.get_dummies(raw_cath0, columns=raw_cath0.columns, drop_first=True, dtype='float64') # one-hot-encoding\n",
    "\n",
    "label = pd.DataFrame(quantile_transformer.fit_transform(raw_label), index=dataset.index, columns=raw_label.columns).astype('float')"
   ]
  },
  {
   "cell_type": "markdown",
   "source": [
    "## 데이터셋 분리 및 csv로 변환\n",
    "\n",
    "- ~~남성~~ 사용 안 함\n",
    "- 여성(폐경 전) < AS1_PMYN_C: 1\n",
    "    - X_premeno_woman\n",
    "    - y_premeno_woman\n",
    "- 여성(폐경 후) < AS1_PMYN_C: 2\n",
    "    - X_postmeno_woman\n",
    "    - y_postmeno_woman"
   ],
   "metadata": {
    "collapsed": false
   }
  },
  {
   "cell_type": "code",
   "execution_count": 18,
   "metadata": {
    "collapsed": false,
    "ExecuteTime": {
     "start_time": "2023-08-18T19:39:02.540881Z",
     "end_time": "2023-08-18T19:39:02.696878Z"
    }
   },
   "outputs": [],
   "source": [
    "X = pd.concat([binary, cath0, cath1, cnt], axis=1)\n",
    "y = dataset['OP']\n",
    "\n",
    "post_processing = pd.concat([X, y])"
   ]
  },
  {
   "cell_type": "code",
   "execution_count": 19,
   "outputs": [
    {
     "data": {
      "text/plain": "               AS1_SEX  AS1_HT  AS1_DM  AS1_AL  AS1_MI  AS1_TH  AS1_CH   \nDIST_ID                                                                  \nNIH2307713334      0.0     0.0     0.0     0.0     0.0     0.0     0.0  \\\nNIH2307455306      0.0     0.0     0.0     1.0     0.0     0.0     0.0   \nNIH2307137554      0.0     0.0     0.0     0.0     0.0     0.0     0.0   \nNIH2307649667      0.0     0.0     0.0     1.0     0.0     0.0     0.0   \nNIH2307899915      0.0     0.0     0.0     0.0     0.0     0.0     0.0   \n...                ...     ...     ...     ...     ...     ...     ...   \nNIH2307591031      NaN     NaN     NaN     NaN     NaN     NaN     NaN   \nNIH2307808901      NaN     NaN     NaN     NaN     NaN     NaN     NaN   \nNIH2307930134      NaN     NaN     NaN     NaN     NaN     NaN     NaN   \nNIH2307023172      NaN     NaN     NaN     NaN     NaN     NaN     NaN   \nNIH2307534318      NaN     NaN     NaN     NaN     NaN     NaN     NaN   \n\n               AS1_CD  AS1_LP  AS1_AS  ...   AS1_BMI  AS1_BDFTR  AS1_BDCMSC   \nDIST_ID                                ...                                    \nNIH2307713334     0.0     0.0     0.0  ...  0.520397   0.747247    0.318819  \\\nNIH2307455306     0.0     0.0     0.0  ...  0.704259   0.664164    0.842342   \nNIH2307137554     0.0     0.0     0.0  ...  0.125125   0.392392    0.071071   \nNIH2307649667     0.0     0.0     0.0  ...  0.879889   0.775776    0.733233   \nNIH2307899915     0.0     0.0     0.0  ...  0.295398   0.200701    0.625626   \n...               ...     ...     ...  ...       ...        ...         ...   \nNIH2307591031     NaN     NaN     NaN  ...       NaN        NaN         NaN   \nNIH2307808901     NaN     NaN     NaN  ...       NaN        NaN         NaN   \nNIH2307930134     NaN     NaN     NaN  ...       NaN        NaN         NaN   \nNIH2307023172     NaN     NaN     NaN  ...       NaN        NaN         NaN   \nNIH2307534318     NaN     NaN     NaN  ...       NaN        NaN         NaN   \n\n               AS1_BPSIT1LS  AS1_BPSIT1RS  AS1_BPSIT1SYS  AS1_BPSIT1LD   \nDIST_ID                                                                  \nNIH2307713334      0.139139      0.125125       0.086587      0.251752  \\\nNIH2307455306      0.543043      0.467968       0.469970      0.565065   \nNIH2307137554      0.978979      0.987988       0.984484      0.946446   \nNIH2307649667      0.543043      0.628128       0.583083      0.565065   \nNIH2307899915      0.180681      0.125125       0.117618      0.251752   \n...                     ...           ...            ...           ...   \nNIH2307591031           NaN           NaN            NaN           NaN   \nNIH2307808901           NaN           NaN            NaN           NaN   \nNIH2307930134           NaN           NaN            NaN           NaN   \nNIH2307023172           NaN           NaN            NaN           NaN   \nNIH2307534318           NaN           NaN            NaN           NaN   \n\n               AS1_BPSIT1RD  AS1_BPSIT1DIA    0  \nDIST_ID                                          \nNIH2307713334      0.045045       0.172172  NaN  \nNIH2307455306      0.459960       0.479479  NaN  \nNIH2307137554      0.967467       0.952953  NaN  \nNIH2307649667      0.632633       0.565566  NaN  \nNIH2307899915      0.371872       0.304304  NaN  \n...                     ...            ...  ...  \nNIH2307591031           NaN            NaN  1.0  \nNIH2307808901           NaN            NaN  1.0  \nNIH2307930134           NaN            NaN  1.0  \nNIH2307023172           NaN            NaN  0.0  \nNIH2307534318           NaN            NaN  0.0  \n\n[9360 rows x 140 columns]",
      "text/html": "<div>\n<style scoped>\n    .dataframe tbody tr th:only-of-type {\n        vertical-align: middle;\n    }\n\n    .dataframe tbody tr th {\n        vertical-align: top;\n    }\n\n    .dataframe thead th {\n        text-align: right;\n    }\n</style>\n<table border=\"1\" class=\"dataframe\">\n  <thead>\n    <tr style=\"text-align: right;\">\n      <th></th>\n      <th>AS1_SEX</th>\n      <th>AS1_HT</th>\n      <th>AS1_DM</th>\n      <th>AS1_AL</th>\n      <th>AS1_MI</th>\n      <th>AS1_TH</th>\n      <th>AS1_CH</th>\n      <th>AS1_CD</th>\n      <th>AS1_LP</th>\n      <th>AS1_AS</th>\n      <th>...</th>\n      <th>AS1_BMI</th>\n      <th>AS1_BDFTR</th>\n      <th>AS1_BDCMSC</th>\n      <th>AS1_BPSIT1LS</th>\n      <th>AS1_BPSIT1RS</th>\n      <th>AS1_BPSIT1SYS</th>\n      <th>AS1_BPSIT1LD</th>\n      <th>AS1_BPSIT1RD</th>\n      <th>AS1_BPSIT1DIA</th>\n      <th>0</th>\n    </tr>\n    <tr>\n      <th>DIST_ID</th>\n      <th></th>\n      <th></th>\n      <th></th>\n      <th></th>\n      <th></th>\n      <th></th>\n      <th></th>\n      <th></th>\n      <th></th>\n      <th></th>\n      <th></th>\n      <th></th>\n      <th></th>\n      <th></th>\n      <th></th>\n      <th></th>\n      <th></th>\n      <th></th>\n      <th></th>\n      <th></th>\n      <th></th>\n    </tr>\n  </thead>\n  <tbody>\n    <tr>\n      <th>NIH2307713334</th>\n      <td>0.0</td>\n      <td>0.0</td>\n      <td>0.0</td>\n      <td>0.0</td>\n      <td>0.0</td>\n      <td>0.0</td>\n      <td>0.0</td>\n      <td>0.0</td>\n      <td>0.0</td>\n      <td>0.0</td>\n      <td>...</td>\n      <td>0.520397</td>\n      <td>0.747247</td>\n      <td>0.318819</td>\n      <td>0.139139</td>\n      <td>0.125125</td>\n      <td>0.086587</td>\n      <td>0.251752</td>\n      <td>0.045045</td>\n      <td>0.172172</td>\n      <td>NaN</td>\n    </tr>\n    <tr>\n      <th>NIH2307455306</th>\n      <td>0.0</td>\n      <td>0.0</td>\n      <td>0.0</td>\n      <td>1.0</td>\n      <td>0.0</td>\n      <td>0.0</td>\n      <td>0.0</td>\n      <td>0.0</td>\n      <td>0.0</td>\n      <td>0.0</td>\n      <td>...</td>\n      <td>0.704259</td>\n      <td>0.664164</td>\n      <td>0.842342</td>\n      <td>0.543043</td>\n      <td>0.467968</td>\n      <td>0.469970</td>\n      <td>0.565065</td>\n      <td>0.459960</td>\n      <td>0.479479</td>\n      <td>NaN</td>\n    </tr>\n    <tr>\n      <th>NIH2307137554</th>\n      <td>0.0</td>\n      <td>0.0</td>\n      <td>0.0</td>\n      <td>0.0</td>\n      <td>0.0</td>\n      <td>0.0</td>\n      <td>0.0</td>\n      <td>0.0</td>\n      <td>0.0</td>\n      <td>0.0</td>\n      <td>...</td>\n      <td>0.125125</td>\n      <td>0.392392</td>\n      <td>0.071071</td>\n      <td>0.978979</td>\n      <td>0.987988</td>\n      <td>0.984484</td>\n      <td>0.946446</td>\n      <td>0.967467</td>\n      <td>0.952953</td>\n      <td>NaN</td>\n    </tr>\n    <tr>\n      <th>NIH2307649667</th>\n      <td>0.0</td>\n      <td>0.0</td>\n      <td>0.0</td>\n      <td>1.0</td>\n      <td>0.0</td>\n      <td>0.0</td>\n      <td>0.0</td>\n      <td>0.0</td>\n      <td>0.0</td>\n      <td>0.0</td>\n      <td>...</td>\n      <td>0.879889</td>\n      <td>0.775776</td>\n      <td>0.733233</td>\n      <td>0.543043</td>\n      <td>0.628128</td>\n      <td>0.583083</td>\n      <td>0.565065</td>\n      <td>0.632633</td>\n      <td>0.565566</td>\n      <td>NaN</td>\n    </tr>\n    <tr>\n      <th>NIH2307899915</th>\n      <td>0.0</td>\n      <td>0.0</td>\n      <td>0.0</td>\n      <td>0.0</td>\n      <td>0.0</td>\n      <td>0.0</td>\n      <td>0.0</td>\n      <td>0.0</td>\n      <td>0.0</td>\n      <td>0.0</td>\n      <td>...</td>\n      <td>0.295398</td>\n      <td>0.200701</td>\n      <td>0.625626</td>\n      <td>0.180681</td>\n      <td>0.125125</td>\n      <td>0.117618</td>\n      <td>0.251752</td>\n      <td>0.371872</td>\n      <td>0.304304</td>\n      <td>NaN</td>\n    </tr>\n    <tr>\n      <th>...</th>\n      <td>...</td>\n      <td>...</td>\n      <td>...</td>\n      <td>...</td>\n      <td>...</td>\n      <td>...</td>\n      <td>...</td>\n      <td>...</td>\n      <td>...</td>\n      <td>...</td>\n      <td>...</td>\n      <td>...</td>\n      <td>...</td>\n      <td>...</td>\n      <td>...</td>\n      <td>...</td>\n      <td>...</td>\n      <td>...</td>\n      <td>...</td>\n      <td>...</td>\n      <td>...</td>\n    </tr>\n    <tr>\n      <th>NIH2307591031</th>\n      <td>NaN</td>\n      <td>NaN</td>\n      <td>NaN</td>\n      <td>NaN</td>\n      <td>NaN</td>\n      <td>NaN</td>\n      <td>NaN</td>\n      <td>NaN</td>\n      <td>NaN</td>\n      <td>NaN</td>\n      <td>...</td>\n      <td>NaN</td>\n      <td>NaN</td>\n      <td>NaN</td>\n      <td>NaN</td>\n      <td>NaN</td>\n      <td>NaN</td>\n      <td>NaN</td>\n      <td>NaN</td>\n      <td>NaN</td>\n      <td>1.0</td>\n    </tr>\n    <tr>\n      <th>NIH2307808901</th>\n      <td>NaN</td>\n      <td>NaN</td>\n      <td>NaN</td>\n      <td>NaN</td>\n      <td>NaN</td>\n      <td>NaN</td>\n      <td>NaN</td>\n      <td>NaN</td>\n      <td>NaN</td>\n      <td>NaN</td>\n      <td>...</td>\n      <td>NaN</td>\n      <td>NaN</td>\n      <td>NaN</td>\n      <td>NaN</td>\n      <td>NaN</td>\n      <td>NaN</td>\n      <td>NaN</td>\n      <td>NaN</td>\n      <td>NaN</td>\n      <td>1.0</td>\n    </tr>\n    <tr>\n      <th>NIH2307930134</th>\n      <td>NaN</td>\n      <td>NaN</td>\n      <td>NaN</td>\n      <td>NaN</td>\n      <td>NaN</td>\n      <td>NaN</td>\n      <td>NaN</td>\n      <td>NaN</td>\n      <td>NaN</td>\n      <td>NaN</td>\n      <td>...</td>\n      <td>NaN</td>\n      <td>NaN</td>\n      <td>NaN</td>\n      <td>NaN</td>\n      <td>NaN</td>\n      <td>NaN</td>\n      <td>NaN</td>\n      <td>NaN</td>\n      <td>NaN</td>\n      <td>1.0</td>\n    </tr>\n    <tr>\n      <th>NIH2307023172</th>\n      <td>NaN</td>\n      <td>NaN</td>\n      <td>NaN</td>\n      <td>NaN</td>\n      <td>NaN</td>\n      <td>NaN</td>\n      <td>NaN</td>\n      <td>NaN</td>\n      <td>NaN</td>\n      <td>NaN</td>\n      <td>...</td>\n      <td>NaN</td>\n      <td>NaN</td>\n      <td>NaN</td>\n      <td>NaN</td>\n      <td>NaN</td>\n      <td>NaN</td>\n      <td>NaN</td>\n      <td>NaN</td>\n      <td>NaN</td>\n      <td>0.0</td>\n    </tr>\n    <tr>\n      <th>NIH2307534318</th>\n      <td>NaN</td>\n      <td>NaN</td>\n      <td>NaN</td>\n      <td>NaN</td>\n      <td>NaN</td>\n      <td>NaN</td>\n      <td>NaN</td>\n      <td>NaN</td>\n      <td>NaN</td>\n      <td>NaN</td>\n      <td>...</td>\n      <td>NaN</td>\n      <td>NaN</td>\n      <td>NaN</td>\n      <td>NaN</td>\n      <td>NaN</td>\n      <td>NaN</td>\n      <td>NaN</td>\n      <td>NaN</td>\n      <td>NaN</td>\n      <td>0.0</td>\n    </tr>\n  </tbody>\n</table>\n<p>9360 rows × 140 columns</p>\n</div>"
     },
     "execution_count": 19,
     "metadata": {},
     "output_type": "execute_result"
    }
   ],
   "source": [
    "post_processing"
   ],
   "metadata": {
    "collapsed": false,
    "ExecuteTime": {
     "start_time": "2023-08-18T19:39:02.573882Z",
     "end_time": "2023-08-18T19:39:02.730908Z"
    }
   }
  },
  {
   "cell_type": "code",
   "execution_count": 20,
   "metadata": {
    "collapsed": false,
    "ExecuteTime": {
     "start_time": "2023-08-18T19:39:02.604878Z",
     "end_time": "2023-08-18T19:39:02.731909Z"
    }
   },
   "outputs": [
    {
     "data": {
      "text/plain": "OP\n0    3785\n1     895\nName: count, dtype: int64"
     },
     "execution_count": 20,
     "metadata": {},
     "output_type": "execute_result"
    }
   ],
   "source": [
    "y.value_counts()"
   ]
  },
  {
   "cell_type": "code",
   "execution_count": 21,
   "outputs": [],
   "source": [
    "X.to_csv(\"dataset/scaled/X_230330.csv\")\n",
    "y.to_csv(\"dataset/scaled/y_230330.csv\")"
   ],
   "metadata": {
    "collapsed": false,
    "ExecuteTime": {
     "start_time": "2023-08-18T19:39:19.382369Z",
     "end_time": "2023-08-18T19:39:19.899458Z"
    }
   }
  },
  {
   "cell_type": "code",
   "execution_count": 21,
   "metadata": {
    "collapsed": false,
    "ExecuteTime": {
     "start_time": "2023-06-14T13:13:40.539451Z",
     "end_time": "2023-06-14T13:13:40.648484Z"
    }
   },
   "outputs": [
    {
     "name": "stdout",
     "output_type": "stream",
     "text": [
      "폐경 전 여성의 골다공증:\n",
      " OP\n",
      "0    1651\n",
      "1      67\n",
      "Name: count, dtype: int64\n",
      "\n",
      "폐경 후 여성의 골다공증:\n",
      " OP\n",
      "0    2109\n",
      "1     825\n",
      "Name: count, dtype: int64\n"
     ]
    }
   ],
   "source": [
    "\n",
    "meno1 = dataset['AS1_PMYN_C'] == 1\n",
    "meno2 = dataset['AS1_PMYN_C'] == 2\n",
    "\n",
    "X_premeno_woman = X.loc[meno1]\n",
    "X_postmeno_woman = X.loc[meno2]\n",
    "y_premeno_woman = y.loc[meno1]\n",
    "y_postmeno_woman = y.loc[meno2]\n",
    "print(f\"폐경 전 여성의 골다공증:\\n {y_premeno_woman.value_counts()}\"\n",
    "      f\"\\n\\n폐경 후 여성의 골다공증:\\n {y_postmeno_woman.value_counts()}\")"
   ]
  },
  {
   "cell_type": "code",
   "execution_count": 22,
   "outputs": [],
   "source": [
    "X_premeno_woman.to_csv('./dataset/scaled/X_premeno_20230614.csv')\n",
    "X_postmeno_woman.to_csv('./dataset/scaled/X_postmeno_20230614.csv')\n",
    "y_premeno_woman.to_csv('./dataset/scaled/y_premeno_20230614.csv')\n",
    "y_postmeno_woman.to_csv('./dataset/scaled/y_postmeno_20230614.csv')"
   ],
   "metadata": {
    "collapsed": false,
    "ExecuteTime": {
     "start_time": "2023-06-14T13:13:40.554960Z",
     "end_time": "2023-06-14T13:13:41.049631Z"
    }
   }
  },
  {
   "cell_type": "code",
   "execution_count": 23,
   "outputs": [
    {
     "data": {
      "text/plain": "DIST_ID\nNIH2307713334    0\nNIH2307455306    0\nNIH2307635434    0\nNIH2307563051    0\nNIH2307534459    0\n                ..\nNIH2307492442    0\nNIH2307287708    0\nNIH2307394231    0\nNIH2307665690    0\nNIH2307625463    0\nName: OP, Length: 1718, dtype: int32"
     },
     "execution_count": 23,
     "metadata": {},
     "output_type": "execute_result"
    }
   ],
   "source": [
    "y_premeno_woman"
   ],
   "metadata": {
    "collapsed": false,
    "ExecuteTime": {
     "start_time": "2023-06-14T13:13:41.051629Z",
     "end_time": "2023-06-14T13:13:41.061631Z"
    }
   }
  },
  {
   "cell_type": "code",
   "execution_count": 24,
   "outputs": [
    {
     "name": "stdout",
     "output_type": "stream",
     "text": [
      "(1374, 139) (344, 139) (1374,) (344,)\n"
     ]
    },
    {
     "data": {
      "text/plain": "DIST_ID\nNIH2307821337    0\nNIH2307568629    0\nNIH2307006575    0\nNIH2307025885    0\nNIH2307202124    0\n                ..\nNIH2307183531    0\nNIH2307161658    0\nNIH2307489492    0\nNIH2307962564    0\nNIH2307365914    0\nName: OP, Length: 1374, dtype: int32"
     },
     "execution_count": 24,
     "metadata": {},
     "output_type": "execute_result"
    }
   ],
   "source": [
    "X_train, X_test, y_train, y_test = train_test_split(X_premeno_woman, y_premeno_woman, test_size=0.2, random_state=415)\n",
    "print(X_train.shape, X_test.shape, y_train.shape, y_test.shape)\n",
    "y_train"
   ],
   "metadata": {
    "collapsed": false,
    "ExecuteTime": {
     "start_time": "2023-06-14T13:13:41.063630Z",
     "end_time": "2023-06-14T13:13:41.095631Z"
    }
   }
  },
  {
   "cell_type": "code",
   "execution_count": 25,
   "outputs": [
    {
     "name": "stdout",
     "output_type": "stream",
     "text": [
      "(2347, 139) (587, 139) (2347,) (587,)\n"
     ]
    },
    {
     "data": {
      "text/plain": "DIST_ID\nNIH2307808754    0\nNIH2307618867    0\nNIH2307144156    1\nNIH2307449183    0\nNIH2307081068    0\n                ..\nNIH2307893627    1\nNIH2307002244    1\nNIH2307413889    0\nNIH2307534866    0\nNIH2307325698    0\nName: OP, Length: 2347, dtype: int32"
     },
     "execution_count": 25,
     "metadata": {},
     "output_type": "execute_result"
    }
   ],
   "source": [
    "X_train, X_test, y_train, y_test = train_test_split(X_postmeno_woman, y_postmeno_woman, test_size=0.2, random_state=415)\n",
    "print(X_train.shape, X_test.shape, y_train.shape, y_test.shape)\n",
    "y_train"
   ],
   "metadata": {
    "collapsed": false,
    "ExecuteTime": {
     "start_time": "2023-06-14T13:13:41.079660Z",
     "end_time": "2023-06-14T13:13:41.117630Z"
    }
   }
  },
  {
   "cell_type": "code",
   "execution_count": 25,
   "outputs": [],
   "source": [],
   "metadata": {
    "collapsed": false,
    "ExecuteTime": {
     "start_time": "2023-06-14T13:13:41.094630Z",
     "end_time": "2023-06-14T13:13:41.117630Z"
    }
   }
  },
  {
   "cell_type": "code",
   "execution_count": 25,
   "outputs": [],
   "source": [],
   "metadata": {
    "collapsed": false,
    "ExecuteTime": {
     "start_time": "2023-06-14T13:13:41.111631Z",
     "end_time": "2023-06-14T13:13:41.172176Z"
    }
   }
  }
 ],
 "metadata": {
  "kernelspec": {
   "display_name": "Python 3",
   "language": "python",
   "name": "python3"
  },
  "language_info": {
   "codemirror_mode": {
    "name": "ipython",
    "version": 3
   },
   "file_extension": ".py",
   "mimetype": "text/x-python",
   "name": "python",
   "nbconvert_exporter": "python",
   "pygments_lexer": "ipython3",
   "version": "3.9.13"
  }
 },
 "nbformat": 4,
 "nbformat_minor": 0
}
