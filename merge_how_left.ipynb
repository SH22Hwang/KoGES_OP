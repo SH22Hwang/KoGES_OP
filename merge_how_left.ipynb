{
 "cells": [
  {
   "cell_type": "markdown",
   "source": [
    "# 유전자 데이터, 식이패턴 데이터 결합\n",
    "- 유전자 데이터\n",
    "    - https://github.com/AugumentedIntelligenceLab-GNU/genome-extraction\n",
    "    - rows: 4658\n",
    "- 식이패턴 데이터\n",
    "    - https://github.com/SH22Hwang/KoGES_OP\n",
    "    - rows: 4680\n",
    "\n",
    "- 유전자 데이터와 식이패턴 데이터 어떻게 합치지?\n",
    "    - inner_join?\n",
    "    - left_join?\n",
    "\n",
    "- merge how=left https://engineer-mole.tistory.com/208\n"
   ],
   "metadata": {
    "collapsed": false
   }
  },
  {
   "cell_type": "code",
   "execution_count": 149,
   "metadata": {
    "collapsed": true,
    "ExecuteTime": {
     "start_time": "2023-08-21T20:19:41.363528Z",
     "end_time": "2023-08-21T20:19:41.375522Z"
    }
   },
   "outputs": [],
   "source": [
    "import time\n",
    "\n",
    "# 라이브러리 불러오기\n",
    "import numpy as np\n",
    "import pandas as pd"
   ]
  },
  {
   "cell_type": "code",
   "execution_count": 150,
   "outputs": [],
   "source": [
    "dietary_X = pd.read_csv(\"dataset/scaled/X_230818.csv\", index_col=0)"
   ],
   "metadata": {
    "collapsed": false,
    "ExecuteTime": {
     "start_time": "2023-08-21T20:19:44.242164Z",
     "end_time": "2023-08-21T20:19:44.325192Z"
    }
   }
  },
  {
   "cell_type": "code",
   "execution_count": 151,
   "outputs": [],
   "source": [
    "gen_dict = {3335: \"SNP_A-2181021\",\n",
    "            214246: \"SNP_A-1809518\",\n",
    "            262783: \"SNP_A-2130710\",\n",
    "            35799: \"SNP_A-2263153\",\n",
    "            154529: \"SNP_A-2310995\",\n",
    "            118171: \"SNP_A-1922415\",\n",
    "            182907: \"SNP_A-2266073\",\n",
    "            122732: \"SNP_A-1984271\",\n",
    "            283204: \"SNP_A-2218697\",\n",
    "            217552: \"SNP_A-1850320\",\n",
    "            335062: \"SNP_A-4262878\",\n",
    "            335032: \"SNP_A-4299800\",\n",
    "            335031: \"SNP_A-2242511\"\n",
    "            }"
   ],
   "metadata": {
    "collapsed": false,
    "ExecuteTime": {
     "start_time": "2023-08-21T20:19:46.183464Z",
     "end_time": "2023-08-21T20:19:46.196465Z"
    }
   }
  },
  {
   "cell_type": "markdown",
   "source": [
    "## 유전자 합치기\n",
    "\n",
    "- 파일 이름 형식: result_SNP_A-1809518.csv\n",
    "- gen_dict.keys()"
   ],
   "metadata": {
    "collapsed": false
   }
  },
  {
   "cell_type": "code",
   "execution_count": 167,
   "outputs": [],
   "source": [
    "test = dietary_X.copy()\n",
    "\n",
    "# test[gen_dict[3335]] = pd.read_csv(f\"./dataset/genome/result_{gen_dict[3335]}.csv\", index_col=1, low_memory=False)['SNP']\n"
   ],
   "metadata": {
    "collapsed": false,
    "ExecuteTime": {
     "start_time": "2023-08-21T20:25:52.406279Z",
     "end_time": "2023-08-21T20:25:52.416278Z"
    }
   }
  },
  {
   "cell_type": "code",
   "execution_count": 153,
   "outputs": [
    {
     "name": "stdout",
     "output_type": "stream",
     "text": [
      "<class 'pandas.core.frame.DataFrame'>\n",
      "Index: 4680 entries, NIH2307713334 to NIH2307534318\n",
      "Columns: 139 entries, AS1_SEX to AS1_BPSIT1DIA\n",
      "dtypes: float64(139)\n",
      "memory usage: 5.0+ MB\n"
     ]
    }
   ],
   "source": [
    "test.info()"
   ],
   "metadata": {
    "collapsed": false,
    "ExecuteTime": {
     "start_time": "2023-08-21T20:20:00.172295Z",
     "end_time": "2023-08-21T20:20:00.193295Z"
    }
   }
  },
  {
   "cell_type": "code",
   "execution_count": 130,
   "outputs": [],
   "source": [
    "for v in gen_dict.values():\n",
    "    temp = pd.read_csv(f\"./dataset/genome/result_{v}.csv\", index_col=1, low_memory=False).dropna()\n",
    "    test[v] = temp[\"SNP\"]"
   ],
   "metadata": {
    "collapsed": false,
    "ExecuteTime": {
     "start_time": "2023-08-21T17:04:21.639019Z",
     "end_time": "2023-08-21T17:04:22.424017Z"
    }
   }
  },
  {
   "cell_type": "code",
   "execution_count": 131,
   "outputs": [
    {
     "data": {
      "text/plain": "               AS1_SEX  AS1_HT  AS1_DM  AS1_AL  AS1_MI  AS1_TH  AS1_CH   \nDIST_ID                                                                  \nNIH2307713334      0.0     0.0     0.0     0.0     0.0     0.0     0.0  \\\nNIH2307455306      0.0     0.0     0.0     1.0     0.0     0.0     0.0   \nNIH2307137554      0.0     0.0     0.0     0.0     0.0     0.0     0.0   \nNIH2307649667      0.0     0.0     0.0     1.0     0.0     0.0     0.0   \nNIH2307899915      0.0     0.0     0.0     0.0     0.0     0.0     0.0   \n...                ...     ...     ...     ...     ...     ...     ...   \nNIH2307591031      0.0     0.0     0.0     0.0     0.0     0.0     0.0   \nNIH2307808901      0.0     1.0     0.0     0.0     0.0     1.0     0.0   \nNIH2307930134      0.0     1.0     0.0     0.0     0.0     0.0     0.0   \nNIH2307023172      0.0     0.0     0.0     0.0     0.0     0.0     0.0   \nNIH2307534318      0.0     0.0     0.0     0.0     1.0     0.0     0.0   \n\n               AS1_CD  AS1_LP  AS1_AS  ...  SNP_A-2263153  SNP_A-2310995   \nDIST_ID                                ...                                 \nNIH2307713334     0.0     0.0     0.0  ...            A A            T C  \\\nNIH2307455306     0.0     0.0     0.0  ...            A A            T C   \nNIH2307137554     0.0     0.0     0.0  ...            A A            T C   \nNIH2307649667     0.0     0.0     0.0  ...            A A            C C   \nNIH2307899915     0.0     0.0     0.0  ...            A A            C C   \n...               ...     ...     ...  ...            ...            ...   \nNIH2307591031     0.0     0.0     0.0  ...            A A            C C   \nNIH2307808901     0.0     0.0     0.0  ...            A A            C C   \nNIH2307930134     0.0     0.0     0.0  ...            A A            T C   \nNIH2307023172     0.0     0.0     0.0  ...            NaN            NaN   \nNIH2307534318     0.0     0.0     0.0  ...            A A            C C   \n\n               SNP_A-1922415  SNP_A-2266073  SNP_A-1984271  SNP_A-2218697   \nDIST_ID                                                                     \nNIH2307713334            T T            G G            G G            A A  \\\nNIH2307455306            T T            G G            G C            G A   \nNIH2307137554            C T            G G            G C            A A   \nNIH2307649667            T T            G G            C C            G A   \nNIH2307899915            T T            G G            C C            A A   \n...                      ...            ...            ...            ...   \nNIH2307591031            T T            G G            G C            A A   \nNIH2307808901            T T            G G            G C            A A   \nNIH2307930134            T T            A G            C C            G G   \nNIH2307023172            NaN            NaN            NaN            NaN   \nNIH2307534318            T T            G G            G C            A A   \n\n               SNP_A-1850320  SNP_A-4262878  SNP_A-4299800  SNP_A-2242511  \nDIST_ID                                                                    \nNIH2307713334            G G            T G            G G            A A  \nNIH2307455306            A G            G G            G G            A A  \nNIH2307137554            A G            T G            G G            A A  \nNIH2307649667            G G            T G            G G            A A  \nNIH2307899915            G G            G G            G G            A A  \n...                      ...            ...            ...            ...  \nNIH2307591031            A G            T G            G G            A A  \nNIH2307808901            G G            G G            A G            G A  \nNIH2307930134            G G            T G            A G            G A  \nNIH2307023172            NaN            NaN            NaN            NaN  \nNIH2307534318            G G            G G            G G            A A  \n\n[4680 rows x 152 columns]",
      "text/html": "<div>\n<style scoped>\n    .dataframe tbody tr th:only-of-type {\n        vertical-align: middle;\n    }\n\n    .dataframe tbody tr th {\n        vertical-align: top;\n    }\n\n    .dataframe thead th {\n        text-align: right;\n    }\n</style>\n<table border=\"1\" class=\"dataframe\">\n  <thead>\n    <tr style=\"text-align: right;\">\n      <th></th>\n      <th>AS1_SEX</th>\n      <th>AS1_HT</th>\n      <th>AS1_DM</th>\n      <th>AS1_AL</th>\n      <th>AS1_MI</th>\n      <th>AS1_TH</th>\n      <th>AS1_CH</th>\n      <th>AS1_CD</th>\n      <th>AS1_LP</th>\n      <th>AS1_AS</th>\n      <th>...</th>\n      <th>SNP_A-2263153</th>\n      <th>SNP_A-2310995</th>\n      <th>SNP_A-1922415</th>\n      <th>SNP_A-2266073</th>\n      <th>SNP_A-1984271</th>\n      <th>SNP_A-2218697</th>\n      <th>SNP_A-1850320</th>\n      <th>SNP_A-4262878</th>\n      <th>SNP_A-4299800</th>\n      <th>SNP_A-2242511</th>\n    </tr>\n    <tr>\n      <th>DIST_ID</th>\n      <th></th>\n      <th></th>\n      <th></th>\n      <th></th>\n      <th></th>\n      <th></th>\n      <th></th>\n      <th></th>\n      <th></th>\n      <th></th>\n      <th></th>\n      <th></th>\n      <th></th>\n      <th></th>\n      <th></th>\n      <th></th>\n      <th></th>\n      <th></th>\n      <th></th>\n      <th></th>\n      <th></th>\n    </tr>\n  </thead>\n  <tbody>\n    <tr>\n      <th>NIH2307713334</th>\n      <td>0.0</td>\n      <td>0.0</td>\n      <td>0.0</td>\n      <td>0.0</td>\n      <td>0.0</td>\n      <td>0.0</td>\n      <td>0.0</td>\n      <td>0.0</td>\n      <td>0.0</td>\n      <td>0.0</td>\n      <td>...</td>\n      <td>A A</td>\n      <td>T C</td>\n      <td>T T</td>\n      <td>G G</td>\n      <td>G G</td>\n      <td>A A</td>\n      <td>G G</td>\n      <td>T G</td>\n      <td>G G</td>\n      <td>A A</td>\n    </tr>\n    <tr>\n      <th>NIH2307455306</th>\n      <td>0.0</td>\n      <td>0.0</td>\n      <td>0.0</td>\n      <td>1.0</td>\n      <td>0.0</td>\n      <td>0.0</td>\n      <td>0.0</td>\n      <td>0.0</td>\n      <td>0.0</td>\n      <td>0.0</td>\n      <td>...</td>\n      <td>A A</td>\n      <td>T C</td>\n      <td>T T</td>\n      <td>G G</td>\n      <td>G C</td>\n      <td>G A</td>\n      <td>A G</td>\n      <td>G G</td>\n      <td>G G</td>\n      <td>A A</td>\n    </tr>\n    <tr>\n      <th>NIH2307137554</th>\n      <td>0.0</td>\n      <td>0.0</td>\n      <td>0.0</td>\n      <td>0.0</td>\n      <td>0.0</td>\n      <td>0.0</td>\n      <td>0.0</td>\n      <td>0.0</td>\n      <td>0.0</td>\n      <td>0.0</td>\n      <td>...</td>\n      <td>A A</td>\n      <td>T C</td>\n      <td>C T</td>\n      <td>G G</td>\n      <td>G C</td>\n      <td>A A</td>\n      <td>A G</td>\n      <td>T G</td>\n      <td>G G</td>\n      <td>A A</td>\n    </tr>\n    <tr>\n      <th>NIH2307649667</th>\n      <td>0.0</td>\n      <td>0.0</td>\n      <td>0.0</td>\n      <td>1.0</td>\n      <td>0.0</td>\n      <td>0.0</td>\n      <td>0.0</td>\n      <td>0.0</td>\n      <td>0.0</td>\n      <td>0.0</td>\n      <td>...</td>\n      <td>A A</td>\n      <td>C C</td>\n      <td>T T</td>\n      <td>G G</td>\n      <td>C C</td>\n      <td>G A</td>\n      <td>G G</td>\n      <td>T G</td>\n      <td>G G</td>\n      <td>A A</td>\n    </tr>\n    <tr>\n      <th>NIH2307899915</th>\n      <td>0.0</td>\n      <td>0.0</td>\n      <td>0.0</td>\n      <td>0.0</td>\n      <td>0.0</td>\n      <td>0.0</td>\n      <td>0.0</td>\n      <td>0.0</td>\n      <td>0.0</td>\n      <td>0.0</td>\n      <td>...</td>\n      <td>A A</td>\n      <td>C C</td>\n      <td>T T</td>\n      <td>G G</td>\n      <td>C C</td>\n      <td>A A</td>\n      <td>G G</td>\n      <td>G G</td>\n      <td>G G</td>\n      <td>A A</td>\n    </tr>\n    <tr>\n      <th>...</th>\n      <td>...</td>\n      <td>...</td>\n      <td>...</td>\n      <td>...</td>\n      <td>...</td>\n      <td>...</td>\n      <td>...</td>\n      <td>...</td>\n      <td>...</td>\n      <td>...</td>\n      <td>...</td>\n      <td>...</td>\n      <td>...</td>\n      <td>...</td>\n      <td>...</td>\n      <td>...</td>\n      <td>...</td>\n      <td>...</td>\n      <td>...</td>\n      <td>...</td>\n      <td>...</td>\n    </tr>\n    <tr>\n      <th>NIH2307591031</th>\n      <td>0.0</td>\n      <td>0.0</td>\n      <td>0.0</td>\n      <td>0.0</td>\n      <td>0.0</td>\n      <td>0.0</td>\n      <td>0.0</td>\n      <td>0.0</td>\n      <td>0.0</td>\n      <td>0.0</td>\n      <td>...</td>\n      <td>A A</td>\n      <td>C C</td>\n      <td>T T</td>\n      <td>G G</td>\n      <td>G C</td>\n      <td>A A</td>\n      <td>A G</td>\n      <td>T G</td>\n      <td>G G</td>\n      <td>A A</td>\n    </tr>\n    <tr>\n      <th>NIH2307808901</th>\n      <td>0.0</td>\n      <td>1.0</td>\n      <td>0.0</td>\n      <td>0.0</td>\n      <td>0.0</td>\n      <td>1.0</td>\n      <td>0.0</td>\n      <td>0.0</td>\n      <td>0.0</td>\n      <td>0.0</td>\n      <td>...</td>\n      <td>A A</td>\n      <td>C C</td>\n      <td>T T</td>\n      <td>G G</td>\n      <td>G C</td>\n      <td>A A</td>\n      <td>G G</td>\n      <td>G G</td>\n      <td>A G</td>\n      <td>G A</td>\n    </tr>\n    <tr>\n      <th>NIH2307930134</th>\n      <td>0.0</td>\n      <td>1.0</td>\n      <td>0.0</td>\n      <td>0.0</td>\n      <td>0.0</td>\n      <td>0.0</td>\n      <td>0.0</td>\n      <td>0.0</td>\n      <td>0.0</td>\n      <td>0.0</td>\n      <td>...</td>\n      <td>A A</td>\n      <td>T C</td>\n      <td>T T</td>\n      <td>A G</td>\n      <td>C C</td>\n      <td>G G</td>\n      <td>G G</td>\n      <td>T G</td>\n      <td>A G</td>\n      <td>G A</td>\n    </tr>\n    <tr>\n      <th>NIH2307023172</th>\n      <td>0.0</td>\n      <td>0.0</td>\n      <td>0.0</td>\n      <td>0.0</td>\n      <td>0.0</td>\n      <td>0.0</td>\n      <td>0.0</td>\n      <td>0.0</td>\n      <td>0.0</td>\n      <td>0.0</td>\n      <td>...</td>\n      <td>NaN</td>\n      <td>NaN</td>\n      <td>NaN</td>\n      <td>NaN</td>\n      <td>NaN</td>\n      <td>NaN</td>\n      <td>NaN</td>\n      <td>NaN</td>\n      <td>NaN</td>\n      <td>NaN</td>\n    </tr>\n    <tr>\n      <th>NIH2307534318</th>\n      <td>0.0</td>\n      <td>0.0</td>\n      <td>0.0</td>\n      <td>0.0</td>\n      <td>1.0</td>\n      <td>0.0</td>\n      <td>0.0</td>\n      <td>0.0</td>\n      <td>0.0</td>\n      <td>0.0</td>\n      <td>...</td>\n      <td>A A</td>\n      <td>C C</td>\n      <td>T T</td>\n      <td>G G</td>\n      <td>G C</td>\n      <td>A A</td>\n      <td>G G</td>\n      <td>G G</td>\n      <td>G G</td>\n      <td>A A</td>\n    </tr>\n  </tbody>\n</table>\n<p>4680 rows × 152 columns</p>\n</div>"
     },
     "execution_count": 131,
     "metadata": {},
     "output_type": "execute_result"
    }
   ],
   "source": [
    "test"
   ],
   "metadata": {
    "collapsed": false,
    "ExecuteTime": {
     "start_time": "2023-08-21T17:04:22.425017Z",
     "end_time": "2023-08-21T17:04:22.460018Z"
    }
   }
  },
  {
   "cell_type": "code",
   "execution_count": 132,
   "outputs": [
    {
     "name": "stdout",
     "output_type": "stream",
     "text": [
      "<class 'pandas.core.frame.DataFrame'>\n",
      "Index: 4680 entries, NIH2307713334 to NIH2307534318\n",
      "Columns: 152 entries, AS1_SEX to SNP_A-2242511\n",
      "dtypes: float64(139), object(13)\n",
      "memory usage: 5.5+ MB\n"
     ]
    }
   ],
   "source": [
    "test.info()"
   ],
   "metadata": {
    "collapsed": false,
    "ExecuteTime": {
     "start_time": "2023-08-21T17:04:25.803122Z",
     "end_time": "2023-08-21T17:04:25.812121Z"
    }
   }
  },
  {
   "cell_type": "code",
   "execution_count": 133,
   "outputs": [
    {
     "name": "stdout",
     "output_type": "stream",
     "text": [
      "<class 'pandas.core.frame.DataFrame'>\n",
      "Index: 4117 entries, NIH2307713334 to NIH2307534318\n",
      "Columns: 152 entries, AS1_SEX to SNP_A-2242511\n",
      "dtypes: float64(139), object(13)\n",
      "memory usage: 4.8+ MB\n"
     ]
    }
   ],
   "source": [
    "test.dropna().info()"
   ],
   "metadata": {
    "collapsed": false,
    "ExecuteTime": {
     "start_time": "2023-08-21T17:04:26.702121Z",
     "end_time": "2023-08-21T17:04:26.734121Z"
    }
   }
  },
  {
   "cell_type": "code",
   "execution_count": 100,
   "outputs": [],
   "source": [
    "df_all_gen = pd.DataFrame()\n",
    "\n",
    "for v in gen_dict.values():\n",
    "    temp = pd.read_csv(f\"./dataset/genome/result_{v}.csv\", index_col=1, low_memory=False).dropna()\n",
    "    temp.rename(columns={\"SNP\": v}, inplace=True)\n",
    "    df_all_gen = pd.concat([df_all_gen, temp[v]], axis=1)"
   ],
   "metadata": {
    "collapsed": false,
    "ExecuteTime": {
     "start_time": "2023-08-21T16:55:04.803527Z",
     "end_time": "2023-08-21T16:55:05.558521Z"
    }
   }
  },
  {
   "cell_type": "code",
   "execution_count": 102,
   "outputs": [
    {
     "name": "stdout",
     "output_type": "stream",
     "text": [
      "<class 'pandas.core.frame.DataFrame'>\n",
      "Index: 4658 entries, NIH2307537078 to NIH2307194006\n",
      "Data columns (total 13 columns):\n",
      " #   Column         Non-Null Count  Dtype \n",
      "---  ------         --------------  ----- \n",
      " 0   SNP_A-2181021  4658 non-null   object\n",
      " 1   SNP_A-1809518  4658 non-null   object\n",
      " 2   SNP_A-2130710  4658 non-null   object\n",
      " 3   SNP_A-2263153  4658 non-null   object\n",
      " 4   SNP_A-2310995  4658 non-null   object\n",
      " 5   SNP_A-1922415  4658 non-null   object\n",
      " 6   SNP_A-2266073  4658 non-null   object\n",
      " 7   SNP_A-1984271  4658 non-null   object\n",
      " 8   SNP_A-2218697  4658 non-null   object\n",
      " 9   SNP_A-1850320  4658 non-null   object\n",
      " 10  SNP_A-4262878  4658 non-null   object\n",
      " 11  SNP_A-4299800  4658 non-null   object\n",
      " 12  SNP_A-2242511  4658 non-null   object\n",
      "dtypes: object(13)\n",
      "memory usage: 509.5+ KB\n"
     ]
    }
   ],
   "source": [
    "df_all_gen.info()"
   ],
   "metadata": {
    "collapsed": false,
    "ExecuteTime": {
     "start_time": "2023-08-21T16:55:23.882237Z",
     "end_time": "2023-08-21T16:55:23.897206Z"
    }
   }
  },
  {
   "cell_type": "code",
   "execution_count": 141,
   "outputs": [],
   "source": [
    "df_all_gen = pd.get_dummies(df_all_gen, columns=df_all_gen.columns, drop_first=True, dtype='float64') # one-hot-encoding"
   ],
   "metadata": {
    "collapsed": false,
    "ExecuteTime": {
     "start_time": "2023-08-21T19:44:17.972801Z",
     "end_time": "2023-08-21T19:44:18.006133Z"
    }
   }
  },
  {
   "cell_type": "code",
   "execution_count": 142,
   "outputs": [
    {
     "data": {
      "text/plain": "               SNP_A-2181021_A A  SNP_A-2181021_A C  SNP_A-2181021_C C   \nNIH2307537078                0.0                0.0                1.0  \\\nNIH2307151907                1.0                0.0                0.0   \nNIH2307876488                0.0                0.0                1.0   \nNIH2307009808                0.0                0.0                1.0   \nNIH2307798369                0.0                0.0                1.0   \n...                          ...                ...                ...   \nNIH2307119229                0.0                0.0                1.0   \nNIH2307727030                0.0                1.0                0.0   \nNIH2307959786                0.0                0.0                1.0   \nNIH2307422716                0.0                0.0                1.0   \nNIH2307194006                0.0                0.0                1.0   \n\n               SNP_A-1809518_A A  SNP_A-1809518_G A  SNP_A-1809518_G G   \nNIH2307537078                0.0                1.0                0.0  \\\nNIH2307151907                0.0                1.0                0.0   \nNIH2307876488                0.0                0.0                1.0   \nNIH2307009808                0.0                1.0                0.0   \nNIH2307798369                1.0                0.0                0.0   \n...                          ...                ...                ...   \nNIH2307119229                0.0                1.0                0.0   \nNIH2307727030                0.0                0.0                1.0   \nNIH2307959786                0.0                1.0                0.0   \nNIH2307422716                1.0                0.0                0.0   \nNIH2307194006                0.0                1.0                0.0   \n\n               SNP_A-2130710_G G  SNP_A-2130710_G T  SNP_A-2130710_T T   \nNIH2307537078                1.0                0.0                0.0  \\\nNIH2307151907                0.0                1.0                0.0   \nNIH2307876488                0.0                0.0                1.0   \nNIH2307009808                0.0                1.0                0.0   \nNIH2307798369                0.0                0.0                1.0   \n...                          ...                ...                ...   \nNIH2307119229                0.0                0.0                1.0   \nNIH2307727030                0.0                0.0                1.0   \nNIH2307959786                0.0                0.0                1.0   \nNIH2307422716                0.0                0.0                1.0   \nNIH2307194006                0.0                1.0                0.0   \n\n               SNP_A-2263153_C A  ...  SNP_A-1850320_A G  SNP_A-1850320_G G   \nNIH2307537078                0.0  ...                1.0                0.0  \\\nNIH2307151907                0.0  ...                0.0                1.0   \nNIH2307876488                0.0  ...                0.0                1.0   \nNIH2307009808                0.0  ...                0.0                1.0   \nNIH2307798369                0.0  ...                0.0                1.0   \n...                          ...  ...                ...                ...   \nNIH2307119229                0.0  ...                0.0                0.0   \nNIH2307727030                0.0  ...                0.0                1.0   \nNIH2307959786                0.0  ...                0.0                1.0   \nNIH2307422716                0.0  ...                0.0                1.0   \nNIH2307194006                0.0  ...                0.0                1.0   \n\n               SNP_A-4262878_G G  SNP_A-4262878_T G  SNP_A-4262878_T T   \nNIH2307537078                0.0                1.0                0.0  \\\nNIH2307151907                0.0                1.0                0.0   \nNIH2307876488                0.0                1.0                0.0   \nNIH2307009808                0.0                1.0                0.0   \nNIH2307798369                1.0                0.0                0.0   \n...                          ...                ...                ...   \nNIH2307119229                0.0                1.0                0.0   \nNIH2307727030                1.0                0.0                0.0   \nNIH2307959786                0.0                1.0                0.0   \nNIH2307422716                1.0                0.0                0.0   \nNIH2307194006                1.0                0.0                0.0   \n\n               SNP_A-4299800_A A  SNP_A-4299800_A G  SNP_A-4299800_G G   \nNIH2307537078                0.0                0.0                1.0  \\\nNIH2307151907                0.0                0.0                1.0   \nNIH2307876488                0.0                0.0                1.0   \nNIH2307009808                0.0                0.0                1.0   \nNIH2307798369                0.0                0.0                1.0   \n...                          ...                ...                ...   \nNIH2307119229                0.0                0.0                1.0   \nNIH2307727030                0.0                0.0                1.0   \nNIH2307959786                0.0                0.0                1.0   \nNIH2307422716                0.0                0.0                1.0   \nNIH2307194006                0.0                1.0                0.0   \n\n               SNP_A-2242511_G A  SNP_A-2242511_G G  \nNIH2307537078                0.0                0.0  \nNIH2307151907                0.0                0.0  \nNIH2307876488                0.0                0.0  \nNIH2307009808                0.0                0.0  \nNIH2307798369                0.0                0.0  \n...                          ...                ...  \nNIH2307119229                0.0                0.0  \nNIH2307727030                0.0                0.0  \nNIH2307959786                0.0                0.0  \nNIH2307422716                0.0                0.0  \nNIH2307194006                1.0                0.0  \n\n[4658 rows x 34 columns]",
      "text/html": "<div>\n<style scoped>\n    .dataframe tbody tr th:only-of-type {\n        vertical-align: middle;\n    }\n\n    .dataframe tbody tr th {\n        vertical-align: top;\n    }\n\n    .dataframe thead th {\n        text-align: right;\n    }\n</style>\n<table border=\"1\" class=\"dataframe\">\n  <thead>\n    <tr style=\"text-align: right;\">\n      <th></th>\n      <th>SNP_A-2181021_A A</th>\n      <th>SNP_A-2181021_A C</th>\n      <th>SNP_A-2181021_C C</th>\n      <th>SNP_A-1809518_A A</th>\n      <th>SNP_A-1809518_G A</th>\n      <th>SNP_A-1809518_G G</th>\n      <th>SNP_A-2130710_G G</th>\n      <th>SNP_A-2130710_G T</th>\n      <th>SNP_A-2130710_T T</th>\n      <th>SNP_A-2263153_C A</th>\n      <th>...</th>\n      <th>SNP_A-1850320_A G</th>\n      <th>SNP_A-1850320_G G</th>\n      <th>SNP_A-4262878_G G</th>\n      <th>SNP_A-4262878_T G</th>\n      <th>SNP_A-4262878_T T</th>\n      <th>SNP_A-4299800_A A</th>\n      <th>SNP_A-4299800_A G</th>\n      <th>SNP_A-4299800_G G</th>\n      <th>SNP_A-2242511_G A</th>\n      <th>SNP_A-2242511_G G</th>\n    </tr>\n  </thead>\n  <tbody>\n    <tr>\n      <th>NIH2307537078</th>\n      <td>0.0</td>\n      <td>0.0</td>\n      <td>1.0</td>\n      <td>0.0</td>\n      <td>1.0</td>\n      <td>0.0</td>\n      <td>1.0</td>\n      <td>0.0</td>\n      <td>0.0</td>\n      <td>0.0</td>\n      <td>...</td>\n      <td>1.0</td>\n      <td>0.0</td>\n      <td>0.0</td>\n      <td>1.0</td>\n      <td>0.0</td>\n      <td>0.0</td>\n      <td>0.0</td>\n      <td>1.0</td>\n      <td>0.0</td>\n      <td>0.0</td>\n    </tr>\n    <tr>\n      <th>NIH2307151907</th>\n      <td>1.0</td>\n      <td>0.0</td>\n      <td>0.0</td>\n      <td>0.0</td>\n      <td>1.0</td>\n      <td>0.0</td>\n      <td>0.0</td>\n      <td>1.0</td>\n      <td>0.0</td>\n      <td>0.0</td>\n      <td>...</td>\n      <td>0.0</td>\n      <td>1.0</td>\n      <td>0.0</td>\n      <td>1.0</td>\n      <td>0.0</td>\n      <td>0.0</td>\n      <td>0.0</td>\n      <td>1.0</td>\n      <td>0.0</td>\n      <td>0.0</td>\n    </tr>\n    <tr>\n      <th>NIH2307876488</th>\n      <td>0.0</td>\n      <td>0.0</td>\n      <td>1.0</td>\n      <td>0.0</td>\n      <td>0.0</td>\n      <td>1.0</td>\n      <td>0.0</td>\n      <td>0.0</td>\n      <td>1.0</td>\n      <td>0.0</td>\n      <td>...</td>\n      <td>0.0</td>\n      <td>1.0</td>\n      <td>0.0</td>\n      <td>1.0</td>\n      <td>0.0</td>\n      <td>0.0</td>\n      <td>0.0</td>\n      <td>1.0</td>\n      <td>0.0</td>\n      <td>0.0</td>\n    </tr>\n    <tr>\n      <th>NIH2307009808</th>\n      <td>0.0</td>\n      <td>0.0</td>\n      <td>1.0</td>\n      <td>0.0</td>\n      <td>1.0</td>\n      <td>0.0</td>\n      <td>0.0</td>\n      <td>1.0</td>\n      <td>0.0</td>\n      <td>0.0</td>\n      <td>...</td>\n      <td>0.0</td>\n      <td>1.0</td>\n      <td>0.0</td>\n      <td>1.0</td>\n      <td>0.0</td>\n      <td>0.0</td>\n      <td>0.0</td>\n      <td>1.0</td>\n      <td>0.0</td>\n      <td>0.0</td>\n    </tr>\n    <tr>\n      <th>NIH2307798369</th>\n      <td>0.0</td>\n      <td>0.0</td>\n      <td>1.0</td>\n      <td>1.0</td>\n      <td>0.0</td>\n      <td>0.0</td>\n      <td>0.0</td>\n      <td>0.0</td>\n      <td>1.0</td>\n      <td>0.0</td>\n      <td>...</td>\n      <td>0.0</td>\n      <td>1.0</td>\n      <td>1.0</td>\n      <td>0.0</td>\n      <td>0.0</td>\n      <td>0.0</td>\n      <td>0.0</td>\n      <td>1.0</td>\n      <td>0.0</td>\n      <td>0.0</td>\n    </tr>\n    <tr>\n      <th>...</th>\n      <td>...</td>\n      <td>...</td>\n      <td>...</td>\n      <td>...</td>\n      <td>...</td>\n      <td>...</td>\n      <td>...</td>\n      <td>...</td>\n      <td>...</td>\n      <td>...</td>\n      <td>...</td>\n      <td>...</td>\n      <td>...</td>\n      <td>...</td>\n      <td>...</td>\n      <td>...</td>\n      <td>...</td>\n      <td>...</td>\n      <td>...</td>\n      <td>...</td>\n      <td>...</td>\n    </tr>\n    <tr>\n      <th>NIH2307119229</th>\n      <td>0.0</td>\n      <td>0.0</td>\n      <td>1.0</td>\n      <td>0.0</td>\n      <td>1.0</td>\n      <td>0.0</td>\n      <td>0.0</td>\n      <td>0.0</td>\n      <td>1.0</td>\n      <td>0.0</td>\n      <td>...</td>\n      <td>0.0</td>\n      <td>0.0</td>\n      <td>0.0</td>\n      <td>1.0</td>\n      <td>0.0</td>\n      <td>0.0</td>\n      <td>0.0</td>\n      <td>1.0</td>\n      <td>0.0</td>\n      <td>0.0</td>\n    </tr>\n    <tr>\n      <th>NIH2307727030</th>\n      <td>0.0</td>\n      <td>1.0</td>\n      <td>0.0</td>\n      <td>0.0</td>\n      <td>0.0</td>\n      <td>1.0</td>\n      <td>0.0</td>\n      <td>0.0</td>\n      <td>1.0</td>\n      <td>0.0</td>\n      <td>...</td>\n      <td>0.0</td>\n      <td>1.0</td>\n      <td>1.0</td>\n      <td>0.0</td>\n      <td>0.0</td>\n      <td>0.0</td>\n      <td>0.0</td>\n      <td>1.0</td>\n      <td>0.0</td>\n      <td>0.0</td>\n    </tr>\n    <tr>\n      <th>NIH2307959786</th>\n      <td>0.0</td>\n      <td>0.0</td>\n      <td>1.0</td>\n      <td>0.0</td>\n      <td>1.0</td>\n      <td>0.0</td>\n      <td>0.0</td>\n      <td>0.0</td>\n      <td>1.0</td>\n      <td>0.0</td>\n      <td>...</td>\n      <td>0.0</td>\n      <td>1.0</td>\n      <td>0.0</td>\n      <td>1.0</td>\n      <td>0.0</td>\n      <td>0.0</td>\n      <td>0.0</td>\n      <td>1.0</td>\n      <td>0.0</td>\n      <td>0.0</td>\n    </tr>\n    <tr>\n      <th>NIH2307422716</th>\n      <td>0.0</td>\n      <td>0.0</td>\n      <td>1.0</td>\n      <td>1.0</td>\n      <td>0.0</td>\n      <td>0.0</td>\n      <td>0.0</td>\n      <td>0.0</td>\n      <td>1.0</td>\n      <td>0.0</td>\n      <td>...</td>\n      <td>0.0</td>\n      <td>1.0</td>\n      <td>1.0</td>\n      <td>0.0</td>\n      <td>0.0</td>\n      <td>0.0</td>\n      <td>0.0</td>\n      <td>1.0</td>\n      <td>0.0</td>\n      <td>0.0</td>\n    </tr>\n    <tr>\n      <th>NIH2307194006</th>\n      <td>0.0</td>\n      <td>0.0</td>\n      <td>1.0</td>\n      <td>0.0</td>\n      <td>1.0</td>\n      <td>0.0</td>\n      <td>0.0</td>\n      <td>1.0</td>\n      <td>0.0</td>\n      <td>0.0</td>\n      <td>...</td>\n      <td>0.0</td>\n      <td>1.0</td>\n      <td>1.0</td>\n      <td>0.0</td>\n      <td>0.0</td>\n      <td>0.0</td>\n      <td>1.0</td>\n      <td>0.0</td>\n      <td>1.0</td>\n      <td>0.0</td>\n    </tr>\n  </tbody>\n</table>\n<p>4658 rows × 34 columns</p>\n</div>"
     },
     "execution_count": 142,
     "metadata": {},
     "output_type": "execute_result"
    }
   ],
   "source": [
    "df_all_gen"
   ],
   "metadata": {
    "collapsed": false,
    "ExecuteTime": {
     "start_time": "2023-08-21T19:44:27.927069Z",
     "end_time": "2023-08-21T19:44:27.962526Z"
    }
   }
  },
  {
   "cell_type": "code",
   "execution_count": null,
   "outputs": [],
   "source": [
    "test"
   ],
   "metadata": {
    "collapsed": false
   }
  },
  {
   "cell_type": "code",
   "execution_count": 174,
   "outputs": [],
   "source": [
    "mergetest = pd.concat([test, df_all_gen], axis=1)"
   ],
   "metadata": {
    "collapsed": false,
    "ExecuteTime": {
     "start_time": "2023-08-21T20:32:27.402696Z",
     "end_time": "2023-08-21T20:32:27.424709Z"
    }
   }
  },
  {
   "cell_type": "code",
   "execution_count": 177,
   "outputs": [],
   "source": [
    "mergetest = mergetest.dropna()"
   ],
   "metadata": {
    "collapsed": false,
    "ExecuteTime": {
     "start_time": "2023-08-21T20:33:09.563119Z",
     "end_time": "2023-08-21T20:33:09.585118Z"
    }
   }
  },
  {
   "cell_type": "code",
   "execution_count": 178,
   "outputs": [
    {
     "name": "stderr",
     "output_type": "stream",
     "text": [
      "C:\\Users\\sh22h\\AppData\\Local\\Temp\\ipykernel_15292\\1688249498.py:1: DtypeWarning: Columns (7,9,156,299) have mixed types. Specify dtype option on import or set low_memory=False.\n",
      "  dataset = pd.read_csv(\"dataset/Dataset_OP_230614_raw.csv\", index_col=0, na_values=[77777, 99999, '#NULL!', ' '])\n"
     ]
    }
   ],
   "source": [
    "dataset = pd.read_csv(\"dataset/Dataset_OP_230614_raw.csv\", index_col=0, na_values=[77777, 99999, '#NULL!', ' '])\n",
    "\n",
    "meno1 = dataset['AS1_PMYN_C'] == 1\n",
    "meno2 = dataset['AS1_PMYN_C'] == 2\n",
    "\n",
    "X_premeno_woman = mergetest.loc[meno1]\n",
    "X_postmeno_woman = mergetest.loc[meno2]"
   ],
   "metadata": {
    "collapsed": false,
    "ExecuteTime": {
     "start_time": "2023-08-21T20:33:39.525526Z",
     "end_time": "2023-08-21T20:33:40.370552Z"
    }
   }
  },
  {
   "cell_type": "code",
   "execution_count": 179,
   "outputs": [],
   "source": [
    "X_premeno_woman.to_csv('./dataset/scaled/X_premeno_20230821.csv')\n",
    "X_postmeno_woman.to_csv('./dataset/scaled/X_postmeno_20230821.csv')"
   ],
   "metadata": {
    "collapsed": false,
    "ExecuteTime": {
     "start_time": "2023-08-21T20:33:41.152523Z",
     "end_time": "2023-08-21T20:33:41.706522Z"
    }
   }
  },
  {
   "cell_type": "code",
   "execution_count": 200,
   "outputs": [],
   "source": [
    "y = pd.read_csv(\"dataset/scaled/y_230818.csv\", index_col=0)"
   ],
   "metadata": {
    "collapsed": false,
    "ExecuteTime": {
     "start_time": "2023-08-21T20:48:56.500506Z",
     "end_time": "2023-08-21T20:48:56.521539Z"
    }
   }
  },
  {
   "cell_type": "code",
   "execution_count": 202,
   "outputs": [],
   "source": [
    "mergetest_idx = mergetest.index.to_numpy()\n",
    "mergetest_idx\n",
    "y = y.reindex(mergetest_idx)"
   ],
   "metadata": {
    "collapsed": false,
    "ExecuteTime": {
     "start_time": "2023-08-21T20:49:05.753705Z",
     "end_time": "2023-08-21T20:49:05.766730Z"
    }
   }
  },
  {
   "cell_type": "code",
   "execution_count": 203,
   "outputs": [
    {
     "data": {
      "text/plain": "               OP\nDIST_ID          \nNIH2307713334   0\nNIH2307455306   0\nNIH2307137554   0\nNIH2307649667   0\nNIH2307899915   0\n...            ..\nNIH2307635277   0\nNIH2307591031   1\nNIH2307808901   1\nNIH2307930134   1\nNIH2307534318   0\n\n[4117 rows x 1 columns]",
      "text/html": "<div>\n<style scoped>\n    .dataframe tbody tr th:only-of-type {\n        vertical-align: middle;\n    }\n\n    .dataframe tbody tr th {\n        vertical-align: top;\n    }\n\n    .dataframe thead th {\n        text-align: right;\n    }\n</style>\n<table border=\"1\" class=\"dataframe\">\n  <thead>\n    <tr style=\"text-align: right;\">\n      <th></th>\n      <th>OP</th>\n    </tr>\n    <tr>\n      <th>DIST_ID</th>\n      <th></th>\n    </tr>\n  </thead>\n  <tbody>\n    <tr>\n      <th>NIH2307713334</th>\n      <td>0</td>\n    </tr>\n    <tr>\n      <th>NIH2307455306</th>\n      <td>0</td>\n    </tr>\n    <tr>\n      <th>NIH2307137554</th>\n      <td>0</td>\n    </tr>\n    <tr>\n      <th>NIH2307649667</th>\n      <td>0</td>\n    </tr>\n    <tr>\n      <th>NIH2307899915</th>\n      <td>0</td>\n    </tr>\n    <tr>\n      <th>...</th>\n      <td>...</td>\n    </tr>\n    <tr>\n      <th>NIH2307635277</th>\n      <td>0</td>\n    </tr>\n    <tr>\n      <th>NIH2307591031</th>\n      <td>1</td>\n    </tr>\n    <tr>\n      <th>NIH2307808901</th>\n      <td>1</td>\n    </tr>\n    <tr>\n      <th>NIH2307930134</th>\n      <td>1</td>\n    </tr>\n    <tr>\n      <th>NIH2307534318</th>\n      <td>0</td>\n    </tr>\n  </tbody>\n</table>\n<p>4117 rows × 1 columns</p>\n</div>"
     },
     "execution_count": 203,
     "metadata": {},
     "output_type": "execute_result"
    }
   ],
   "source": [
    "y"
   ],
   "metadata": {
    "collapsed": false,
    "ExecuteTime": {
     "start_time": "2023-08-21T20:49:06.393801Z",
     "end_time": "2023-08-21T20:49:06.407931Z"
    }
   }
  },
  {
   "cell_type": "code",
   "execution_count": 204,
   "outputs": [],
   "source": [
    "y_premeno_woman = y.loc[meno1]\n",
    "y_postmeno_woman = y.loc[meno2]\n",
    "y_premeno_woman.to_csv('./dataset/scaled/y_premeno_20230614.csv')\n",
    "y_postmeno_woman.to_csv('./dataset/scaled/y_postmeno_20230614.csv')"
   ],
   "metadata": {
    "collapsed": false,
    "ExecuteTime": {
     "start_time": "2023-08-21T20:49:58.487705Z",
     "end_time": "2023-08-21T20:49:58.502935Z"
    }
   }
  },
  {
   "cell_type": "code",
   "execution_count": 205,
   "outputs": [
    {
     "name": "stdout",
     "output_type": "stream",
     "text": [
      "폐경 전 여성의 골다공증:\n",
      " OP\n",
      "0     1465\n",
      "1       61\n",
      "Name: count, dtype: int64\n",
      "\n",
      "폐경 후 여성의 골다공증:\n",
      " OP\n",
      "0     1846\n",
      "1      721\n",
      "Name: count, dtype: int64\n"
     ]
    }
   ],
   "source": [
    "print(f\"폐경 전 여성의 골다공증:\\n {y_premeno_woman.value_counts()}\"\n",
    "      f\"\\n\\n폐경 후 여성의 골다공증:\\n {y_postmeno_woman.value_counts()}\")"
   ],
   "metadata": {
    "collapsed": false,
    "ExecuteTime": {
     "start_time": "2023-08-21T20:51:20.308141Z",
     "end_time": "2023-08-21T20:51:20.383146Z"
    }
   }
  },
  {
   "cell_type": "code",
   "execution_count": null,
   "outputs": [],
   "source": [],
   "metadata": {
    "collapsed": false
   }
  }
 ],
 "metadata": {
  "kernelspec": {
   "display_name": "Python 3",
   "language": "python",
   "name": "python3"
  },
  "language_info": {
   "codemirror_mode": {
    "name": "ipython",
    "version": 2
   },
   "file_extension": ".py",
   "mimetype": "text/x-python",
   "name": "python",
   "nbconvert_exporter": "python",
   "pygments_lexer": "ipython2",
   "version": "2.7.6"
  }
 },
 "nbformat": 4,
 "nbformat_minor": 0
}
