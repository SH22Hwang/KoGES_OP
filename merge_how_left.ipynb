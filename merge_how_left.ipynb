{
 "cells": [
  {
   "cell_type": "markdown",
   "source": [
    "# 유전자 데이터, 식이패턴 데이터 결합\n",
    "- 유전자 데이터\n",
    "    - https://github.com/AugumentedIntelligenceLab-GNU/genome-extraction\n",
    "    - rows: 4658\n",
    "- 식이패턴 데이터\n",
    "    - https://github.com/SH22Hwang/KoGES_OP\n",
    "    - rows: 4680\n",
    "\n",
    "- 유전자 데이터와 식이패턴 데이터 어떻게 합치지?\n",
    "    - inner_join?\n",
    "    - left_join?\n",
    "\n",
    "- merge how=left https://engineer-mole.tistory.com/208\n"
   ],
   "metadata": {
    "collapsed": false
   }
  },
  {
   "cell_type": "code",
   "execution_count": 1,
   "metadata": {
    "collapsed": true,
    "ExecuteTime": {
     "start_time": "2023-08-18T20:17:46.164621Z",
     "end_time": "2023-08-18T20:17:46.493722Z"
    }
   },
   "outputs": [],
   "source": [
    "# 라이브러리 불러오기\n",
    "import numpy as np\n",
    "import pandas as pd"
   ]
  },
  {
   "cell_type": "code",
   "execution_count": null,
   "outputs": [],
   "source": [
    "dietary_X = pd.read_csv(\"dataset/X_230818.csv\", index_col=0)"
   ],
   "metadata": {
    "collapsed": false
   }
  },
  {
   "cell_type": "code",
   "execution_count": null,
   "outputs": [],
   "source": [
    "gen_dict = {3335: \"SNP_A-2181021\",\n",
    "            214246: \"SNP_A-1809518\",\n",
    "            262783: \"SNP_A-2130710\",\n",
    "            35799: \"SNP_A-2263153\",\n",
    "            154529: \"SNP_A-2310995\",\n",
    "            118171: \"SNP_A-1922415\",\n",
    "            182907: \"SNP_A-2266073\",\n",
    "            122732: \"SNP_A-1984271\",\n",
    "            283204: \"SNP_A-2218697\",\n",
    "            217552: \"SNP_A-1850320\",\n",
    "            335062: \"SNP_A-4262878\",\n",
    "            335032: \"SNP_A-4299800\",\n",
    "            335031: \"SNP_A-2242511\"\n",
    "            }"
   ],
   "metadata": {
    "collapsed": false
   }
  },
  {
   "cell_type": "markdown",
   "source": [
    "## 유전자 합치기\n",
    "\n",
    "- 파일 이름 형식: result_SNP_A-1809518.csv\n",
    "- gen_dict.keys()"
   ],
   "metadata": {
    "collapsed": false
   }
  },
  {
   "cell_type": "code",
   "execution_count": null,
   "outputs": [],
   "source": [],
   "metadata": {
    "collapsed": false
   }
  }
 ],
 "metadata": {
  "kernelspec": {
   "display_name": "Python 3",
   "language": "python",
   "name": "python3"
  },
  "language_info": {
   "codemirror_mode": {
    "name": "ipython",
    "version": 2
   },
   "file_extension": ".py",
   "mimetype": "text/x-python",
   "name": "python",
   "nbconvert_exporter": "python",
   "pygments_lexer": "ipython2",
   "version": "2.7.6"
  }
 },
 "nbformat": 4,
 "nbformat_minor": 0
}
